{
 "cells": [
  {
   "cell_type": "markdown",
   "metadata": {},
   "source": [
    "# MELI 2020"
   ]
  },
  {
   "cell_type": "markdown",
   "metadata": {},
   "source": [
    "Evaluación\n",
    "\n",
    "\n",
    "Métrica\n",
    "Las cargas serán evaluadas utilizando el promedio de NDCG (Normalized Discounted Cumulative Gain o Ganancia Acumulada Descontada y Normalizada).\n",
    "\n",
    "NDCG es un método popular para medir la calidad de los resultados de un set. La métrica puede ser fácilmente adaptada al dominio de las recomendaciones.\n",
    "\n",
    "NDCG se basa en las siguientes premisas:\n",
    "\n",
    "\n",
    "* Ganancia Acumulada: Recomendaciones muy relevantes son más útiles que las recomendaciones algo relevantes, que son a su vez más útiles que recomendaciones irrelevantes (es decir, queremos recomendar publicaciones relevantes al usuario).\n",
    "* Descuento: Las recomendaciones relevantes son más útiles cuando aparecen antes en el set de recomendaciones (es decir, el orden importa).\n",
    "* Normalización: La métrica debe estar en el intervalo [0,1].\n",
    "\n",
    "\n",
    "En otras palabras, NDCG es solo la Ganancia Acumulada Descontada dividida por la Ganancia Acumulada Descontada del conjunto de recomendaciones ideal.\n",
    "\n",
    "Ahora, ¿cómo calculamos la Ganancia Acumulada Descontada?\n",
    "\n",
    "Bueno, podríamos sumar la relevancia de cada elemento en el conjunto de recomendaciones (esto nos dará la Ganancia Acumulada). El problema con esta métrica es que no tiene en cuenta la forma en que se ordenan los elementos recomendados. Así, recomendar el artículo adecuado en la 10° posición será tan valorado como hacerlo en la 1° posición.\n",
    "\n",
    "No queremos que esto suceda, es por eso que descontamos la Ganancia Acumulada ponderando cada relevancia inversamente a su posición, usando logaritmos para enfatizar este efecto.\n",
    "\n",
    "\n",
    "Esto significa que...\n",
    "\n",
    "\n",
    "* Si acertaras el item_id de la compra objetivo del usuario, obtendrás una relevancia de 12 para esa recomendación en su conjunto de recomendaciones.\n",
    "\n",
    "* En cambio, si la predicción no coincide con el ID de artículo correcto, pero corresponde al mismo dominio, obtendrá 1 punto de relevancia.\n",
    "\n",
    "* En caso de que no coincida con ninguno de ellos, su relevancia será 0.\n",
    "\n",
    "El conjunto de recomendaciones ideal será aquel compuesto por el mismo ID de artículo que el objetivo en la primera posición, seguido de 9 IDs de artículos que pertenezcan al mismo ID de dominio que el artículo objetivo en las recomendaciones restantes.\n"
   ]
  },
  {
   "cell_type": "markdown",
   "metadata": {},
   "source": [
    "# DATA"
   ]
  },
  {
   "cell_type": "code",
   "execution_count": 1,
   "metadata": {
    "ExecuteTime": {
     "end_time": "2020-11-12T18:45:57.010650Z",
     "start_time": "2020-11-12T18:45:52.357859Z"
    }
   },
   "outputs": [],
   "source": [
    "import os\n",
    "import warnings\n",
    "import json\n",
    "warnings.filterwarnings('ignore')\n",
    "from datetime import datetime\n",
    "\n",
    "import pandas as pd\n",
    "import numpy as np\n",
    "import matplotlib.pyplot as plt"
   ]
  },
  {
   "cell_type": "code",
   "execution_count": 2,
   "metadata": {
    "ExecuteTime": {
     "end_time": "2020-11-12T18:45:57.015604Z",
     "start_time": "2020-11-12T18:45:57.011613Z"
    }
   },
   "outputs": [],
   "source": [
    "pd.options.display.max_columns=100"
   ]
  },
  {
   "cell_type": "code",
   "execution_count": 3,
   "metadata": {
    "ExecuteTime": {
     "end_time": "2020-11-12T18:45:57.705632Z",
     "start_time": "2020-11-12T18:45:57.017612Z"
    }
   },
   "outputs": [],
   "source": [
    "from tqdm import tqdm\n",
    "from joblib import Parallel, delayed\n",
    "import multiprocessing"
   ]
  },
  {
   "cell_type": "code",
   "execution_count": 4,
   "metadata": {
    "ExecuteTime": {
     "end_time": "2020-11-12T18:46:18.289765Z",
     "start_time": "2020-11-12T18:45:57.706670Z"
    }
   },
   "outputs": [],
   "source": [
    "import texthero as hero"
   ]
  },
  {
   "cell_type": "code",
   "execution_count": 5,
   "metadata": {
    "ExecuteTime": {
     "end_time": "2020-11-12T18:46:18.295574Z",
     "start_time": "2020-11-12T18:46:18.290587Z"
    }
   },
   "outputs": [],
   "source": [
    "%matplotlib inline"
   ]
  },
  {
   "cell_type": "code",
   "execution_count": 6,
   "metadata": {
    "ExecuteTime": {
     "end_time": "2020-11-12T18:46:56.175103Z",
     "start_time": "2020-11-12T18:46:18.296571Z"
    }
   },
   "outputs": [],
   "source": [
    "meli_train = pd.read_json('data/train_dataset.jl', lines=True)\n",
    "meli_item  = pd.read_json('data/item_data.jl',lines=True)"
   ]
  },
  {
   "cell_type": "code",
   "execution_count": 7,
   "metadata": {
    "ExecuteTime": {
     "end_time": "2020-11-12T18:46:56.315698Z",
     "start_time": "2020-11-12T18:46:56.176066Z"
    }
   },
   "outputs": [
    {
     "data": {
      "text/plain": [
       "2102277"
      ]
     },
     "execution_count": 7,
     "metadata": {},
     "output_type": "execute_result"
    }
   ],
   "source": [
    "meli_item[\"item_id\"].nunique()"
   ]
  },
  {
   "cell_type": "markdown",
   "metadata": {},
   "source": [
    "# SHAPE"
   ]
  },
  {
   "cell_type": "code",
   "execution_count": 8,
   "metadata": {
    "ExecuteTime": {
     "end_time": "2020-11-12T18:46:56.322696Z",
     "start_time": "2020-11-12T18:46:56.317694Z"
    }
   },
   "outputs": [
    {
     "data": {
      "text/plain": [
       "(413163, 2)"
      ]
     },
     "execution_count": 8,
     "metadata": {},
     "output_type": "execute_result"
    }
   ],
   "source": [
    "meli_train.shape"
   ]
  },
  {
   "cell_type": "code",
   "execution_count": 9,
   "metadata": {
    "ExecuteTime": {
     "end_time": "2020-11-12T18:46:56.378534Z",
     "start_time": "2020-11-12T18:46:56.324679Z"
    }
   },
   "outputs": [
    {
     "name": "stdout",
     "output_type": "stream",
     "text": [
      "<class 'pandas.core.frame.DataFrame'>\n",
      "RangeIndex: 413163 entries, 0 to 413162\n",
      "Data columns (total 2 columns):\n",
      " #   Column        Non-Null Count   Dtype \n",
      "---  ------        --------------   ----- \n",
      " 0   user_history  413163 non-null  object\n",
      " 1   item_bought   413163 non-null  int64 \n",
      "dtypes: int64(1), object(1)\n",
      "memory usage: 6.3+ MB\n"
     ]
    }
   ],
   "source": [
    "meli_train.info()"
   ]
  },
  {
   "cell_type": "code",
   "execution_count": 10,
   "metadata": {
    "ExecuteTime": {
     "end_time": "2020-11-12T18:46:56.432391Z",
     "start_time": "2020-11-12T18:46:56.379532Z"
    }
   },
   "outputs": [
    {
     "data": {
      "text/html": [
       "<div>\n",
       "<style scoped>\n",
       "    .dataframe tbody tr th:only-of-type {\n",
       "        vertical-align: middle;\n",
       "    }\n",
       "\n",
       "    .dataframe tbody tr th {\n",
       "        vertical-align: top;\n",
       "    }\n",
       "\n",
       "    .dataframe thead th {\n",
       "        text-align: right;\n",
       "    }\n",
       "</style>\n",
       "<table border=\"1\" class=\"dataframe\">\n",
       "  <thead>\n",
       "    <tr style=\"text-align: right;\">\n",
       "      <th></th>\n",
       "      <th>user_history</th>\n",
       "      <th>item_bought</th>\n",
       "    </tr>\n",
       "  </thead>\n",
       "  <tbody>\n",
       "    <tr>\n",
       "      <th>0</th>\n",
       "      <td>[{'event_info': 1786148, 'event_timestamp': '2...</td>\n",
       "      <td>1748830</td>\n",
       "    </tr>\n",
       "    <tr>\n",
       "      <th>1</th>\n",
       "      <td>[{'event_info': 643652, 'event_timestamp': '20...</td>\n",
       "      <td>228737</td>\n",
       "    </tr>\n",
       "    <tr>\n",
       "      <th>2</th>\n",
       "      <td>[{'event_info': 248595, 'event_timestamp': '20...</td>\n",
       "      <td>1909110</td>\n",
       "    </tr>\n",
       "    <tr>\n",
       "      <th>3</th>\n",
       "      <td>[{'event_info': 'RADIOBOSS', 'event_timestamp'...</td>\n",
       "      <td>1197370</td>\n",
       "    </tr>\n",
       "    <tr>\n",
       "      <th>4</th>\n",
       "      <td>[{'event_info': 'AMAZFIT BIP', 'event_timestam...</td>\n",
       "      <td>2049207</td>\n",
       "    </tr>\n",
       "  </tbody>\n",
       "</table>\n",
       "</div>"
      ],
      "text/plain": [
       "                                        user_history  item_bought\n",
       "0  [{'event_info': 1786148, 'event_timestamp': '2...      1748830\n",
       "1  [{'event_info': 643652, 'event_timestamp': '20...       228737\n",
       "2  [{'event_info': 248595, 'event_timestamp': '20...      1909110\n",
       "3  [{'event_info': 'RADIOBOSS', 'event_timestamp'...      1197370\n",
       "4  [{'event_info': 'AMAZFIT BIP', 'event_timestam...      2049207"
      ]
     },
     "execution_count": 10,
     "metadata": {},
     "output_type": "execute_result"
    }
   ],
   "source": [
    "meli_train.head()"
   ]
  },
  {
   "cell_type": "code",
   "execution_count": 11,
   "metadata": {
    "ExecuteTime": {
     "end_time": "2020-11-12T18:46:56.447350Z",
     "start_time": "2020-11-12T18:46:56.434388Z"
    }
   },
   "outputs": [
    {
     "data": {
      "text/plain": [
       "64928"
      ]
     },
     "execution_count": 11,
     "metadata": {},
     "output_type": "execute_result"
    }
   ],
   "source": [
    "meli_train[\"item_bought\"].nunique()"
   ]
  },
  {
   "cell_type": "code",
   "execution_count": 12,
   "metadata": {
    "ExecuteTime": {
     "end_time": "2020-11-12T18:46:56.471286Z",
     "start_time": "2020-11-12T18:46:56.448349Z"
    }
   },
   "outputs": [
    {
     "data": {
      "text/plain": [
       "1587422    558\n",
       "1803710    384\n",
       "10243      371\n",
       "548905     348\n",
       "1906937    344\n",
       "          ... \n",
       "1509539      1\n",
       "1585314      1\n",
       "2076852      1\n",
       "1044668      1\n",
       "445529       1\n",
       "Name: item_bought, Length: 64928, dtype: int64"
      ]
     },
     "execution_count": 12,
     "metadata": {},
     "output_type": "execute_result"
    }
   ],
   "source": [
    "meli_train[\"item_bought\"].value_counts()"
   ]
  },
  {
   "cell_type": "code",
   "execution_count": 13,
   "metadata": {
    "ExecuteTime": {
     "end_time": "2020-11-12T18:46:56.478267Z",
     "start_time": "2020-11-12T18:46:56.472284Z"
    }
   },
   "outputs": [
    {
     "data": {
      "text/plain": [
       "[{'event_info': 1786148,\n",
       "  'event_timestamp': '2019-10-19T11:25:42.444-0400',\n",
       "  'event_type': 'view'},\n",
       " {'event_info': 1786148,\n",
       "  'event_timestamp': '2019-10-19T11:25:57.487-0400',\n",
       "  'event_type': 'view'},\n",
       " {'event_info': 'RELOGIO SMARTWATCH',\n",
       "  'event_timestamp': '2019-10-19T11:26:07.063-0400',\n",
       "  'event_type': 'search'},\n",
       " {'event_info': 1615991,\n",
       "  'event_timestamp': '2019-10-19T11:27:26.879-0400',\n",
       "  'event_type': 'view'},\n",
       " {'event_info': 1615991,\n",
       "  'event_timestamp': '2019-10-19T11:28:36.558-0400',\n",
       "  'event_type': 'view'},\n",
       " {'event_info': 1615991,\n",
       "  'event_timestamp': '2019-10-19T11:28:40.827-0400',\n",
       "  'event_type': 'view'},\n",
       " {'event_info': 1615991,\n",
       "  'event_timestamp': '2019-10-19T11:30:42.089-0400',\n",
       "  'event_type': 'view'},\n",
       " {'event_info': 1615991,\n",
       "  'event_timestamp': '2019-10-19T21:51:29.622-0400',\n",
       "  'event_type': 'view'},\n",
       " {'event_info': 1615991,\n",
       "  'event_timestamp': '2019-10-19T21:52:09.281-0400',\n",
       "  'event_type': 'view'},\n",
       " {'event_info': 1615991,\n",
       "  'event_timestamp': '2019-10-19T21:52:41.863-0400',\n",
       "  'event_type': 'view'},\n",
       " {'event_info': 1615991,\n",
       "  'event_timestamp': '2019-10-19T21:54:16.119-0400',\n",
       "  'event_type': 'view'},\n",
       " {'event_info': 1615991,\n",
       "  'event_timestamp': '2019-10-19T21:54:40.629-0400',\n",
       "  'event_type': 'view'},\n",
       " {'event_info': 1615991,\n",
       "  'event_timestamp': '2019-10-19T21:54:57.329-0400',\n",
       "  'event_type': 'view'},\n",
       " {'event_info': 1615991,\n",
       "  'event_timestamp': '2019-10-19T22:00:04.577-0400',\n",
       "  'event_type': 'view'},\n",
       " {'event_info': 1615991,\n",
       "  'event_timestamp': '2019-10-20T10:36:47.525-0400',\n",
       "  'event_type': 'view'},\n",
       " {'event_info': 1615991,\n",
       "  'event_timestamp': '2019-10-20T10:37:23.202-0400',\n",
       "  'event_type': 'view'},\n",
       " {'event_info': 1615991,\n",
       "  'event_timestamp': '2019-10-20T10:37:47.699-0400',\n",
       "  'event_type': 'view'},\n",
       " {'event_info': 1615991,\n",
       "  'event_timestamp': '2019-10-20T19:28:14.619-0400',\n",
       "  'event_type': 'view'},\n",
       " {'event_info': 1615991,\n",
       "  'event_timestamp': '2019-10-20T19:28:41.646-0400',\n",
       "  'event_type': 'view'}]"
      ]
     },
     "execution_count": 13,
     "metadata": {},
     "output_type": "execute_result"
    }
   ],
   "source": [
    "meli_train[\"user_history\"][0]"
   ]
  },
  {
   "cell_type": "code",
   "execution_count": 14,
   "metadata": {
    "ExecuteTime": {
     "end_time": "2020-11-12T18:46:56.487244Z",
     "start_time": "2020-11-12T18:46:56.479265Z"
    }
   },
   "outputs": [
    {
     "data": {
      "text/plain": [
       "(2102277, 7)"
      ]
     },
     "execution_count": 14,
     "metadata": {},
     "output_type": "execute_result"
    }
   ],
   "source": [
    "meli_item.shape"
   ]
  },
  {
   "cell_type": "code",
   "execution_count": 15,
   "metadata": {
    "ExecuteTime": {
     "end_time": "2020-11-12T18:46:56.499211Z",
     "start_time": "2020-11-12T18:46:56.488242Z"
    }
   },
   "outputs": [
    {
     "data": {
      "text/html": [
       "<div>\n",
       "<style scoped>\n",
       "    .dataframe tbody tr th:only-of-type {\n",
       "        vertical-align: middle;\n",
       "    }\n",
       "\n",
       "    .dataframe tbody tr th {\n",
       "        vertical-align: top;\n",
       "    }\n",
       "\n",
       "    .dataframe thead th {\n",
       "        text-align: right;\n",
       "    }\n",
       "</style>\n",
       "<table border=\"1\" class=\"dataframe\">\n",
       "  <thead>\n",
       "    <tr style=\"text-align: right;\">\n",
       "      <th></th>\n",
       "      <th>item_id</th>\n",
       "      <th>title</th>\n",
       "      <th>domain_id</th>\n",
       "      <th>product_id</th>\n",
       "      <th>price</th>\n",
       "      <th>category_id</th>\n",
       "      <th>condition</th>\n",
       "    </tr>\n",
       "  </thead>\n",
       "  <tbody>\n",
       "    <tr>\n",
       "      <th>0</th>\n",
       "      <td>111260</td>\n",
       "      <td>Casa Sola En Venta Con Gran Patio Solo Pago De...</td>\n",
       "      <td>MLM-INDIVIDUAL_HOUSES_FOR_SALE</td>\n",
       "      <td>NaN</td>\n",
       "      <td>1150000.00</td>\n",
       "      <td>MLM170527</td>\n",
       "      <td>new</td>\n",
       "    </tr>\n",
       "    <tr>\n",
       "      <th>1</th>\n",
       "      <td>871377</td>\n",
       "      <td>Resident Evil Origins Collection Nintendo Swit...</td>\n",
       "      <td>MLM-VIDEO_GAMES</td>\n",
       "      <td>15270800.0</td>\n",
       "      <td>1392.83</td>\n",
       "      <td>MLM151595</td>\n",
       "      <td>new</td>\n",
       "    </tr>\n",
       "    <tr>\n",
       "      <th>2</th>\n",
       "      <td>490232</td>\n",
       "      <td>Falda De Imitación Piel Negra</td>\n",
       "      <td>MLM-SKIRTS</td>\n",
       "      <td>NaN</td>\n",
       "      <td>350.00</td>\n",
       "      <td>MLM7697</td>\n",
       "      <td>new</td>\n",
       "    </tr>\n",
       "    <tr>\n",
       "      <th>3</th>\n",
       "      <td>1150706</td>\n",
       "      <td>Powercolor Red Devil Radeon Rx 580 8gb Gddr5</td>\n",
       "      <td>MLM-GRAPHICS_CARDS</td>\n",
       "      <td>NaN</td>\n",
       "      <td>3200.00</td>\n",
       "      <td>MLM9761</td>\n",
       "      <td>used</td>\n",
       "    </tr>\n",
       "    <tr>\n",
       "      <th>4</th>\n",
       "      <td>934912</td>\n",
       "      <td>Laptop Hp Nx6320 Core Duo Con Puerto Db9 Windo...</td>\n",
       "      <td>MLM-NOTEBOOKS</td>\n",
       "      <td>NaN</td>\n",
       "      <td>1599.00</td>\n",
       "      <td>MLM1652</td>\n",
       "      <td>used</td>\n",
       "    </tr>\n",
       "  </tbody>\n",
       "</table>\n",
       "</div>"
      ],
      "text/plain": [
       "   item_id                                              title  \\\n",
       "0   111260  Casa Sola En Venta Con Gran Patio Solo Pago De...   \n",
       "1   871377  Resident Evil Origins Collection Nintendo Swit...   \n",
       "2   490232                      Falda De Imitación Piel Negra   \n",
       "3  1150706       Powercolor Red Devil Radeon Rx 580 8gb Gddr5   \n",
       "4   934912  Laptop Hp Nx6320 Core Duo Con Puerto Db9 Windo...   \n",
       "\n",
       "                        domain_id  product_id       price category_id  \\\n",
       "0  MLM-INDIVIDUAL_HOUSES_FOR_SALE         NaN  1150000.00   MLM170527   \n",
       "1                 MLM-VIDEO_GAMES  15270800.0     1392.83   MLM151595   \n",
       "2                      MLM-SKIRTS         NaN      350.00     MLM7697   \n",
       "3              MLM-GRAPHICS_CARDS         NaN     3200.00     MLM9761   \n",
       "4                   MLM-NOTEBOOKS         NaN     1599.00     MLM1652   \n",
       "\n",
       "  condition  \n",
       "0       new  \n",
       "1       new  \n",
       "2       new  \n",
       "3      used  \n",
       "4      used  "
      ]
     },
     "execution_count": 15,
     "metadata": {},
     "output_type": "execute_result"
    }
   ],
   "source": [
    "meli_item.head()"
   ]
  },
  {
   "cell_type": "markdown",
   "metadata": {},
   "source": [
    "## JOIN"
   ]
  },
  {
   "cell_type": "code",
   "execution_count": 16,
   "metadata": {
    "ExecuteTime": {
     "end_time": "2020-11-12T18:46:57.609949Z",
     "start_time": "2020-11-12T18:46:56.501207Z"
    }
   },
   "outputs": [],
   "source": [
    "train = pd.merge(meli_train,meli_item,how=\"left\",left_on=[\"item_bought\"],right_on=[\"item_id\"])"
   ]
  },
  {
   "cell_type": "code",
   "execution_count": 17,
   "metadata": {
    "ExecuteTime": {
     "end_time": "2020-11-12T18:46:57.649808Z",
     "start_time": "2020-11-12T18:46:57.610910Z"
    }
   },
   "outputs": [
    {
     "data": {
      "text/html": [
       "<div>\n",
       "<style scoped>\n",
       "    .dataframe tbody tr th:only-of-type {\n",
       "        vertical-align: middle;\n",
       "    }\n",
       "\n",
       "    .dataframe tbody tr th {\n",
       "        vertical-align: top;\n",
       "    }\n",
       "\n",
       "    .dataframe thead th {\n",
       "        text-align: right;\n",
       "    }\n",
       "</style>\n",
       "<table border=\"1\" class=\"dataframe\">\n",
       "  <thead>\n",
       "    <tr style=\"text-align: right;\">\n",
       "      <th></th>\n",
       "      <th>user_history</th>\n",
       "      <th>item_bought</th>\n",
       "      <th>item_id</th>\n",
       "      <th>title</th>\n",
       "      <th>domain_id</th>\n",
       "      <th>product_id</th>\n",
       "      <th>price</th>\n",
       "      <th>category_id</th>\n",
       "      <th>condition</th>\n",
       "    </tr>\n",
       "  </thead>\n",
       "  <tbody>\n",
       "    <tr>\n",
       "      <th>0</th>\n",
       "      <td>[{'event_info': 1786148, 'event_timestamp': '2...</td>\n",
       "      <td>1748830</td>\n",
       "      <td>1748830</td>\n",
       "      <td>Relógio Medidor Inteligente Pulso Freqüência C...</td>\n",
       "      <td>MLB-SMARTWATCHES</td>\n",
       "      <td>NaN</td>\n",
       "      <td>90.00</td>\n",
       "      <td>MLB135384</td>\n",
       "      <td>new</td>\n",
       "    </tr>\n",
       "    <tr>\n",
       "      <th>1</th>\n",
       "      <td>[{'event_info': 643652, 'event_timestamp': '20...</td>\n",
       "      <td>228737</td>\n",
       "      <td>228737</td>\n",
       "      <td>Bomba Eletrica Tira Leite Materno Bivolt G-tech</td>\n",
       "      <td>MLB-MILK_EXTRACTORS</td>\n",
       "      <td>9015547.0</td>\n",
       "      <td>169.00</td>\n",
       "      <td>MLB264021</td>\n",
       "      <td>new</td>\n",
       "    </tr>\n",
       "    <tr>\n",
       "      <th>2</th>\n",
       "      <td>[{'event_info': 248595, 'event_timestamp': '20...</td>\n",
       "      <td>1909110</td>\n",
       "      <td>1909110</td>\n",
       "      <td>Kit Youtuber Tripé 1,20 Microfone Lapela Anel ...</td>\n",
       "      <td>MLB-CELLPHONE_ACCESSORIES</td>\n",
       "      <td>NaN</td>\n",
       "      <td>300.00</td>\n",
       "      <td>MLB5092</td>\n",
       "      <td>new</td>\n",
       "    </tr>\n",
       "    <tr>\n",
       "      <th>3</th>\n",
       "      <td>[{'event_info': 'RADIOBOSS', 'event_timestamp'...</td>\n",
       "      <td>1197370</td>\n",
       "      <td>1197370</td>\n",
       "      <td>Leia A Descrição Por Favor - Maquininha Point ...</td>\n",
       "      <td>MLB-CARD_PAYMENT_TERMINALS</td>\n",
       "      <td>NaN</td>\n",
       "      <td>16.90</td>\n",
       "      <td>MLB277951</td>\n",
       "      <td>new</td>\n",
       "    </tr>\n",
       "    <tr>\n",
       "      <th>4</th>\n",
       "      <td>[{'event_info': 'AMAZFIT BIP', 'event_timestam...</td>\n",
       "      <td>2049207</td>\n",
       "      <td>2049207</td>\n",
       "      <td>Smartwatch Xiaomi Amazfit Bip Huami A1608 Orig...</td>\n",
       "      <td>MLB-SMARTWATCHES</td>\n",
       "      <td>9070839.0</td>\n",
       "      <td>355.99</td>\n",
       "      <td>MLB135384</td>\n",
       "      <td>new</td>\n",
       "    </tr>\n",
       "  </tbody>\n",
       "</table>\n",
       "</div>"
      ],
      "text/plain": [
       "                                        user_history  item_bought  item_id  \\\n",
       "0  [{'event_info': 1786148, 'event_timestamp': '2...      1748830  1748830   \n",
       "1  [{'event_info': 643652, 'event_timestamp': '20...       228737   228737   \n",
       "2  [{'event_info': 248595, 'event_timestamp': '20...      1909110  1909110   \n",
       "3  [{'event_info': 'RADIOBOSS', 'event_timestamp'...      1197370  1197370   \n",
       "4  [{'event_info': 'AMAZFIT BIP', 'event_timestam...      2049207  2049207   \n",
       "\n",
       "                                               title  \\\n",
       "0  Relógio Medidor Inteligente Pulso Freqüência C...   \n",
       "1    Bomba Eletrica Tira Leite Materno Bivolt G-tech   \n",
       "2  Kit Youtuber Tripé 1,20 Microfone Lapela Anel ...   \n",
       "3  Leia A Descrição Por Favor - Maquininha Point ...   \n",
       "4  Smartwatch Xiaomi Amazfit Bip Huami A1608 Orig...   \n",
       "\n",
       "                    domain_id  product_id   price category_id condition  \n",
       "0            MLB-SMARTWATCHES         NaN   90.00   MLB135384       new  \n",
       "1         MLB-MILK_EXTRACTORS   9015547.0  169.00   MLB264021       new  \n",
       "2   MLB-CELLPHONE_ACCESSORIES         NaN  300.00     MLB5092       new  \n",
       "3  MLB-CARD_PAYMENT_TERMINALS         NaN   16.90   MLB277951       new  \n",
       "4            MLB-SMARTWATCHES   9070839.0  355.99   MLB135384       new  "
      ]
     },
     "execution_count": 17,
     "metadata": {},
     "output_type": "execute_result"
    }
   ],
   "source": [
    "train.head()"
   ]
  },
  {
   "cell_type": "code",
   "execution_count": 18,
   "metadata": {
    "ExecuteTime": {
     "end_time": "2020-11-12T18:46:57.867664Z",
     "start_time": "2020-11-12T18:46:57.651801Z"
    }
   },
   "outputs": [
    {
     "data": {
      "text/plain": [
       "Xiaomi Redmi Note 7 (48 Mpx) Dual Sim 64 Gb Space Black 4 Gb Ram    938\n",
       "Fone De Ouvido Bluetooth Xiaomi Redmi Airdots                       609\n",
       "Xiaomi Redmi Note 7 Dual Sim 64 Gb Neptune Blue 4 Gb Ram            608\n",
       "Celular Samsung Galaxy A30 Dual 64gb 4gb Ram A305 Azul              559\n",
       "Relogio Bluetooth Wifi Smartwatch A1 Camera Celular Chip            490\n",
       "                                                                   ... \n",
       "Bebedouro De Mesa Esmaltec Egm30 110v                                 1\n",
       "Multímetro Capacitómetro, Faradios, Voltaje, Amperaje, Ohms           1\n",
       "Limpieza Repo Imei Recupera Señal  Movistar Telcel Para Att           1\n",
       "Super Combo 4x Bcaa Em Pó 3500mg - 300g - Midway                      1\n",
       "Capa Magnética 360° Xiaomi Mi 9 Se Global + Pelicula Mi9se            1\n",
       "Name: title, Length: 59710, dtype: int64"
      ]
     },
     "execution_count": 18,
     "metadata": {},
     "output_type": "execute_result"
    }
   ],
   "source": [
    "train[\"title\"].value_counts()"
   ]
  },
  {
   "cell_type": "code",
   "execution_count": 19,
   "metadata": {
    "ExecuteTime": {
     "end_time": "2020-11-12T18:46:58.025755Z",
     "start_time": "2020-11-12T18:46:57.869659Z"
    },
    "scrolled": true
   },
   "outputs": [
    {
     "data": {
      "text/plain": [
       "MLB-CELLPHONES                       25070\n",
       "MLB-SNEAKERS                         14608\n",
       "MLB-SUPPLEMENTS                       9562\n",
       "MLB-HEADPHONES                        9053\n",
       "MLB-SMARTWATCHES                      7963\n",
       "                                     ...  \n",
       "MLB-TOY_SOLDIERS                         1\n",
       "MLB-DIRECT_BOXES                         1\n",
       "MLB-SPICES                               1\n",
       "MLB-NAUTICAL_WATER_PUMP_IMPELLERS        1\n",
       "MLB-KITCHEN_BOWLS                        1\n",
       "Name: domain_id, Length: 3214, dtype: int64"
      ]
     },
     "execution_count": 19,
     "metadata": {},
     "output_type": "execute_result"
    }
   ],
   "source": [
    "train[\"domain_id\"].value_counts()"
   ]
  },
  {
   "cell_type": "code",
   "execution_count": 20,
   "metadata": {
    "ExecuteTime": {
     "end_time": "2020-11-12T18:46:58.173359Z",
     "start_time": "2020-11-12T18:46:58.026750Z"
    }
   },
   "outputs": [
    {
     "data": {
      "text/plain": [
       "MLB1055      25070\n",
       "MLB23332     14427\n",
       "MLB122102     7905\n",
       "MLB135384     7810\n",
       "MLB7457       6423\n",
       "             ...  \n",
       "MLB236048        1\n",
       "MLM439636        1\n",
       "MLB431487        1\n",
       "MLM194185        1\n",
       "MLM189448        1\n",
       "Name: category_id, Length: 4001, dtype: int64"
      ]
     },
     "execution_count": 20,
     "metadata": {},
     "output_type": "execute_result"
    }
   ],
   "source": [
    "train[\"category_id\"].value_counts()"
   ]
  },
  {
   "cell_type": "code",
   "execution_count": 21,
   "metadata": {
    "ExecuteTime": {
     "end_time": "2020-11-12T18:46:58.300019Z",
     "start_time": "2020-11-12T18:46:58.174355Z"
    }
   },
   "outputs": [
    {
     "data": {
      "text/plain": [
       "new              412637\n",
       "used                411\n",
       "not_specified       115\n",
       "Name: condition, dtype: int64"
      ]
     },
     "execution_count": 21,
     "metadata": {},
     "output_type": "execute_result"
    }
   ],
   "source": [
    "train[\"condition\"].value_counts()"
   ]
  },
  {
   "cell_type": "code",
   "execution_count": 22,
   "metadata": {
    "ExecuteTime": {
     "end_time": "2020-11-12T18:46:58.519467Z",
     "start_time": "2020-11-12T18:46:58.302015Z"
    }
   },
   "outputs": [
    {
     "data": {
      "text/plain": [
       "MLM-UNCLASSIFIED_PRODUCTS                            60\n",
       "MLB-GAME_CONSOLES                                    49\n",
       "MLB-CELLPHONES                                       33\n",
       "MLB-UNCLASSIFIED_PRODUCTS                            27\n",
       "MLB-GAMEPADS_AND_JOYSTICKS                           25\n",
       "MLM-VIDEO_GAMES                                      24\n",
       "MLB-VIDEO_GAMES                                      23\n",
       "MLB-HARD_DRIVES_AND_SSDS                             17\n",
       "MLB-WEBCAMS                                          15\n",
       "MLB-COMPUTER_EQUIPMENT_AND_SPARE_PARTS               14\n",
       "MLM-POGS                                             12\n",
       "MLB-SUPPLEMENTS                                      12\n",
       "MLB-COLLECTIBLE_POSTCARDS                            10\n",
       "MLB-WRISTWATCHES                                      8\n",
       "MLB-FOODS_AND_DRINKS                                  8\n",
       "MLB-LADDERS                                           7\n",
       "MLM-VIDEO_GAME_PREPAID_CARDS                          6\n",
       "MLM-GAME_CONSOLES_VIDEO_GAMES_AND_ARCADE_MACHINES     5\n",
       "MLB-STREAMING_MEDIA_DEVICES                           4\n",
       "MLB-SOLID_SWEET_PASTES                                4\n",
       "MLB-ELECTRICITY_METERS                                4\n",
       "MLB-NOTEBOOKS                                         4\n",
       "MLM-CELLPHONES                                        4\n",
       "MLB-DESKTOP_COMPUTERS                                 3\n",
       "MLB-AUTOMOTIVE_TIRES                                  3\n",
       "MLB-SNEAKERS                                          3\n",
       "MLM-PENDRIVES                                         3\n",
       "MLM-NOTEBOOKS                                         2\n",
       "MLB-COMPUTER_MONITORS                                 2\n",
       "MLB-ARTS_AND_CRAFTS                                   2\n",
       "MLM-AUTOMODELISM_VEHICLES                             2\n",
       "MLM-PACKAGING_BOXES                                   2\n",
       "MLB-GRAPHICS_CARDS                                    1\n",
       "MLB-GAME_CONSOLES_VIDEO_GAMES_AND_ARCADE_MACHINES     1\n",
       "MLB-OPERATING_SYSTEMS                                 1\n",
       "MLM-MOVIES                                            1\n",
       "MLB-COMPUTER_PROCESSORS                               1\n",
       "MLM-ACTION_FIGURES                                    1\n",
       "MLB-TOYS_AND_GAMES                                    1\n",
       "MLB-PENS                                              1\n",
       "MLB-CELLPHONE_ACCESSORIES                             1\n",
       "MLM-HEADPHONES                                        1\n",
       "MLM-SAFES                                             1\n",
       "MLB-ANIMAL_AND_PET_PRODUCTS                           1\n",
       "MLB-PENDRIVES                                         1\n",
       "MLB-BEAUTY_AND_PERSONAL_CARE_SUPPLIES                 1\n",
       "Name: domain_id, dtype: int64"
      ]
     },
     "execution_count": 22,
     "metadata": {},
     "output_type": "execute_result"
    }
   ],
   "source": [
    "train[train[\"condition\"]==\"used\"][\"domain_id\"].value_counts()"
   ]
  },
  {
   "cell_type": "code",
   "execution_count": 23,
   "metadata": {
    "ExecuteTime": {
     "end_time": "2020-11-12T18:46:58.547389Z",
     "start_time": "2020-11-12T18:46:58.525416Z"
    }
   },
   "outputs": [
    {
     "data": {
      "text/plain": [
       "[{'event_info': 'HARMAN KARDON',\n",
       "  'event_timestamp': '2019-10-26T11:59:00.194-0400',\n",
       "  'event_type': 'search'},\n",
       " {'event_info': 658101,\n",
       "  'event_timestamp': '2019-10-26T11:59:12.509-0400',\n",
       "  'event_type': 'view'},\n",
       " {'event_info': 'HARMAN KARDON',\n",
       "  'event_timestamp': '2019-10-26T11:59:25.731-0400',\n",
       "  'event_type': 'search'},\n",
       " {'event_info': 'HARMAN KARDON',\n",
       "  'event_timestamp': '2019-10-26T11:59:38.963-0400',\n",
       "  'event_type': 'search'},\n",
       " {'event_info': 'HARMAN KARDON',\n",
       "  'event_timestamp': '2019-10-26T11:59:50.750-0400',\n",
       "  'event_type': 'search'},\n",
       " {'event_info': 'MEMORIA DDR4',\n",
       "  'event_timestamp': '2019-10-26T19:55:23.776-0400',\n",
       "  'event_type': 'search'},\n",
       " {'event_info': 'MEMORIA DDR4 NOTEBOOK',\n",
       "  'event_timestamp': '2019-10-26T19:55:38.581-0400',\n",
       "  'event_type': 'search'},\n",
       " {'event_info': 'MEMORIA DDR4 NOTEBOOK',\n",
       "  'event_timestamp': '2019-10-26T19:56:15.826-0400',\n",
       "  'event_type': 'search'},\n",
       " {'event_info': 'MEMORIA DDR4 NOTEBOOK',\n",
       "  'event_timestamp': '2019-10-26T19:57:18.413-0400',\n",
       "  'event_type': 'search'}]"
      ]
     },
     "execution_count": 23,
     "metadata": {},
     "output_type": "execute_result"
    }
   ],
   "source": [
    "train[\"user_history\"][10]"
   ]
  },
  {
   "cell_type": "code",
   "execution_count": 24,
   "metadata": {
    "ExecuteTime": {
     "end_time": "2020-11-12T18:46:58.557330Z",
     "start_time": "2020-11-12T18:46:58.549352Z"
    }
   },
   "outputs": [
    {
     "data": {
      "text/html": [
       "<div>\n",
       "<style scoped>\n",
       "    .dataframe tbody tr th:only-of-type {\n",
       "        vertical-align: middle;\n",
       "    }\n",
       "\n",
       "    .dataframe tbody tr th {\n",
       "        vertical-align: top;\n",
       "    }\n",
       "\n",
       "    .dataframe thead th {\n",
       "        text-align: right;\n",
       "    }\n",
       "</style>\n",
       "<table border=\"1\" class=\"dataframe\">\n",
       "  <thead>\n",
       "    <tr style=\"text-align: right;\">\n",
       "      <th></th>\n",
       "      <th>event_info</th>\n",
       "      <th>event_timestamp</th>\n",
       "      <th>event_type</th>\n",
       "    </tr>\n",
       "  </thead>\n",
       "  <tbody>\n",
       "    <tr>\n",
       "      <th>0</th>\n",
       "      <td>HARMAN KARDON</td>\n",
       "      <td>2019-10-26T11:59:00.194-0400</td>\n",
       "      <td>search</td>\n",
       "    </tr>\n",
       "    <tr>\n",
       "      <th>1</th>\n",
       "      <td>658101</td>\n",
       "      <td>2019-10-26T11:59:12.509-0400</td>\n",
       "      <td>view</td>\n",
       "    </tr>\n",
       "    <tr>\n",
       "      <th>2</th>\n",
       "      <td>HARMAN KARDON</td>\n",
       "      <td>2019-10-26T11:59:25.731-0400</td>\n",
       "      <td>search</td>\n",
       "    </tr>\n",
       "    <tr>\n",
       "      <th>3</th>\n",
       "      <td>HARMAN KARDON</td>\n",
       "      <td>2019-10-26T11:59:38.963-0400</td>\n",
       "      <td>search</td>\n",
       "    </tr>\n",
       "    <tr>\n",
       "      <th>4</th>\n",
       "      <td>HARMAN KARDON</td>\n",
       "      <td>2019-10-26T11:59:50.750-0400</td>\n",
       "      <td>search</td>\n",
       "    </tr>\n",
       "    <tr>\n",
       "      <th>5</th>\n",
       "      <td>MEMORIA DDR4</td>\n",
       "      <td>2019-10-26T19:55:23.776-0400</td>\n",
       "      <td>search</td>\n",
       "    </tr>\n",
       "    <tr>\n",
       "      <th>6</th>\n",
       "      <td>MEMORIA DDR4 NOTEBOOK</td>\n",
       "      <td>2019-10-26T19:55:38.581-0400</td>\n",
       "      <td>search</td>\n",
       "    </tr>\n",
       "    <tr>\n",
       "      <th>7</th>\n",
       "      <td>MEMORIA DDR4 NOTEBOOK</td>\n",
       "      <td>2019-10-26T19:56:15.826-0400</td>\n",
       "      <td>search</td>\n",
       "    </tr>\n",
       "    <tr>\n",
       "      <th>8</th>\n",
       "      <td>MEMORIA DDR4 NOTEBOOK</td>\n",
       "      <td>2019-10-26T19:57:18.413-0400</td>\n",
       "      <td>search</td>\n",
       "    </tr>\n",
       "  </tbody>\n",
       "</table>\n",
       "</div>"
      ],
      "text/plain": [
       "              event_info               event_timestamp event_type\n",
       "0          HARMAN KARDON  2019-10-26T11:59:00.194-0400     search\n",
       "1                 658101  2019-10-26T11:59:12.509-0400       view\n",
       "2          HARMAN KARDON  2019-10-26T11:59:25.731-0400     search\n",
       "3          HARMAN KARDON  2019-10-26T11:59:38.963-0400     search\n",
       "4          HARMAN KARDON  2019-10-26T11:59:50.750-0400     search\n",
       "5           MEMORIA DDR4  2019-10-26T19:55:23.776-0400     search\n",
       "6  MEMORIA DDR4 NOTEBOOK  2019-10-26T19:55:38.581-0400     search\n",
       "7  MEMORIA DDR4 NOTEBOOK  2019-10-26T19:56:15.826-0400     search\n",
       "8  MEMORIA DDR4 NOTEBOOK  2019-10-26T19:57:18.413-0400     search"
      ]
     },
     "execution_count": 24,
     "metadata": {},
     "output_type": "execute_result"
    }
   ],
   "source": [
    "pd.DataFrame(train[\"user_history\"][10])"
   ]
  },
  {
   "cell_type": "code",
   "execution_count": 25,
   "metadata": {
    "ExecuteTime": {
     "end_time": "2020-11-12T18:46:59.441728Z",
     "start_time": "2020-11-12T18:46:58.558328Z"
    }
   },
   "outputs": [
    {
     "data": {
      "text/html": [
       "<div>\n",
       "<style scoped>\n",
       "    .dataframe tbody tr th:only-of-type {\n",
       "        vertical-align: middle;\n",
       "    }\n",
       "\n",
       "    .dataframe tbody tr th {\n",
       "        vertical-align: top;\n",
       "    }\n",
       "\n",
       "    .dataframe thead th {\n",
       "        text-align: right;\n",
       "    }\n",
       "</style>\n",
       "<table border=\"1\" class=\"dataframe\">\n",
       "  <thead>\n",
       "    <tr style=\"text-align: right;\">\n",
       "      <th></th>\n",
       "      <th>item_id</th>\n",
       "      <th>title</th>\n",
       "      <th>domain_id</th>\n",
       "      <th>product_id</th>\n",
       "      <th>price</th>\n",
       "      <th>category_id</th>\n",
       "      <th>condition</th>\n",
       "    </tr>\n",
       "  </thead>\n",
       "  <tbody>\n",
       "    <tr>\n",
       "      <th>4149</th>\n",
       "      <td>662449</td>\n",
       "      <td>Harman Kardon Invoke / Microsoft Cortana Bluet...</td>\n",
       "      <td>MLM-SPEAKERS</td>\n",
       "      <td>NaN</td>\n",
       "      <td>2400.00</td>\n",
       "      <td>MLM2868</td>\n",
       "      <td>new</td>\n",
       "    </tr>\n",
       "    <tr>\n",
       "      <th>11470</th>\n",
       "      <td>2053675</td>\n",
       "      <td>Teatro En Casa Harman Kardon Hts15 Con Amplifi...</td>\n",
       "      <td>MLM-HOME_THEATERS</td>\n",
       "      <td>NaN</td>\n",
       "      <td>26000.00</td>\n",
       "      <td>MLM5845</td>\n",
       "      <td>new</td>\n",
       "    </tr>\n",
       "    <tr>\n",
       "      <th>13201</th>\n",
       "      <td>1148212</td>\n",
       "      <td>Harman Kardon Aura Studio2 - Altavoz Inalámbri...</td>\n",
       "      <td>MLM-SPEAKERS</td>\n",
       "      <td>8981710.0</td>\n",
       "      <td>6430.87</td>\n",
       "      <td>MLM59800</td>\n",
       "      <td>new</td>\n",
       "    </tr>\n",
       "    <tr>\n",
       "      <th>20695</th>\n",
       "      <td>1495967</td>\n",
       "      <td>Bocina Harman Kardon Onyx Studio 5 Bluetooth 8...</td>\n",
       "      <td>MLM-SPEAKERS</td>\n",
       "      <td>15106220.0</td>\n",
       "      <td>4999.00</td>\n",
       "      <td>MLM59800</td>\n",
       "      <td>new</td>\n",
       "    </tr>\n",
       "    <tr>\n",
       "      <th>23979</th>\n",
       "      <td>542195</td>\n",
       "      <td>Bocinas Harman Kardon Soundsticks Ii</td>\n",
       "      <td>MLM-SPEAKERS</td>\n",
       "      <td>NaN</td>\n",
       "      <td>3000.00</td>\n",
       "      <td>MLM2868</td>\n",
       "      <td>used</td>\n",
       "    </tr>\n",
       "    <tr>\n",
       "      <th>...</th>\n",
       "      <td>...</td>\n",
       "      <td>...</td>\n",
       "      <td>...</td>\n",
       "      <td>...</td>\n",
       "      <td>...</td>\n",
       "      <td>...</td>\n",
       "      <td>...</td>\n",
       "    </tr>\n",
       "    <tr>\n",
       "      <th>2029097</th>\n",
       "      <td>1235592</td>\n",
       "      <td>Caixa Som Harman Kardon Onyx Studio 5 50w Preto</td>\n",
       "      <td>MLB-UNCLASSIFIED_PRODUCTS</td>\n",
       "      <td>NaN</td>\n",
       "      <td>795.99</td>\n",
       "      <td>MLB3530</td>\n",
       "      <td>not_specified</td>\n",
       "    </tr>\n",
       "    <tr>\n",
       "      <th>2036367</th>\n",
       "      <td>705542</td>\n",
       "      <td>Home Theater Harman Kardon Avr130 Usado</td>\n",
       "      <td>MLB-AV_RECEIVERS</td>\n",
       "      <td>9140360.0</td>\n",
       "      <td>690.00</td>\n",
       "      <td>MLB11509</td>\n",
       "      <td>used</td>\n",
       "    </tr>\n",
       "    <tr>\n",
       "      <th>2038552</th>\n",
       "      <td>658101</td>\n",
       "      <td>Caixa De Som Onix 3 60rms Bluetooth - Harman K...</td>\n",
       "      <td>MLB-SPEAKERS</td>\n",
       "      <td>NaN</td>\n",
       "      <td>899.00</td>\n",
       "      <td>MLB3843</td>\n",
       "      <td>new</td>\n",
       "    </tr>\n",
       "    <tr>\n",
       "      <th>2056221</th>\n",
       "      <td>767334</td>\n",
       "      <td>Bateria Recarregável Para Caixa De Som Harman ...</td>\n",
       "      <td>MLB-SPEAKERS</td>\n",
       "      <td>NaN</td>\n",
       "      <td>279.00</td>\n",
       "      <td>MLB3843</td>\n",
       "      <td>new</td>\n",
       "    </tr>\n",
       "    <tr>\n",
       "      <th>2058476</th>\n",
       "      <td>1911731</td>\n",
       "      <td>Bateria Harman Kardon Onix Studio 1 E 2 Camero...</td>\n",
       "      <td>MLB-SPEAKERS</td>\n",
       "      <td>15109696.0</td>\n",
       "      <td>179.90</td>\n",
       "      <td>MLB3843</td>\n",
       "      <td>new</td>\n",
       "    </tr>\n",
       "  </tbody>\n",
       "</table>\n",
       "<p>89 rows × 7 columns</p>\n",
       "</div>"
      ],
      "text/plain": [
       "         item_id                                              title  \\\n",
       "4149      662449  Harman Kardon Invoke / Microsoft Cortana Bluet...   \n",
       "11470    2053675  Teatro En Casa Harman Kardon Hts15 Con Amplifi...   \n",
       "13201    1148212  Harman Kardon Aura Studio2 - Altavoz Inalámbri...   \n",
       "20695    1495967  Bocina Harman Kardon Onyx Studio 5 Bluetooth 8...   \n",
       "23979     542195               Bocinas Harman Kardon Soundsticks Ii   \n",
       "...          ...                                                ...   \n",
       "2029097  1235592    Caixa Som Harman Kardon Onyx Studio 5 50w Preto   \n",
       "2036367   705542            Home Theater Harman Kardon Avr130 Usado   \n",
       "2038552   658101  Caixa De Som Onix 3 60rms Bluetooth - Harman K...   \n",
       "2056221   767334  Bateria Recarregável Para Caixa De Som Harman ...   \n",
       "2058476  1911731  Bateria Harman Kardon Onix Studio 1 E 2 Camero...   \n",
       "\n",
       "                         domain_id  product_id     price category_id  \\\n",
       "4149                  MLM-SPEAKERS         NaN   2400.00     MLM2868   \n",
       "11470            MLM-HOME_THEATERS         NaN  26000.00     MLM5845   \n",
       "13201                 MLM-SPEAKERS   8981710.0   6430.87    MLM59800   \n",
       "20695                 MLM-SPEAKERS  15106220.0   4999.00    MLM59800   \n",
       "23979                 MLM-SPEAKERS         NaN   3000.00     MLM2868   \n",
       "...                            ...         ...       ...         ...   \n",
       "2029097  MLB-UNCLASSIFIED_PRODUCTS         NaN    795.99     MLB3530   \n",
       "2036367           MLB-AV_RECEIVERS   9140360.0    690.00    MLB11509   \n",
       "2038552               MLB-SPEAKERS         NaN    899.00     MLB3843   \n",
       "2056221               MLB-SPEAKERS         NaN    279.00     MLB3843   \n",
       "2058476               MLB-SPEAKERS  15109696.0    179.90     MLB3843   \n",
       "\n",
       "             condition  \n",
       "4149               new  \n",
       "11470              new  \n",
       "13201              new  \n",
       "20695              new  \n",
       "23979             used  \n",
       "...                ...  \n",
       "2029097  not_specified  \n",
       "2036367           used  \n",
       "2038552            new  \n",
       "2056221            new  \n",
       "2058476            new  \n",
       "\n",
       "[89 rows x 7 columns]"
      ]
     },
     "execution_count": 25,
     "metadata": {},
     "output_type": "execute_result"
    }
   ],
   "source": [
    "meli_item[meli_item[\"title\"].str.contains(\"Harman Kardon\")]"
   ]
  },
  {
   "cell_type": "code",
   "execution_count": 26,
   "metadata": {
    "ExecuteTime": {
     "end_time": "2020-11-12T18:47:45.771225Z",
     "start_time": "2020-11-12T18:46:59.442726Z"
    }
   },
   "outputs": [],
   "source": [
    "meli_item[\"title_clean\"]=hero.clean(meli_item[\"title\"])"
   ]
  },
  {
   "cell_type": "code",
   "execution_count": 27,
   "metadata": {
    "ExecuteTime": {
     "end_time": "2020-11-12T18:47:46.313774Z",
     "start_time": "2020-11-12T18:47:45.773221Z"
    }
   },
   "outputs": [
    {
     "data": {
      "text/html": [
       "<div>\n",
       "<style scoped>\n",
       "    .dataframe tbody tr th:only-of-type {\n",
       "        vertical-align: middle;\n",
       "    }\n",
       "\n",
       "    .dataframe tbody tr th {\n",
       "        vertical-align: top;\n",
       "    }\n",
       "\n",
       "    .dataframe thead th {\n",
       "        text-align: right;\n",
       "    }\n",
       "</style>\n",
       "<table border=\"1\" class=\"dataframe\">\n",
       "  <thead>\n",
       "    <tr style=\"text-align: right;\">\n",
       "      <th></th>\n",
       "      <th>title</th>\n",
       "      <th>title_clean</th>\n",
       "    </tr>\n",
       "  </thead>\n",
       "  <tbody>\n",
       "    <tr>\n",
       "      <th>0</th>\n",
       "      <td>Casa Sola En Venta Con Gran Patio Solo Pago De...</td>\n",
       "      <td>casa venta patio pago contado</td>\n",
       "    </tr>\n",
       "    <tr>\n",
       "      <th>1</th>\n",
       "      <td>Resident Evil Origins Collection Nintendo Swit...</td>\n",
       "      <td>resident evil origins collection nintendo swit...</td>\n",
       "    </tr>\n",
       "    <tr>\n",
       "      <th>2</th>\n",
       "      <td>Falda De Imitación Piel Negra</td>\n",
       "      <td>falda imitacion piel negra</td>\n",
       "    </tr>\n",
       "    <tr>\n",
       "      <th>3</th>\n",
       "      <td>Powercolor Red Devil Radeon Rx 580 8gb Gddr5</td>\n",
       "      <td>powercolor red devil radeon rx 8gb gddr5</td>\n",
       "    </tr>\n",
       "    <tr>\n",
       "      <th>4</th>\n",
       "      <td>Laptop Hp Nx6320 Core Duo Con Puerto Db9 Windo...</td>\n",
       "      <td>laptop hp nx6320 core duo puerto db9 windows</td>\n",
       "    </tr>\n",
       "    <tr>\n",
       "      <th>5</th>\n",
       "      <td>Transmisor Fm Sin Hilos Bluetooth Reproductor ...</td>\n",
       "      <td>transmisor fm hilos bluetooth reproductor mp3 co</td>\n",
       "    </tr>\n",
       "    <tr>\n",
       "      <th>6</th>\n",
       "      <td>Funda Cartera Caseme 007 2 En 1 Huawei P30 Pro</td>\n",
       "      <td>funda cartera caseme huawei p30 pro</td>\n",
       "    </tr>\n",
       "    <tr>\n",
       "      <th>7</th>\n",
       "      <td>Lampara De Techo Tubo Slim Led Base G5 9w Blan...</td>\n",
       "      <td>lampara techo tubo slim led base g5 9w blanco ...</td>\n",
       "    </tr>\n",
       "    <tr>\n",
       "      <th>8</th>\n",
       "      <td>Repisa Organizador Para Cocina,  Especieros, T...</td>\n",
       "      <td>repisa organizador cocina especieros toallero</td>\n",
       "    </tr>\n",
       "    <tr>\n",
       "      <th>9</th>\n",
       "      <td>Trío, Balerina, Cosmo, Leopardo/negro/rojo, Ve...</td>\n",
       "      <td>trio balerina cosmo leopardo negro rojo verano...</td>\n",
       "    </tr>\n",
       "    <tr>\n",
       "      <th>10</th>\n",
       "      <td>Corriente Galvanica Tipo Nuskin + Regalo</td>\n",
       "      <td>corriente galvanica tipo nuskin regalo</td>\n",
       "    </tr>\n",
       "    <tr>\n",
       "      <th>11</th>\n",
       "      <td>Totalmente Ajustable Estándar Snaffle Bridle P...</td>\n",
       "      <td>totalmente ajustable estandar snaffle bridle t...</td>\n",
       "    </tr>\n",
       "    <tr>\n",
       "      <th>12</th>\n",
       "      <td>Volkswagen Vento 1.6 Starline M F.original V.w...</td>\n",
       "      <td>volkswagen vento starline m f original v w t p...</td>\n",
       "    </tr>\n",
       "    <tr>\n",
       "      <th>13</th>\n",
       "      <td>Case Nintendo Galaxy M10, M20, M30, A10, A30, ...</td>\n",
       "      <td>case nintendo galaxy m10 m20 m30 a10 a30 a50 a...</td>\n",
       "    </tr>\n",
       "    <tr>\n",
       "      <th>14</th>\n",
       "      <td>Chevrolet S-10 4 Cilindropick-up Corta. Man 5 ...</td>\n",
       "      <td>chevrolet s cilindropick up corta man vel aut</td>\n",
       "    </tr>\n",
       "    <tr>\n",
       "      <th>15</th>\n",
       "      <td>Dodge Vision 2015</td>\n",
       "      <td>dodge vision</td>\n",
       "    </tr>\n",
       "    <tr>\n",
       "      <th>16</th>\n",
       "      <td>Figura Para Herrería Terminación Pasamanos (te...</td>\n",
       "      <td>figura herreria terminacion pasamanos tepas001</td>\n",
       "    </tr>\n",
       "    <tr>\n",
       "      <th>17</th>\n",
       "      <td>Lida Plus</td>\n",
       "      <td>lida plus</td>\n",
       "    </tr>\n",
       "    <tr>\n",
       "      <th>18</th>\n",
       "      <td>Paquete Centro De Lavado Mabe+ Refrigerador Mabe</td>\n",
       "      <td>paquete centro lavado mabe refrigerador mabe</td>\n",
       "    </tr>\n",
       "    <tr>\n",
       "      <th>19</th>\n",
       "      <td>Libro Dc Comics Novels - Batman The Killing Joke</td>\n",
       "      <td>libro dc comics novels batman the killing joke</td>\n",
       "    </tr>\n",
       "    <tr>\n",
       "      <th>20</th>\n",
       "      <td>Audifonos Diadema Gamer Ps4 Xbox One S Jakc 3....</td>\n",
       "      <td>audifonos diadema gamer ps4 xbox one s jakc 5m...</td>\n",
       "    </tr>\n",
       "    <tr>\n",
       "      <th>21</th>\n",
       "      <td>Cable De Uso Rudo 3 Hilos Calibre 10 Awg, Hast...</td>\n",
       "      <td>cable rudo hilos calibre awg v rollo</td>\n",
       "    </tr>\n",
       "    <tr>\n",
       "      <th>22</th>\n",
       "      <td>Reloj Gucci Para Hombre G1. Incluye Caja Y Env...</td>\n",
       "      <td>reloj gucci hombre g1 incluye caja y envio gratis</td>\n",
       "    </tr>\n",
       "    <tr>\n",
       "      <th>23</th>\n",
       "      <td>Moto Scooer Bici Electrica 50km Autonomia 350...</td>\n",
       "      <td>moto scooer bici electrica 50km autonomia 350w...</td>\n",
       "    </tr>\n",
       "    <tr>\n",
       "      <th>24</th>\n",
       "      <td>Volkswagen Jetta 4p L4/2.0 Aut</td>\n",
       "      <td>volkswagen jetta 4p l4 aut</td>\n",
       "    </tr>\n",
       "    <tr>\n",
       "      <th>25</th>\n",
       "      <td>Cargador Impresora Polaroid</td>\n",
       "      <td>cargador impresora polaroid</td>\n",
       "    </tr>\n",
       "    <tr>\n",
       "      <th>26</th>\n",
       "      <td>Crossover Pasivo De 3 Vias 200w 4 Ohms 140-650</td>\n",
       "      <td>crossover pasivo vias 200w ohms</td>\n",
       "    </tr>\n",
       "    <tr>\n",
       "      <th>27</th>\n",
       "      <td>Deshumidificador Delonghi Dd50pe Star Envio Gr...</td>\n",
       "      <td>deshumidificador delonghi dd50pe star envio gr...</td>\n",
       "    </tr>\n",
       "    <tr>\n",
       "      <th>28</th>\n",
       "      <td>Molde Silicón Pene Despedida Soltera Hielos Ja...</td>\n",
       "      <td>molde silicon pene despedida soltera hielos ja...</td>\n",
       "    </tr>\n",
       "    <tr>\n",
       "      <th>29</th>\n",
       "      <td>20 Capuchon Birlo Cromado Tractocamion Presión</td>\n",
       "      <td>capuchon birlo cromado tractocamion presion</td>\n",
       "    </tr>\n",
       "    <tr>\n",
       "      <th>30</th>\n",
       "      <td>Paleta De Sombras Frida Ojos Beauty Creations...</td>\n",
       "      <td>paleta sombras frida ojos beauty creations ori...</td>\n",
       "    </tr>\n",
       "    <tr>\n",
       "      <th>31</th>\n",
       "      <td>S10 10.1 Pulgadas Tablet Pc Android 8.0 8+128g...</td>\n",
       "      <td>s10 pulgadas tablet pc android 128gb azul ue</td>\n",
       "    </tr>\n",
       "    <tr>\n",
       "      <th>32</th>\n",
       "      <td>Audifonos Jbl Pucks</td>\n",
       "      <td>audifonos jbl pucks</td>\n",
       "    </tr>\n",
       "    <tr>\n",
       "      <th>33</th>\n",
       "      <td>Sudadera Suzuki Motorcycles Motos Autos Con Go...</td>\n",
       "      <td>sudadera suzuki motorcycles motos autos gorro ...</td>\n",
       "    </tr>\n",
       "    <tr>\n",
       "      <th>34</th>\n",
       "      <td>Reloj Puma Pu10430100 Caballero Negro 100%orig...</td>\n",
       "      <td>reloj puma pu10430100 caballero negro original</td>\n",
       "    </tr>\n",
       "    <tr>\n",
       "      <th>35</th>\n",
       "      <td>Bandas De Resistencia Hip Band Alta Calidad Pi...</td>\n",
       "      <td>bandas resistencia hip band alta calidad piern...</td>\n",
       "    </tr>\n",
       "    <tr>\n",
       "      <th>36</th>\n",
       "      <td>Botas Dr Martens Black Nappa Hombre 11822002 L...</td>\n",
       "      <td>botas dr martens black nappa hombre look trendy</td>\n",
       "    </tr>\n",
       "    <tr>\n",
       "      <th>37</th>\n",
       "      <td>Pintura En Aerosol De Alta Temperatura Negro T...</td>\n",
       "      <td>pintura aerosol alta temperatura negro truper</td>\n",
       "    </tr>\n",
       "    <tr>\n",
       "      <th>38</th>\n",
       "      <td>2 Pack Tapete Foamy 3m2 61x61 8mm Fomy Gym Niñ...</td>\n",
       "      <td>pack tapete foamy 3m2 61x61 8mm fomy gym ninos...</td>\n",
       "    </tr>\n",
       "    <tr>\n",
       "      <th>39</th>\n",
       "      <td>Blusa Capricho Collection Cmf-165</td>\n",
       "      <td>blusa capricho collection cmf</td>\n",
       "    </tr>\n",
       "    <tr>\n",
       "      <th>40</th>\n",
       "      <td>Rifle Winchester 77xs Multipompazo 4x32 Diabol...</td>\n",
       "      <td>rifle winchester 77xs multipompazo 4x32 diabol...</td>\n",
       "    </tr>\n",
       "    <tr>\n",
       "      <th>41</th>\n",
       "      <td>Oferta Torera Bolero Novia Fiesta Talla Extras...</td>\n",
       "      <td>oferta torera bolero novia fiesta talla extras...</td>\n",
       "    </tr>\n",
       "    <tr>\n",
       "      <th>42</th>\n",
       "      <td>Muñeca Quinceañera Geli Original</td>\n",
       "      <td>muneca quinceanera geli original</td>\n",
       "    </tr>\n",
       "    <tr>\n",
       "      <th>43</th>\n",
       "      <td>Botas Alpinestars Smx6 Ventiladas</td>\n",
       "      <td>botas alpinestars smx6 ventiladas</td>\n",
       "    </tr>\n",
       "    <tr>\n",
       "      <th>44</th>\n",
       "      <td>Ingresos Pasivos Maquinita Cascada Millonaria</td>\n",
       "      <td>ingresos pasivos maquinita cascada millonaria</td>\n",
       "    </tr>\n",
       "    <tr>\n",
       "      <th>45</th>\n",
       "      <td>Porter Cable Engalletadora (seminueva)</td>\n",
       "      <td>porter cable engalletadora seminueva</td>\n",
       "    </tr>\n",
       "    <tr>\n",
       "      <th>46</th>\n",
       "      <td>Pupilentes Urban Layer Universe Blue $400 Chec...</td>\n",
       "      <td>pupilentes urban layer universe blue checa video</td>\n",
       "    </tr>\n",
       "    <tr>\n",
       "      <th>47</th>\n",
       "      <td>Huawei Smart Watch Gt Elegante</td>\n",
       "      <td>huawei smart watch gt elegante</td>\n",
       "    </tr>\n",
       "    <tr>\n",
       "      <th>48</th>\n",
       "      <td>Cafe Racer  Italika Dt150</td>\n",
       "      <td>cafe racer italika dt150</td>\n",
       "    </tr>\n",
       "    <tr>\n",
       "      <th>49</th>\n",
       "      <td>Funda Para Binoculares Celestron  Skymaster Gi...</td>\n",
       "      <td>funda binoculares celestron skymaster giant 15x70</td>\n",
       "    </tr>\n",
       "  </tbody>\n",
       "</table>\n",
       "</div>"
      ],
      "text/plain": [
       "                                                title  \\\n",
       "0   Casa Sola En Venta Con Gran Patio Solo Pago De...   \n",
       "1   Resident Evil Origins Collection Nintendo Swit...   \n",
       "2                       Falda De Imitación Piel Negra   \n",
       "3        Powercolor Red Devil Radeon Rx 580 8gb Gddr5   \n",
       "4   Laptop Hp Nx6320 Core Duo Con Puerto Db9 Windo...   \n",
       "5   Transmisor Fm Sin Hilos Bluetooth Reproductor ...   \n",
       "6      Funda Cartera Caseme 007 2 En 1 Huawei P30 Pro   \n",
       "7   Lampara De Techo Tubo Slim Led Base G5 9w Blan...   \n",
       "8   Repisa Organizador Para Cocina,  Especieros, T...   \n",
       "9   Trío, Balerina, Cosmo, Leopardo/negro/rojo, Ve...   \n",
       "10          Corriente Galvanica Tipo Nuskin + Regalo    \n",
       "11  Totalmente Ajustable Estándar Snaffle Bridle P...   \n",
       "12  Volkswagen Vento 1.6 Starline M F.original V.w...   \n",
       "13  Case Nintendo Galaxy M10, M20, M30, A10, A30, ...   \n",
       "14  Chevrolet S-10 4 Cilindropick-up Corta. Man 5 ...   \n",
       "15                                  Dodge Vision 2015   \n",
       "16  Figura Para Herrería Terminación Pasamanos (te...   \n",
       "17                                          Lida Plus   \n",
       "18   Paquete Centro De Lavado Mabe+ Refrigerador Mabe   \n",
       "19   Libro Dc Comics Novels - Batman The Killing Joke   \n",
       "20  Audifonos Diadema Gamer Ps4 Xbox One S Jakc 3....   \n",
       "21  Cable De Uso Rudo 3 Hilos Calibre 10 Awg, Hast...   \n",
       "22  Reloj Gucci Para Hombre G1. Incluye Caja Y Env...   \n",
       "23   Moto Scooer Bici Electrica 50km Autonomia 350...   \n",
       "24                     Volkswagen Jetta 4p L4/2.0 Aut   \n",
       "25                        Cargador Impresora Polaroid   \n",
       "26     Crossover Pasivo De 3 Vias 200w 4 Ohms 140-650   \n",
       "27  Deshumidificador Delonghi Dd50pe Star Envio Gr...   \n",
       "28  Molde Silicón Pene Despedida Soltera Hielos Ja...   \n",
       "29    20 Capuchon Birlo Cromado Tractocamion Presión    \n",
       "30   Paleta De Sombras Frida Ojos Beauty Creations...   \n",
       "31  S10 10.1 Pulgadas Tablet Pc Android 8.0 8+128g...   \n",
       "32                                Audifonos Jbl Pucks   \n",
       "33  Sudadera Suzuki Motorcycles Motos Autos Con Go...   \n",
       "34  Reloj Puma Pu10430100 Caballero Negro 100%orig...   \n",
       "35  Bandas De Resistencia Hip Band Alta Calidad Pi...   \n",
       "36  Botas Dr Martens Black Nappa Hombre 11822002 L...   \n",
       "37  Pintura En Aerosol De Alta Temperatura Negro T...   \n",
       "38  2 Pack Tapete Foamy 3m2 61x61 8mm Fomy Gym Niñ...   \n",
       "39                  Blusa Capricho Collection Cmf-165   \n",
       "40  Rifle Winchester 77xs Multipompazo 4x32 Diabol...   \n",
       "41  Oferta Torera Bolero Novia Fiesta Talla Extras...   \n",
       "42                  Muñeca Quinceañera Geli Original    \n",
       "43                  Botas Alpinestars Smx6 Ventiladas   \n",
       "44      Ingresos Pasivos Maquinita Cascada Millonaria   \n",
       "45             Porter Cable Engalletadora (seminueva)   \n",
       "46  Pupilentes Urban Layer Universe Blue $400 Chec...   \n",
       "47                     Huawei Smart Watch Gt Elegante   \n",
       "48                          Cafe Racer  Italika Dt150   \n",
       "49  Funda Para Binoculares Celestron  Skymaster Gi...   \n",
       "\n",
       "                                          title_clean  \n",
       "0                       casa venta patio pago contado  \n",
       "1   resident evil origins collection nintendo swit...  \n",
       "2                          falda imitacion piel negra  \n",
       "3            powercolor red devil radeon rx 8gb gddr5  \n",
       "4        laptop hp nx6320 core duo puerto db9 windows  \n",
       "5    transmisor fm hilos bluetooth reproductor mp3 co  \n",
       "6                 funda cartera caseme huawei p30 pro  \n",
       "7   lampara techo tubo slim led base g5 9w blanco ...  \n",
       "8       repisa organizador cocina especieros toallero  \n",
       "9   trio balerina cosmo leopardo negro rojo verano...  \n",
       "10             corriente galvanica tipo nuskin regalo  \n",
       "11  totalmente ajustable estandar snaffle bridle t...  \n",
       "12  volkswagen vento starline m f original v w t p...  \n",
       "13  case nintendo galaxy m10 m20 m30 a10 a30 a50 a...  \n",
       "14      chevrolet s cilindropick up corta man vel aut  \n",
       "15                                       dodge vision  \n",
       "16     figura herreria terminacion pasamanos tepas001  \n",
       "17                                          lida plus  \n",
       "18       paquete centro lavado mabe refrigerador mabe  \n",
       "19     libro dc comics novels batman the killing joke  \n",
       "20  audifonos diadema gamer ps4 xbox one s jakc 5m...  \n",
       "21               cable rudo hilos calibre awg v rollo  \n",
       "22  reloj gucci hombre g1 incluye caja y envio gratis  \n",
       "23  moto scooer bici electrica 50km autonomia 350w...  \n",
       "24                         volkswagen jetta 4p l4 aut  \n",
       "25                        cargador impresora polaroid  \n",
       "26                    crossover pasivo vias 200w ohms  \n",
       "27  deshumidificador delonghi dd50pe star envio gr...  \n",
       "28  molde silicon pene despedida soltera hielos ja...  \n",
       "29        capuchon birlo cromado tractocamion presion  \n",
       "30  paleta sombras frida ojos beauty creations ori...  \n",
       "31       s10 pulgadas tablet pc android 128gb azul ue  \n",
       "32                                audifonos jbl pucks  \n",
       "33  sudadera suzuki motorcycles motos autos gorro ...  \n",
       "34     reloj puma pu10430100 caballero negro original  \n",
       "35  bandas resistencia hip band alta calidad piern...  \n",
       "36    botas dr martens black nappa hombre look trendy  \n",
       "37      pintura aerosol alta temperatura negro truper  \n",
       "38  pack tapete foamy 3m2 61x61 8mm fomy gym ninos...  \n",
       "39                      blusa capricho collection cmf  \n",
       "40  rifle winchester 77xs multipompazo 4x32 diabol...  \n",
       "41  oferta torera bolero novia fiesta talla extras...  \n",
       "42                   muneca quinceanera geli original  \n",
       "43                  botas alpinestars smx6 ventiladas  \n",
       "44      ingresos pasivos maquinita cascada millonaria  \n",
       "45               porter cable engalletadora seminueva  \n",
       "46   pupilentes urban layer universe blue checa video  \n",
       "47                     huawei smart watch gt elegante  \n",
       "48                           cafe racer italika dt150  \n",
       "49  funda binoculares celestron skymaster giant 15x70  "
      ]
     },
     "execution_count": 27,
     "metadata": {},
     "output_type": "execute_result"
    }
   ],
   "source": [
    "meli_item[[\"title\",\"title_clean\"]].head(50)"
   ]
  },
  {
   "cell_type": "code",
   "execution_count": 28,
   "metadata": {
    "ExecuteTime": {
     "end_time": "2020-11-12T18:47:46.825405Z",
     "start_time": "2020-11-12T18:47:46.314770Z"
    }
   },
   "outputs": [],
   "source": [
    "train.drop(columns=[\"item_id\",\"product_id\",\"condition\"],inplace=True)"
   ]
  },
  {
   "cell_type": "markdown",
   "metadata": {},
   "source": [
    "# START"
   ]
  },
  {
   "cell_type": "markdown",
   "metadata": {},
   "source": [
    "## LEN"
   ]
  },
  {
   "cell_type": "code",
   "execution_count": 29,
   "metadata": {
    "ExecuteTime": {
     "end_time": "2020-11-12T18:47:46.995948Z",
     "start_time": "2020-11-12T18:47:46.826402Z"
    }
   },
   "outputs": [],
   "source": [
    "train[\"len_user_history\"]=train[\"user_history\"].apply(lambda x:len(x))"
   ]
  },
  {
   "cell_type": "code",
   "execution_count": 30,
   "metadata": {
    "ExecuteTime": {
     "end_time": "2020-11-12T18:47:47.000934Z",
     "start_time": "2020-11-12T18:47:46.996945Z"
    }
   },
   "outputs": [],
   "source": [
    "def len_search(row):\n",
    "    log=[]\n",
    "    for event in row:\n",
    "        if event[\"event_type\"]==\"search\":\n",
    "            log.append(event[\"event_info\"])\n",
    "    if len(log)==0: return 0\n",
    "    else: return len(log)"
   ]
  },
  {
   "cell_type": "code",
   "execution_count": 31,
   "metadata": {
    "ExecuteTime": {
     "end_time": "2020-11-12T18:47:47.008914Z",
     "start_time": "2020-11-12T18:47:47.002930Z"
    }
   },
   "outputs": [],
   "source": [
    "def len_view(row):\n",
    "    log=[]\n",
    "    for event in row:\n",
    "        if event[\"event_type\"]==\"view\":\n",
    "            log.append(event[\"event_info\"])\n",
    "    if len(log)==0: return 0\n",
    "    else: return len(log)"
   ]
  },
  {
   "cell_type": "code",
   "execution_count": 32,
   "metadata": {
    "ExecuteTime": {
     "end_time": "2020-11-12T18:47:49.775512Z",
     "start_time": "2020-11-12T18:47:47.009912Z"
    }
   },
   "outputs": [],
   "source": [
    "train[\"number_search\"]=train[\"user_history\"].apply(len_search)\n",
    "train[\"number_view\"]=train[\"user_history\"].apply(len_view)"
   ]
  },
  {
   "cell_type": "code",
   "execution_count": 33,
   "metadata": {
    "ExecuteTime": {
     "end_time": "2020-11-12T18:47:49.864308Z",
     "start_time": "2020-11-12T18:47:49.776509Z"
    }
   },
   "outputs": [
    {
     "data": {
      "text/html": [
       "<div>\n",
       "<style scoped>\n",
       "    .dataframe tbody tr th:only-of-type {\n",
       "        vertical-align: middle;\n",
       "    }\n",
       "\n",
       "    .dataframe tbody tr th {\n",
       "        vertical-align: top;\n",
       "    }\n",
       "\n",
       "    .dataframe thead th {\n",
       "        text-align: right;\n",
       "    }\n",
       "</style>\n",
       "<table border=\"1\" class=\"dataframe\">\n",
       "  <thead>\n",
       "    <tr style=\"text-align: right;\">\n",
       "      <th></th>\n",
       "      <th>len_user_history</th>\n",
       "      <th>number_search</th>\n",
       "      <th>number_view</th>\n",
       "    </tr>\n",
       "  </thead>\n",
       "  <tbody>\n",
       "    <tr>\n",
       "      <th>count</th>\n",
       "      <td>413163.000000</td>\n",
       "      <td>413163.000000</td>\n",
       "      <td>413163.000000</td>\n",
       "    </tr>\n",
       "    <tr>\n",
       "      <th>mean</th>\n",
       "      <td>29.042209</td>\n",
       "      <td>14.689478</td>\n",
       "      <td>14.352730</td>\n",
       "    </tr>\n",
       "    <tr>\n",
       "      <th>std</th>\n",
       "      <td>36.278935</td>\n",
       "      <td>20.457799</td>\n",
       "      <td>19.293081</td>\n",
       "    </tr>\n",
       "    <tr>\n",
       "      <th>min</th>\n",
       "      <td>1.000000</td>\n",
       "      <td>0.000000</td>\n",
       "      <td>0.000000</td>\n",
       "    </tr>\n",
       "    <tr>\n",
       "      <th>10%</th>\n",
       "      <td>2.000000</td>\n",
       "      <td>0.000000</td>\n",
       "      <td>1.000000</td>\n",
       "    </tr>\n",
       "    <tr>\n",
       "      <th>20%</th>\n",
       "      <td>4.000000</td>\n",
       "      <td>1.000000</td>\n",
       "      <td>2.000000</td>\n",
       "    </tr>\n",
       "    <tr>\n",
       "      <th>30%</th>\n",
       "      <td>7.000000</td>\n",
       "      <td>2.000000</td>\n",
       "      <td>3.000000</td>\n",
       "    </tr>\n",
       "    <tr>\n",
       "      <th>40%</th>\n",
       "      <td>11.000000</td>\n",
       "      <td>4.000000</td>\n",
       "      <td>5.000000</td>\n",
       "    </tr>\n",
       "    <tr>\n",
       "      <th>50%</th>\n",
       "      <td>16.000000</td>\n",
       "      <td>7.000000</td>\n",
       "      <td>7.000000</td>\n",
       "    </tr>\n",
       "    <tr>\n",
       "      <th>60%</th>\n",
       "      <td>22.000000</td>\n",
       "      <td>11.000000</td>\n",
       "      <td>11.000000</td>\n",
       "    </tr>\n",
       "    <tr>\n",
       "      <th>70%</th>\n",
       "      <td>32.000000</td>\n",
       "      <td>16.000000</td>\n",
       "      <td>15.000000</td>\n",
       "    </tr>\n",
       "    <tr>\n",
       "      <th>80%</th>\n",
       "      <td>47.000000</td>\n",
       "      <td>24.000000</td>\n",
       "      <td>22.000000</td>\n",
       "    </tr>\n",
       "    <tr>\n",
       "      <th>90%</th>\n",
       "      <td>74.000000</td>\n",
       "      <td>40.000000</td>\n",
       "      <td>37.000000</td>\n",
       "    </tr>\n",
       "    <tr>\n",
       "      <th>max</th>\n",
       "      <td>566.000000</td>\n",
       "      <td>284.000000</td>\n",
       "      <td>342.000000</td>\n",
       "    </tr>\n",
       "  </tbody>\n",
       "</table>\n",
       "</div>"
      ],
      "text/plain": [
       "       len_user_history  number_search    number_view\n",
       "count     413163.000000  413163.000000  413163.000000\n",
       "mean          29.042209      14.689478      14.352730\n",
       "std           36.278935      20.457799      19.293081\n",
       "min            1.000000       0.000000       0.000000\n",
       "10%            2.000000       0.000000       1.000000\n",
       "20%            4.000000       1.000000       2.000000\n",
       "30%            7.000000       2.000000       3.000000\n",
       "40%           11.000000       4.000000       5.000000\n",
       "50%           16.000000       7.000000       7.000000\n",
       "60%           22.000000      11.000000      11.000000\n",
       "70%           32.000000      16.000000      15.000000\n",
       "80%           47.000000      24.000000      22.000000\n",
       "90%           74.000000      40.000000      37.000000\n",
       "max          566.000000     284.000000     342.000000"
      ]
     },
     "execution_count": 33,
     "metadata": {},
     "output_type": "execute_result"
    }
   ],
   "source": [
    "train[[\"len_user_history\",\"number_search\",\"number_view\"]].describe(percentiles=np.arange(0.1,1,0.1))"
   ]
  },
  {
   "cell_type": "code",
   "execution_count": 34,
   "metadata": {
    "ExecuteTime": {
     "end_time": "2020-11-12T18:47:50.534800Z",
     "start_time": "2020-11-12T18:47:49.865272Z"
    }
   },
   "outputs": [
    {
     "data": {
      "image/png": "[encoded data removed]",
      "text/plain": [
       "<Figure size 576x576 with 4 Axes>"
      ]
     },
     "metadata": {
      "needs_background": "light"
     },
     "output_type": "display_data"
    }
   ],
   "source": [
    "train[[\"len_user_history\",\"number_search\",\"number_view\"]].hist(bins=32,figsize=(8,8));\n"
   ]
  },
  {
   "cell_type": "code",
   "execution_count": 35,
   "metadata": {
    "ExecuteTime": {
     "end_time": "2020-11-12T18:47:50.571708Z",
     "start_time": "2020-11-12T18:47:50.535757Z"
    }
   },
   "outputs": [
    {
     "data": {
      "text/html": [
       "<div>\n",
       "<style scoped>\n",
       "    .dataframe tbody tr th:only-of-type {\n",
       "        vertical-align: middle;\n",
       "    }\n",
       "\n",
       "    .dataframe tbody tr th {\n",
       "        vertical-align: top;\n",
       "    }\n",
       "\n",
       "    .dataframe thead th {\n",
       "        text-align: right;\n",
       "    }\n",
       "</style>\n",
       "<table border=\"1\" class=\"dataframe\">\n",
       "  <thead>\n",
       "    <tr style=\"text-align: right;\">\n",
       "      <th></th>\n",
       "      <th>len_user_history</th>\n",
       "      <th>number_search</th>\n",
       "      <th>number_view</th>\n",
       "    </tr>\n",
       "  </thead>\n",
       "  <tbody>\n",
       "    <tr>\n",
       "      <th>len_user_history</th>\n",
       "      <td>1.000000</td>\n",
       "      <td>0.917868</td>\n",
       "      <td>0.907132</td>\n",
       "    </tr>\n",
       "    <tr>\n",
       "      <th>number_search</th>\n",
       "      <td>0.917868</td>\n",
       "      <td>1.000000</td>\n",
       "      <td>0.665600</td>\n",
       "    </tr>\n",
       "    <tr>\n",
       "      <th>number_view</th>\n",
       "      <td>0.907132</td>\n",
       "      <td>0.665600</td>\n",
       "      <td>1.000000</td>\n",
       "    </tr>\n",
       "  </tbody>\n",
       "</table>\n",
       "</div>"
      ],
      "text/plain": [
       "                  len_user_history  number_search  number_view\n",
       "len_user_history          1.000000       0.917868     0.907132\n",
       "number_search             0.917868       1.000000     0.665600\n",
       "number_view               0.907132       0.665600     1.000000"
      ]
     },
     "execution_count": 35,
     "metadata": {},
     "output_type": "execute_result"
    }
   ],
   "source": [
    "train[[\"len_user_history\",\"number_search\",\"number_view\"]].corr()"
   ]
  },
  {
   "cell_type": "code",
   "execution_count": 36,
   "metadata": {
    "ExecuteTime": {
     "end_time": "2020-11-12T18:47:50.594626Z",
     "start_time": "2020-11-12T18:47:50.572659Z"
    }
   },
   "outputs": [
    {
     "data": {
      "text/html": [
       "<div>\n",
       "<style scoped>\n",
       "    .dataframe tbody tr th:only-of-type {\n",
       "        vertical-align: middle;\n",
       "    }\n",
       "\n",
       "    .dataframe tbody tr th {\n",
       "        vertical-align: top;\n",
       "    }\n",
       "\n",
       "    .dataframe thead th {\n",
       "        text-align: right;\n",
       "    }\n",
       "</style>\n",
       "<table border=\"1\" class=\"dataframe\">\n",
       "  <thead>\n",
       "    <tr style=\"text-align: right;\">\n",
       "      <th></th>\n",
       "      <th>user_history</th>\n",
       "      <th>item_bought</th>\n",
       "      <th>title</th>\n",
       "      <th>domain_id</th>\n",
       "      <th>price</th>\n",
       "      <th>category_id</th>\n",
       "      <th>len_user_history</th>\n",
       "      <th>number_search</th>\n",
       "      <th>number_view</th>\n",
       "    </tr>\n",
       "  </thead>\n",
       "  <tbody>\n",
       "    <tr>\n",
       "      <th>34</th>\n",
       "      <td>[{'event_info': 1916217, 'event_timestamp': '2...</td>\n",
       "      <td>887130</td>\n",
       "      <td>Spiderman Homem Aranha Mídia Física Lacrado</td>\n",
       "      <td>MLB-VIDEO_GAMES</td>\n",
       "      <td>119.90</td>\n",
       "      <td>MLB186456</td>\n",
       "      <td>1</td>\n",
       "      <td>0</td>\n",
       "      <td>1</td>\n",
       "    </tr>\n",
       "    <tr>\n",
       "      <th>75</th>\n",
       "      <td>[{'event_info': 87338, 'event_timestamp': '201...</td>\n",
       "      <td>1777682</td>\n",
       "      <td>Adata Disco Duro Solido Ssd Sata Laptop Pc 120...</td>\n",
       "      <td>MLM-HARD_DRIVES_AND_SSDS</td>\n",
       "      <td>489.00</td>\n",
       "      <td>MLM1672</td>\n",
       "      <td>1</td>\n",
       "      <td>0</td>\n",
       "      <td>1</td>\n",
       "    </tr>\n",
       "    <tr>\n",
       "      <th>76</th>\n",
       "      <td>[{'event_info': 'FIAT UNO VIVACE', 'event_time...</td>\n",
       "      <td>1847644</td>\n",
       "      <td>Relógio Mi Band 4 Xiaomi Versão Global Origina...</td>\n",
       "      <td>MLB-SMARTWATCHES</td>\n",
       "      <td>184.99</td>\n",
       "      <td>MLB135384</td>\n",
       "      <td>1</td>\n",
       "      <td>1</td>\n",
       "      <td>0</td>\n",
       "    </tr>\n",
       "    <tr>\n",
       "      <th>91</th>\n",
       "      <td>[{'event_info': 42654, 'event_timestamp': '201...</td>\n",
       "      <td>671264</td>\n",
       "      <td>Fones De Ouvido Sem Fio Bluetooth I7s Tws</td>\n",
       "      <td>MLB-HEADPHONES</td>\n",
       "      <td>50.00</td>\n",
       "      <td>MLB7457</td>\n",
       "      <td>1</td>\n",
       "      <td>0</td>\n",
       "      <td>1</td>\n",
       "    </tr>\n",
       "    <tr>\n",
       "      <th>99</th>\n",
       "      <td>[{'event_info': 905388, 'event_timestamp': '20...</td>\n",
       "      <td>443165</td>\n",
       "      <td>Kit Fusivel De Lamina 05a 10a 15a 20a 25a 30a ...</td>\n",
       "      <td>MLB-INDUSTRIAL_FUSES</td>\n",
       "      <td>28.90</td>\n",
       "      <td>MLB270084</td>\n",
       "      <td>1</td>\n",
       "      <td>0</td>\n",
       "      <td>1</td>\n",
       "    </tr>\n",
       "  </tbody>\n",
       "</table>\n",
       "</div>"
      ],
      "text/plain": [
       "                                         user_history  item_bought  \\\n",
       "34  [{'event_info': 1916217, 'event_timestamp': '2...       887130   \n",
       "75  [{'event_info': 87338, 'event_timestamp': '201...      1777682   \n",
       "76  [{'event_info': 'FIAT UNO VIVACE', 'event_time...      1847644   \n",
       "91  [{'event_info': 42654, 'event_timestamp': '201...       671264   \n",
       "99  [{'event_info': 905388, 'event_timestamp': '20...       443165   \n",
       "\n",
       "                                                title  \\\n",
       "34        Spiderman Homem Aranha Mídia Física Lacrado   \n",
       "75  Adata Disco Duro Solido Ssd Sata Laptop Pc 120...   \n",
       "76  Relógio Mi Band 4 Xiaomi Versão Global Origina...   \n",
       "91          Fones De Ouvido Sem Fio Bluetooth I7s Tws   \n",
       "99  Kit Fusivel De Lamina 05a 10a 15a 20a 25a 30a ...   \n",
       "\n",
       "                   domain_id   price category_id  len_user_history  \\\n",
       "34           MLB-VIDEO_GAMES  119.90   MLB186456                 1   \n",
       "75  MLM-HARD_DRIVES_AND_SSDS  489.00     MLM1672                 1   \n",
       "76          MLB-SMARTWATCHES  184.99   MLB135384                 1   \n",
       "91            MLB-HEADPHONES   50.00     MLB7457                 1   \n",
       "99      MLB-INDUSTRIAL_FUSES   28.90   MLB270084                 1   \n",
       "\n",
       "    number_search  number_view  \n",
       "34              0            1  \n",
       "75              0            1  \n",
       "76              1            0  \n",
       "91              0            1  \n",
       "99              0            1  "
      ]
     },
     "execution_count": 36,
     "metadata": {},
     "output_type": "execute_result"
    }
   ],
   "source": [
    "train[train[\"len_user_history\"]==1].head()"
   ]
  },
  {
   "cell_type": "code",
   "execution_count": 37,
   "metadata": {
    "ExecuteTime": {
     "end_time": "2020-11-12T18:47:50.615576Z",
     "start_time": "2020-11-12T18:47:50.595598Z"
    }
   },
   "outputs": [
    {
     "data": {
      "text/plain": [
       "(31631, 9)"
      ]
     },
     "execution_count": 37,
     "metadata": {},
     "output_type": "execute_result"
    }
   ],
   "source": [
    "train[train[\"len_user_history\"]==1].shape"
   ]
  },
  {
   "cell_type": "code",
   "execution_count": 38,
   "metadata": {
    "ExecuteTime": {
     "end_time": "2020-11-12T18:47:50.635549Z",
     "start_time": "2020-11-12T18:47:50.616541Z"
    }
   },
   "outputs": [
    {
     "data": {
      "text/plain": [
       "number_search     9890\n",
       "number_view      21741\n",
       "dtype: int64"
      ]
     },
     "execution_count": 38,
     "metadata": {},
     "output_type": "execute_result"
    }
   ],
   "source": [
    "train[train[\"len_user_history\"]==1][[\"number_search\",\"number_view\"]].sum()"
   ]
  },
  {
   "cell_type": "code",
   "execution_count": 39,
   "metadata": {
    "ExecuteTime": {
     "end_time": "2020-11-12T18:47:50.662445Z",
     "start_time": "2020-11-12T18:47:50.636488Z"
    }
   },
   "outputs": [
    {
     "data": {
      "text/html": [
       "<div>\n",
       "<style scoped>\n",
       "    .dataframe tbody tr th:only-of-type {\n",
       "        vertical-align: middle;\n",
       "    }\n",
       "\n",
       "    .dataframe tbody tr th {\n",
       "        vertical-align: top;\n",
       "    }\n",
       "\n",
       "    .dataframe thead th {\n",
       "        text-align: right;\n",
       "    }\n",
       "</style>\n",
       "<table border=\"1\" class=\"dataframe\">\n",
       "  <thead>\n",
       "    <tr style=\"text-align: right;\">\n",
       "      <th></th>\n",
       "      <th>user_history</th>\n",
       "      <th>item_bought</th>\n",
       "      <th>title</th>\n",
       "      <th>domain_id</th>\n",
       "      <th>price</th>\n",
       "      <th>category_id</th>\n",
       "      <th>len_user_history</th>\n",
       "      <th>number_search</th>\n",
       "      <th>number_view</th>\n",
       "    </tr>\n",
       "  </thead>\n",
       "  <tbody>\n",
       "    <tr>\n",
       "      <th>17</th>\n",
       "      <td>[{'event_info': 'JBL GO 2', 'event_timestamp':...</td>\n",
       "      <td>232</td>\n",
       "      <td>Caixa Bluetooth Jbl Go2 Original Lacrada Vária...</td>\n",
       "      <td>MLB-SPEAKERS</td>\n",
       "      <td>157.90</td>\n",
       "      <td>MLB3843</td>\n",
       "      <td>2</td>\n",
       "      <td>2</td>\n",
       "      <td>0</td>\n",
       "    </tr>\n",
       "    <tr>\n",
       "      <th>28</th>\n",
       "      <td>[{'event_info': 'COLETE POSTURA FEMININO', 'ev...</td>\n",
       "      <td>1587395</td>\n",
       "      <td>Caixa Som Bluetooth Xtreme Mini Potente 40w Rm...</td>\n",
       "      <td>MLB-SPEAKERS</td>\n",
       "      <td>124.99</td>\n",
       "      <td>MLB3843</td>\n",
       "      <td>3</td>\n",
       "      <td>3</td>\n",
       "      <td>0</td>\n",
       "    </tr>\n",
       "    <tr>\n",
       "      <th>63</th>\n",
       "      <td>[{'event_info': 'CAMISAS MASCULINAS', 'event_t...</td>\n",
       "      <td>1019254</td>\n",
       "      <td>Roteador Tp Link 949n 450mbps 3 Antenas 5dbi F...</td>\n",
       "      <td>MLB-ROUTERS_AND_WIRELESS_SYSTEMS</td>\n",
       "      <td>149.00</td>\n",
       "      <td>MLB5867</td>\n",
       "      <td>27</td>\n",
       "      <td>27</td>\n",
       "      <td>0</td>\n",
       "    </tr>\n",
       "  </tbody>\n",
       "</table>\n",
       "</div>"
      ],
      "text/plain": [
       "                                         user_history  item_bought  \\\n",
       "17  [{'event_info': 'JBL GO 2', 'event_timestamp':...          232   \n",
       "28  [{'event_info': 'COLETE POSTURA FEMININO', 'ev...      1587395   \n",
       "63  [{'event_info': 'CAMISAS MASCULINAS', 'event_t...      1019254   \n",
       "\n",
       "                                                title  \\\n",
       "17  Caixa Bluetooth Jbl Go2 Original Lacrada Vária...   \n",
       "28  Caixa Som Bluetooth Xtreme Mini Potente 40w Rm...   \n",
       "63  Roteador Tp Link 949n 450mbps 3 Antenas 5dbi F...   \n",
       "\n",
       "                           domain_id   price category_id  len_user_history  \\\n",
       "17                      MLB-SPEAKERS  157.90     MLB3843                 2   \n",
       "28                      MLB-SPEAKERS  124.99     MLB3843                 3   \n",
       "63  MLB-ROUTERS_AND_WIRELESS_SYSTEMS  149.00     MLB5867                27   \n",
       "\n",
       "    number_search  number_view  \n",
       "17              2            0  \n",
       "28              3            0  \n",
       "63             27            0  "
      ]
     },
     "execution_count": 39,
     "metadata": {},
     "output_type": "execute_result"
    }
   ],
   "source": [
    "train[train[\"number_view\"]==0].head(3)"
   ]
  },
  {
   "cell_type": "code",
   "execution_count": 40,
   "metadata": {
    "ExecuteTime": {
     "end_time": "2020-11-12T18:47:50.693363Z",
     "start_time": "2020-11-12T18:47:50.663416Z"
    }
   },
   "outputs": [
    {
     "data": {
      "text/html": [
       "<div>\n",
       "<style scoped>\n",
       "    .dataframe tbody tr th:only-of-type {\n",
       "        vertical-align: middle;\n",
       "    }\n",
       "\n",
       "    .dataframe tbody tr th {\n",
       "        vertical-align: top;\n",
       "    }\n",
       "\n",
       "    .dataframe thead th {\n",
       "        text-align: right;\n",
       "    }\n",
       "</style>\n",
       "<table border=\"1\" class=\"dataframe\">\n",
       "  <thead>\n",
       "    <tr style=\"text-align: right;\">\n",
       "      <th></th>\n",
       "      <th>user_history</th>\n",
       "      <th>item_bought</th>\n",
       "      <th>title</th>\n",
       "      <th>domain_id</th>\n",
       "      <th>price</th>\n",
       "      <th>category_id</th>\n",
       "      <th>len_user_history</th>\n",
       "      <th>number_search</th>\n",
       "      <th>number_view</th>\n",
       "    </tr>\n",
       "  </thead>\n",
       "  <tbody>\n",
       "    <tr>\n",
       "      <th>131539</th>\n",
       "      <td>[{'event_info': 'DHEA', 'event_timestamp': '20...</td>\n",
       "      <td>1367860</td>\n",
       "      <td>Receita Salada  Fit - P/ Dieta! Via E-mail</td>\n",
       "      <td>MLB-FOODS_AND_DRINKS</td>\n",
       "      <td>1.1</td>\n",
       "      <td>MLB1417</td>\n",
       "      <td>566</td>\n",
       "      <td>284</td>\n",
       "      <td>282</td>\n",
       "    </tr>\n",
       "  </tbody>\n",
       "</table>\n",
       "</div>"
      ],
      "text/plain": [
       "                                             user_history  item_bought  \\\n",
       "131539  [{'event_info': 'DHEA', 'event_timestamp': '20...      1367860   \n",
       "\n",
       "                                              title             domain_id  \\\n",
       "131539   Receita Salada  Fit - P/ Dieta! Via E-mail  MLB-FOODS_AND_DRINKS   \n",
       "\n",
       "        price category_id  len_user_history  number_search  number_view  \n",
       "131539    1.1     MLB1417               566            284          282  "
      ]
     },
     "execution_count": 40,
     "metadata": {},
     "output_type": "execute_result"
    }
   ],
   "source": [
    "train[train[\"len_user_history\"]==train[\"len_user_history\"].max()]"
   ]
  },
  {
   "cell_type": "code",
   "execution_count": 41,
   "metadata": {
    "ExecuteTime": {
     "end_time": "2020-11-12T18:47:50.739245Z",
     "start_time": "2020-11-12T18:47:50.694361Z"
    }
   },
   "outputs": [
    {
     "data": {
      "text/plain": [
       "[{'event_info': 'DHEA',\n",
       "  'event_timestamp': '2019-10-06T15:24:43.848-0400',\n",
       "  'event_type': 'search'},\n",
       " {'event_info': 'DHEA',\n",
       "  'event_timestamp': '2019-10-06T15:25:17.611-0400',\n",
       "  'event_type': 'search'},\n",
       " {'event_info': 'DHEA',\n",
       "  'event_timestamp': '2019-10-06T15:25:20.788-0400',\n",
       "  'event_type': 'search'},\n",
       " {'event_info': 'DHEA',\n",
       "  'event_timestamp': '2019-10-06T15:25:25.083-0400',\n",
       "  'event_type': 'search'},\n",
       " {'event_info': 'DHEA',\n",
       "  'event_timestamp': '2019-10-06T15:25:33.448-0400',\n",
       "  'event_type': 'search'},\n",
       " {'event_info': 'DHEA',\n",
       "  'event_timestamp': '2019-10-06T15:25:40.990-0400',\n",
       "  'event_type': 'search'},\n",
       " {'event_info': 1588842,\n",
       "  'event_timestamp': '2019-10-06T15:26:41.180-0400',\n",
       "  'event_type': 'view'},\n",
       " {'event_info': 1588842,\n",
       "  'event_timestamp': '2019-10-06T15:27:01.383-0400',\n",
       "  'event_type': 'view'},\n",
       " {'event_info': 'DHEA',\n",
       "  'event_timestamp': '2019-10-06T15:27:02.410-0400',\n",
       "  'event_type': 'search'},\n",
       " {'event_info': 1193736,\n",
       "  'event_timestamp': '2019-10-06T15:27:12.919-0400',\n",
       "  'event_type': 'view'},\n",
       " {'event_info': 1193736,\n",
       "  'event_timestamp': '2019-10-06T15:27:27.410-0400',\n",
       "  'event_type': 'view'},\n",
       " {'event_info': 'DHEA',\n",
       "  'event_timestamp': '2019-10-06T15:27:28.151-0400',\n",
       "  'event_type': 'search'},\n",
       " {'event_info': 57789,\n",
       "  'event_timestamp': '2019-10-06T15:27:49.140-0400',\n",
       "  'event_type': 'view'},\n",
       " {'event_info': 57789,\n",
       "  'event_timestamp': '2019-10-06T15:28:07.220-0400',\n",
       "  'event_type': 'view'},\n",
       " {'event_info': 'DHEA',\n",
       "  'event_timestamp': '2019-10-06T15:28:08.230-0400',\n",
       "  'event_type': 'search'},\n",
       " {'event_info': 1202148,\n",
       "  'event_timestamp': '2019-10-06T15:28:20.132-0400',\n",
       "  'event_type': 'view'},\n",
       " {'event_info': 1202148,\n",
       "  'event_timestamp': '2019-10-06T15:28:24.626-0400',\n",
       "  'event_type': 'view'},\n",
       " {'event_info': 'DHEA',\n",
       "  'event_timestamp': '2019-10-06T15:28:25.448-0400',\n",
       "  'event_type': 'search'},\n",
       " {'event_info': 686323,\n",
       "  'event_timestamp': '2019-10-06T15:28:34.534-0400',\n",
       "  'event_type': 'view'},\n",
       " {'event_info': 'DHEA',\n",
       "  'event_timestamp': '2019-10-06T15:28:39.451-0400',\n",
       "  'event_type': 'search'},\n",
       " {'event_info': 'DHEA',\n",
       "  'event_timestamp': '2019-10-06T18:31:27.052-0400',\n",
       "  'event_type': 'search'},\n",
       " {'event_info': 686323,\n",
       "  'event_timestamp': '2019-10-06T18:31:32.309-0400',\n",
       "  'event_type': 'view'},\n",
       " {'event_info': 686323,\n",
       "  'event_timestamp': '2019-10-06T18:48:07.489-0400',\n",
       "  'event_type': 'view'},\n",
       " {'event_info': 'DHEA',\n",
       "  'event_timestamp': '2019-10-06T18:48:08.788-0400',\n",
       "  'event_type': 'search'},\n",
       " {'event_info': 'DHEA',\n",
       "  'event_timestamp': '2019-10-06T18:54:06.881-0400',\n",
       "  'event_type': 'search'},\n",
       " {'event_info': 686323,\n",
       "  'event_timestamp': '2019-10-06T18:54:11.270-0400',\n",
       "  'event_type': 'view'},\n",
       " {'event_info': 686323,\n",
       "  'event_timestamp': '2019-10-06T18:54:22.641-0400',\n",
       "  'event_type': 'view'},\n",
       " {'event_info': 'DHEA',\n",
       "  'event_timestamp': '2019-10-06T18:54:25.458-0400',\n",
       "  'event_type': 'search'},\n",
       " {'event_info': 1846075,\n",
       "  'event_timestamp': '2019-10-06T18:54:30.005-0400',\n",
       "  'event_type': 'view'},\n",
       " {'event_info': 1846075,\n",
       "  'event_timestamp': '2019-10-06T18:54:42.588-0400',\n",
       "  'event_type': 'view'},\n",
       " {'event_info': 790791,\n",
       "  'event_timestamp': '2019-10-06T18:54:52.921-0400',\n",
       "  'event_type': 'view'},\n",
       " {'event_info': 790791,\n",
       "  'event_timestamp': '2019-10-06T18:55:13.099-0400',\n",
       "  'event_type': 'view'},\n",
       " {'event_info': 790791,\n",
       "  'event_timestamp': '2019-10-06T18:55:43.027-0400',\n",
       "  'event_type': 'view'},\n",
       " {'event_info': 790791,\n",
       "  'event_timestamp': '2019-10-06T18:56:03.809-0400',\n",
       "  'event_type': 'view'},\n",
       " {'event_info': 318311,\n",
       "  'event_timestamp': '2019-10-06T18:57:04.933-0400',\n",
       "  'event_type': 'view'},\n",
       " {'event_info': 1846075,\n",
       "  'event_timestamp': '2019-10-06T18:57:05.694-0400',\n",
       "  'event_type': 'view'},\n",
       " {'event_info': 'DHEA',\n",
       "  'event_timestamp': '2019-10-06T18:57:06.681-0400',\n",
       "  'event_type': 'search'},\n",
       " {'event_info': 'NATROL MELATONINA',\n",
       "  'event_timestamp': '2019-10-06T18:57:19.138-0400',\n",
       "  'event_type': 'search'},\n",
       " {'event_info': 'NATROL MELATONINA',\n",
       "  'event_timestamp': '2019-10-06T18:57:41.860-0400',\n",
       "  'event_type': 'search'},\n",
       " {'event_info': 'DHEA',\n",
       "  'event_timestamp': '2019-10-06T18:57:42.295-0400',\n",
       "  'event_type': 'search'},\n",
       " {'event_info': 'NATROL DHEA',\n",
       "  'event_timestamp': '2019-10-06T22:38:02.848-0400',\n",
       "  'event_type': 'search'},\n",
       " {'event_info': 'NATROL DHEA',\n",
       "  'event_timestamp': '2019-10-06T22:38:23.702-0400',\n",
       "  'event_type': 'search'},\n",
       " {'event_info': 1096594,\n",
       "  'event_timestamp': '2019-10-06T22:38:47.678-0400',\n",
       "  'event_type': 'view'},\n",
       " {'event_info': 1096594,\n",
       "  'event_timestamp': '2019-10-06T22:39:02.815-0400',\n",
       "  'event_type': 'view'},\n",
       " {'event_info': 2000863,\n",
       "  'event_timestamp': '2019-10-06T22:39:14.294-0400',\n",
       "  'event_type': 'view'},\n",
       " {'event_info': 2000863,\n",
       "  'event_timestamp': '2019-10-06T22:39:31.556-0400',\n",
       "  'event_type': 'view'},\n",
       " {'event_info': 2000863,\n",
       "  'event_timestamp': '2019-10-06T22:39:55.734-0400',\n",
       "  'event_type': 'view'},\n",
       " {'event_info': 1096594,\n",
       "  'event_timestamp': '2019-10-06T22:39:56.659-0400',\n",
       "  'event_type': 'view'},\n",
       " {'event_info': 'NATROL DHEA',\n",
       "  'event_timestamp': '2019-10-06T22:39:57.628-0400',\n",
       "  'event_type': 'search'},\n",
       " {'event_info': 'MELATONINA',\n",
       "  'event_timestamp': '2019-10-06T22:40:08.267-0400',\n",
       "  'event_type': 'search'},\n",
       " {'event_info': 20428,\n",
       "  'event_timestamp': '2019-10-06T22:40:24.649-0400',\n",
       "  'event_type': 'view'},\n",
       " {'event_info': 20428,\n",
       "  'event_timestamp': '2019-10-06T22:40:28.436-0400',\n",
       "  'event_type': 'view'},\n",
       " {'event_info': 20428,\n",
       "  'event_timestamp': '2019-10-06T22:40:43.970-0400',\n",
       "  'event_type': 'view'},\n",
       " {'event_info': 'MELATONINA',\n",
       "  'event_timestamp': '2019-10-06T22:40:49.095-0400',\n",
       "  'event_type': 'search'},\n",
       " {'event_info': 'MELATONINA',\n",
       "  'event_timestamp': '2019-10-06T22:40:52.613-0400',\n",
       "  'event_type': 'search'},\n",
       " {'event_info': 343077,\n",
       "  'event_timestamp': '2019-10-06T22:40:58.241-0400',\n",
       "  'event_type': 'view'},\n",
       " {'event_info': 343077,\n",
       "  'event_timestamp': '2019-10-06T22:41:22.330-0400',\n",
       "  'event_type': 'view'},\n",
       " {'event_info': 343077,\n",
       "  'event_timestamp': '2019-10-06T22:41:41.625-0400',\n",
       "  'event_type': 'view'},\n",
       " {'event_info': 343077,\n",
       "  'event_timestamp': '2019-10-06T22:41:55.590-0400',\n",
       "  'event_type': 'view'},\n",
       " {'event_info': 343077,\n",
       "  'event_timestamp': '2019-10-06T22:42:03.698-0400',\n",
       "  'event_type': 'view'},\n",
       " {'event_info': 'MELATONINA',\n",
       "  'event_timestamp': '2019-10-06T22:42:04.279-0400',\n",
       "  'event_type': 'search'},\n",
       " {'event_info': 'MELATONINA',\n",
       "  'event_timestamp': '2019-10-06T22:42:12.161-0400',\n",
       "  'event_type': 'search'},\n",
       " {'event_info': 2009554,\n",
       "  'event_timestamp': '2019-10-06T22:42:23.606-0400',\n",
       "  'event_type': 'view'},\n",
       " {'event_info': 2009554,\n",
       "  'event_timestamp': '2019-10-06T22:42:33.098-0400',\n",
       "  'event_type': 'view'},\n",
       " {'event_info': 2009554,\n",
       "  'event_timestamp': '2019-10-06T22:42:50.419-0400',\n",
       "  'event_type': 'view'},\n",
       " {'event_info': 'MELATONINA',\n",
       "  'event_timestamp': '2019-10-06T22:42:51.828-0400',\n",
       "  'event_type': 'search'},\n",
       " {'event_info': 'MELATONINA',\n",
       "  'event_timestamp': '2019-10-06T22:42:55.579-0400',\n",
       "  'event_type': 'search'},\n",
       " {'event_info': 471943,\n",
       "  'event_timestamp': '2019-10-06T22:43:05.636-0400',\n",
       "  'event_type': 'view'},\n",
       " {'event_info': 471943,\n",
       "  'event_timestamp': '2019-10-06T22:43:24.737-0400',\n",
       "  'event_type': 'view'},\n",
       " {'event_info': 471943,\n",
       "  'event_timestamp': '2019-10-06T22:43:53.635-0400',\n",
       "  'event_type': 'view'},\n",
       " {'event_info': 'MELATONINA',\n",
       "  'event_timestamp': '2019-10-06T22:43:56.382-0400',\n",
       "  'event_type': 'search'},\n",
       " {'event_info': 'MELATONINA',\n",
       "  'event_timestamp': '2019-10-06T22:43:59.071-0400',\n",
       "  'event_type': 'search'},\n",
       " {'event_info': 'MELATONINA',\n",
       "  'event_timestamp': '2019-10-06T22:44:09.203-0400',\n",
       "  'event_type': 'search'},\n",
       " {'event_info': 215364,\n",
       "  'event_timestamp': '2019-10-06T22:44:14.471-0400',\n",
       "  'event_type': 'view'},\n",
       " {'event_info': 215364,\n",
       "  'event_timestamp': '2019-10-06T22:44:17.692-0400',\n",
       "  'event_type': 'view'},\n",
       " {'event_info': 'MELATONINA',\n",
       "  'event_timestamp': '2019-10-06T22:44:18.601-0400',\n",
       "  'event_type': 'search'},\n",
       " {'event_info': 250676,\n",
       "  'event_timestamp': '2019-10-06T22:44:23.657-0400',\n",
       "  'event_type': 'view'},\n",
       " {'event_info': 250676,\n",
       "  'event_timestamp': '2019-10-06T22:44:28.398-0400',\n",
       "  'event_type': 'view'},\n",
       " {'event_info': 'MELATONINA',\n",
       "  'event_timestamp': '2019-10-06T22:44:29.011-0400',\n",
       "  'event_type': 'search'},\n",
       " {'event_info': 'MELATONINA',\n",
       "  'event_timestamp': '2019-10-06T22:44:37.086-0400',\n",
       "  'event_type': 'search'},\n",
       " {'event_info': 'MINOXIDIL',\n",
       "  'event_timestamp': '2019-10-06T23:30:36.883-0400',\n",
       "  'event_type': 'search'},\n",
       " {'event_info': 434183,\n",
       "  'event_timestamp': '2019-10-06T23:30:45.682-0400',\n",
       "  'event_type': 'view'},\n",
       " {'event_info': 'MINOXIDIL',\n",
       "  'event_timestamp': '2019-10-06T23:31:08.376-0400',\n",
       "  'event_type': 'search'},\n",
       " {'event_info': 'MINOXIDIL',\n",
       "  'event_timestamp': '2019-10-06T23:31:13.493-0400',\n",
       "  'event_type': 'search'},\n",
       " {'event_info': 'DHEA',\n",
       "  'event_timestamp': '2019-10-07T09:17:21.718-0400',\n",
       "  'event_type': 'search'},\n",
       " {'event_info': 1558064,\n",
       "  'event_timestamp': '2019-10-07T09:17:26.311-0400',\n",
       "  'event_type': 'view'},\n",
       " {'event_info': 1558064,\n",
       "  'event_timestamp': '2019-10-07T09:17:49.292-0400',\n",
       "  'event_type': 'view'},\n",
       " {'event_info': 1558064,\n",
       "  'event_timestamp': '2019-10-07T09:17:59.749-0400',\n",
       "  'event_type': 'view'},\n",
       " {'event_info': 'DHEA',\n",
       "  'event_timestamp': '2019-10-07T09:18:03.351-0400',\n",
       "  'event_type': 'search'},\n",
       " {'event_info': 321848,\n",
       "  'event_timestamp': '2019-10-07T09:18:06.376-0400',\n",
       "  'event_type': 'view'},\n",
       " {'event_info': 321848,\n",
       "  'event_timestamp': '2019-10-07T09:18:20.675-0400',\n",
       "  'event_type': 'view'},\n",
       " {'event_info': 178425,\n",
       "  'event_timestamp': '2019-10-07T09:18:29.553-0400',\n",
       "  'event_type': 'view'},\n",
       " {'event_info': 178425,\n",
       "  'event_timestamp': '2019-10-07T09:18:38.914-0400',\n",
       "  'event_type': 'view'},\n",
       " {'event_info': 366969,\n",
       "  'event_timestamp': '2019-10-07T09:18:44.426-0400',\n",
       "  'event_type': 'view'},\n",
       " {'event_info': 366969,\n",
       "  'event_timestamp': '2019-10-07T09:18:55.072-0400',\n",
       "  'event_type': 'view'},\n",
       " {'event_info': 321848,\n",
       "  'event_timestamp': '2019-10-07T09:18:59.452-0400',\n",
       "  'event_type': 'view'},\n",
       " {'event_info': 'DHEA',\n",
       "  'event_timestamp': '2019-10-07T09:19:00.528-0400',\n",
       "  'event_type': 'search'},\n",
       " {'event_info': 1202148,\n",
       "  'event_timestamp': '2019-10-07T09:19:04.915-0400',\n",
       "  'event_type': 'view'},\n",
       " {'event_info': 1202148,\n",
       "  'event_timestamp': '2019-10-07T09:19:17.321-0400',\n",
       "  'event_type': 'view'},\n",
       " {'event_info': 'DHEA',\n",
       "  'event_timestamp': '2019-10-07T09:19:19.658-0400',\n",
       "  'event_type': 'search'},\n",
       " {'event_info': 1096594,\n",
       "  'event_timestamp': '2019-10-07T09:19:24.476-0400',\n",
       "  'event_type': 'view'},\n",
       " {'event_info': 1096594,\n",
       "  'event_timestamp': '2019-10-07T09:19:38.394-0400',\n",
       "  'event_type': 'view'},\n",
       " {'event_info': 'DHEA',\n",
       "  'event_timestamp': '2019-10-07T09:19:39.710-0400',\n",
       "  'event_type': 'search'},\n",
       " {'event_info': 57789,\n",
       "  'event_timestamp': '2019-10-07T09:19:43.991-0400',\n",
       "  'event_type': 'view'},\n",
       " {'event_info': 57789,\n",
       "  'event_timestamp': '2019-10-07T09:19:49.216-0400',\n",
       "  'event_type': 'view'},\n",
       " {'event_info': 57789,\n",
       "  'event_timestamp': '2019-10-07T09:20:06.986-0400',\n",
       "  'event_type': 'view'},\n",
       " {'event_info': 'DHEA',\n",
       "  'event_timestamp': '2019-10-07T09:20:12.374-0400',\n",
       "  'event_type': 'search'},\n",
       " {'event_info': 'DHEA',\n",
       "  'event_timestamp': '2019-10-07T09:20:15.887-0400',\n",
       "  'event_type': 'search'},\n",
       " {'event_info': 1276030,\n",
       "  'event_timestamp': '2019-10-07T09:20:21.830-0400',\n",
       "  'event_type': 'view'},\n",
       " {'event_info': 1276030,\n",
       "  'event_timestamp': '2019-10-07T09:20:32.009-0400',\n",
       "  'event_type': 'view'},\n",
       " {'event_info': 'DHEA',\n",
       "  'event_timestamp': '2019-10-07T09:20:34.478-0400',\n",
       "  'event_type': 'search'},\n",
       " {'event_info': 'DHEA',\n",
       "  'event_timestamp': '2019-10-07T09:20:37.667-0400',\n",
       "  'event_type': 'search'},\n",
       " {'event_info': 'DHEA',\n",
       "  'event_timestamp': '2019-10-07T09:20:38.461-0400',\n",
       "  'event_type': 'search'},\n",
       " {'event_info': 'DHEA',\n",
       "  'event_timestamp': '2019-10-07T09:20:39.573-0400',\n",
       "  'event_type': 'search'},\n",
       " {'event_info': 1487524,\n",
       "  'event_timestamp': '2019-10-07T09:20:47.748-0400',\n",
       "  'event_type': 'view'},\n",
       " {'event_info': 'DHEA',\n",
       "  'event_timestamp': '2019-10-07T09:20:52.137-0400',\n",
       "  'event_type': 'search'},\n",
       " {'event_info': 'UMIDIGI A5 PRO',\n",
       "  'event_timestamp': '2019-10-07T13:20:48.603-0400',\n",
       "  'event_type': 'search'},\n",
       " {'event_info': 'UMIDIGI A5 PRO',\n",
       "  'event_timestamp': '2019-10-07T13:20:55.732-0400',\n",
       "  'event_type': 'search'},\n",
       " {'event_info': 1557903,\n",
       "  'event_timestamp': '2019-10-07T13:21:02.450-0400',\n",
       "  'event_type': 'view'},\n",
       " {'event_info': 'UMIDIGI A5 PRO',\n",
       "  'event_timestamp': '2019-10-07T13:21:06.243-0400',\n",
       "  'event_type': 'search'},\n",
       " {'event_info': 'DHEA',\n",
       "  'event_timestamp': '2019-10-07T21:00:47.375-0400',\n",
       "  'event_type': 'search'},\n",
       " {'event_info': 1558064,\n",
       "  'event_timestamp': '2019-10-07T21:00:59.803-0400',\n",
       "  'event_type': 'view'},\n",
       " {'event_info': 1558064,\n",
       "  'event_timestamp': '2019-10-07T21:01:25.589-0400',\n",
       "  'event_type': 'view'},\n",
       " {'event_info': 'DHEA',\n",
       "  'event_timestamp': '2019-10-07T21:01:28.899-0400',\n",
       "  'event_type': 'search'},\n",
       " {'event_info': 1558064,\n",
       "  'event_timestamp': '2019-10-07T21:01:32.804-0400',\n",
       "  'event_type': 'view'},\n",
       " {'event_info': 1558064,\n",
       "  'event_timestamp': '2019-10-07T21:01:51.014-0400',\n",
       "  'event_type': 'view'},\n",
       " {'event_info': 1558064,\n",
       "  'event_timestamp': '2019-10-07T21:01:54.310-0400',\n",
       "  'event_type': 'view'},\n",
       " {'event_info': 'DHEA',\n",
       "  'event_timestamp': '2019-10-07T21:01:55.113-0400',\n",
       "  'event_type': 'search'},\n",
       " {'event_info': 'DHEA',\n",
       "  'event_timestamp': '2019-10-07T21:02:06.345-0400',\n",
       "  'event_type': 'search'},\n",
       " {'event_info': 1202148,\n",
       "  'event_timestamp': '2019-10-07T21:02:10.910-0400',\n",
       "  'event_type': 'view'},\n",
       " {'event_info': 1202148,\n",
       "  'event_timestamp': '2019-10-07T21:02:28.007-0400',\n",
       "  'event_type': 'view'},\n",
       " {'event_info': 'DHEA',\n",
       "  'event_timestamp': '2019-10-07T21:02:30.990-0400',\n",
       "  'event_type': 'search'},\n",
       " {'event_info': 57789,\n",
       "  'event_timestamp': '2019-10-07T21:02:36.450-0400',\n",
       "  'event_type': 'view'},\n",
       " {'event_info': 57789,\n",
       "  'event_timestamp': '2019-10-07T21:02:51.716-0400',\n",
       "  'event_type': 'view'},\n",
       " {'event_info': 'DHEA',\n",
       "  'event_timestamp': '2019-10-07T21:02:54.348-0400',\n",
       "  'event_type': 'search'},\n",
       " {'event_info': 'DHEA',\n",
       "  'event_timestamp': '2019-10-07T21:03:05.019-0400',\n",
       "  'event_type': 'search'},\n",
       " {'event_info': 'DHEA',\n",
       "  'event_timestamp': '2019-10-07T21:03:21.488-0400',\n",
       "  'event_type': 'search'},\n",
       " {'event_info': 1520031,\n",
       "  'event_timestamp': '2019-10-07T21:03:28.214-0400',\n",
       "  'event_type': 'view'},\n",
       " {'event_info': 1520031,\n",
       "  'event_timestamp': '2019-10-07T21:03:38.537-0400',\n",
       "  'event_type': 'view'},\n",
       " {'event_info': 'DHEA',\n",
       "  'event_timestamp': '2019-10-07T21:03:47.189-0400',\n",
       "  'event_type': 'search'},\n",
       " {'event_info': 1227037,\n",
       "  'event_timestamp': '2019-10-07T21:03:52.389-0400',\n",
       "  'event_type': 'view'},\n",
       " {'event_info': 1227037,\n",
       "  'event_timestamp': '2019-10-07T21:04:03.079-0400',\n",
       "  'event_type': 'view'},\n",
       " {'event_info': 'DHEA',\n",
       "  'event_timestamp': '2019-10-07T21:04:05.467-0400',\n",
       "  'event_type': 'search'},\n",
       " {'event_info': 1991014,\n",
       "  'event_timestamp': '2019-10-07T21:04:15.642-0400',\n",
       "  'event_type': 'view'},\n",
       " {'event_info': 1991014,\n",
       "  'event_timestamp': '2019-10-07T21:04:31.467-0400',\n",
       "  'event_type': 'view'},\n",
       " {'event_info': 1276030,\n",
       "  'event_timestamp': '2019-10-07T21:04:37.530-0400',\n",
       "  'event_type': 'view'},\n",
       " {'event_info': 1276030,\n",
       "  'event_timestamp': '2019-10-07T21:04:47.825-0400',\n",
       "  'event_type': 'view'},\n",
       " {'event_info': 179456,\n",
       "  'event_timestamp': '2019-10-07T21:04:55.571-0400',\n",
       "  'event_type': 'view'},\n",
       " {'event_info': 179456,\n",
       "  'event_timestamp': '2019-10-07T21:05:08.485-0400',\n",
       "  'event_type': 'view'},\n",
       " {'event_info': 1276030,\n",
       "  'event_timestamp': '2019-10-07T21:05:10.686-0400',\n",
       "  'event_type': 'view'},\n",
       " {'event_info': 1991014,\n",
       "  'event_timestamp': '2019-10-07T21:05:11.526-0400',\n",
       "  'event_type': 'view'},\n",
       " {'event_info': 'DHEA',\n",
       "  'event_timestamp': '2019-10-07T21:05:12.657-0400',\n",
       "  'event_type': 'search'},\n",
       " {'event_info': 'DHEA',\n",
       "  'event_timestamp': '2019-10-07T21:05:15.906-0400',\n",
       "  'event_type': 'search'},\n",
       " {'event_info': 1588842,\n",
       "  'event_timestamp': '2019-10-07T21:05:26.187-0400',\n",
       "  'event_type': 'view'},\n",
       " {'event_info': 1588842,\n",
       "  'event_timestamp': '2019-10-07T21:05:38.398-0400',\n",
       "  'event_type': 'view'},\n",
       " {'event_info': 1588842,\n",
       "  'event_timestamp': '2019-10-07T21:06:47.762-0400',\n",
       "  'event_type': 'view'},\n",
       " {'event_info': 'DHEA',\n",
       "  'event_timestamp': '2019-10-07T21:06:49.849-0400',\n",
       "  'event_type': 'search'},\n",
       " {'event_info': 1276030,\n",
       "  'event_timestamp': '2019-10-07T21:06:54.864-0400',\n",
       "  'event_type': 'view'},\n",
       " {'event_info': 'DHEA',\n",
       "  'event_timestamp': '2019-10-07T21:06:56.746-0400',\n",
       "  'event_type': 'search'},\n",
       " {'event_info': 718347,\n",
       "  'event_timestamp': '2019-10-07T21:07:03.061-0400',\n",
       "  'event_type': 'view'},\n",
       " {'event_info': 718347,\n",
       "  'event_timestamp': '2019-10-07T21:07:13.893-0400',\n",
       "  'event_type': 'view'},\n",
       " {'event_info': 'DHEA',\n",
       "  'event_timestamp': '2019-10-07T21:07:16.549-0400',\n",
       "  'event_type': 'search'},\n",
       " {'event_info': 1110172,\n",
       "  'event_timestamp': '2019-10-07T21:07:24.991-0400',\n",
       "  'event_type': 'view'},\n",
       " {'event_info': 1110172,\n",
       "  'event_timestamp': '2019-10-07T21:07:34.569-0400',\n",
       "  'event_type': 'view'},\n",
       " {'event_info': 'DHEA',\n",
       "  'event_timestamp': '2019-10-07T21:07:35.999-0400',\n",
       "  'event_type': 'search'},\n",
       " {'event_info': 911437,\n",
       "  'event_timestamp': '2019-10-07T21:07:42.101-0400',\n",
       "  'event_type': 'view'},\n",
       " {'event_info': 911437,\n",
       "  'event_timestamp': '2019-10-07T21:07:54.083-0400',\n",
       "  'event_type': 'view'},\n",
       " {'event_info': 'DHEA',\n",
       "  'event_timestamp': '2019-10-07T21:07:55.482-0400',\n",
       "  'event_type': 'search'},\n",
       " {'event_info': 'DHEA',\n",
       "  'event_timestamp': '2019-10-07T21:07:56.856-0400',\n",
       "  'event_type': 'search'},\n",
       " {'event_info': 835637,\n",
       "  'event_timestamp': '2019-10-08T00:57:36.337-0400',\n",
       "  'event_type': 'view'},\n",
       " {'event_info': 1280384,\n",
       "  'event_timestamp': '2019-10-08T01:05:09.792-0400',\n",
       "  'event_type': 'view'},\n",
       " {'event_info': 'DHEA',\n",
       "  'event_timestamp': '2019-10-08T01:06:14.288-0400',\n",
       "  'event_type': 'search'},\n",
       " {'event_info': 'TESTOSTERONE SIX STAR',\n",
       "  'event_timestamp': '2019-10-08T01:06:41.170-0400',\n",
       "  'event_type': 'search'},\n",
       " {'event_info': 546218,\n",
       "  'event_timestamp': '2019-10-08T01:06:55.876-0400',\n",
       "  'event_type': 'view'},\n",
       " {'event_info': 'TESTOSTERONE SIX STAR',\n",
       "  'event_timestamp': '2019-10-08T01:07:00.445-0400',\n",
       "  'event_type': 'search'},\n",
       " {'event_info': 362926,\n",
       "  'event_timestamp': '2019-10-08T01:07:06.405-0400',\n",
       "  'event_type': 'view'},\n",
       " {'event_info': 'TESTOSTERONE SIX STAR',\n",
       "  'event_timestamp': '2019-10-08T01:07:07.127-0400',\n",
       "  'event_type': 'search'},\n",
       " {'event_info': 1174664,\n",
       "  'event_timestamp': '2019-10-08T01:07:12.101-0400',\n",
       "  'event_type': 'view'},\n",
       " {'event_info': 'TESTOSTERONE SIX STAR',\n",
       "  'event_timestamp': '2019-10-08T01:07:17.328-0400',\n",
       "  'event_type': 'search'},\n",
       " {'event_info': 'DHEA',\n",
       "  'event_timestamp': '2019-10-08T01:07:18.512-0400',\n",
       "  'event_type': 'search'},\n",
       " {'event_info': 'TESTOSTERONE SIX STAR',\n",
       "  'event_timestamp': '2019-10-08T07:32:46.735-0400',\n",
       "  'event_type': 'search'},\n",
       " {'event_info': 'TESTOSTERONE SIX STAR',\n",
       "  'event_timestamp': '2019-10-08T07:33:00.013-0400',\n",
       "  'event_type': 'search'},\n",
       " {'event_info': 1174664,\n",
       "  'event_timestamp': '2019-10-08T07:33:02.902-0400',\n",
       "  'event_type': 'view'},\n",
       " {'event_info': 'TESTOSTERONE SIX STAR',\n",
       "  'event_timestamp': '2019-10-08T07:33:06.605-0400',\n",
       "  'event_type': 'search'},\n",
       " {'event_info': 'NATURES WAY ALIVE',\n",
       "  'event_timestamp': '2019-10-08T07:37:06.279-0400',\n",
       "  'event_type': 'search'},\n",
       " {'event_info': 'NATURES WAY ALIVE',\n",
       "  'event_timestamp': '2019-10-08T07:37:19.997-0400',\n",
       "  'event_type': 'search'},\n",
       " {'event_info': 494946,\n",
       "  'event_timestamp': '2019-10-08T07:37:25.684-0400',\n",
       "  'event_type': 'view'},\n",
       " {'event_info': 'NATURES WAY ALIVE',\n",
       "  'event_timestamp': '2019-10-08T07:37:30.479-0400',\n",
       "  'event_type': 'search'},\n",
       " {'event_info': 'DHEA',\n",
       "  'event_timestamp': '2019-10-08T12:04:28.389-0400',\n",
       "  'event_type': 'search'},\n",
       " {'event_info': 57789,\n",
       "  'event_timestamp': '2019-10-08T12:04:34.403-0400',\n",
       "  'event_type': 'view'},\n",
       " {'event_info': 57789,\n",
       "  'event_timestamp': '2019-10-08T12:04:57.006-0400',\n",
       "  'event_type': 'view'},\n",
       " {'event_info': 'DHEA',\n",
       "  'event_timestamp': '2019-10-08T12:05:07.815-0400',\n",
       "  'event_type': 'search'},\n",
       " {'event_info': 1202148,\n",
       "  'event_timestamp': '2019-10-08T12:05:13.228-0400',\n",
       "  'event_type': 'view'},\n",
       " {'event_info': 1202148,\n",
       "  'event_timestamp': '2019-10-08T12:05:23.582-0400',\n",
       "  'event_type': 'view'},\n",
       " {'event_info': 'DHEA',\n",
       "  'event_timestamp': '2019-10-08T12:05:27.256-0400',\n",
       "  'event_type': 'search'},\n",
       " {'event_info': 1558064,\n",
       "  'event_timestamp': '2019-10-08T12:05:31.953-0400',\n",
       "  'event_type': 'view'},\n",
       " {'event_info': 1558064,\n",
       "  'event_timestamp': '2019-10-08T12:05:45.446-0400',\n",
       "  'event_type': 'view'},\n",
       " {'event_info': 'DHEA',\n",
       "  'event_timestamp': '2019-10-08T12:05:50.561-0400',\n",
       "  'event_type': 'search'},\n",
       " {'event_info': 1588842,\n",
       "  'event_timestamp': '2019-10-08T12:05:56.013-0400',\n",
       "  'event_type': 'view'},\n",
       " {'event_info': 1588842,\n",
       "  'event_timestamp': '2019-10-08T12:06:05.593-0400',\n",
       "  'event_type': 'view'},\n",
       " {'event_info': 'DHEA',\n",
       "  'event_timestamp': '2019-10-08T12:06:13.716-0400',\n",
       "  'event_type': 'search'},\n",
       " {'event_info': 1874592,\n",
       "  'event_timestamp': '2019-10-08T12:06:18.552-0400',\n",
       "  'event_type': 'view'},\n",
       " {'event_info': 1874592,\n",
       "  'event_timestamp': '2019-10-08T12:06:28.259-0400',\n",
       "  'event_type': 'view'},\n",
       " {'event_info': 'DHEA',\n",
       "  'event_timestamp': '2019-10-08T12:06:29.625-0400',\n",
       "  'event_type': 'search'},\n",
       " {'event_info': 'DHEA',\n",
       "  'event_timestamp': '2019-10-08T12:06:36.422-0400',\n",
       "  'event_type': 'search'},\n",
       " {'event_info': 'DHEA',\n",
       "  'event_timestamp': '2019-10-08T12:06:45.387-0400',\n",
       "  'event_type': 'search'},\n",
       " {'event_info': 1991014,\n",
       "  'event_timestamp': '2019-10-08T12:06:48.691-0400',\n",
       "  'event_type': 'view'},\n",
       " {'event_info': 1991014,\n",
       "  'event_timestamp': '2019-10-08T12:06:59.788-0400',\n",
       "  'event_type': 'view'},\n",
       " {'event_info': 'DHEA',\n",
       "  'event_timestamp': '2019-10-08T12:07:02.591-0400',\n",
       "  'event_type': 'search'},\n",
       " {'event_info': 'DHEA',\n",
       "  'event_timestamp': '2019-10-08T20:06:24.258-0400',\n",
       "  'event_type': 'search'},\n",
       " {'event_info': 1575116,\n",
       "  'event_timestamp': '2019-10-08T20:06:43.392-0400',\n",
       "  'event_type': 'view'},\n",
       " {'event_info': 1575116,\n",
       "  'event_timestamp': '2019-10-08T20:07:02.360-0400',\n",
       "  'event_type': 'view'},\n",
       " {'event_info': 'DHEA',\n",
       "  'event_timestamp': '2019-10-08T20:07:08.594-0400',\n",
       "  'event_type': 'search'},\n",
       " {'event_info': 1558064,\n",
       "  'event_timestamp': '2019-10-08T20:07:14.750-0400',\n",
       "  'event_type': 'view'},\n",
       " {'event_info': 1558064,\n",
       "  'event_timestamp': '2019-10-08T20:07:26.401-0400',\n",
       "  'event_type': 'view'},\n",
       " {'event_info': 'DHEA',\n",
       "  'event_timestamp': '2019-10-08T20:07:28.974-0400',\n",
       "  'event_type': 'search'},\n",
       " {'event_info': 'DHEA',\n",
       "  'event_timestamp': '2019-10-08T20:07:33.876-0400',\n",
       "  'event_type': 'search'},\n",
       " {'event_info': 'DHEA',\n",
       "  'event_timestamp': '2019-10-08T20:07:41.009-0400',\n",
       "  'event_type': 'search'},\n",
       " {'event_info': 1991014,\n",
       "  'event_timestamp': '2019-10-08T20:07:49.919-0400',\n",
       "  'event_type': 'view'},\n",
       " {'event_info': 1991014,\n",
       "  'event_timestamp': '2019-10-08T20:08:05.939-0400',\n",
       "  'event_type': 'view'},\n",
       " {'event_info': 1276030,\n",
       "  'event_timestamp': '2019-10-08T20:08:13.078-0400',\n",
       "  'event_type': 'view'},\n",
       " {'event_info': 1276030,\n",
       "  'event_timestamp': '2019-10-08T20:08:26.009-0400',\n",
       "  'event_type': 'view'},\n",
       " {'event_info': 1991014,\n",
       "  'event_timestamp': '2019-10-08T20:08:28.776-0400',\n",
       "  'event_type': 'view'},\n",
       " {'event_info': 179456,\n",
       "  'event_timestamp': '2019-10-08T20:08:35.477-0400',\n",
       "  'event_type': 'view'},\n",
       " {'event_info': 179456,\n",
       "  'event_timestamp': '2019-10-08T20:08:48.432-0400',\n",
       "  'event_type': 'view'},\n",
       " {'event_info': 1991014,\n",
       "  'event_timestamp': '2019-10-08T20:08:50.620-0400',\n",
       "  'event_type': 'view'},\n",
       " {'event_info': 'DHEA',\n",
       "  'event_timestamp': '2019-10-08T20:08:51.411-0400',\n",
       "  'event_type': 'search'},\n",
       " {'event_info': 'DHEA',\n",
       "  'event_timestamp': '2019-10-08T20:08:53.994-0400',\n",
       "  'event_type': 'search'},\n",
       " {'event_info': 'DHEA',\n",
       "  'event_timestamp': '2019-10-08T20:09:02.935-0400',\n",
       "  'event_type': 'search'},\n",
       " {'event_info': 1248537,\n",
       "  'event_timestamp': '2019-10-08T20:09:13.358-0400',\n",
       "  'event_type': 'view'},\n",
       " {'event_info': 1248537,\n",
       "  'event_timestamp': '2019-10-08T20:09:28.043-0400',\n",
       "  'event_type': 'view'},\n",
       " {'event_info': 'DHEA',\n",
       "  'event_timestamp': '2019-10-08T20:09:31.075-0400',\n",
       "  'event_type': 'search'},\n",
       " {'event_info': 84260,\n",
       "  'event_timestamp': '2019-10-08T20:09:37.987-0400',\n",
       "  'event_type': 'view'},\n",
       " {'event_info': 84260,\n",
       "  'event_timestamp': '2019-10-08T20:09:47.603-0400',\n",
       "  'event_type': 'view'},\n",
       " {'event_info': 'DHEA',\n",
       "  'event_timestamp': '2019-10-08T20:09:50.247-0400',\n",
       "  'event_type': 'search'},\n",
       " {'event_info': 'DHEA',\n",
       "  'event_timestamp': '2019-10-08T20:09:52.501-0400',\n",
       "  'event_type': 'search'},\n",
       " {'event_info': 1676072,\n",
       "  'event_timestamp': '2019-10-08T20:09:54.609-0400',\n",
       "  'event_type': 'view'},\n",
       " {'event_info': 1676072,\n",
       "  'event_timestamp': '2019-10-08T20:10:08.960-0400',\n",
       "  'event_type': 'view'},\n",
       " {'event_info': 'DHEA',\n",
       "  'event_timestamp': '2019-10-08T20:10:16.485-0400',\n",
       "  'event_type': 'search'},\n",
       " {'event_info': 'DHEA',\n",
       "  'event_timestamp': '2019-10-09T20:25:32.156-0400',\n",
       "  'event_type': 'search'},\n",
       " {'event_info': 'DHEA',\n",
       "  'event_timestamp': '2019-10-09T20:25:49.126-0400',\n",
       "  'event_type': 'search'},\n",
       " {'event_info': 'DHEA NATROL',\n",
       "  'event_timestamp': '2019-10-09T20:26:05.063-0400',\n",
       "  'event_type': 'search'},\n",
       " {'event_info': 'DHEA',\n",
       "  'event_timestamp': '2019-10-09T20:26:15.824-0400',\n",
       "  'event_type': 'search'},\n",
       " {'event_info': 'DHEA ULTIMATE NUTRITION',\n",
       "  'event_timestamp': '2019-10-09T20:26:26.919-0400',\n",
       "  'event_type': 'search'},\n",
       " {'event_info': 'DHEA ULTIMATE NUTRITION',\n",
       "  'event_timestamp': '2019-10-09T20:26:32.212-0400',\n",
       "  'event_type': 'search'},\n",
       " {'event_info': 'DHEA ULTIMATE NUTRITION',\n",
       "  'event_timestamp': '2019-10-09T20:26:42.188-0400',\n",
       "  'event_type': 'search'},\n",
       " {'event_info': 'DHEA ULTIMATE NUTRITION',\n",
       "  'event_timestamp': '2019-10-09T20:26:49.097-0400',\n",
       "  'event_type': 'search'},\n",
       " {'event_info': 'DHEA',\n",
       "  'event_timestamp': '2019-10-09T20:26:55.342-0400',\n",
       "  'event_type': 'search'},\n",
       " {'event_info': 922319,\n",
       "  'event_timestamp': '2019-10-09T22:20:18.742-0400',\n",
       "  'event_type': 'view'},\n",
       " {'event_info': 'TESTOSTERONE SIX STAR',\n",
       "  'event_timestamp': '2019-10-09T22:20:49.976-0400',\n",
       "  'event_type': 'search'},\n",
       " {'event_info': 'TESTOSTERONE SIX STAR',\n",
       "  'event_timestamp': '2019-10-09T22:21:01.806-0400',\n",
       "  'event_type': 'search'},\n",
       " {'event_info': 1313355,\n",
       "  'event_timestamp': '2019-10-09T22:21:11.699-0400',\n",
       "  'event_type': 'view'},\n",
       " {'event_info': 'TESTOSTERONE SIX STAR',\n",
       "  'event_timestamp': '2019-10-09T22:21:13.476-0400',\n",
       "  'event_type': 'search'},\n",
       " {'event_info': 1196060,\n",
       "  'event_timestamp': '2019-10-09T22:21:20.583-0400',\n",
       "  'event_type': 'view'},\n",
       " {'event_info': 'TESTOSTERONE SIX STAR',\n",
       "  'event_timestamp': '2019-10-09T22:21:28.245-0400',\n",
       "  'event_type': 'search'},\n",
       " {'event_info': 'DHEA',\n",
       "  'event_timestamp': '2019-10-10T09:23:46.191-0400',\n",
       "  'event_type': 'search'},\n",
       " {'event_info': 394818,\n",
       "  'event_timestamp': '2019-10-10T09:23:51.214-0400',\n",
       "  'event_type': 'view'},\n",
       " {'event_info': 394818,\n",
       "  'event_timestamp': '2019-10-10T09:24:08.653-0400',\n",
       "  'event_type': 'view'},\n",
       " {'event_info': 1378372,\n",
       "  'event_timestamp': '2019-10-10T09:24:22.544-0400',\n",
       "  'event_type': 'view'},\n",
       " {'event_info': 1378372,\n",
       "  'event_timestamp': '2019-10-10T09:24:36.631-0400',\n",
       "  'event_type': 'view'},\n",
       " {'event_info': 622584,\n",
       "  'event_timestamp': '2019-10-10T09:24:44.127-0400',\n",
       "  'event_type': 'view'},\n",
       " {'event_info': 622584,\n",
       "  'event_timestamp': '2019-10-10T09:24:56.505-0400',\n",
       "  'event_type': 'view'},\n",
       " {'event_info': 1378372,\n",
       "  'event_timestamp': '2019-10-10T09:24:59.694-0400',\n",
       "  'event_type': 'view'},\n",
       " {'event_info': 394818,\n",
       "  'event_timestamp': '2019-10-10T09:25:03.131-0400',\n",
       "  'event_type': 'view'},\n",
       " {'event_info': 'DHEA',\n",
       "  'event_timestamp': '2019-10-10T09:25:04.307-0400',\n",
       "  'event_type': 'search'},\n",
       " {'event_info': 1378372,\n",
       "  'event_timestamp': '2019-10-10T09:25:09.150-0400',\n",
       "  'event_type': 'view'},\n",
       " {'event_info': 1378372,\n",
       "  'event_timestamp': '2019-10-10T09:25:24.496-0400',\n",
       "  'event_type': 'view'},\n",
       " {'event_info': 'DHEA',\n",
       "  'event_timestamp': '2019-10-10T09:25:29.004-0400',\n",
       "  'event_type': 'search'},\n",
       " {'event_info': 'DHEA',\n",
       "  'event_timestamp': '2019-10-10T09:25:37.164-0400',\n",
       "  'event_type': 'search'},\n",
       " {'event_info': 'DHEA',\n",
       "  'event_timestamp': '2019-10-10T09:25:46.891-0400',\n",
       "  'event_type': 'search'},\n",
       " {'event_info': 'DHEA',\n",
       "  'event_timestamp': '2019-10-10T16:14:05.592-0400',\n",
       "  'event_type': 'search'},\n",
       " {'event_info': 1676072,\n",
       "  'event_timestamp': '2019-10-10T16:14:14.986-0400',\n",
       "  'event_type': 'view'},\n",
       " {'event_info': 'DHEA',\n",
       "  'event_timestamp': '2019-10-10T16:14:31.139-0400',\n",
       "  'event_type': 'search'},\n",
       " {'event_info': 'DHEA',\n",
       "  'event_timestamp': '2019-10-10T16:14:38.533-0400',\n",
       "  'event_type': 'search'},\n",
       " {'event_info': 'DHEA',\n",
       "  'event_timestamp': '2019-10-10T16:14:48.823-0400',\n",
       "  'event_type': 'search'},\n",
       " {'event_info': 'DHEA',\n",
       "  'event_timestamp': '2019-10-10T17:01:59.462-0400',\n",
       "  'event_type': 'search'},\n",
       " {'event_info': 1676072,\n",
       "  'event_timestamp': '2019-10-10T17:02:04.427-0400',\n",
       "  'event_type': 'view'},\n",
       " {'event_info': 1676072,\n",
       "  'event_timestamp': '2019-10-10T17:02:17.455-0400',\n",
       "  'event_type': 'view'},\n",
       " {'event_info': 'DHEA',\n",
       "  'event_timestamp': '2019-10-10T17:02:21.816-0400',\n",
       "  'event_type': 'search'},\n",
       " {'event_info': 1413791,\n",
       "  'event_timestamp': '2019-10-10T17:02:24.628-0400',\n",
       "  'event_type': 'view'},\n",
       " {'event_info': 1413791,\n",
       "  'event_timestamp': '2019-10-10T17:02:36.287-0400',\n",
       "  'event_type': 'view'},\n",
       " {'event_info': 'DHEA',\n",
       "  'event_timestamp': '2019-10-10T17:02:38.902-0400',\n",
       "  'event_type': 'search'},\n",
       " {'event_info': 679445,\n",
       "  'event_timestamp': '2019-10-10T17:02:43.049-0400',\n",
       "  'event_type': 'view'},\n",
       " {'event_info': 679445,\n",
       "  'event_timestamp': '2019-10-10T17:02:55.272-0400',\n",
       "  'event_type': 'view'},\n",
       " {'event_info': 248797,\n",
       "  'event_timestamp': '2019-10-10T17:03:03.635-0400',\n",
       "  'event_type': 'view'},\n",
       " {'event_info': 248797,\n",
       "  'event_timestamp': '2019-10-10T17:03:15.412-0400',\n",
       "  'event_type': 'view'},\n",
       " {'event_info': 'DHEA',\n",
       "  'event_timestamp': '2019-10-10T17:07:17.895-0400',\n",
       "  'event_type': 'search'},\n",
       " {'event_info': 1162181,\n",
       "  'event_timestamp': '2019-10-10T17:07:25.207-0400',\n",
       "  'event_type': 'view'},\n",
       " {'event_info': 'DHEA',\n",
       "  'event_timestamp': '2019-10-10T17:07:26.604-0400',\n",
       "  'event_type': 'search'},\n",
       " {'event_info': 2068338,\n",
       "  'event_timestamp': '2019-10-10T17:07:32.354-0400',\n",
       "  'event_type': 'view'},\n",
       " {'event_info': 2068338,\n",
       "  'event_timestamp': '2019-10-10T17:07:45.688-0400',\n",
       "  'event_type': 'view'},\n",
       " {'event_info': 'DHEA',\n",
       "  'event_timestamp': '2019-10-10T17:07:56.851-0400',\n",
       "  'event_type': 'search'},\n",
       " {'event_info': 1953717,\n",
       "  'event_timestamp': '2019-10-10T17:08:01.406-0400',\n",
       "  'event_type': 'view'},\n",
       " {'event_info': 1953717,\n",
       "  'event_timestamp': '2019-10-10T17:08:11.130-0400',\n",
       "  'event_type': 'view'},\n",
       " {'event_info': 'DHEA',\n",
       "  'event_timestamp': '2019-10-10T17:08:14.423-0400',\n",
       "  'event_type': 'search'},\n",
       " {'event_info': 'DHEA',\n",
       "  'event_timestamp': '2019-10-10T17:08:17.562-0400',\n",
       "  'event_type': 'search'},\n",
       " {'event_info': 1893315,\n",
       "  'event_timestamp': '2019-10-10T17:08:19.281-0400',\n",
       "  'event_type': 'view'},\n",
       " {'event_info': 1893315,\n",
       "  'event_timestamp': '2019-10-10T17:08:30.825-0400',\n",
       "  'event_type': 'view'},\n",
       " {'event_info': 'DHEA',\n",
       "  'event_timestamp': '2019-10-10T17:08:36.090-0400',\n",
       "  'event_type': 'search'},\n",
       " {'event_info': 248797,\n",
       "  'event_timestamp': '2019-10-10T17:08:41.277-0400',\n",
       "  'event_type': 'view'},\n",
       " {'event_info': 248797,\n",
       "  'event_timestamp': '2019-10-10T17:08:51.687-0400',\n",
       "  'event_type': 'view'},\n",
       " {'event_info': 'DHEA',\n",
       "  'event_timestamp': '2019-10-10T17:08:54.504-0400',\n",
       "  'event_type': 'search'},\n",
       " {'event_info': 2031065,\n",
       "  'event_timestamp': '2019-10-10T17:08:58.647-0400',\n",
       "  'event_type': 'view'},\n",
       " {'event_info': 2031065,\n",
       "  'event_timestamp': '2019-10-10T17:09:09.295-0400',\n",
       "  'event_type': 'view'},\n",
       " {'event_info': 'DHEA',\n",
       "  'event_timestamp': '2019-10-10T17:09:12.352-0400',\n",
       "  'event_type': 'search'},\n",
       " {'event_info': 718347,\n",
       "  'event_timestamp': '2019-10-10T17:09:18.691-0400',\n",
       "  'event_type': 'view'},\n",
       " {'event_info': 718347,\n",
       "  'event_timestamp': '2019-10-10T17:09:30.609-0400',\n",
       "  'event_type': 'view'},\n",
       " {'event_info': 'DHEA',\n",
       "  'event_timestamp': '2019-10-10T17:09:33.521-0400',\n",
       "  'event_type': 'search'},\n",
       " {'event_info': 494176,\n",
       "  'event_timestamp': '2019-10-10T17:09:38.644-0400',\n",
       "  'event_type': 'view'},\n",
       " {'event_info': 494176,\n",
       "  'event_timestamp': '2019-10-10T17:09:50.517-0400',\n",
       "  'event_type': 'view'},\n",
       " {'event_info': 'DHEA',\n",
       "  'event_timestamp': '2019-10-10T17:09:53.572-0400',\n",
       "  'event_type': 'search'},\n",
       " {'event_info': 113283,\n",
       "  'event_timestamp': '2019-10-10T17:09:58.808-0400',\n",
       "  'event_type': 'view'},\n",
       " {'event_info': 113283,\n",
       "  'event_timestamp': '2019-10-10T17:10:09.386-0400',\n",
       "  'event_type': 'view'},\n",
       " {'event_info': 646040,\n",
       "  'event_timestamp': '2019-10-10T17:10:17.330-0400',\n",
       "  'event_type': 'view'},\n",
       " {'event_info': 646040,\n",
       "  'event_timestamp': '2019-10-10T17:10:27.451-0400',\n",
       "  'event_type': 'view'},\n",
       " {'event_info': 113283,\n",
       "  'event_timestamp': '2019-10-10T17:10:30.171-0400',\n",
       "  'event_type': 'view'},\n",
       " {'event_info': 'DHEA',\n",
       "  'event_timestamp': '2019-10-10T17:10:31.018-0400',\n",
       "  'event_type': 'search'},\n",
       " {'event_info': 109452,\n",
       "  'event_timestamp': '2019-10-10T17:10:35.131-0400',\n",
       "  'event_type': 'view'},\n",
       " {'event_info': 109452,\n",
       "  'event_timestamp': '2019-10-10T17:10:47.929-0400',\n",
       "  'event_type': 'view'},\n",
       " {'event_info': 'DHEA',\n",
       "  'event_timestamp': '2019-10-10T17:10:50.583-0400',\n",
       "  'event_type': 'search'},\n",
       " {'event_info': 1745498,\n",
       "  'event_timestamp': '2019-10-10T17:10:55.623-0400',\n",
       "  'event_type': 'view'},\n",
       " {'event_info': 1745498,\n",
       "  'event_timestamp': '2019-10-10T17:11:06.165-0400',\n",
       "  'event_type': 'view'},\n",
       " {'event_info': 'DHEA',\n",
       "  'event_timestamp': '2019-10-10T17:11:12.458-0400',\n",
       "  'event_type': 'search'},\n",
       " {'event_info': 785464,\n",
       "  'event_timestamp': '2019-10-10T17:11:19.151-0400',\n",
       "  'event_type': 'view'},\n",
       " {'event_info': 785464,\n",
       "  'event_timestamp': '2019-10-10T17:11:29.335-0400',\n",
       "  'event_type': 'view'},\n",
       " {'event_info': 'DHEA',\n",
       "  'event_timestamp': '2019-10-10T17:11:32.050-0400',\n",
       "  'event_type': 'search'},\n",
       " {'event_info': 'DHEA',\n",
       "  'event_timestamp': '2019-10-10T17:11:33.781-0400',\n",
       "  'event_type': 'search'},\n",
       " {'event_info': 666513,\n",
       "  'event_timestamp': '2019-10-10T17:11:36.385-0400',\n",
       "  'event_type': 'view'},\n",
       " {'event_info': 666513,\n",
       "  'event_timestamp': '2019-10-10T17:11:46.069-0400',\n",
       "  'event_type': 'view'},\n",
       " {'event_info': 'DHEA',\n",
       "  'event_timestamp': '2019-10-10T17:11:49.014-0400',\n",
       "  'event_type': 'search'},\n",
       " {'event_info': 646040,\n",
       "  'event_timestamp': '2019-10-10T17:11:51.754-0400',\n",
       "  'event_type': 'view'},\n",
       " {'event_info': 646040,\n",
       "  'event_timestamp': '2019-10-10T17:12:04.012-0400',\n",
       "  'event_type': 'view'},\n",
       " {'event_info': 'DHEA',\n",
       "  'event_timestamp': '2019-10-10T17:12:06.903-0400',\n",
       "  'event_type': 'search'},\n",
       " {'event_info': 1754335,\n",
       "  'event_timestamp': '2019-10-10T17:12:11.389-0400',\n",
       "  'event_type': 'view'},\n",
       " {'event_info': 1754335,\n",
       "  'event_timestamp': '2019-10-10T17:12:23.259-0400',\n",
       "  'event_type': 'view'},\n",
       " {'event_info': 'DHEA',\n",
       "  'event_timestamp': '2019-10-10T17:12:26.272-0400',\n",
       "  'event_type': 'search'},\n",
       " {'event_info': 935860,\n",
       "  'event_timestamp': '2019-10-10T17:12:31.222-0400',\n",
       "  'event_type': 'view'},\n",
       " {'event_info': 935860,\n",
       "  'event_timestamp': '2019-10-10T17:12:43.691-0400',\n",
       "  'event_type': 'view'},\n",
       " {'event_info': 'DHEA',\n",
       "  'event_timestamp': '2019-10-10T17:12:45.252-0400',\n",
       "  'event_type': 'search'},\n",
       " {'event_info': 'DHEA',\n",
       "  'event_timestamp': '2019-10-10T17:12:49.344-0400',\n",
       "  'event_type': 'search'},\n",
       " {'event_info': 1643403,\n",
       "  'event_timestamp': '2019-10-10T17:12:57.219-0400',\n",
       "  'event_type': 'view'},\n",
       " {'event_info': 1643403,\n",
       "  'event_timestamp': '2019-10-10T17:13:09.446-0400',\n",
       "  'event_type': 'view'},\n",
       " {'event_info': 'DHEA',\n",
       "  'event_timestamp': '2019-10-10T17:13:10.889-0400',\n",
       "  'event_type': 'search'},\n",
       " {'event_info': 'TESTOSTERONE SIX STAR',\n",
       "  'event_timestamp': '2019-10-10T20:11:17.495-0400',\n",
       "  'event_type': 'search'},\n",
       " {'event_info': 'TESTOSTERONE SIX STAR',\n",
       "  'event_timestamp': '2019-10-10T20:11:28.034-0400',\n",
       "  'event_type': 'search'},\n",
       " {'event_info': 'TESTOSTERONE SIX STAR',\n",
       "  'event_timestamp': '2019-10-10T20:11:41.646-0400',\n",
       "  'event_type': 'search'},\n",
       " {'event_info': 'TESTOSTERONE SIX STAR',\n",
       "  'event_timestamp': '2019-10-10T20:11:56.186-0400',\n",
       "  'event_type': 'search'},\n",
       " {'event_info': 'ZMA PRO UNIVERSAL NUTRITION',\n",
       "  'event_timestamp': '2019-10-10T20:12:23.651-0400',\n",
       "  'event_type': 'search'},\n",
       " {'event_info': 'ZMA PRO UNIVERSAL NUTRITION',\n",
       "  'event_timestamp': '2019-10-10T20:12:31.099-0400',\n",
       "  'event_type': 'search'},\n",
       " {'event_info': 1364083,\n",
       "  'event_timestamp': '2019-10-10T20:12:43.136-0400',\n",
       "  'event_type': 'view'},\n",
       " {'event_info': 'ZMA PRO UNIVERSAL NUTRITION',\n",
       "  'event_timestamp': '2019-10-10T20:12:47.823-0400',\n",
       "  'event_type': 'search'},\n",
       " {'event_info': 'DHEA',\n",
       "  'event_timestamp': '2019-10-10T20:19:12.230-0400',\n",
       "  'event_type': 'search'},\n",
       " {'event_info': 'DHEA',\n",
       "  'event_timestamp': '2019-10-10T20:19:17.091-0400',\n",
       "  'event_type': 'search'},\n",
       " {'event_info': 'DHEA',\n",
       "  'event_timestamp': '2019-10-10T23:00:22.936-0400',\n",
       "  'event_type': 'search'},\n",
       " {'event_info': 1413791,\n",
       "  'event_timestamp': '2019-10-10T23:00:28.173-0400',\n",
       "  'event_type': 'view'},\n",
       " {'event_info': 1413791,\n",
       "  'event_timestamp': '2019-10-10T23:00:51.263-0400',\n",
       "  'event_type': 'view'},\n",
       " {'event_info': 'DHEA',\n",
       "  'event_timestamp': '2019-10-10T23:00:55.610-0400',\n",
       "  'event_type': 'search'},\n",
       " {'event_info': 'DHEA',\n",
       "  'event_timestamp': '2019-10-10T23:01:00.531-0400',\n",
       "  'event_type': 'search'},\n",
       " {'event_info': 'DHEA',\n",
       "  'event_timestamp': '2019-10-10T23:01:06.176-0400',\n",
       "  'event_type': 'search'},\n",
       " {'event_info': 1601872,\n",
       "  'event_timestamp': '2019-10-10T23:01:15.395-0400',\n",
       "  'event_type': 'view'},\n",
       " {'event_info': 'DHEA',\n",
       "  'event_timestamp': '2019-10-10T23:01:16.314-0400',\n",
       "  'event_type': 'search'},\n",
       " {'event_info': 359510,\n",
       "  'event_timestamp': '2019-10-10T23:01:25.765-0400',\n",
       "  'event_type': 'view'},\n",
       " {'event_info': 359510,\n",
       "  'event_timestamp': '2019-10-10T23:01:41.308-0400',\n",
       "  'event_type': 'view'},\n",
       " {'event_info': 'DHEA',\n",
       "  'event_timestamp': '2019-10-10T23:01:44.062-0400',\n",
       "  'event_type': 'search'},\n",
       " {'event_info': 'NATROL DHEA',\n",
       "  'event_timestamp': '2019-10-10T23:02:05.264-0400',\n",
       "  'event_type': 'search'},\n",
       " {'event_info': 'NATROL DHEA',\n",
       "  'event_timestamp': '2019-10-10T23:02:15.812-0400',\n",
       "  'event_type': 'search'},\n",
       " {'event_info': 'DHEA',\n",
       "  'event_timestamp': '2019-10-10T23:02:26.222-0400',\n",
       "  'event_type': 'search'},\n",
       " {'event_info': 1884995,\n",
       "  'event_timestamp': '2019-10-11T01:26:50.358-0400',\n",
       "  'event_type': 'view'},\n",
       " {'event_info': 'TESTOSTERONE SIX STAR',\n",
       "  'event_timestamp': '2019-10-11T01:29:53.763-0400',\n",
       "  'event_type': 'search'},\n",
       " {'event_info': 'TESTOSTERONE SIX STAR',\n",
       "  'event_timestamp': '2019-10-11T01:30:08.758-0400',\n",
       "  'event_type': 'search'},\n",
       " {'event_info': 1174664,\n",
       "  'event_timestamp': '2019-10-11T01:30:10.846-0400',\n",
       "  'event_type': 'view'},\n",
       " {'event_info': 'TESTOSTERONE SIX STAR',\n",
       "  'event_timestamp': '2019-10-11T01:30:14.699-0400',\n",
       "  'event_type': 'search'},\n",
       " {'event_info': 'DHEA',\n",
       "  'event_timestamp': '2019-10-11T15:00:48.133-0400',\n",
       "  'event_type': 'search'},\n",
       " {'event_info': 1162181,\n",
       "  'event_timestamp': '2019-10-11T15:01:05.781-0400',\n",
       "  'event_type': 'view'},\n",
       " {'event_info': 1162181,\n",
       "  'event_timestamp': '2019-10-11T15:01:16.075-0400',\n",
       "  'event_type': 'view'},\n",
       " {'event_info': 679445,\n",
       "  'event_timestamp': '2019-10-11T15:01:26.975-0400',\n",
       "  'event_type': 'view'},\n",
       " {'event_info': 679445,\n",
       "  'event_timestamp': '2019-10-11T15:01:36.473-0400',\n",
       "  'event_type': 'view'},\n",
       " {'event_info': 109452,\n",
       "  'event_timestamp': '2019-10-11T15:01:42.557-0400',\n",
       "  'event_type': 'view'},\n",
       " {'event_info': 109452,\n",
       "  'event_timestamp': '2019-10-11T15:01:56.127-0400',\n",
       "  'event_type': 'view'},\n",
       " {'event_info': 679445,\n",
       "  'event_timestamp': '2019-10-11T15:01:57.481-0400',\n",
       "  'event_type': 'view'},\n",
       " {'event_info': 1162181,\n",
       "  'event_timestamp': '2019-10-11T15:01:58.248-0400',\n",
       "  'event_type': 'view'},\n",
       " {'event_info': 'DHEA',\n",
       "  'event_timestamp': '2019-10-11T15:01:59.206-0400',\n",
       "  'event_type': 'search'},\n",
       " {'event_info': 248797,\n",
       "  'event_timestamp': '2019-10-11T15:02:04.575-0400',\n",
       "  'event_type': 'view'},\n",
       " {'event_info': 248797,\n",
       "  'event_timestamp': '2019-10-11T15:02:15.622-0400',\n",
       "  'event_type': 'view'},\n",
       " {'event_info': 'DHEA',\n",
       "  'event_timestamp': '2019-10-11T15:02:18.285-0400',\n",
       "  'event_type': 'search'},\n",
       " {'event_info': 1676072,\n",
       "  'event_timestamp': '2019-10-11T15:02:22.963-0400',\n",
       "  'event_type': 'view'},\n",
       " {'event_info': 1676072,\n",
       "  'event_timestamp': '2019-10-11T15:02:40.938-0400',\n",
       "  'event_type': 'view'},\n",
       " {'event_info': 994714,\n",
       "  'event_timestamp': '2019-10-11T15:02:49.753-0400',\n",
       "  'event_type': 'view'},\n",
       " {'event_info': 994714,\n",
       "  'event_timestamp': '2019-10-11T15:03:11.668-0400',\n",
       "  'event_type': 'view'},\n",
       " {'event_info': 1676072,\n",
       "  'event_timestamp': '2019-10-11T15:03:12.608-0400',\n",
       "  'event_type': 'view'},\n",
       " {'event_info': 'DHEA',\n",
       "  'event_timestamp': '2019-10-11T15:03:13.566-0400',\n",
       "  'event_type': 'search'},\n",
       " {'event_info': 'DHEA',\n",
       "  'event_timestamp': '2019-10-11T15:03:15.485-0400',\n",
       "  'event_type': 'search'},\n",
       " {'event_info': 'DHEA',\n",
       "  'event_timestamp': '2019-10-11T15:03:20.210-0400',\n",
       "  'event_type': 'search'},\n",
       " {'event_info': 'DHEA',\n",
       "  'event_timestamp': '2019-10-11T16:58:10.653-0400',\n",
       "  'event_type': 'search'},\n",
       " {'event_info': 'DHEA',\n",
       "  'event_timestamp': '2019-10-11T16:58:16.953-0400',\n",
       "  'event_type': 'search'},\n",
       " {'event_info': 'DHEA',\n",
       "  'event_timestamp': '2019-10-11T16:58:21.659-0400',\n",
       "  'event_type': 'search'},\n",
       " {'event_info': 'PRE HORMONAL',\n",
       "  'event_timestamp': '2019-10-11T17:00:27.315-0400',\n",
       "  'event_type': 'search'},\n",
       " {'event_info': 'PRE HORMONAL',\n",
       "  'event_timestamp': '2019-10-11T17:00:32.329-0400',\n",
       "  'event_type': 'search'},\n",
       " {'event_info': 'PRE HORMONAL',\n",
       "  'event_timestamp': '2019-10-11T17:00:40.511-0400',\n",
       "  'event_type': 'search'},\n",
       " {'event_info': 'SUPLEMENTO PRE HORMONAL',\n",
       "  'event_timestamp': '2019-10-11T17:00:57.297-0400',\n",
       "  'event_type': 'search'},\n",
       " {'event_info': 431110,\n",
       "  'event_timestamp': '2019-10-11T17:01:12.104-0400',\n",
       "  'event_type': 'view'},\n",
       " {'event_info': 431110,\n",
       "  'event_timestamp': '2019-10-11T17:01:44.053-0400',\n",
       "  'event_type': 'view'},\n",
       " {'event_info': 'SUPLEMENTO PRE HORMONAL',\n",
       "  'event_timestamp': '2019-10-11T17:01:45.466-0400',\n",
       "  'event_type': 'search'},\n",
       " {'event_info': 'COENZIMA Q10',\n",
       "  'event_timestamp': '2019-10-11T20:58:07.057-0400',\n",
       "  'event_type': 'search'},\n",
       " {'event_info': 'COENZIMA Q10',\n",
       "  'event_timestamp': '2019-10-11T20:58:20.154-0400',\n",
       "  'event_type': 'search'},\n",
       " {'event_info': 'COENZIMA Q10',\n",
       "  'event_timestamp': '2019-10-11T20:58:24.532-0400',\n",
       "  'event_type': 'search'},\n",
       " {'event_info': 'COENZIMA Q10',\n",
       "  'event_timestamp': '2019-10-11T20:58:36.116-0400',\n",
       "  'event_type': 'search'},\n",
       " {'event_info': 'COENZIMA Q10',\n",
       "  'event_timestamp': '2019-10-11T20:58:40.355-0400',\n",
       "  'event_type': 'search'},\n",
       " {'event_info': 'COENZIMA Q10',\n",
       "  'event_timestamp': '2019-10-11T20:58:47.166-0400',\n",
       "  'event_type': 'search'},\n",
       " {'event_info': 'COENZIMA Q10',\n",
       "  'event_timestamp': '2019-10-11T20:58:54.835-0400',\n",
       "  'event_type': 'search'},\n",
       " {'event_info': 'COENZIMA Q10 DOCTOR BEST',\n",
       "  'event_timestamp': '2019-10-11T20:59:19.519-0400',\n",
       "  'event_type': 'search'},\n",
       " {'event_info': 209290,\n",
       "  'event_timestamp': '2019-10-11T20:59:25.837-0400',\n",
       "  'event_type': 'view'},\n",
       " {'event_info': 209290,\n",
       "  'event_timestamp': '2019-10-11T20:59:35.710-0400',\n",
       "  'event_type': 'view'},\n",
       " {'event_info': 'COENZIMA Q10 DOCTOR BEST',\n",
       "  'event_timestamp': '2019-10-11T20:59:46.487-0400',\n",
       "  'event_type': 'search'},\n",
       " {'event_info': 1765331,\n",
       "  'event_timestamp': '2019-10-11T20:59:52.035-0400',\n",
       "  'event_type': 'view'},\n",
       " {'event_info': 'COENZIMA Q10 DOCTOR BEST',\n",
       "  'event_timestamp': '2019-10-11T20:59:59.846-0400',\n",
       "  'event_type': 'search'},\n",
       " {'event_info': 'COENZIMA Q10',\n",
       "  'event_timestamp': '2019-10-11T21:00:11.051-0400',\n",
       "  'event_type': 'search'},\n",
       " {'event_info': 'DHEA',\n",
       "  'event_timestamp': '2019-10-11T21:00:17.689-0400',\n",
       "  'event_type': 'search'},\n",
       " {'event_info': 'CELLUCOR P6 ULTRA',\n",
       "  'event_timestamp': '2019-10-11T21:16:18.053-0400',\n",
       "  'event_type': 'search'},\n",
       " {'event_info': 'CELLUCOR P6 ULTRA',\n",
       "  'event_timestamp': '2019-10-11T21:34:11.227-0400',\n",
       "  'event_type': 'search'},\n",
       " {'event_info': 'CELLUCOR P6 ULTRA',\n",
       "  'event_timestamp': '2019-10-11T21:34:22.627-0400',\n",
       "  'event_type': 'search'},\n",
       " {'event_info': 142549,\n",
       "  'event_timestamp': '2019-10-11T21:34:31.158-0400',\n",
       "  'event_type': 'view'},\n",
       " {'event_info': 'CELLUCOR P6 ULTRA',\n",
       "  'event_timestamp': '2019-10-11T21:34:32.452-0400',\n",
       "  'event_type': 'search'},\n",
       " {'event_info': 252671,\n",
       "  'event_timestamp': '2019-10-11T21:34:36.288-0400',\n",
       "  'event_type': 'view'},\n",
       " {'event_info': 'CELLUCOR P6 ULTRA',\n",
       "  'event_timestamp': '2019-10-11T21:34:47.494-0400',\n",
       "  'event_type': 'search'},\n",
       " {'event_info': 472297,\n",
       "  'event_timestamp': '2019-10-11T21:34:51.016-0400',\n",
       "  'event_type': 'view'},\n",
       " {'event_info': 'CELLUCOR P6 ULTRA',\n",
       "  'event_timestamp': '2019-10-11T21:34:51.593-0400',\n",
       "  'event_type': 'search'},\n",
       " {'event_info': 'MUSCLETECH ALPHA TEST',\n",
       "  'event_timestamp': '2019-10-11T21:35:18.411-0400',\n",
       "  'event_type': 'search'},\n",
       " {'event_info': 1328790,\n",
       "  'event_timestamp': '2019-10-11T21:35:23.566-0400',\n",
       "  'event_type': 'view'},\n",
       " {'event_info': 'MUSCLETECH ALPHA TEST',\n",
       "  'event_timestamp': '2019-10-11T21:35:25.099-0400',\n",
       "  'event_type': 'search'},\n",
       " {'event_info': 553352,\n",
       "  'event_timestamp': '2019-10-11T21:35:32.385-0400',\n",
       "  'event_type': 'view'},\n",
       " {'event_info': 'MUSCLETECH ALPHA TEST',\n",
       "  'event_timestamp': '2019-10-11T21:35:38.412-0400',\n",
       "  'event_type': 'search'},\n",
       " {'event_info': 'MUSCLETECH ALPHA TEST',\n",
       "  'event_timestamp': '2019-10-11T21:35:40.036-0400',\n",
       "  'event_type': 'search'},\n",
       " {'event_info': 419738,\n",
       "  'event_timestamp': '2019-10-11T21:35:45.187-0400',\n",
       "  'event_type': 'view'},\n",
       " {'event_info': 'MUSCLETECH ALPHA TEST',\n",
       "  'event_timestamp': '2019-10-11T21:35:49.285-0400',\n",
       "  'event_type': 'search'},\n",
       " {'event_info': 'MUSCLETECH ALPHA TEST',\n",
       "  'event_timestamp': '2019-10-11T21:35:54.263-0400',\n",
       "  'event_type': 'search'},\n",
       " {'event_info': 'CELLUCOR P6 ULTRA',\n",
       "  'event_timestamp': '2019-10-11T22:24:38.446-0400',\n",
       "  'event_type': 'search'},\n",
       " {'event_info': 1868015,\n",
       "  'event_timestamp': '2019-10-11T22:24:45.805-0400',\n",
       "  'event_type': 'view'},\n",
       " {'event_info': 'CELLUCOR P6 ULTRA',\n",
       "  'event_timestamp': '2019-10-11T22:24:47.436-0400',\n",
       "  'event_type': 'search'},\n",
       " {'event_info': 'PREGNENOLONA',\n",
       "  'event_timestamp': '2019-10-12T00:36:25.124-0400',\n",
       "  'event_type': 'search'},\n",
       " {'event_info': 926620,\n",
       "  'event_timestamp': '2019-10-12T00:36:40.414-0400',\n",
       "  'event_type': 'view'},\n",
       " {'event_info': 'PREGNENOLONA',\n",
       "  'event_timestamp': '2019-10-12T00:36:55.583-0400',\n",
       "  'event_type': 'search'},\n",
       " {'event_info': 1111696,\n",
       "  'event_timestamp': '2019-10-12T00:36:59.446-0400',\n",
       "  'event_type': 'view'},\n",
       " {'event_info': 1111696,\n",
       "  'event_timestamp': '2019-10-12T00:37:14.083-0400',\n",
       "  'event_type': 'view'},\n",
       " {'event_info': 1111696,\n",
       "  'event_timestamp': '2019-10-12T00:37:38.367-0400',\n",
       "  'event_type': 'view'},\n",
       " {'event_info': 'PREGNENOLONA',\n",
       "  'event_timestamp': '2019-10-12T00:37:39.237-0400',\n",
       "  'event_type': 'search'},\n",
       " {'event_info': 466035,\n",
       "  'event_timestamp': '2019-10-12T00:37:43.812-0400',\n",
       "  'event_type': 'view'},\n",
       " {'event_info': 466035,\n",
       "  'event_timestamp': '2019-10-12T00:37:55.790-0400',\n",
       "  'event_type': 'view'},\n",
       " {'event_info': 'PREGNENOLONA',\n",
       "  'event_timestamp': '2019-10-12T00:37:57.590-0400',\n",
       "  'event_type': 'search'},\n",
       " {'event_info': 466035,\n",
       "  'event_timestamp': '2019-10-12T00:38:02.820-0400',\n",
       "  'event_type': 'view'},\n",
       " {'event_info': 466035,\n",
       "  'event_timestamp': '2019-10-12T00:38:07.867-0400',\n",
       "  'event_type': 'view'},\n",
       " {'event_info': 'PREGNENOLONA',\n",
       "  'event_timestamp': '2019-10-12T00:38:08.988-0400',\n",
       "  'event_type': 'search'},\n",
       " {'event_info': 424323,\n",
       "  'event_timestamp': '2019-10-12T00:38:13.472-0400',\n",
       "  'event_type': 'view'},\n",
       " {'event_info': 424323,\n",
       "  'event_timestamp': '2019-10-12T00:38:33.306-0400',\n",
       "  'event_type': 'view'},\n",
       " {'event_info': 'PREGNENOLONA',\n",
       "  'event_timestamp': '2019-10-12T00:38:35.057-0400',\n",
       "  'event_type': 'search'},\n",
       " {'event_info': 424323,\n",
       "  'event_timestamp': '2019-10-12T00:38:39.705-0400',\n",
       "  'event_type': 'view'},\n",
       " {'event_info': 'PREGNENOLONA',\n",
       "  'event_timestamp': '2019-10-12T00:38:41.991-0400',\n",
       "  'event_type': 'search'},\n",
       " {'event_info': 1358906,\n",
       "  'event_timestamp': '2019-10-12T00:38:45.163-0400',\n",
       "  'event_type': 'view'},\n",
       " {'event_info': 1358906,\n",
       "  'event_timestamp': '2019-10-12T00:38:57.606-0400',\n",
       "  'event_type': 'view'},\n",
       " {'event_info': 'PREGNENOLONA',\n",
       "  'event_timestamp': '2019-10-12T00:38:59.970-0400',\n",
       "  'event_type': 'search'},\n",
       " {'event_info': 926620,\n",
       "  'event_timestamp': '2019-10-12T00:39:04.168-0400',\n",
       "  'event_type': 'view'},\n",
       " {'event_info': 926620,\n",
       "  'event_timestamp': '2019-10-12T00:39:23.814-0400',\n",
       "  'event_type': 'view'},\n",
       " {'event_info': 'PREGNENOLONA',\n",
       "  'event_timestamp': '2019-10-12T00:39:25.348-0400',\n",
       "  'event_type': 'search'},\n",
       " {'event_info': 'PREGNENOLONA',\n",
       "  'event_timestamp': '2019-10-12T00:39:27.363-0400',\n",
       "  'event_type': 'search'},\n",
       " {'event_info': 2069024,\n",
       "  'event_timestamp': '2019-10-12T00:39:32.472-0400',\n",
       "  'event_type': 'view'},\n",
       " {'event_info': 2069024,\n",
       "  'event_timestamp': '2019-10-12T00:39:52.772-0400',\n",
       "  'event_type': 'view'},\n",
       " {'event_info': 'PREGNENOLONA',\n",
       "  'event_timestamp': '2019-10-12T00:39:55.501-0400',\n",
       "  'event_type': 'search'},\n",
       " {'event_info': 640447,\n",
       "  'event_timestamp': '2019-10-12T00:40:02.285-0400',\n",
       "  'event_type': 'view'},\n",
       " {'event_info': 640447,\n",
       "  'event_timestamp': '2019-10-12T00:40:30.688-0400',\n",
       "  'event_type': 'view'},\n",
       " {'event_info': 'PREGNENOLONA',\n",
       "  'event_timestamp': '2019-10-12T00:40:34.271-0400',\n",
       "  'event_type': 'search'},\n",
       " {'event_info': 190798,\n",
       "  'event_timestamp': '2019-10-12T00:40:47.475-0400',\n",
       "  'event_type': 'view'},\n",
       " {'event_info': 'PREGNENOLONA',\n",
       "  'event_timestamp': '2019-10-12T00:40:50.139-0400',\n",
       "  'event_type': 'search'},\n",
       " {'event_info': 'DHEA',\n",
       "  'event_timestamp': '2019-10-12T00:40:55.066-0400',\n",
       "  'event_type': 'search'},\n",
       " {'event_info': 1891361,\n",
       "  'event_timestamp': '2019-10-12T00:41:02.395-0400',\n",
       "  'event_type': 'view'},\n",
       " {'event_info': 'DHEA',\n",
       "  'event_timestamp': '2019-10-12T00:41:18.910-0400',\n",
       "  'event_type': 'search'},\n",
       " {'event_info': 'DHEA',\n",
       "  'event_timestamp': '2019-10-12T00:41:20.605-0400',\n",
       "  'event_type': 'search'},\n",
       " {'event_info': 'DHEA',\n",
       "  'event_timestamp': '2019-10-12T00:41:27.603-0400',\n",
       "  'event_type': 'search'},\n",
       " {'event_info': 'DHEA',\n",
       "  'event_timestamp': '2019-10-12T00:41:34.356-0400',\n",
       "  'event_type': 'search'},\n",
       " {'event_info': 600993,\n",
       "  'event_timestamp': '2019-10-12T00:41:46.983-0400',\n",
       "  'event_type': 'view'},\n",
       " {'event_info': 'DHEA',\n",
       "  'event_timestamp': '2019-10-12T00:41:47.267-0400',\n",
       "  'event_type': 'search'},\n",
       " {'event_info': 'CELLUCOR P6 ULTRA',\n",
       "  'event_timestamp': '2019-10-12T00:41:55.022-0400',\n",
       "  'event_type': 'search'},\n",
       " {'event_info': 'PREGNENOLONA',\n",
       "  'event_timestamp': '2019-10-12T08:21:58.916-0400',\n",
       "  'event_type': 'search'},\n",
       " {'event_info': 'UMIDIGI A5 PRO',\n",
       "  'event_timestamp': '2019-10-12T13:34:15.120-0400',\n",
       "  'event_type': 'search'},\n",
       " {'event_info': 'UMIDIGI A5 PRO',\n",
       "  'event_timestamp': '2019-10-12T13:34:20.595-0400',\n",
       "  'event_type': 'search'},\n",
       " {'event_info': 1557903,\n",
       "  'event_timestamp': '2019-10-12T13:34:27.509-0400',\n",
       "  'event_type': 'view'},\n",
       " {'event_info': 'UMIDIGI A5 PRO',\n",
       "  'event_timestamp': '2019-10-12T13:34:45.798-0400',\n",
       "  'event_type': 'search'},\n",
       " {'event_info': 944651,\n",
       "  'event_timestamp': '2019-10-12T19:28:00.452-0400',\n",
       "  'event_type': 'view'},\n",
       " {'event_info': 'UMIDIGI A5 PRO',\n",
       "  'event_timestamp': '2019-10-12T19:54:45.584-0400',\n",
       "  'event_type': 'search'},\n",
       " {'event_info': 'UMIDIGI A5 PRO',\n",
       "  'event_timestamp': '2019-10-12T19:54:55.989-0400',\n",
       "  'event_type': 'search'},\n",
       " {'event_info': 1557903,\n",
       "  'event_timestamp': '2019-10-12T19:55:03.831-0400',\n",
       "  'event_type': 'view'},\n",
       " {'event_info': 'UMIDIGI A5 PRO',\n",
       "  'event_timestamp': '2019-10-12T19:55:08.251-0400',\n",
       "  'event_type': 'search'},\n",
       " {'event_info': 944651,\n",
       "  'event_timestamp': '2019-10-12T19:55:18.129-0400',\n",
       "  'event_type': 'view'},\n",
       " {'event_info': 'UMIDIGI A5 PRO',\n",
       "  'event_timestamp': '2019-10-12T19:55:19.194-0400',\n",
       "  'event_type': 'search'},\n",
       " {'event_info': 944651,\n",
       "  'event_timestamp': '2019-10-12T19:55:22.440-0400',\n",
       "  'event_type': 'view'},\n",
       " {'event_info': 'UMIDIGI A5 PRO',\n",
       "  'event_timestamp': '2019-10-12T19:55:34.861-0400',\n",
       "  'event_type': 'search'},\n",
       " {'event_info': 'UMIDIGI A5 PRO',\n",
       "  'event_timestamp': '2019-10-12T19:57:42.133-0400',\n",
       "  'event_type': 'search'},\n",
       " {'event_info': 'UMIDIGI A5 PRO',\n",
       "  'event_timestamp': '2019-10-12T19:57:47.943-0400',\n",
       "  'event_type': 'search'},\n",
       " {'event_info': 944651,\n",
       "  'event_timestamp': '2019-10-12T19:57:54.824-0400',\n",
       "  'event_type': 'view'},\n",
       " {'event_info': 944651,\n",
       "  'event_timestamp': '2019-10-12T19:58:27.739-0400',\n",
       "  'event_type': 'view'},\n",
       " {'event_info': 'UMIDIGI A5 PRO',\n",
       "  'event_timestamp': '2019-10-12T19:58:28.660-0400',\n",
       "  'event_type': 'search'},\n",
       " {'event_info': 'UMIDIGI A5 PRO',\n",
       "  'event_timestamp': '2019-10-12T20:05:41.308-0400',\n",
       "  'event_type': 'search'},\n",
       " {'event_info': 'UMIDIGI A5 PRO',\n",
       "  'event_timestamp': '2019-10-12T20:05:44.717-0400',\n",
       "  'event_type': 'search'},\n",
       " {'event_info': 944651,\n",
       "  'event_timestamp': '2019-10-12T20:05:54.464-0400',\n",
       "  'event_type': 'view'},\n",
       " {'event_info': 'UMIDIGI A5 PRO',\n",
       "  'event_timestamp': '2019-10-12T20:06:02.532-0400',\n",
       "  'event_type': 'search'},\n",
       " {'event_info': 'REALME',\n",
       "  'event_timestamp': '2019-10-12T20:57:23.996-0400',\n",
       "  'event_type': 'search'},\n",
       " {'event_info': 2091024,\n",
       "  'event_timestamp': '2019-10-12T20:57:41.586-0400',\n",
       "  'event_type': 'view'},\n",
       " {'event_info': 'REALME',\n",
       "  'event_timestamp': '2019-10-12T20:57:47.425-0400',\n",
       "  'event_type': 'search'},\n",
       " {'event_info': 1695541,\n",
       "  'event_timestamp': '2019-10-12T20:57:50.500-0400',\n",
       "  'event_type': 'view'},\n",
       " {'event_info': 'REALME',\n",
       "  'event_timestamp': '2019-10-12T20:57:52.188-0400',\n",
       "  'event_type': 'search'},\n",
       " {'event_info': 895018,\n",
       "  'event_timestamp': '2019-10-12T20:57:54.904-0400',\n",
       "  'event_type': 'view'},\n",
       " {'event_info': 'REALME',\n",
       "  'event_timestamp': '2019-10-12T20:58:02.140-0400',\n",
       "  'event_type': 'search'},\n",
       " {'event_info': 'UMIDIGI A5 PRO',\n",
       "  'event_timestamp': '2019-10-12T21:02:09.338-0400',\n",
       "  'event_type': 'search'},\n",
       " {'event_info': 'UMIDIGI A5 PRO',\n",
       "  'event_timestamp': '2019-10-12T21:02:13.951-0400',\n",
       "  'event_type': 'search'},\n",
       " {'event_info': 944651,\n",
       "  'event_timestamp': '2019-10-12T21:02:21.528-0400',\n",
       "  'event_type': 'view'},\n",
       " {'event_info': 944651,\n",
       "  'event_timestamp': '2019-10-12T21:03:00.556-0400',\n",
       "  'event_type': 'view'},\n",
       " {'event_info': 944651,\n",
       "  'event_timestamp': '2019-10-12T21:03:08.625-0400',\n",
       "  'event_type': 'view'},\n",
       " {'event_info': 'UMIDIGI A5 PRO',\n",
       "  'event_timestamp': '2019-10-12T21:03:09.468-0400',\n",
       "  'event_type': 'search'},\n",
       " {'event_info': 'UMIDIGI A5 PRO',\n",
       "  'event_timestamp': '2019-10-12T21:25:05.098-0400',\n",
       "  'event_type': 'search'},\n",
       " {'event_info': 'UMIDIGI A5 PRO',\n",
       "  'event_timestamp': '2019-10-12T21:25:11.009-0400',\n",
       "  'event_type': 'search'},\n",
       " {'event_info': 944651,\n",
       "  'event_timestamp': '2019-10-12T21:25:17.490-0400',\n",
       "  'event_type': 'view'},\n",
       " {'event_info': 944651,\n",
       "  'event_timestamp': '2019-10-12T21:25:33.900-0400',\n",
       "  'event_type': 'view'},\n",
       " {'event_info': 'UMIDIGI A5 PRO',\n",
       "  'event_timestamp': '2019-10-12T21:25:34.704-0400',\n",
       "  'event_type': 'search'},\n",
       " {'event_info': 'UMIDIGI A5 PRO',\n",
       "  'event_timestamp': '2019-10-12T21:51:30.214-0400',\n",
       "  'event_type': 'search'},\n",
       " {'event_info': 944651,\n",
       "  'event_timestamp': '2019-10-12T21:51:37.475-0400',\n",
       "  'event_type': 'view'},\n",
       " {'event_info': 'UMIDIGI A5 PRO',\n",
       "  'event_timestamp': '2019-10-12T21:52:04.044-0400',\n",
       "  'event_type': 'search'},\n",
       " {'event_info': 'TESTOSTERONE SIX STAR',\n",
       "  'event_timestamp': '2019-10-13T01:00:11.080-0400',\n",
       "  'event_type': 'search'},\n",
       " {'event_info': 'TESTOSTERONE SIX STAR',\n",
       "  'event_timestamp': '2019-10-13T01:00:26.194-0400',\n",
       "  'event_type': 'search'},\n",
       " {'event_info': 149417,\n",
       "  'event_timestamp': '2019-10-13T01:00:36.479-0400',\n",
       "  'event_type': 'view'},\n",
       " {'event_info': 'TESTOSTERONE SIX STAR',\n",
       "  'event_timestamp': '2019-10-13T01:00:42.135-0400',\n",
       "  'event_type': 'search'},\n",
       " {'event_info': 1196060,\n",
       "  'event_timestamp': '2019-10-13T01:00:52.247-0400',\n",
       "  'event_type': 'view'},\n",
       " {'event_info': 'TESTOSTERONE SIX STAR',\n",
       "  'event_timestamp': '2019-10-13T01:00:54.686-0400',\n",
       "  'event_type': 'search'},\n",
       " {'event_info': 795826,\n",
       "  'event_timestamp': '2019-10-13T01:01:01.682-0400',\n",
       "  'event_type': 'view'},\n",
       " {'event_info': 'TESTOSTERONE SIX STAR',\n",
       "  'event_timestamp': '2019-10-13T01:01:05.026-0400',\n",
       "  'event_type': 'search'},\n",
       " {'event_info': 1873203,\n",
       "  'event_timestamp': '2019-10-13T01:01:10.997-0400',\n",
       "  'event_type': 'view'},\n",
       " {'event_info': 'TESTOSTERONE SIX STAR',\n",
       "  'event_timestamp': '2019-10-13T01:01:15.892-0400',\n",
       "  'event_type': 'search'},\n",
       " {'event_info': 'TESTOSTERONE SIX STAR',\n",
       "  'event_timestamp': '2019-10-13T01:01:18.832-0400',\n",
       "  'event_type': 'search'},\n",
       " {'event_info': 922319,\n",
       "  'event_timestamp': '2019-10-13T01:01:20.934-0400',\n",
       "  'event_type': 'view'},\n",
       " {'event_info': 'TESTOSTERONE SIX STAR',\n",
       "  'event_timestamp': '2019-10-13T01:01:26.013-0400',\n",
       "  'event_type': 'search'},\n",
       " {'event_info': 609178,\n",
       "  'event_timestamp': '2019-10-13T01:01:33.027-0400',\n",
       "  'event_type': 'view'},\n",
       " {'event_info': 'TESTOSTERONE SIX STAR',\n",
       "  'event_timestamp': '2019-10-13T01:01:37.883-0400',\n",
       "  'event_type': 'search'},\n",
       " {'event_info': 1742867,\n",
       "  'event_timestamp': '2019-10-13T01:01:49.292-0400',\n",
       "  'event_type': 'view'},\n",
       " {'event_info': 'TESTOSTERONE SIX STAR',\n",
       "  'event_timestamp': '2019-10-13T01:01:52.223-0400',\n",
       "  'event_type': 'search'},\n",
       " {'event_info': 685227,\n",
       "  'event_timestamp': '2019-10-13T01:01:56.717-0400',\n",
       "  'event_type': 'view'},\n",
       " {'event_info': 'TESTOSTERONE SIX STAR',\n",
       "  'event_timestamp': '2019-10-13T01:02:00.264-0400',\n",
       "  'event_type': 'search'},\n",
       " {'event_info': 'BALA HALLS',\n",
       "  'event_timestamp': '2019-10-13T06:56:11.114-0400',\n",
       "  'event_type': 'search'},\n",
       " {'event_info': 'BALA HALLS',\n",
       "  'event_timestamp': '2019-10-13T06:56:18.202-0400',\n",
       "  'event_type': 'search'},\n",
       " {'event_info': 1866860,\n",
       "  'event_timestamp': '2019-10-13T06:56:27.958-0400',\n",
       "  'event_type': 'view'},\n",
       " {'event_info': 'BALA HALLS',\n",
       "  'event_timestamp': '2019-10-13T06:56:33.461-0400',\n",
       "  'event_type': 'search'},\n",
       " {'event_info': 153151,\n",
       "  'event_timestamp': '2019-10-13T06:56:36.573-0400',\n",
       "  'event_type': 'view'},\n",
       " {'event_info': 'BALA HALLS',\n",
       "  'event_timestamp': '2019-10-13T06:56:39.140-0400',\n",
       "  'event_type': 'search'},\n",
       " {'event_info': 941058,\n",
       "  'event_timestamp': '2019-10-13T06:56:44.092-0400',\n",
       "  'event_type': 'view'},\n",
       " {'event_info': 'BALA HALLS',\n",
       "  'event_timestamp': '2019-10-13T06:56:48.489-0400',\n",
       "  'event_type': 'search'},\n",
       " {'event_info': 'BALA HALLS',\n",
       "  'event_timestamp': '2019-10-13T07:49:55.877-0400',\n",
       "  'event_type': 'search'},\n",
       " {'event_info': 'BALA HALLS',\n",
       "  'event_timestamp': '2019-10-13T08:00:09.752-0400',\n",
       "  'event_type': 'search'},\n",
       " {'event_info': 'DHEA',\n",
       "  'event_timestamp': '2019-10-13T08:32:29.900-0400',\n",
       "  'event_type': 'search'},\n",
       " {'event_info': 248797,\n",
       "  'event_timestamp': '2019-10-13T08:32:36.781-0400',\n",
       "  'event_type': 'view'},\n",
       " {'event_info': 'DHEA',\n",
       "  'event_timestamp': '2019-10-13T08:32:37.090-0400',\n",
       "  'event_type': 'search'},\n",
       " {'event_info': 'DHEA',\n",
       "  'event_timestamp': '2019-10-13T08:32:40.022-0400',\n",
       "  'event_type': 'search'},\n",
       " {'event_info': 'DHEA',\n",
       "  'event_timestamp': '2019-10-13T08:32:43.393-0400',\n",
       "  'event_type': 'search'},\n",
       " {'event_info': 'UMIDIGI A5 PRO',\n",
       "  'event_timestamp': '2019-10-13T08:40:22.847-0400',\n",
       "  'event_type': 'search'},\n",
       " {'event_info': 'UMIDIGI A5 PRO',\n",
       "  'event_timestamp': '2019-10-13T08:40:28.518-0400',\n",
       "  'event_type': 'search'},\n",
       " {'event_info': 1557903,\n",
       "  'event_timestamp': '2019-10-13T08:40:34.675-0400',\n",
       "  'event_type': 'view'},\n",
       " {'event_info': 'UMIDIGI A5 PRO',\n",
       "  'event_timestamp': '2019-10-13T08:40:44.462-0400',\n",
       "  'event_type': 'search'},\n",
       " {'event_info': 944651,\n",
       "  'event_timestamp': '2019-10-13T08:40:47.582-0400',\n",
       "  'event_type': 'view'},\n",
       " {'event_info': 944651,\n",
       "  'event_timestamp': '2019-10-13T08:41:37.667-0400',\n",
       "  'event_type': 'view'},\n",
       " {'event_info': 'UMIDIGI A5 PRO',\n",
       "  'event_timestamp': '2019-10-13T08:41:38.689-0400',\n",
       "  'event_type': 'search'}]"
      ]
     },
     "execution_count": 41,
     "metadata": {},
     "output_type": "execute_result"
    }
   ],
   "source": [
    "train[train[\"len_user_history\"]==train[\"len_user_history\"].max()][\"user_history\"].iloc[0]"
   ]
  },
  {
   "cell_type": "markdown",
   "metadata": {},
   "source": [
    "## COUNT"
   ]
  },
  {
   "cell_type": "code",
   "execution_count": 42,
   "metadata": {
    "ExecuteTime": {
     "end_time": "2020-11-12T18:47:55.896425Z",
     "start_time": "2020-11-12T18:47:50.740246Z"
    }
   },
   "outputs": [],
   "source": [
    "count_item_domain = train.groupby([\"domain_id\",\"item_bought\"])[\"title\"].count().reset_index()\n",
    "count_item_domain=count_item_domain.rename(columns={\"title\": \"count\"})\n",
    "count_item_domain=count_item_domain.groupby([\"domain_id\"]).apply(lambda x: x.nlargest(15,['count'])).reset_index(drop=True)"
   ]
  },
  {
   "cell_type": "code",
   "execution_count": 43,
   "metadata": {
    "ExecuteTime": {
     "end_time": "2020-11-12T18:48:04.153843Z",
     "start_time": "2020-11-12T18:47:55.899412Z"
    }
   },
   "outputs": [],
   "source": [
    "top_sell_domain = {}\n",
    "for domain in count_item_domain[\"domain_id\"].unique():\n",
    "    top_sell_domain[domain]=count_item_domain[count_item_domain.domain_id==domain].set_index(\"item_bought\")[[\"count\"]].to_dict()[\"count\"]"
   ]
  },
  {
   "cell_type": "markdown",
   "metadata": {},
   "source": [
    "1. Get Count Items purchase\n",
    "2. Get Count Items Views\n",
    "3. Get Count Items Search"
   ]
  },
  {
   "cell_type": "code",
   "execution_count": 44,
   "metadata": {
    "ExecuteTime": {
     "end_time": "2020-11-12T18:48:04.159800Z",
     "start_time": "2020-11-12T18:48:04.154813Z"
    }
   },
   "outputs": [],
   "source": [
    "from collections import Counter\n",
    "from operator import itemgetter\n",
    "from heapq import nlargest\n",
    "get_recent = itemgetter(\"event_timestamp\")"
   ]
  },
  {
   "cell_type": "code",
   "execution_count": 45,
   "metadata": {
    "ExecuteTime": {
     "end_time": "2020-11-12T18:48:04.166782Z",
     "start_time": "2020-11-12T18:48:04.160798Z"
    }
   },
   "outputs": [],
   "source": [
    "def get_count_purchase(row):\n",
    "    log=[]\n",
    "    for event in row:\n",
    "        if \"purchases\" in event[\"event_type\"].lower():\n",
    "            log.append(event[\"event_info\"])\n",
    "    if len(log)==0: return \"NONE\"\n",
    "    else: return dict(Counter(log))\n",
    "    \n",
    "def get_count_search(row):\n",
    "    log=[]\n",
    "    for event in row:\n",
    "        if event[\"event_type\"]==\"search\":\n",
    "            log.append(event[\"event_info\"])\n",
    "    if len(log)==0: return \"NONE\"\n",
    "    else: return dict(Counter(log))\n",
    "\n",
    "def get_count_view(row):\n",
    "    log=[]\n",
    "    for event in row:\n",
    "        if event[\"event_type\"]==\"view\":\n",
    "            log.append(event[\"event_info\"])\n",
    "    if len(log)==0: return \"NONE\"\n",
    "    else: return dict(Counter(log))"
   ]
  },
  {
   "cell_type": "code",
   "execution_count": 46,
   "metadata": {
    "ExecuteTime": {
     "end_time": "2020-11-12T18:48:10.880846Z",
     "start_time": "2020-11-12T18:48:04.167779Z"
    }
   },
   "outputs": [],
   "source": [
    "train[\"count_purchase\"]=train[\"user_history\"].apply(get_count_purchase)\n",
    "train[\"count_view\"]=train[\"user_history\"].apply(get_count_view)\n",
    "train[\"count_search\"]=train[\"user_history\"].apply(get_count_search)"
   ]
  },
  {
   "cell_type": "code",
   "execution_count": 47,
   "metadata": {
    "ExecuteTime": {
     "end_time": "2020-11-12T18:48:10.885808Z",
     "start_time": "2020-11-12T18:48:10.881816Z"
    }
   },
   "outputs": [],
   "source": [
    "def get_max_view(row):\n",
    "    if row[\"number_view\"]==0: return np.nan\n",
    "    log=[]\n",
    "    for event in row[\"user_history\"]:\n",
    "        if event[\"event_type\"]==\"view\":\n",
    "            log.append(event[\"event_info\"])\n",
    "    dicc = dict(Counter(log))\n",
    "    max_view = max(dicc, key=dicc.get)\n",
    "    if dicc[max_view]==1 and len(dicc.keys())>1:return np.nan\n",
    "    else:\n",
    "        return  max_view"
   ]
  },
  {
   "cell_type": "code",
   "execution_count": 48,
   "metadata": {
    "ExecuteTime": {
     "end_time": "2020-11-12T18:48:13.795060Z",
     "start_time": "2020-11-12T18:48:10.886830Z"
    }
   },
   "outputs": [],
   "source": [
    "train[\"max_view_item\"]=train[\"user_history\"].apply(get_max_view)"
   ]
  },
  {
   "cell_type": "code",
   "execution_count": 49,
   "metadata": {
    "ExecuteTime": {
     "end_time": "2020-11-12T18:48:13.984548Z",
     "start_time": "2020-11-12T18:48:13.796070Z"
    }
   },
   "outputs": [
    {
     "data": {
      "text/html": [
       "<div>\n",
       "<style scoped>\n",
       "    .dataframe tbody tr th:only-of-type {\n",
       "        vertical-align: middle;\n",
       "    }\n",
       "\n",
       "    .dataframe tbody tr th {\n",
       "        vertical-align: top;\n",
       "    }\n",
       "\n",
       "    .dataframe thead th {\n",
       "        text-align: right;\n",
       "    }\n",
       "</style>\n",
       "<table border=\"1\" class=\"dataframe\">\n",
       "  <thead>\n",
       "    <tr style=\"text-align: right;\">\n",
       "      <th></th>\n",
       "      <th>user_history</th>\n",
       "      <th>item_bought</th>\n",
       "      <th>title</th>\n",
       "      <th>domain_id</th>\n",
       "      <th>price</th>\n",
       "      <th>category_id</th>\n",
       "      <th>len_user_history</th>\n",
       "      <th>number_search</th>\n",
       "      <th>number_view</th>\n",
       "      <th>count_purchase</th>\n",
       "      <th>count_view</th>\n",
       "      <th>count_search</th>\n",
       "      <th>max_view_item</th>\n",
       "    </tr>\n",
       "  </thead>\n",
       "  <tbody>\n",
       "    <tr>\n",
       "      <th>660</th>\n",
       "      <td>[{'event_info': 496298, 'event_timestamp': '20...</td>\n",
       "      <td>496298</td>\n",
       "      <td>Climatizador Usb Mini Ar Portátil Umidificador...</td>\n",
       "      <td>MLB-PORTABLE_EVAPORATIVE_AIR_COOLERS</td>\n",
       "      <td>79.90</td>\n",
       "      <td>MLB72503</td>\n",
       "      <td>1</td>\n",
       "      <td>0</td>\n",
       "      <td>1</td>\n",
       "      <td>NONE</td>\n",
       "      <td>{496298: 1}</td>\n",
       "      <td>NONE</td>\n",
       "      <td>496298.0</td>\n",
       "    </tr>\n",
       "    <tr>\n",
       "      <th>788</th>\n",
       "      <td>[{'event_info': 1778906, 'event_timestamp': '2...</td>\n",
       "      <td>1778906</td>\n",
       "      <td>Cooktop 2 Bocas Preto Askoi A Gás Glp Superaut...</td>\n",
       "      <td>MLB-COOKTOPS</td>\n",
       "      <td>249.90</td>\n",
       "      <td>MLB120316</td>\n",
       "      <td>1</td>\n",
       "      <td>0</td>\n",
       "      <td>1</td>\n",
       "      <td>NONE</td>\n",
       "      <td>{1778906: 1}</td>\n",
       "      <td>NONE</td>\n",
       "      <td>1778906.0</td>\n",
       "    </tr>\n",
       "    <tr>\n",
       "      <th>1130</th>\n",
       "      <td>[{'event_info': 746966, 'event_timestamp': '20...</td>\n",
       "      <td>746966</td>\n",
       "      <td>Blusa Dama Floral Manga Larga</td>\n",
       "      <td>MLM-BLOUSES</td>\n",
       "      <td>331.37</td>\n",
       "      <td>MLM194159</td>\n",
       "      <td>1</td>\n",
       "      <td>0</td>\n",
       "      <td>1</td>\n",
       "      <td>NONE</td>\n",
       "      <td>{746966: 1}</td>\n",
       "      <td>NONE</td>\n",
       "      <td>746966.0</td>\n",
       "    </tr>\n",
       "  </tbody>\n",
       "</table>\n",
       "</div>"
      ],
      "text/plain": [
       "                                           user_history  item_bought  \\\n",
       "660   [{'event_info': 496298, 'event_timestamp': '20...       496298   \n",
       "788   [{'event_info': 1778906, 'event_timestamp': '2...      1778906   \n",
       "1130  [{'event_info': 746966, 'event_timestamp': '20...       746966   \n",
       "\n",
       "                                                  title  \\\n",
       "660   Climatizador Usb Mini Ar Portátil Umidificador...   \n",
       "788   Cooktop 2 Bocas Preto Askoi A Gás Glp Superaut...   \n",
       "1130                      Blusa Dama Floral Manga Larga   \n",
       "\n",
       "                                 domain_id   price category_id  \\\n",
       "660   MLB-PORTABLE_EVAPORATIVE_AIR_COOLERS   79.90    MLB72503   \n",
       "788                           MLB-COOKTOPS  249.90   MLB120316   \n",
       "1130                           MLM-BLOUSES  331.37   MLM194159   \n",
       "\n",
       "      len_user_history  number_search  number_view count_purchase  \\\n",
       "660                  1              0            1           NONE   \n",
       "788                  1              0            1           NONE   \n",
       "1130                 1              0            1           NONE   \n",
       "\n",
       "        count_view count_search  max_view_item  \n",
       "660    {496298: 1}         NONE       496298.0  \n",
       "788   {1778906: 1}         NONE      1778906.0  \n",
       "1130   {746966: 1}         NONE       746966.0  "
      ]
     },
     "execution_count": 49,
     "metadata": {},
     "output_type": "execute_result"
    }
   ],
   "source": [
    "# Just one view  - Same item bought ? | or category \n",
    "train[(train[\"len_user_history\"]==1)&(train[\"item_bought\"]==train[\"max_view_item\"])].head(3)"
   ]
  },
  {
   "cell_type": "code",
   "execution_count": 50,
   "metadata": {
    "ExecuteTime": {
     "end_time": "2020-11-12T18:48:16.356218Z",
     "start_time": "2020-11-12T18:48:13.985513Z"
    }
   },
   "outputs": [],
   "source": [
    "train=pd.merge(train,\n",
    "               meli_item[[\"item_id\",\"domain_id\",\"category_id\"]].add_prefix(\"max_view_\"),\n",
    "               left_on=[\"max_view_item\"],\n",
    "               right_on=[\"max_view_item_id\"],\n",
    "               how=\"left\").drop(\"max_view_item_id\",axis=1)"
   ]
  },
  {
   "cell_type": "code",
   "execution_count": 51,
   "metadata": {
    "ExecuteTime": {
     "end_time": "2020-11-12T18:48:17.375466Z",
     "start_time": "2020-11-12T18:48:16.358166Z"
    }
   },
   "outputs": [],
   "source": [
    "meli_item_domain_dict = meli_item.set_index(\"item_id\")[\"domain_id\"].to_dict()"
   ]
  },
  {
   "cell_type": "code",
   "execution_count": 52,
   "metadata": {
    "ExecuteTime": {
     "end_time": "2020-11-12T18:48:17.383424Z",
     "start_time": "2020-11-12T18:48:17.377476Z"
    }
   },
   "outputs": [],
   "source": [
    "def most_domain_view(row):\n",
    "    if row[\"count_view\"]==\"NONE\":return np.nan\n",
    "    most_view = {}\n",
    "    for key in row[\"count_view\"].keys():\n",
    "        doma = meli_item_domain_dict[key]\n",
    "        if doma not in most_view.keys():\n",
    "            most_view[doma]=1\n",
    "        else:\n",
    "            most_view[doma]=most_view[doma]+1\n",
    "    dicc = dict(Counter(most_view))\n",
    "    return max(dicc, key=dicc.get)"
   ]
  },
  {
   "cell_type": "code",
   "execution_count": 53,
   "metadata": {
    "ExecuteTime": {
     "end_time": "2020-11-12T18:48:26.104094Z",
     "start_time": "2020-11-12T18:48:17.385419Z"
    }
   },
   "outputs": [],
   "source": [
    "train[\"most_domain_view\"]=train.apply(most_domain_view,axis=1)"
   ]
  },
  {
   "cell_type": "code",
   "execution_count": 54,
   "metadata": {
    "ExecuteTime": {
     "end_time": "2020-11-12T18:48:26.159944Z",
     "start_time": "2020-11-12T18:48:26.105090Z"
    }
   },
   "outputs": [
    {
     "data": {
      "text/html": [
       "<div>\n",
       "<style scoped>\n",
       "    .dataframe tbody tr th:only-of-type {\n",
       "        vertical-align: middle;\n",
       "    }\n",
       "\n",
       "    .dataframe tbody tr th {\n",
       "        vertical-align: top;\n",
       "    }\n",
       "\n",
       "    .dataframe thead th {\n",
       "        text-align: right;\n",
       "    }\n",
       "</style>\n",
       "<table border=\"1\" class=\"dataframe\">\n",
       "  <thead>\n",
       "    <tr style=\"text-align: right;\">\n",
       "      <th></th>\n",
       "      <th>user_history</th>\n",
       "      <th>item_bought</th>\n",
       "      <th>title</th>\n",
       "      <th>domain_id</th>\n",
       "      <th>price</th>\n",
       "      <th>category_id</th>\n",
       "      <th>len_user_history</th>\n",
       "      <th>number_search</th>\n",
       "      <th>number_view</th>\n",
       "      <th>count_purchase</th>\n",
       "      <th>count_view</th>\n",
       "      <th>count_search</th>\n",
       "      <th>max_view_item</th>\n",
       "      <th>max_view_domain_id</th>\n",
       "      <th>max_view_category_id</th>\n",
       "      <th>most_domain_view</th>\n",
       "    </tr>\n",
       "  </thead>\n",
       "  <tbody>\n",
       "    <tr>\n",
       "      <th>0</th>\n",
       "      <td>[{'event_info': 1786148, 'event_timestamp': '2...</td>\n",
       "      <td>1748830</td>\n",
       "      <td>Relógio Medidor Inteligente Pulso Freqüência C...</td>\n",
       "      <td>MLB-SMARTWATCHES</td>\n",
       "      <td>90.00</td>\n",
       "      <td>MLB135384</td>\n",
       "      <td>19</td>\n",
       "      <td>1</td>\n",
       "      <td>18</td>\n",
       "      <td>NONE</td>\n",
       "      <td>{1786148: 2, 1615991: 16}</td>\n",
       "      <td>{'RELOGIO SMARTWATCH': 1}</td>\n",
       "      <td>1615991.0</td>\n",
       "      <td>MLB-SMARTWATCHES</td>\n",
       "      <td>MLB135384</td>\n",
       "      <td>MLB-SMARTWATCHES</td>\n",
       "    </tr>\n",
       "    <tr>\n",
       "      <th>1</th>\n",
       "      <td>[{'event_info': 643652, 'event_timestamp': '20...</td>\n",
       "      <td>228737</td>\n",
       "      <td>Bomba Eletrica Tira Leite Materno Bivolt G-tech</td>\n",
       "      <td>MLB-MILK_EXTRACTORS</td>\n",
       "      <td>169.00</td>\n",
       "      <td>MLB264021</td>\n",
       "      <td>13</td>\n",
       "      <td>5</td>\n",
       "      <td>8</td>\n",
       "      <td>NONE</td>\n",
       "      <td>{643652: 1, 1156086: 1, 1943604: 1, 206667: 1,...</td>\n",
       "      <td>{'DESMAMADEIRA ELETRICA': 5}</td>\n",
       "      <td>228737.0</td>\n",
       "      <td>MLB-MILK_EXTRACTORS</td>\n",
       "      <td>MLB264021</td>\n",
       "      <td>MLB-MILK_EXTRACTORS</td>\n",
       "    </tr>\n",
       "    <tr>\n",
       "      <th>2</th>\n",
       "      <td>[{'event_info': 248595, 'event_timestamp': '20...</td>\n",
       "      <td>1909110</td>\n",
       "      <td>Kit Youtuber Tripé 1,20 Microfone Lapela Anel ...</td>\n",
       "      <td>MLB-CELLPHONE_ACCESSORIES</td>\n",
       "      <td>300.00</td>\n",
       "      <td>MLB5092</td>\n",
       "      <td>2</td>\n",
       "      <td>0</td>\n",
       "      <td>2</td>\n",
       "      <td>NONE</td>\n",
       "      <td>{248595: 2}</td>\n",
       "      <td>NONE</td>\n",
       "      <td>248595.0</td>\n",
       "      <td>MLB-TOWEL_SETS</td>\n",
       "      <td>MLB186353</td>\n",
       "      <td>MLB-TOWEL_SETS</td>\n",
       "    </tr>\n",
       "    <tr>\n",
       "      <th>3</th>\n",
       "      <td>[{'event_info': 'RADIOBOSS', 'event_timestamp'...</td>\n",
       "      <td>1197370</td>\n",
       "      <td>Leia A Descrição Por Favor - Maquininha Point ...</td>\n",
       "      <td>MLB-CARD_PAYMENT_TERMINALS</td>\n",
       "      <td>16.90</td>\n",
       "      <td>MLB277951</td>\n",
       "      <td>13</td>\n",
       "      <td>6</td>\n",
       "      <td>7</td>\n",
       "      <td>NONE</td>\n",
       "      <td>{505541: 5, 1230082: 1, 937557: 1}</td>\n",
       "      <td>{'RADIOBOSS': 2, 'SOUND FORGE': 1, 'SOUND FORG...</td>\n",
       "      <td>505541.0</td>\n",
       "      <td>MLB-COMPUTER_EQUIPMENT_AND_SPARE_PARTS</td>\n",
       "      <td>MLB1730</td>\n",
       "      <td>MLB-OFFICE_SOFTWARE</td>\n",
       "    </tr>\n",
       "    <tr>\n",
       "      <th>4</th>\n",
       "      <td>[{'event_info': 'AMAZFIT BIP', 'event_timestam...</td>\n",
       "      <td>2049207</td>\n",
       "      <td>Smartwatch Xiaomi Amazfit Bip Huami A1608 Orig...</td>\n",
       "      <td>MLB-SMARTWATCHES</td>\n",
       "      <td>355.99</td>\n",
       "      <td>MLB135384</td>\n",
       "      <td>69</td>\n",
       "      <td>23</td>\n",
       "      <td>46</td>\n",
       "      <td>NONE</td>\n",
       "      <td>{130440: 2, 2049207: 3, 277311: 1, 1476099: 2,...</td>\n",
       "      <td>{'AMAZFIT BIP': 5, 'AMAZFIT BIPAMAZFIT BIP LIT...</td>\n",
       "      <td>1313192.0</td>\n",
       "      <td>MLB-KIDS_TENTS</td>\n",
       "      <td>MLB278224</td>\n",
       "      <td>MLB-KIDS_TENTS</td>\n",
       "    </tr>\n",
       "  </tbody>\n",
       "</table>\n",
       "</div>"
      ],
      "text/plain": [
       "                                        user_history  item_bought  \\\n",
       "0  [{'event_info': 1786148, 'event_timestamp': '2...      1748830   \n",
       "1  [{'event_info': 643652, 'event_timestamp': '20...       228737   \n",
       "2  [{'event_info': 248595, 'event_timestamp': '20...      1909110   \n",
       "3  [{'event_info': 'RADIOBOSS', 'event_timestamp'...      1197370   \n",
       "4  [{'event_info': 'AMAZFIT BIP', 'event_timestam...      2049207   \n",
       "\n",
       "                                               title  \\\n",
       "0  Relógio Medidor Inteligente Pulso Freqüência C...   \n",
       "1    Bomba Eletrica Tira Leite Materno Bivolt G-tech   \n",
       "2  Kit Youtuber Tripé 1,20 Microfone Lapela Anel ...   \n",
       "3  Leia A Descrição Por Favor - Maquininha Point ...   \n",
       "4  Smartwatch Xiaomi Amazfit Bip Huami A1608 Orig...   \n",
       "\n",
       "                    domain_id   price category_id  len_user_history  \\\n",
       "0            MLB-SMARTWATCHES   90.00   MLB135384                19   \n",
       "1         MLB-MILK_EXTRACTORS  169.00   MLB264021                13   \n",
       "2   MLB-CELLPHONE_ACCESSORIES  300.00     MLB5092                 2   \n",
       "3  MLB-CARD_PAYMENT_TERMINALS   16.90   MLB277951                13   \n",
       "4            MLB-SMARTWATCHES  355.99   MLB135384                69   \n",
       "\n",
       "   number_search  number_view count_purchase  \\\n",
       "0              1           18           NONE   \n",
       "1              5            8           NONE   \n",
       "2              0            2           NONE   \n",
       "3              6            7           NONE   \n",
       "4             23           46           NONE   \n",
       "\n",
       "                                          count_view  \\\n",
       "0                          {1786148: 2, 1615991: 16}   \n",
       "1  {643652: 1, 1156086: 1, 1943604: 1, 206667: 1,...   \n",
       "2                                        {248595: 2}   \n",
       "3                 {505541: 5, 1230082: 1, 937557: 1}   \n",
       "4  {130440: 2, 2049207: 3, 277311: 1, 1476099: 2,...   \n",
       "\n",
       "                                        count_search  max_view_item  \\\n",
       "0                          {'RELOGIO SMARTWATCH': 1}      1615991.0   \n",
       "1                       {'DESMAMADEIRA ELETRICA': 5}       228737.0   \n",
       "2                                               NONE       248595.0   \n",
       "3  {'RADIOBOSS': 2, 'SOUND FORGE': 1, 'SOUND FORG...       505541.0   \n",
       "4  {'AMAZFIT BIP': 5, 'AMAZFIT BIPAMAZFIT BIP LIT...      1313192.0   \n",
       "\n",
       "                       max_view_domain_id max_view_category_id  \\\n",
       "0                        MLB-SMARTWATCHES            MLB135384   \n",
       "1                     MLB-MILK_EXTRACTORS            MLB264021   \n",
       "2                          MLB-TOWEL_SETS            MLB186353   \n",
       "3  MLB-COMPUTER_EQUIPMENT_AND_SPARE_PARTS              MLB1730   \n",
       "4                          MLB-KIDS_TENTS            MLB278224   \n",
       "\n",
       "      most_domain_view  \n",
       "0     MLB-SMARTWATCHES  \n",
       "1  MLB-MILK_EXTRACTORS  \n",
       "2       MLB-TOWEL_SETS  \n",
       "3  MLB-OFFICE_SOFTWARE  \n",
       "4       MLB-KIDS_TENTS  "
      ]
     },
     "execution_count": 54,
     "metadata": {},
     "output_type": "execute_result"
    }
   ],
   "source": [
    "train.head()"
   ]
  },
  {
   "cell_type": "markdown",
   "metadata": {},
   "source": [
    "## LAST\n",
    "1. Get last item view\n",
    "2. Get last item seach"
   ]
  },
  {
   "cell_type": "code",
   "execution_count": 55,
   "metadata": {
    "ExecuteTime": {
     "end_time": "2020-11-12T18:48:26.196845Z",
     "start_time": "2020-11-12T18:48:26.160941Z"
    }
   },
   "outputs": [
    {
     "data": {
      "text/plain": [
       "user_history            [{'event_info': 'ESTUFA SALGADOS', 'event_time...\n",
       "item_bought                                                       1350706\n",
       "title                   Call Of Duty Modern Warfare Xbox One Digital N...\n",
       "domain_id                                                 MLB-VIDEO_GAMES\n",
       "price                                                                  20\n",
       "category_id                                                     MLB186456\n",
       "len_user_history                                                      105\n",
       "number_search                                                          47\n",
       "number_view                                                            58\n",
       "count_purchase                                                       NONE\n",
       "count_view              {2074441: 3, 706034: 1, 303889: 4, 2038657: 2,...\n",
       "count_search            {'ESTUFA SALGADOS': 24, 'FILTRO ALCALINO': 1, ...\n",
       "max_view_item                                                 1.20032e+06\n",
       "max_view_domain_id                             MLB-HOT_FOOD_DISPLAY_CASES\n",
       "max_view_category_id                                             MLB49105\n",
       "most_domain_view                                     MLB-KITCHEN_SUPPLIES\n",
       "Name: 302494, dtype: object"
      ]
     },
     "execution_count": 55,
     "metadata": {},
     "output_type": "execute_result"
    }
   ],
   "source": [
    "train.loc[302494]"
   ]
  },
  {
   "cell_type": "code",
   "execution_count": 56,
   "metadata": {
    "ExecuteTime": {
     "end_time": "2020-11-12T18:48:26.214797Z",
     "start_time": "2020-11-12T18:48:26.197842Z"
    }
   },
   "outputs": [
    {
     "data": {
      "text/html": [
       "<div>\n",
       "<style scoped>\n",
       "    .dataframe tbody tr th:only-of-type {\n",
       "        vertical-align: middle;\n",
       "    }\n",
       "\n",
       "    .dataframe tbody tr th {\n",
       "        vertical-align: top;\n",
       "    }\n",
       "\n",
       "    .dataframe thead th {\n",
       "        text-align: right;\n",
       "    }\n",
       "</style>\n",
       "<table border=\"1\" class=\"dataframe\">\n",
       "  <thead>\n",
       "    <tr style=\"text-align: right;\">\n",
       "      <th></th>\n",
       "      <th>item_id</th>\n",
       "      <th>title</th>\n",
       "      <th>domain_id</th>\n",
       "      <th>product_id</th>\n",
       "      <th>price</th>\n",
       "      <th>category_id</th>\n",
       "      <th>condition</th>\n",
       "      <th>title_clean</th>\n",
       "    </tr>\n",
       "  </thead>\n",
       "  <tbody>\n",
       "    <tr>\n",
       "      <th>1092382</th>\n",
       "      <td>1350706</td>\n",
       "      <td>Call Of Duty Modern Warfare Xbox One Digital N...</td>\n",
       "      <td>MLB-VIDEO_GAMES</td>\n",
       "      <td>NaN</td>\n",
       "      <td>20.0</td>\n",
       "      <td>MLB186456</td>\n",
       "      <td>new</td>\n",
       "      <td>call of duty modern warfare xbox one digital n...</td>\n",
       "    </tr>\n",
       "  </tbody>\n",
       "</table>\n",
       "</div>"
      ],
      "text/plain": [
       "         item_id                                              title  \\\n",
       "1092382  1350706  Call Of Duty Modern Warfare Xbox One Digital N...   \n",
       "\n",
       "               domain_id  product_id  price category_id condition  \\\n",
       "1092382  MLB-VIDEO_GAMES         NaN   20.0   MLB186456       new   \n",
       "\n",
       "                                               title_clean  \n",
       "1092382  call of duty modern warfare xbox one digital n...  "
      ]
     },
     "execution_count": 56,
     "metadata": {},
     "output_type": "execute_result"
    }
   ],
   "source": [
    "meli_item[meli_item.item_id==1350706]"
   ]
  },
  {
   "cell_type": "code",
   "execution_count": 57,
   "metadata": {
    "ExecuteTime": {
     "end_time": "2020-11-12T18:48:26.234744Z",
     "start_time": "2020-11-12T18:48:26.215795Z"
    }
   },
   "outputs": [
    {
     "data": {
      "text/plain": [
       "[{'event_info': 'ESTUFA SALGADOS',\n",
       "  'event_timestamp': '2019-10-22T15:02:34.266-0400',\n",
       "  'event_type': 'search'},\n",
       " {'event_info': 'ESTUFA SALGADOS',\n",
       "  'event_timestamp': '2019-10-22T15:03:07.310-0400',\n",
       "  'event_type': 'search'},\n",
       " {'event_info': 2074441,\n",
       "  'event_timestamp': '2019-10-22T15:03:17.867-0400',\n",
       "  'event_type': 'view'},\n",
       " {'event_info': 2074441,\n",
       "  'event_timestamp': '2019-10-22T15:04:14.868-0400',\n",
       "  'event_type': 'view'},\n",
       " {'event_info': 'ESTUFA SALGADOS',\n",
       "  'event_timestamp': '2019-10-22T15:04:50.655-0400',\n",
       "  'event_type': 'search'},\n",
       " {'event_info': 706034,\n",
       "  'event_timestamp': '2019-10-22T15:05:01.969-0400',\n",
       "  'event_type': 'view'},\n",
       " {'event_info': 'ESTUFA SALGADOS',\n",
       "  'event_timestamp': '2019-10-22T15:06:39.604-0400',\n",
       "  'event_type': 'search'},\n",
       " {'event_info': 303889,\n",
       "  'event_timestamp': '2019-10-22T15:06:52.121-0400',\n",
       "  'event_type': 'view'},\n",
       " {'event_info': 303889,\n",
       "  'event_timestamp': '2019-10-22T15:08:12.159-0400',\n",
       "  'event_type': 'view'},\n",
       " {'event_info': 'ESTUFA SALGADOS',\n",
       "  'event_timestamp': '2019-10-22T15:08:26.340-0400',\n",
       "  'event_type': 'search'},\n",
       " {'event_info': 2038657,\n",
       "  'event_timestamp': '2019-10-22T15:08:40.533-0400',\n",
       "  'event_type': 'view'},\n",
       " {'event_info': 2038657,\n",
       "  'event_timestamp': '2019-10-22T15:09:02.633-0400',\n",
       "  'event_type': 'view'},\n",
       " {'event_info': 'ESTUFA SALGADOS',\n",
       "  'event_timestamp': '2019-10-22T15:09:04.416-0400',\n",
       "  'event_type': 'search'},\n",
       " {'event_info': 'ESTUFA SALGADOS',\n",
       "  'event_timestamp': '2019-10-22T15:09:07.052-0400',\n",
       "  'event_type': 'search'},\n",
       " {'event_info': 1971440,\n",
       "  'event_timestamp': '2019-10-22T15:09:24.721-0400',\n",
       "  'event_type': 'view'},\n",
       " {'event_info': 1971440,\n",
       "  'event_timestamp': '2019-10-22T15:09:42.095-0400',\n",
       "  'event_type': 'view'},\n",
       " {'event_info': 823339,\n",
       "  'event_timestamp': '2019-10-22T15:10:10.803-0400',\n",
       "  'event_type': 'view'},\n",
       " {'event_info': 1173155,\n",
       "  'event_timestamp': '2019-10-22T15:11:21.140-0400',\n",
       "  'event_type': 'view'},\n",
       " {'event_info': 1173155,\n",
       "  'event_timestamp': '2019-10-22T15:11:36.062-0400',\n",
       "  'event_type': 'view'},\n",
       " {'event_info': 823339,\n",
       "  'event_timestamp': '2019-10-22T15:11:37.804-0400',\n",
       "  'event_type': 'view'},\n",
       " {'event_info': 1050898,\n",
       "  'event_timestamp': '2019-10-22T15:11:50.622-0400',\n",
       "  'event_type': 'view'},\n",
       " {'event_info': 1050898,\n",
       "  'event_timestamp': '2019-10-22T15:12:10.429-0400',\n",
       "  'event_type': 'view'},\n",
       " {'event_info': 823339,\n",
       "  'event_timestamp': '2019-10-22T15:12:11.917-0400',\n",
       "  'event_type': 'view'},\n",
       " {'event_info': 452678,\n",
       "  'event_timestamp': '2019-10-22T15:12:27.551-0400',\n",
       "  'event_type': 'view'},\n",
       " {'event_info': 452678,\n",
       "  'event_timestamp': '2019-10-22T15:13:07.641-0400',\n",
       "  'event_type': 'view'},\n",
       " {'event_info': 823339,\n",
       "  'event_timestamp': '2019-10-22T15:13:38.453-0400',\n",
       "  'event_type': 'view'},\n",
       " {'event_info': 'ESTUFA SALGADOS',\n",
       "  'event_timestamp': '2019-10-22T15:13:58.892-0400',\n",
       "  'event_type': 'search'},\n",
       " {'event_info': 769209,\n",
       "  'event_timestamp': '2019-10-22T15:14:10.903-0400',\n",
       "  'event_type': 'view'},\n",
       " {'event_info': 769209,\n",
       "  'event_timestamp': '2019-10-22T15:14:47.423-0400',\n",
       "  'event_type': 'view'},\n",
       " {'event_info': 'ESTUFA SALGADOS',\n",
       "  'event_timestamp': '2019-10-22T15:14:50.055-0400',\n",
       "  'event_type': 'search'},\n",
       " {'event_info': 'ESTUFA SALGADOS',\n",
       "  'event_timestamp': '2019-10-22T15:15:23.885-0400',\n",
       "  'event_type': 'search'},\n",
       " {'event_info': 303889,\n",
       "  'event_timestamp': '2019-10-22T15:15:38.341-0400',\n",
       "  'event_type': 'view'},\n",
       " {'event_info': 303889,\n",
       "  'event_timestamp': '2019-10-22T15:28:32.917-0400',\n",
       "  'event_type': 'view'},\n",
       " {'event_info': 'ESTUFA SALGADOS',\n",
       "  'event_timestamp': '2019-10-22T15:28:34.781-0400',\n",
       "  'event_type': 'search'},\n",
       " {'event_info': 'ESTUFA SALGADOS',\n",
       "  'event_timestamp': '2019-10-22T15:28:46.241-0400',\n",
       "  'event_type': 'search'},\n",
       " {'event_info': 541940,\n",
       "  'event_timestamp': '2019-10-22T15:29:54.997-0400',\n",
       "  'event_type': 'view'},\n",
       " {'event_info': 'ESTUFA SALGADOS',\n",
       "  'event_timestamp': '2019-10-22T15:30:04.995-0400',\n",
       "  'event_type': 'search'},\n",
       " {'event_info': 'ESTUFA SALGADOS',\n",
       "  'event_timestamp': '2019-10-22T15:30:13.390-0400',\n",
       "  'event_type': 'search'},\n",
       " {'event_info': 1989883,\n",
       "  'event_timestamp': '2019-10-22T15:30:41.623-0400',\n",
       "  'event_type': 'view'},\n",
       " {'event_info': 1989883,\n",
       "  'event_timestamp': '2019-10-22T15:31:13.459-0400',\n",
       "  'event_type': 'view'},\n",
       " {'event_info': 'ESTUFA SALGADOS',\n",
       "  'event_timestamp': '2019-10-22T15:31:37.439-0400',\n",
       "  'event_type': 'search'},\n",
       " {'event_info': 'ESTUFA SALGADOS',\n",
       "  'event_timestamp': '2019-10-22T15:31:39.885-0400',\n",
       "  'event_type': 'search'},\n",
       " {'event_info': 'ESTUFA SALGADOS',\n",
       "  'event_timestamp': '2019-10-22T15:46:54.765-0400',\n",
       "  'event_type': 'search'},\n",
       " {'event_info': 'FILTRO ALCALINO',\n",
       "  'event_timestamp': '2019-10-22T18:17:20.921-0400',\n",
       "  'event_type': 'search'},\n",
       " {'event_info': 'VELA ALCALINA',\n",
       "  'event_timestamp': '2019-10-22T18:18:24.705-0400',\n",
       "  'event_type': 'search'},\n",
       " {'event_info': 933197,\n",
       "  'event_timestamp': '2019-10-22T18:18:36.584-0400',\n",
       "  'event_type': 'view'},\n",
       " {'event_info': 933197,\n",
       "  'event_timestamp': '2019-10-22T18:20:04.347-0400',\n",
       "  'event_type': 'view'},\n",
       " {'event_info': 933197,\n",
       "  'event_timestamp': '2019-10-22T18:20:45.938-0400',\n",
       "  'event_type': 'view'},\n",
       " {'event_info': 933197,\n",
       "  'event_timestamp': '2019-10-22T18:22:47.467-0400',\n",
       "  'event_type': 'view'},\n",
       " {'event_info': 'VELA ALCALINA',\n",
       "  'event_timestamp': '2019-10-22T18:22:56.076-0400',\n",
       "  'event_type': 'search'},\n",
       " {'event_info': 'MEDIDOR PH',\n",
       "  'event_timestamp': '2019-10-22T18:23:07.090-0400',\n",
       "  'event_type': 'search'},\n",
       " {'event_info': 158035,\n",
       "  'event_timestamp': '2019-10-22T18:23:27.171-0400',\n",
       "  'event_type': 'view'},\n",
       " {'event_info': 158035,\n",
       "  'event_timestamp': '2019-10-22T18:24:04.387-0400',\n",
       "  'event_type': 'view'},\n",
       " {'event_info': 'MEDIDOR PH',\n",
       "  'event_timestamp': '2019-10-22T18:24:06.385-0400',\n",
       "  'event_type': 'search'},\n",
       " {'event_info': 'VELA ALCALINA',\n",
       "  'event_timestamp': '2019-10-22T18:25:05.985-0400',\n",
       "  'event_type': 'search'},\n",
       " {'event_info': 'ESTUFA SALGADOS',\n",
       "  'event_timestamp': '2019-10-23T11:39:05.176-0400',\n",
       "  'event_type': 'search'},\n",
       " {'event_info': 769209,\n",
       "  'event_timestamp': '2019-10-23T11:39:13.341-0400',\n",
       "  'event_type': 'view'},\n",
       " {'event_info': 'ESTUFA SALGADOS',\n",
       "  'event_timestamp': '2019-10-23T11:41:48.828-0400',\n",
       "  'event_type': 'search'},\n",
       " {'event_info': 518710,\n",
       "  'event_timestamp': '2019-10-23T11:42:03.435-0400',\n",
       "  'event_type': 'view'},\n",
       " {'event_info': 518710,\n",
       "  'event_timestamp': '2019-10-23T11:42:23.547-0400',\n",
       "  'event_type': 'view'},\n",
       " {'event_info': 'ESTUFA SALGADOS',\n",
       "  'event_timestamp': '2019-10-23T11:42:25.072-0400',\n",
       "  'event_type': 'search'},\n",
       " {'event_info': 1814138,\n",
       "  'event_timestamp': '2019-10-23T11:42:34.344-0400',\n",
       "  'event_type': 'view'},\n",
       " {'event_info': 'ESTUFA SALGADOS',\n",
       "  'event_timestamp': '2019-10-23T11:42:41.233-0400',\n",
       "  'event_type': 'search'},\n",
       " {'event_info': 1337854,\n",
       "  'event_timestamp': '2019-10-23T11:42:50.240-0400',\n",
       "  'event_type': 'view'},\n",
       " {'event_info': 1337854,\n",
       "  'event_timestamp': '2019-10-23T11:43:07.861-0400',\n",
       "  'event_type': 'view'},\n",
       " {'event_info': 'ESTUFA SALGADOS',\n",
       "  'event_timestamp': '2019-10-23T11:44:05.912-0400',\n",
       "  'event_type': 'search'},\n",
       " {'event_info': 2074441,\n",
       "  'event_timestamp': '2019-10-23T11:44:17.415-0400',\n",
       "  'event_type': 'view'},\n",
       " {'event_info': 'ESTUFA SALGADOS',\n",
       "  'event_timestamp': '2019-10-23T11:44:33.162-0400',\n",
       "  'event_type': 'search'},\n",
       " {'event_info': 'ESTUFA SALGADOS',\n",
       "  'event_timestamp': '2019-10-23T11:44:36.189-0400',\n",
       "  'event_type': 'search'},\n",
       " {'event_info': 741371,\n",
       "  'event_timestamp': '2019-10-23T11:44:55.695-0400',\n",
       "  'event_type': 'view'},\n",
       " {'event_info': 741371,\n",
       "  'event_timestamp': '2019-10-23T11:45:20.075-0400',\n",
       "  'event_type': 'view'},\n",
       " {'event_info': 'ESTUFA W8BD',\n",
       "  'event_timestamp': '2019-10-23T11:45:57.549-0400',\n",
       "  'event_type': 'search'},\n",
       " {'event_info': 1939911,\n",
       "  'event_timestamp': '2019-10-23T11:46:13.463-0400',\n",
       "  'event_type': 'view'},\n",
       " {'event_info': 'ESTUFA W8BD',\n",
       "  'event_timestamp': '2019-10-23T11:46:38.356-0400',\n",
       "  'event_type': 'search'},\n",
       " {'event_info': 1200319,\n",
       "  'event_timestamp': '2019-10-23T11:46:48.216-0400',\n",
       "  'event_type': 'view'},\n",
       " {'event_info': 1200319,\n",
       "  'event_timestamp': '2019-10-23T11:47:03.593-0400',\n",
       "  'event_type': 'view'},\n",
       " {'event_info': 'ESTUFA W8BD',\n",
       "  'event_timestamp': '2019-10-23T11:47:05.792-0400',\n",
       "  'event_type': 'search'},\n",
       " {'event_info': 'ESTUFA W8BD',\n",
       "  'event_timestamp': '2019-10-23T11:47:18.356-0400',\n",
       "  'event_type': 'search'},\n",
       " {'event_info': 1939911,\n",
       "  'event_timestamp': '2019-10-23T11:47:45.070-0400',\n",
       "  'event_type': 'view'},\n",
       " {'event_info': 1939911,\n",
       "  'event_timestamp': '2019-10-23T11:48:09.191-0400',\n",
       "  'event_type': 'view'},\n",
       " {'event_info': 'ESTUFA W8BD',\n",
       "  'event_timestamp': '2019-10-23T11:48:12.051-0400',\n",
       "  'event_type': 'search'},\n",
       " {'event_info': 1939911,\n",
       "  'event_timestamp': '2019-10-23T11:48:17.713-0400',\n",
       "  'event_type': 'view'},\n",
       " {'event_info': 'ESTUFA W8BD',\n",
       "  'event_timestamp': '2019-10-23T11:48:18.896-0400',\n",
       "  'event_type': 'search'},\n",
       " {'event_info': 1200319,\n",
       "  'event_timestamp': '2019-10-23T11:48:24.961-0400',\n",
       "  'event_type': 'view'},\n",
       " {'event_info': 1200319,\n",
       "  'event_timestamp': '2019-10-23T11:49:09.952-0400',\n",
       "  'event_type': 'view'},\n",
       " {'event_info': 'ESTUFA W8BD',\n",
       "  'event_timestamp': '2019-10-23T11:49:11.097-0400',\n",
       "  'event_type': 'search'},\n",
       " {'event_info': 'ESTUFA W8BD',\n",
       "  'event_timestamp': '2019-10-23T11:52:32.682-0400',\n",
       "  'event_type': 'search'},\n",
       " {'event_info': 1200319,\n",
       "  'event_timestamp': '2019-10-23T11:53:05.928-0400',\n",
       "  'event_type': 'view'},\n",
       " {'event_info': 'ESTUFA W8BD',\n",
       "  'event_timestamp': '2019-10-23T11:53:09.849-0400',\n",
       "  'event_type': 'search'},\n",
       " {'event_info': 'ESTUFA W8BD',\n",
       "  'event_timestamp': '2019-10-23T15:46:44.062-0400',\n",
       "  'event_type': 'search'},\n",
       " {'event_info': 741371,\n",
       "  'event_timestamp': '2019-10-23T15:50:50.271-0400',\n",
       "  'event_type': 'view'},\n",
       " {'event_info': 741371,\n",
       "  'event_timestamp': '2019-10-23T15:57:45.996-0400',\n",
       "  'event_type': 'view'},\n",
       " {'event_info': 'LUMINARIA PLAYCENTER',\n",
       "  'event_timestamp': '2019-10-24T11:11:59.209-0400',\n",
       "  'event_type': 'search'},\n",
       " {'event_info': 'LUMINARIA PLAYCENTER',\n",
       "  'event_timestamp': '2019-10-24T11:12:11.964-0400',\n",
       "  'event_type': 'search'},\n",
       " {'event_info': 1399732,\n",
       "  'event_timestamp': '2019-10-27T18:48:45.791-0400',\n",
       "  'event_type': 'view'},\n",
       " {'event_info': 'MIRANDA GAMES',\n",
       "  'event_timestamp': '2019-10-27T18:49:08.020-0400',\n",
       "  'event_type': 'search'},\n",
       " {'event_info': 'MIRANDA GAMES',\n",
       "  'event_timestamp': '2019-10-27T18:49:19.721-0400',\n",
       "  'event_type': 'search'},\n",
       " {'event_info': 1399732,\n",
       "  'event_timestamp': '2019-10-27T18:49:22.872-0400',\n",
       "  'event_type': 'view'},\n",
       " {'event_info': 'MIRANDA GAMES JOGOS',\n",
       "  'event_timestamp': '2019-10-27T18:50:03.236-0400',\n",
       "  'event_type': 'search'},\n",
       " {'event_info': 'MIRANDA GAMES JOGOS',\n",
       "  'event_timestamp': '2019-10-27T18:50:21.606-0400',\n",
       "  'event_type': 'search'},\n",
       " {'event_info': 1399732,\n",
       "  'event_timestamp': '2019-10-27T18:50:26.056-0400',\n",
       "  'event_type': 'view'},\n",
       " {'event_info': 193307,\n",
       "  'event_timestamp': '2019-10-27T18:53:01.997-0400',\n",
       "  'event_type': 'view'},\n",
       " {'event_info': 'COD MODERN WARFARE',\n",
       "  'event_timestamp': '2019-10-27T18:54:25.868-0400',\n",
       "  'event_type': 'search'},\n",
       " {'event_info': 1350706,\n",
       "  'event_timestamp': '2019-10-27T18:54:30.422-0400',\n",
       "  'event_type': 'view'},\n",
       " {'event_info': 1350706,\n",
       "  'event_timestamp': '2019-10-27T18:55:38.480-0400',\n",
       "  'event_type': 'view'}]"
      ]
     },
     "execution_count": 57,
     "metadata": {},
     "output_type": "execute_result"
    }
   ],
   "source": [
    "train.loc[302494][\"user_history\"]"
   ]
  },
  {
   "cell_type": "code",
   "execution_count": 58,
   "metadata": {
    "ExecuteTime": {
     "end_time": "2020-11-12T18:48:26.241725Z",
     "start_time": "2020-11-12T18:48:26.236739Z"
    }
   },
   "outputs": [],
   "source": [
    "def get_last_view(row):\n",
    "    last_list = list(filter(lambda x:x[\"event_type\"]==\"view\",row))\n",
    "    if len(last_list)==0: return None\n",
    "    else: return  max(last_list, key=get_recent)[\"event_info\"]\n",
    "    \n",
    "def get_last_search(row):\n",
    "    last_list = list(filter(lambda x:x[\"event_type\"]==\"search\",row))\n",
    "    if len(last_list)==0: return None\n",
    "    else: return  max(last_list, key=get_recent)[\"event_info\"]"
   ]
  },
  {
   "cell_type": "code",
   "execution_count": 59,
   "metadata": {
    "ExecuteTime": {
     "end_time": "2020-11-12T18:48:30.876353Z",
     "start_time": "2020-11-12T18:48:26.242722Z"
    }
   },
   "outputs": [],
   "source": [
    "train[\"last_search\"]=train[\"user_history\"].apply(get_last_search)\n",
    "train[\"last_view\"]=train[\"user_history\"].apply(get_last_view)"
   ]
  },
  {
   "cell_type": "code",
   "execution_count": 60,
   "metadata": {
    "ExecuteTime": {
     "end_time": "2020-11-12T18:48:30.899265Z",
     "start_time": "2020-11-12T18:48:30.877343Z"
    }
   },
   "outputs": [
    {
     "data": {
      "text/html": [
       "<div>\n",
       "<style scoped>\n",
       "    .dataframe tbody tr th:only-of-type {\n",
       "        vertical-align: middle;\n",
       "    }\n",
       "\n",
       "    .dataframe tbody tr th {\n",
       "        vertical-align: top;\n",
       "    }\n",
       "\n",
       "    .dataframe thead th {\n",
       "        text-align: right;\n",
       "    }\n",
       "</style>\n",
       "<table border=\"1\" class=\"dataframe\">\n",
       "  <thead>\n",
       "    <tr style=\"text-align: right;\">\n",
       "      <th></th>\n",
       "      <th>user_history</th>\n",
       "      <th>item_bought</th>\n",
       "      <th>title</th>\n",
       "      <th>domain_id</th>\n",
       "      <th>price</th>\n",
       "      <th>category_id</th>\n",
       "      <th>len_user_history</th>\n",
       "      <th>number_search</th>\n",
       "      <th>number_view</th>\n",
       "      <th>count_purchase</th>\n",
       "      <th>count_view</th>\n",
       "      <th>count_search</th>\n",
       "      <th>max_view_item</th>\n",
       "      <th>max_view_domain_id</th>\n",
       "      <th>max_view_category_id</th>\n",
       "      <th>most_domain_view</th>\n",
       "      <th>last_search</th>\n",
       "      <th>last_view</th>\n",
       "    </tr>\n",
       "  </thead>\n",
       "  <tbody>\n",
       "    <tr>\n",
       "      <th>0</th>\n",
       "      <td>[{'event_info': 1786148, 'event_timestamp': '2...</td>\n",
       "      <td>1748830</td>\n",
       "      <td>Relógio Medidor Inteligente Pulso Freqüência C...</td>\n",
       "      <td>MLB-SMARTWATCHES</td>\n",
       "      <td>90.0</td>\n",
       "      <td>MLB135384</td>\n",
       "      <td>19</td>\n",
       "      <td>1</td>\n",
       "      <td>18</td>\n",
       "      <td>NONE</td>\n",
       "      <td>{1786148: 2, 1615991: 16}</td>\n",
       "      <td>{'RELOGIO SMARTWATCH': 1}</td>\n",
       "      <td>1615991.0</td>\n",
       "      <td>MLB-SMARTWATCHES</td>\n",
       "      <td>MLB135384</td>\n",
       "      <td>MLB-SMARTWATCHES</td>\n",
       "      <td>RELOGIO SMARTWATCH</td>\n",
       "      <td>1615991.0</td>\n",
       "    </tr>\n",
       "    <tr>\n",
       "      <th>1</th>\n",
       "      <td>[{'event_info': 643652, 'event_timestamp': '20...</td>\n",
       "      <td>228737</td>\n",
       "      <td>Bomba Eletrica Tira Leite Materno Bivolt G-tech</td>\n",
       "      <td>MLB-MILK_EXTRACTORS</td>\n",
       "      <td>169.0</td>\n",
       "      <td>MLB264021</td>\n",
       "      <td>13</td>\n",
       "      <td>5</td>\n",
       "      <td>8</td>\n",
       "      <td>NONE</td>\n",
       "      <td>{643652: 1, 1156086: 1, 1943604: 1, 206667: 1,...</td>\n",
       "      <td>{'DESMAMADEIRA ELETRICA': 5}</td>\n",
       "      <td>228737.0</td>\n",
       "      <td>MLB-MILK_EXTRACTORS</td>\n",
       "      <td>MLB264021</td>\n",
       "      <td>MLB-MILK_EXTRACTORS</td>\n",
       "      <td>DESMAMADEIRA ELETRICA</td>\n",
       "      <td>228737.0</td>\n",
       "    </tr>\n",
       "    <tr>\n",
       "      <th>2</th>\n",
       "      <td>[{'event_info': 248595, 'event_timestamp': '20...</td>\n",
       "      <td>1909110</td>\n",
       "      <td>Kit Youtuber Tripé 1,20 Microfone Lapela Anel ...</td>\n",
       "      <td>MLB-CELLPHONE_ACCESSORIES</td>\n",
       "      <td>300.0</td>\n",
       "      <td>MLB5092</td>\n",
       "      <td>2</td>\n",
       "      <td>0</td>\n",
       "      <td>2</td>\n",
       "      <td>NONE</td>\n",
       "      <td>{248595: 2}</td>\n",
       "      <td>NONE</td>\n",
       "      <td>248595.0</td>\n",
       "      <td>MLB-TOWEL_SETS</td>\n",
       "      <td>MLB186353</td>\n",
       "      <td>MLB-TOWEL_SETS</td>\n",
       "      <td>None</td>\n",
       "      <td>248595.0</td>\n",
       "    </tr>\n",
       "  </tbody>\n",
       "</table>\n",
       "</div>"
      ],
      "text/plain": [
       "                                        user_history  item_bought  \\\n",
       "0  [{'event_info': 1786148, 'event_timestamp': '2...      1748830   \n",
       "1  [{'event_info': 643652, 'event_timestamp': '20...       228737   \n",
       "2  [{'event_info': 248595, 'event_timestamp': '20...      1909110   \n",
       "\n",
       "                                               title  \\\n",
       "0  Relógio Medidor Inteligente Pulso Freqüência C...   \n",
       "1    Bomba Eletrica Tira Leite Materno Bivolt G-tech   \n",
       "2  Kit Youtuber Tripé 1,20 Microfone Lapela Anel ...   \n",
       "\n",
       "                   domain_id  price category_id  len_user_history  \\\n",
       "0           MLB-SMARTWATCHES   90.0   MLB135384                19   \n",
       "1        MLB-MILK_EXTRACTORS  169.0   MLB264021                13   \n",
       "2  MLB-CELLPHONE_ACCESSORIES  300.0     MLB5092                 2   \n",
       "\n",
       "   number_search  number_view count_purchase  \\\n",
       "0              1           18           NONE   \n",
       "1              5            8           NONE   \n",
       "2              0            2           NONE   \n",
       "\n",
       "                                          count_view  \\\n",
       "0                          {1786148: 2, 1615991: 16}   \n",
       "1  {643652: 1, 1156086: 1, 1943604: 1, 206667: 1,...   \n",
       "2                                        {248595: 2}   \n",
       "\n",
       "                   count_search  max_view_item   max_view_domain_id  \\\n",
       "0     {'RELOGIO SMARTWATCH': 1}      1615991.0     MLB-SMARTWATCHES   \n",
       "1  {'DESMAMADEIRA ELETRICA': 5}       228737.0  MLB-MILK_EXTRACTORS   \n",
       "2                          NONE       248595.0       MLB-TOWEL_SETS   \n",
       "\n",
       "  max_view_category_id     most_domain_view            last_search  last_view  \n",
       "0            MLB135384     MLB-SMARTWATCHES     RELOGIO SMARTWATCH  1615991.0  \n",
       "1            MLB264021  MLB-MILK_EXTRACTORS  DESMAMADEIRA ELETRICA   228737.0  \n",
       "2            MLB186353       MLB-TOWEL_SETS                   None   248595.0  "
      ]
     },
     "execution_count": 60,
     "metadata": {},
     "output_type": "execute_result"
    }
   ],
   "source": [
    "train.head(3)"
   ]
  },
  {
   "cell_type": "code",
   "execution_count": 61,
   "metadata": {
    "ExecuteTime": {
     "end_time": "2020-11-12T18:48:33.808167Z",
     "start_time": "2020-11-12T18:48:30.901259Z"
    }
   },
   "outputs": [],
   "source": [
    "train=pd.merge(train,\n",
    "               meli_item[[\"item_id\",\"domain_id\"]].add_prefix(\"last_view_\"),\n",
    "               how=\"left\",\n",
    "               left_on=[\"last_view\"],\n",
    "               right_on=[\"last_view_item_id\"]).drop(\"last_view_item_id\",axis=1)"
   ]
  },
  {
   "cell_type": "markdown",
   "metadata": {},
   "source": [
    "# SIMILAR DOMAIN"
   ]
  },
  {
   "cell_type": "code",
   "execution_count": 62,
   "metadata": {
    "ExecuteTime": {
     "end_time": "2020-11-12T18:48:33.814118Z",
     "start_time": "2020-11-12T18:48:33.810165Z"
    }
   },
   "outputs": [],
   "source": [
    "# CALCULATE SIMILAR DOMAIN to take into account just one item pair domain situations and recommend items in those situations "
   ]
  },
  {
   "cell_type": "code",
   "execution_count": 63,
   "metadata": {
    "ExecuteTime": {
     "end_time": "2020-11-12T18:48:37.346710Z",
     "start_time": "2020-11-12T18:48:33.816114Z"
    }
   },
   "outputs": [],
   "source": [
    "meli_item[\"domain_id\"]=meli_item[\"domain_id\"].fillna(\"OTRO\")\n",
    "domain_search = meli_item[\"domain_id\"].str[4:].str.replace(\"_\",\" \").unique()\n",
    "meli_item[\"domain_clean\"]=meli_item[\"domain_id\"].str[4:].str.replace(\"_\",\" \")"
   ]
  },
  {
   "cell_type": "code",
   "execution_count": 64,
   "metadata": {
    "ExecuteTime": {
     "end_time": "2020-11-12T18:48:37.353649Z",
     "start_time": "2020-11-12T18:48:37.347666Z"
    }
   },
   "outputs": [],
   "source": [
    "# TODO : embeddings might work better\n",
    "\n",
    "\n",
    "def num_interseaction_words(str1, str2): \n",
    "    \"\"\"\n",
    "    RETURN num of common words\n",
    "    \"\"\"\n",
    "    a = set(str1.split()) \n",
    "    b = set(str2.split())\n",
    "    c = a.intersection(b)\n",
    "    if (len(a) + len(b) - len(c)) <1:\n",
    "        return 0\n",
    "    else:\n",
    "        return float(len(c))"
   ]
  },
  {
   "cell_type": "code",
   "execution_count": 65,
   "metadata": {
    "ExecuteTime": {
     "end_time": "2020-11-12T18:49:20.505122Z",
     "start_time": "2020-11-12T18:48:37.355646Z"
    }
   },
   "outputs": [],
   "source": [
    "domain_similarity = {}\n",
    "for domain in domain_search:\n",
    "    full_similarity = [(dom,round(num_interseaction_words(domain,dom),3))  for dom in domain_search]\n",
    "    domain_similarity[domain]= nlargest(3, full_similarity, key=itemgetter(1))[1:][0][0]"
   ]
  },
  {
   "cell_type": "code",
   "execution_count": 66,
   "metadata": {
    "ExecuteTime": {
     "end_time": "2020-11-12T18:49:20.511105Z",
     "start_time": "2020-11-12T18:49:20.506153Z"
    }
   },
   "outputs": [],
   "source": [
    "domain_similars = pd.DataFrame.from_dict(domain_similarity,orient=\"index\",columns=[\"most_similar_domains\"])"
   ]
  },
  {
   "cell_type": "code",
   "execution_count": 67,
   "metadata": {
    "ExecuteTime": {
     "end_time": "2020-11-12T18:49:20.523100Z",
     "start_time": "2020-11-12T18:49:20.513099Z"
    }
   },
   "outputs": [
    {
     "data": {
      "text/html": [
       "<div>\n",
       "<style scoped>\n",
       "    .dataframe tbody tr th:only-of-type {\n",
       "        vertical-align: middle;\n",
       "    }\n",
       "\n",
       "    .dataframe tbody tr th {\n",
       "        vertical-align: top;\n",
       "    }\n",
       "\n",
       "    .dataframe thead th {\n",
       "        text-align: right;\n",
       "    }\n",
       "</style>\n",
       "<table border=\"1\" class=\"dataframe\">\n",
       "  <thead>\n",
       "    <tr style=\"text-align: right;\">\n",
       "      <th></th>\n",
       "      <th>most_similar_domains</th>\n",
       "    </tr>\n",
       "  </thead>\n",
       "  <tbody>\n",
       "    <tr>\n",
       "      <th>INDIVIDUAL HOUSES FOR SALE</th>\n",
       "      <td>INDIVIDUAL APARTMENTS FOR SALE</td>\n",
       "    </tr>\n",
       "    <tr>\n",
       "      <th>VIDEO GAMES</th>\n",
       "      <td>GAME CONSOLES VIDEO GAMES AND ARCADE MACHINES</td>\n",
       "    </tr>\n",
       "    <tr>\n",
       "      <th>SKIRTS</th>\n",
       "      <td>AUTOMOTIVE SKIRTS</td>\n",
       "    </tr>\n",
       "    <tr>\n",
       "      <th>GRAPHICS CARDS</th>\n",
       "      <td>IDENTIFICATION AND PRESENTATION CARDS</td>\n",
       "    </tr>\n",
       "    <tr>\n",
       "      <th>NOTEBOOKS</th>\n",
       "      <td>NOTEBOOKS AND WRITING PADS</td>\n",
       "    </tr>\n",
       "    <tr>\n",
       "      <th>...</th>\n",
       "      <td>...</td>\n",
       "    </tr>\n",
       "    <tr>\n",
       "      <th>PRESSURE TANKS</th>\n",
       "      <td>FISH TANKS</td>\n",
       "    </tr>\n",
       "    <tr>\n",
       "      <th>PRINTER CLEANING KITS</th>\n",
       "      <td>GUN CLEANING KITS</td>\n",
       "    </tr>\n",
       "    <tr>\n",
       "      <th>ELECTRIC CREAM SEPARATORS</th>\n",
       "      <td>MANUAL CREAM SEPARATORS</td>\n",
       "    </tr>\n",
       "    <tr>\n",
       "      <th>ANTIQUE AUDIO ANTENNAS</th>\n",
       "      <td>AUDIO AND VIDEO CONNECTORS</td>\n",
       "    </tr>\n",
       "    <tr>\n",
       "      <th>RUGBY HELMETS</th>\n",
       "      <td>MOTORCYCLE HELMETS</td>\n",
       "    </tr>\n",
       "  </tbody>\n",
       "</table>\n",
       "<p>4330 rows × 1 columns</p>\n",
       "</div>"
      ],
      "text/plain": [
       "                                                     most_similar_domains\n",
       "INDIVIDUAL HOUSES FOR SALE                 INDIVIDUAL APARTMENTS FOR SALE\n",
       "VIDEO GAMES                 GAME CONSOLES VIDEO GAMES AND ARCADE MACHINES\n",
       "SKIRTS                                                  AUTOMOTIVE SKIRTS\n",
       "GRAPHICS CARDS                      IDENTIFICATION AND PRESENTATION CARDS\n",
       "NOTEBOOKS                                      NOTEBOOKS AND WRITING PADS\n",
       "...                                                                   ...\n",
       "PRESSURE TANKS                                                 FISH TANKS\n",
       "PRINTER CLEANING KITS                                   GUN CLEANING KITS\n",
       "ELECTRIC CREAM SEPARATORS                         MANUAL CREAM SEPARATORS\n",
       "ANTIQUE AUDIO ANTENNAS                         AUDIO AND VIDEO CONNECTORS\n",
       "RUGBY HELMETS                                          MOTORCYCLE HELMETS\n",
       "\n",
       "[4330 rows x 1 columns]"
      ]
     },
     "execution_count": 67,
     "metadata": {},
     "output_type": "execute_result"
    }
   ],
   "source": [
    "domain_similars"
   ]
  },
  {
   "cell_type": "code",
   "execution_count": 68,
   "metadata": {
    "ExecuteTime": {
     "end_time": "2020-11-12T18:49:21.362892Z",
     "start_time": "2020-11-12T18:49:20.531084Z"
    }
   },
   "outputs": [],
   "source": [
    "meli_domain = meli_item.groupby([\"domain_id\",\"domain_clean\"])[\"item_id\"].count().reset_index().merge(domain_similars,how=\"left\",left_on=[\"domain_clean\"],right_index=True)\n",
    "meli_domain.columns = ['domain_id', 'domain_clean', 'item_id', 'most_similar_domain']\n",
    "meli_domain=meli_domain.drop(\"item_id\",axis=1).drop_duplicates()"
   ]
  },
  {
   "cell_type": "code",
   "execution_count": 69,
   "metadata": {
    "ExecuteTime": {
     "end_time": "2020-11-12T18:49:21.396850Z",
     "start_time": "2020-11-12T18:49:21.365859Z"
    }
   },
   "outputs": [],
   "source": [
    "meli_domain_similar=meli_domain.merge(meli_domain[[\"domain_id\",\"domain_clean\"]].add_prefix(\"similar_\"),\n",
    "                  how=\"left\",\n",
    "                  left_on=[\"most_similar_domain\"],\n",
    "                  right_on=[\"similar_domain_clean\"]).drop_duplicates().drop([\"similar_domain_clean\",'domain_clean', 'most_similar_domain'],axis=1)"
   ]
  },
  {
   "cell_type": "code",
   "execution_count": 70,
   "metadata": {
    "ExecuteTime": {
     "end_time": "2020-11-12T18:49:21.420756Z",
     "start_time": "2020-11-12T18:49:21.397849Z"
    }
   },
   "outputs": [],
   "source": [
    "meli_domain_similar=meli_domain_similar.groupby([\"domain_id\"]).first().reset_index()"
   ]
  },
  {
   "cell_type": "code",
   "execution_count": 71,
   "metadata": {
    "ExecuteTime": {
     "end_time": "2020-11-12T18:49:21.429736Z",
     "start_time": "2020-11-12T18:49:21.421786Z"
    }
   },
   "outputs": [
    {
     "data": {
      "text/html": [
       "<div>\n",
       "<style scoped>\n",
       "    .dataframe tbody tr th:only-of-type {\n",
       "        vertical-align: middle;\n",
       "    }\n",
       "\n",
       "    .dataframe tbody tr th {\n",
       "        vertical-align: top;\n",
       "    }\n",
       "\n",
       "    .dataframe thead th {\n",
       "        text-align: right;\n",
       "    }\n",
       "</style>\n",
       "<table border=\"1\" class=\"dataframe\">\n",
       "  <thead>\n",
       "    <tr style=\"text-align: right;\">\n",
       "      <th></th>\n",
       "      <th>domain_id</th>\n",
       "      <th>similar_domain_id</th>\n",
       "    </tr>\n",
       "  </thead>\n",
       "  <tbody>\n",
       "    <tr>\n",
       "      <th>0</th>\n",
       "      <td>MLB-3D_GLASSES</td>\n",
       "      <td>MLB-GLASSES_FRAMES</td>\n",
       "    </tr>\n",
       "    <tr>\n",
       "      <th>1</th>\n",
       "      <td>MLB-3D_PENS</td>\n",
       "      <td>MLB-PENS</td>\n",
       "    </tr>\n",
       "    <tr>\n",
       "      <th>2</th>\n",
       "      <td>MLB-3D_PRINTERS</td>\n",
       "      <td>MLB-SCREEN_PRINTERS</td>\n",
       "    </tr>\n",
       "    <tr>\n",
       "      <th>3</th>\n",
       "      <td>MLB-3D_PRINTER_FILAMENTS</td>\n",
       "      <td>MLB-3D_PRINTER_NOZZLES</td>\n",
       "    </tr>\n",
       "    <tr>\n",
       "      <th>4</th>\n",
       "      <td>MLB-3D_PRINTER_HEATBEDS</td>\n",
       "      <td>MLB-3D_PRINTER_FILAMENTS</td>\n",
       "    </tr>\n",
       "  </tbody>\n",
       "</table>\n",
       "</div>"
      ],
      "text/plain": [
       "                  domain_id         similar_domain_id\n",
       "0            MLB-3D_GLASSES        MLB-GLASSES_FRAMES\n",
       "1               MLB-3D_PENS                  MLB-PENS\n",
       "2           MLB-3D_PRINTERS       MLB-SCREEN_PRINTERS\n",
       "3  MLB-3D_PRINTER_FILAMENTS    MLB-3D_PRINTER_NOZZLES\n",
       "4   MLB-3D_PRINTER_HEATBEDS  MLB-3D_PRINTER_FILAMENTS"
      ]
     },
     "execution_count": 71,
     "metadata": {},
     "output_type": "execute_result"
    }
   ],
   "source": [
    "meli_domain_similar.head()"
   ]
  },
  {
   "cell_type": "markdown",
   "metadata": {},
   "source": [
    "# SIMILAR ITEMS"
   ]
  },
  {
   "cell_type": "code",
   "execution_count": 72,
   "metadata": {
    "ExecuteTime": {
     "end_time": "2020-11-12T18:49:21.435714Z",
     "start_time": "2020-11-12T18:49:21.431724Z"
    }
   },
   "outputs": [],
   "source": [
    "def get_jaccard_sim(str1, str2): \n",
    "    \"\"\"\n",
    "    RETURN Jaccard similarity\n",
    "    \"\"\"\n",
    "    a = set(str1.split()) \n",
    "    b = set(str2.split())\n",
    "    c = a.intersection(b)\n",
    "    return float(len(c)) / (len(a) + len(b) - len(c))"
   ]
  },
  {
   "cell_type": "code",
   "execution_count": 73,
   "metadata": {
    "ExecuteTime": {
     "end_time": "2020-11-12T18:49:21.444688Z",
     "start_time": "2020-11-12T18:49:21.437708Z"
    }
   },
   "outputs": [],
   "source": [
    "def parallel_similarity(domin):\n",
    "    similarity = {}\n",
    "    domain_title = meli_item[meli_item[\"domain_id\"]==domin].set_index(\"item_id\")[\"title\"]\n",
    "    items_domain = meli_item[meli_item[\"domain_id\"]==domin][\"item_id\"].unique()\n",
    "    for item in tqdm(items_domain):\n",
    "        similarity[item]=[(i,get_jaccard_sim(domain_title[item],domain_title[i]))  for i in items_domain]\n",
    "    return similarity"
   ]
  },
  {
   "cell_type": "code",
   "execution_count": 74,
   "metadata": {
    "ExecuteTime": {
     "end_time": "2020-11-12T18:49:21.451700Z",
     "start_time": "2020-11-12T18:49:21.445687Z"
    }
   },
   "outputs": [],
   "source": [
    "#results = Parallel(n_jobs=4)(delayed(parallel_similarity)(i) for i in meli_item[\"domain_id\"].unique())"
   ]
  },
  {
   "cell_type": "code",
   "execution_count": 75,
   "metadata": {
    "ExecuteTime": {
     "end_time": "2020-11-12T18:49:21.900883Z",
     "start_time": "2020-11-12T18:49:21.452667Z"
    }
   },
   "outputs": [],
   "source": [
    "domain_to_search=meli_item[\"domain_id\"].value_counts().loc[lambda x:x>10000].index"
   ]
  },
  {
   "cell_type": "code",
   "execution_count": 76,
   "metadata": {
    "ExecuteTime": {
     "end_time": "2020-11-12T18:49:21.907852Z",
     "start_time": "2020-11-12T18:49:21.902866Z"
    }
   },
   "outputs": [],
   "source": [
    "# item_similarity_jaccard = {}\n",
    "# for domain in domain_to_search:\n",
    "#     domain_title = meli_item[meli_item[\"domain_id\"]==domain].set_index(\"item_id\")[\"title\"]\n",
    "#     items_domain = meli_item[meli_item[\"domain_id\"]==domain][\"item_id\"].unique()\n",
    "#     for item in tqdm(items_domain):\n",
    "#         full_similarity = [(i,round(get_jaccard_sim(domain_title[item],domain_title[i]),3))  for i in items_domain]\n",
    "#         item_similarity_jaccard[str(item)]= [nlargest(10, full_similarity, key=itemgetter(1))]"
   ]
  },
  {
   "cell_type": "markdown",
   "metadata": {},
   "source": [
    "This takes around 20 hours... "
   ]
  },
  {
   "cell_type": "code",
   "execution_count": 77,
   "metadata": {
    "ExecuteTime": {
     "end_time": "2020-11-12T18:49:22.237397Z",
     "start_time": "2020-11-12T18:49:21.908852Z"
    }
   },
   "outputs": [
    {
     "data": {
      "text/plain": [
       "['item_similarity_jaccard_10000_20000_top10.csv',\n",
       " 'item_similarity_jaccard_1500_5000_top10.csv',\n",
       " 'item_similarity_jaccard_20000_25000_top10.csv',\n",
       " 'item_similarity_jaccard_25000_top10.csv',\n",
       " 'item_similarity_jaccard_5000_10000_top10.csv',\n",
       " 'item_similarity_jaccard_600_1500_top10.csv',\n",
       " 'item_similarity_jaccard_600_top10.csv']"
      ]
     },
     "execution_count": 77,
     "metadata": {},
     "output_type": "execute_result"
    }
   ],
   "source": [
    "os.listdir(\"item_similarity/\")"
   ]
  },
  {
   "cell_type": "code",
   "execution_count": 78,
   "metadata": {
    "ExecuteTime": {
     "end_time": "2020-11-12T18:49:28.107997Z",
     "start_time": "2020-11-12T18:49:22.239364Z"
    }
   },
   "outputs": [],
   "source": [
    "items_similarity = pd.concat((pd.read_csv('item_similarity/'+file) for file in os.listdir(\"item_similarity/\")),ignore_index=True)\n",
    "items_similarity.columns = [\"item_id\",\"similar_items\"]"
   ]
  },
  {
   "cell_type": "code",
   "execution_count": 79,
   "metadata": {
    "ExecuteTime": {
     "end_time": "2020-11-12T18:50:59.384250Z",
     "start_time": "2020-11-12T18:49:28.108994Z"
    }
   },
   "outputs": [],
   "source": [
    "items_similarity[\"similar_items_list\"]=items_similarity[\"similar_items\"].apply(lambda x:eval(x))\n",
    "items_similarity[\"len_similar_items_list\"]=items_similarity[\"similar_items_list\"].apply(lambda x:len(x))\n",
    "items_similarity[\"top\"]=items_similarity[\"similar_items_list\"].apply(lambda x: [i[0] for i in x[0:5]])\n",
    "items_similarity[\"more\"]=items_similarity[\"similar_items_list\"].apply(lambda x: [i[0] for i in x])\n",
    "items_similarity=items_similarity.set_index(\"item_id\")"
   ]
  },
  {
   "cell_type": "code",
   "execution_count": 80,
   "metadata": {
    "ExecuteTime": {
     "end_time": "2020-11-12T18:50:59.860113Z",
     "start_time": "2020-11-12T18:50:59.385246Z"
    }
   },
   "outputs": [
    {
     "data": {
      "text/html": [
       "<div>\n",
       "<style scoped>\n",
       "    .dataframe tbody tr th:only-of-type {\n",
       "        vertical-align: middle;\n",
       "    }\n",
       "\n",
       "    .dataframe tbody tr th {\n",
       "        vertical-align: top;\n",
       "    }\n",
       "\n",
       "    .dataframe thead th {\n",
       "        text-align: right;\n",
       "    }\n",
       "</style>\n",
       "<table border=\"1\" class=\"dataframe\">\n",
       "  <thead>\n",
       "    <tr style=\"text-align: right;\">\n",
       "      <th></th>\n",
       "      <th>similar_items</th>\n",
       "      <th>similar_items_list</th>\n",
       "      <th>len_similar_items_list</th>\n",
       "      <th>top</th>\n",
       "      <th>more</th>\n",
       "    </tr>\n",
       "    <tr>\n",
       "      <th>item_id</th>\n",
       "      <th></th>\n",
       "      <th></th>\n",
       "      <th></th>\n",
       "      <th></th>\n",
       "      <th></th>\n",
       "    </tr>\n",
       "  </thead>\n",
       "  <tbody>\n",
       "    <tr>\n",
       "      <th>1766436</th>\n",
       "      <td>[(1766436, 1.0), (105563, 0.9), (577201, 0.9),...</td>\n",
       "      <td>[(1766436, 1.0), (105563, 0.9), (577201, 0.9),...</td>\n",
       "      <td>10</td>\n",
       "      <td>[1766436, 105563, 577201, 240317, 852957]</td>\n",
       "      <td>[1766436, 105563, 577201, 240317, 852957, 1064...</td>\n",
       "    </tr>\n",
       "    <tr>\n",
       "      <th>561042</th>\n",
       "      <td>[(561042, 1.0), (108431, 1.0), (986421, 0.4), ...</td>\n",
       "      <td>[(561042, 1.0), (108431, 1.0), (986421, 0.4), ...</td>\n",
       "      <td>10</td>\n",
       "      <td>[561042, 108431, 986421, 1423450, 1966018]</td>\n",
       "      <td>[561042, 108431, 986421, 1423450, 1966018, 122...</td>\n",
       "    </tr>\n",
       "    <tr>\n",
       "      <th>343241</th>\n",
       "      <td>[(343241, 1.0), (781918, 0.8), (1609160, 0.8),...</td>\n",
       "      <td>[(343241, 1.0), (781918, 0.8), (1609160, 0.8),...</td>\n",
       "      <td>10</td>\n",
       "      <td>[343241, 781918, 1609160, 1275578, 1037668]</td>\n",
       "      <td>[343241, 781918, 1609160, 1275578, 1037668, 19...</td>\n",
       "    </tr>\n",
       "    <tr>\n",
       "      <th>292466</th>\n",
       "      <td>[(172184, 1.0), (292466, 1.0), (61564, 0.818),...</td>\n",
       "      <td>[(172184, 1.0), (292466, 1.0), (61564, 0.818),...</td>\n",
       "      <td>10</td>\n",
       "      <td>[172184, 292466, 61564, 215610, 1482880]</td>\n",
       "      <td>[172184, 292466, 61564, 215610, 1482880, 16388...</td>\n",
       "    </tr>\n",
       "    <tr>\n",
       "      <th>1931270</th>\n",
       "      <td>[(1931270, 1.0), (311490, 0.636), (1391576, 0....</td>\n",
       "      <td>[(1931270, 1.0), (311490, 0.636), (1391576, 0....</td>\n",
       "      <td>10</td>\n",
       "      <td>[1931270, 311490, 1391576, 1989767, 1132339]</td>\n",
       "      <td>[1931270, 311490, 1391576, 1989767, 1132339, 2...</td>\n",
       "    </tr>\n",
       "    <tr>\n",
       "      <th>222832</th>\n",
       "      <td>[(222832, 1.0), (1721871, 0.75), (1537434, 0.6...</td>\n",
       "      <td>[(222832, 1.0), (1721871, 0.75), (1537434, 0.6...</td>\n",
       "      <td>10</td>\n",
       "      <td>[222832, 1721871, 1537434, 1171112, 1487228]</td>\n",
       "      <td>[222832, 1721871, 1537434, 1171112, 1487228, 1...</td>\n",
       "    </tr>\n",
       "    <tr>\n",
       "      <th>1090106</th>\n",
       "      <td>[(1090106, 1.0), (220173, 0.833), (1509540, 0....</td>\n",
       "      <td>[(1090106, 1.0), (220173, 0.833), (1509540, 0....</td>\n",
       "      <td>10</td>\n",
       "      <td>[1090106, 220173, 1509540, 1758619, 169670]</td>\n",
       "      <td>[1090106, 220173, 1509540, 1758619, 169670, 36...</td>\n",
       "    </tr>\n",
       "    <tr>\n",
       "      <th>814553</th>\n",
       "      <td>[(814553, 1.0), (1284144, 0.417), (2005888, 0....</td>\n",
       "      <td>[(814553, 1.0), (1284144, 0.417), (2005888, 0....</td>\n",
       "      <td>10</td>\n",
       "      <td>[814553, 1284144, 2005888, 2025347, 1047686]</td>\n",
       "      <td>[814553, 1284144, 2005888, 2025347, 1047686, 1...</td>\n",
       "    </tr>\n",
       "    <tr>\n",
       "      <th>1870692</th>\n",
       "      <td>[(1870692, 1.0), (1697664, 0.5), (859934, 0.46...</td>\n",
       "      <td>[(1870692, 1.0), (1697664, 0.5), (859934, 0.46...</td>\n",
       "      <td>10</td>\n",
       "      <td>[1870692, 1697664, 859934, 1642460, 931430]</td>\n",
       "      <td>[1870692, 1697664, 859934, 1642460, 931430, 17...</td>\n",
       "    </tr>\n",
       "    <tr>\n",
       "      <th>1593009</th>\n",
       "      <td>[(1593009, 1.0), (983195, 0.385), (681026, 0.3...</td>\n",
       "      <td>[(1593009, 1.0), (983195, 0.385), (681026, 0.3...</td>\n",
       "      <td>10</td>\n",
       "      <td>[1593009, 983195, 681026, 206480, 2020132]</td>\n",
       "      <td>[1593009, 983195, 681026, 206480, 2020132, 188...</td>\n",
       "    </tr>\n",
       "  </tbody>\n",
       "</table>\n",
       "</div>"
      ],
      "text/plain": [
       "                                             similar_items  \\\n",
       "item_id                                                      \n",
       "1766436  [(1766436, 1.0), (105563, 0.9), (577201, 0.9),...   \n",
       "561042   [(561042, 1.0), (108431, 1.0), (986421, 0.4), ...   \n",
       "343241   [(343241, 1.0), (781918, 0.8), (1609160, 0.8),...   \n",
       "292466   [(172184, 1.0), (292466, 1.0), (61564, 0.818),...   \n",
       "1931270  [(1931270, 1.0), (311490, 0.636), (1391576, 0....   \n",
       "222832   [(222832, 1.0), (1721871, 0.75), (1537434, 0.6...   \n",
       "1090106  [(1090106, 1.0), (220173, 0.833), (1509540, 0....   \n",
       "814553   [(814553, 1.0), (1284144, 0.417), (2005888, 0....   \n",
       "1870692  [(1870692, 1.0), (1697664, 0.5), (859934, 0.46...   \n",
       "1593009  [(1593009, 1.0), (983195, 0.385), (681026, 0.3...   \n",
       "\n",
       "                                        similar_items_list  \\\n",
       "item_id                                                      \n",
       "1766436  [(1766436, 1.0), (105563, 0.9), (577201, 0.9),...   \n",
       "561042   [(561042, 1.0), (108431, 1.0), (986421, 0.4), ...   \n",
       "343241   [(343241, 1.0), (781918, 0.8), (1609160, 0.8),...   \n",
       "292466   [(172184, 1.0), (292466, 1.0), (61564, 0.818),...   \n",
       "1931270  [(1931270, 1.0), (311490, 0.636), (1391576, 0....   \n",
       "222832   [(222832, 1.0), (1721871, 0.75), (1537434, 0.6...   \n",
       "1090106  [(1090106, 1.0), (220173, 0.833), (1509540, 0....   \n",
       "814553   [(814553, 1.0), (1284144, 0.417), (2005888, 0....   \n",
       "1870692  [(1870692, 1.0), (1697664, 0.5), (859934, 0.46...   \n",
       "1593009  [(1593009, 1.0), (983195, 0.385), (681026, 0.3...   \n",
       "\n",
       "         len_similar_items_list                                           top  \\\n",
       "item_id                                                                         \n",
       "1766436                      10     [1766436, 105563, 577201, 240317, 852957]   \n",
       "561042                       10    [561042, 108431, 986421, 1423450, 1966018]   \n",
       "343241                       10   [343241, 781918, 1609160, 1275578, 1037668]   \n",
       "292466                       10      [172184, 292466, 61564, 215610, 1482880]   \n",
       "1931270                      10  [1931270, 311490, 1391576, 1989767, 1132339]   \n",
       "222832                       10  [222832, 1721871, 1537434, 1171112, 1487228]   \n",
       "1090106                      10   [1090106, 220173, 1509540, 1758619, 169670]   \n",
       "814553                       10  [814553, 1284144, 2005888, 2025347, 1047686]   \n",
       "1870692                      10   [1870692, 1697664, 859934, 1642460, 931430]   \n",
       "1593009                      10    [1593009, 983195, 681026, 206480, 2020132]   \n",
       "\n",
       "                                                      more  \n",
       "item_id                                                     \n",
       "1766436  [1766436, 105563, 577201, 240317, 852957, 1064...  \n",
       "561042   [561042, 108431, 986421, 1423450, 1966018, 122...  \n",
       "343241   [343241, 781918, 1609160, 1275578, 1037668, 19...  \n",
       "292466   [172184, 292466, 61564, 215610, 1482880, 16388...  \n",
       "1931270  [1931270, 311490, 1391576, 1989767, 1132339, 2...  \n",
       "222832   [222832, 1721871, 1537434, 1171112, 1487228, 1...  \n",
       "1090106  [1090106, 220173, 1509540, 1758619, 169670, 36...  \n",
       "814553   [814553, 1284144, 2005888, 2025347, 1047686, 1...  \n",
       "1870692  [1870692, 1697664, 859934, 1642460, 931430, 17...  \n",
       "1593009  [1593009, 983195, 681026, 206480, 2020132, 188...  "
      ]
     },
     "execution_count": 80,
     "metadata": {},
     "output_type": "execute_result"
    }
   ],
   "source": [
    "items_similarity.sample(10)"
   ]
  },
  {
   "cell_type": "code",
   "execution_count": 81,
   "metadata": {
    "ExecuteTime": {
     "end_time": "2020-11-12T18:51:00.382354Z",
     "start_time": "2020-11-12T18:50:59.861111Z"
    }
   },
   "outputs": [
    {
     "data": {
      "text/html": [
       "<div>\n",
       "<style scoped>\n",
       "    .dataframe tbody tr th:only-of-type {\n",
       "        vertical-align: middle;\n",
       "    }\n",
       "\n",
       "    .dataframe tbody tr th {\n",
       "        vertical-align: top;\n",
       "    }\n",
       "\n",
       "    .dataframe thead th {\n",
       "        text-align: right;\n",
       "    }\n",
       "</style>\n",
       "<table border=\"1\" class=\"dataframe\">\n",
       "  <thead>\n",
       "    <tr style=\"text-align: right;\">\n",
       "      <th></th>\n",
       "      <th>item_id</th>\n",
       "      <th>title</th>\n",
       "      <th>domain_id</th>\n",
       "      <th>product_id</th>\n",
       "      <th>price</th>\n",
       "      <th>category_id</th>\n",
       "      <th>condition</th>\n",
       "      <th>title_clean</th>\n",
       "      <th>domain_clean</th>\n",
       "    </tr>\n",
       "  </thead>\n",
       "  <tbody>\n",
       "    <tr>\n",
       "      <th>85686</th>\n",
       "      <td>1952161</td>\n",
       "      <td>7 Extensiones De Cabello 120 Gms Clip/on Fibra...</td>\n",
       "      <td>MLM-HAIR_EXTENSIONS</td>\n",
       "      <td>NaN</td>\n",
       "      <td>345.0</td>\n",
       "      <td>MLM16090</td>\n",
       "      <td>new</td>\n",
       "      <td>extensiones cabello gms clip on fibra natural</td>\n",
       "      <td>HAIR EXTENSIONS</td>\n",
       "    </tr>\n",
       "    <tr>\n",
       "      <th>98664</th>\n",
       "      <td>445427</td>\n",
       "      <td>Extensiones De Cabello Fibra Natural Sintetica...</td>\n",
       "      <td>MLM-HAIR_EXTENSIONS</td>\n",
       "      <td>NaN</td>\n",
       "      <td>359.0</td>\n",
       "      <td>MLM16090</td>\n",
       "      <td>new</td>\n",
       "      <td>extensiones cabello fibra natural sintetica ca...</td>\n",
       "      <td>HAIR EXTENSIONS</td>\n",
       "    </tr>\n",
       "    <tr>\n",
       "      <th>205437</th>\n",
       "      <td>922342</td>\n",
       "      <td>Extensiones De Cabello Fibra Natural Paquete C...</td>\n",
       "      <td>MLM-HAIR_EXTENSIONS</td>\n",
       "      <td>NaN</td>\n",
       "      <td>345.0</td>\n",
       "      <td>MLM16090</td>\n",
       "      <td>new</td>\n",
       "      <td>extensiones cabello fibra natural paquete pzas</td>\n",
       "      <td>HAIR EXTENSIONS</td>\n",
       "    </tr>\n",
       "    <tr>\n",
       "      <th>235378</th>\n",
       "      <td>1724184</td>\n",
       "      <td>Extensiones De Cabello Convinado Con Fibra 22 ...</td>\n",
       "      <td>MLM-HAIR_EXTENSIONS</td>\n",
       "      <td>NaN</td>\n",
       "      <td>499.0</td>\n",
       "      <td>MLM16090</td>\n",
       "      <td>new</td>\n",
       "      <td>extensiones cabello convinado fibra plg paquete</td>\n",
       "      <td>HAIR EXTENSIONS</td>\n",
       "    </tr>\n",
       "  </tbody>\n",
       "</table>\n",
       "</div>"
      ],
      "text/plain": [
       "        item_id                                              title  \\\n",
       "85686   1952161  7 Extensiones De Cabello 120 Gms Clip/on Fibra...   \n",
       "98664    445427  Extensiones De Cabello Fibra Natural Sintetica...   \n",
       "205437   922342  Extensiones De Cabello Fibra Natural Paquete C...   \n",
       "235378  1724184  Extensiones De Cabello Convinado Con Fibra 22 ...   \n",
       "\n",
       "                  domain_id  product_id  price category_id condition  \\\n",
       "85686   MLM-HAIR_EXTENSIONS         NaN  345.0    MLM16090       new   \n",
       "98664   MLM-HAIR_EXTENSIONS         NaN  359.0    MLM16090       new   \n",
       "205437  MLM-HAIR_EXTENSIONS         NaN  345.0    MLM16090       new   \n",
       "235378  MLM-HAIR_EXTENSIONS         NaN  499.0    MLM16090       new   \n",
       "\n",
       "                                              title_clean     domain_clean  \n",
       "85686       extensiones cabello gms clip on fibra natural  HAIR EXTENSIONS  \n",
       "98664   extensiones cabello fibra natural sintetica ca...  HAIR EXTENSIONS  \n",
       "205437     extensiones cabello fibra natural paquete pzas  HAIR EXTENSIONS  \n",
       "235378    extensiones cabello convinado fibra plg paquete  HAIR EXTENSIONS  "
      ]
     },
     "execution_count": 81,
     "metadata": {},
     "output_type": "execute_result"
    }
   ],
   "source": [
    "meli_item[meli_item.item_id.isin([1724184,922342, 1952161, 445427])]"
   ]
  },
  {
   "cell_type": "code",
   "execution_count": 82,
   "metadata": {
    "ExecuteTime": {
     "end_time": "2020-11-12T18:51:00.411282Z",
     "start_time": "2020-11-12T18:51:00.384350Z"
    }
   },
   "outputs": [
    {
     "data": {
      "text/html": [
       "<div>\n",
       "<style scoped>\n",
       "    .dataframe tbody tr th:only-of-type {\n",
       "        vertical-align: middle;\n",
       "    }\n",
       "\n",
       "    .dataframe tbody tr th {\n",
       "        vertical-align: top;\n",
       "    }\n",
       "\n",
       "    .dataframe thead th {\n",
       "        text-align: right;\n",
       "    }\n",
       "</style>\n",
       "<table border=\"1\" class=\"dataframe\">\n",
       "  <thead>\n",
       "    <tr style=\"text-align: right;\">\n",
       "      <th></th>\n",
       "      <th>item_id</th>\n",
       "      <th>title</th>\n",
       "      <th>domain_id</th>\n",
       "      <th>product_id</th>\n",
       "      <th>price</th>\n",
       "      <th>category_id</th>\n",
       "      <th>condition</th>\n",
       "      <th>title_clean</th>\n",
       "      <th>domain_clean</th>\n",
       "    </tr>\n",
       "  </thead>\n",
       "  <tbody>\n",
       "    <tr>\n",
       "      <th>519578</th>\n",
       "      <td>663996</td>\n",
       "      <td>Jaqueta Corta Vento Masculin Refletivo Imperme...</td>\n",
       "      <td>MLB-JACKETS_AND_COATS</td>\n",
       "      <td>NaN</td>\n",
       "      <td>139.0</td>\n",
       "      <td>MLB108803</td>\n",
       "      <td>new</td>\n",
       "      <td>jaqueta corta vento masculin refletivo imperme...</td>\n",
       "      <td>JACKETS AND COATS</td>\n",
       "    </tr>\n",
       "    <tr>\n",
       "      <th>782804</th>\n",
       "      <td>1865852</td>\n",
       "      <td>Jaqueta Corta Vento Bmw Impermeavel E Refletiv...</td>\n",
       "      <td>MLB-JACKETS_AND_COATS</td>\n",
       "      <td>NaN</td>\n",
       "      <td>149.0</td>\n",
       "      <td>MLB108803</td>\n",
       "      <td>new</td>\n",
       "      <td>jaqueta corta vento bmw impermeavel e refletiv...</td>\n",
       "      <td>JACKETS AND COATS</td>\n",
       "    </tr>\n",
       "    <tr>\n",
       "      <th>1312144</th>\n",
       "      <td>540084</td>\n",
       "      <td>Jaqueta Corta Vento Liso Impermeável E Refleti...</td>\n",
       "      <td>MLB-JACKETS_AND_COATS</td>\n",
       "      <td>NaN</td>\n",
       "      <td>139.0</td>\n",
       "      <td>MLB108803</td>\n",
       "      <td>new</td>\n",
       "      <td>jaqueta corta vento liso impermeavel e refleti...</td>\n",
       "      <td>JACKETS AND COATS</td>\n",
       "    </tr>\n",
       "    <tr>\n",
       "      <th>1801296</th>\n",
       "      <td>1254368</td>\n",
       "      <td>Promoção Limitada Jaqueta Corta Vento  Imperme...</td>\n",
       "      <td>MLB-JACKETS_AND_COATS</td>\n",
       "      <td>NaN</td>\n",
       "      <td>139.0</td>\n",
       "      <td>MLB108803</td>\n",
       "      <td>new</td>\n",
       "      <td>promocao limitada jaqueta corta vento impermea...</td>\n",
       "      <td>JACKETS AND COATS</td>\n",
       "    </tr>\n",
       "  </tbody>\n",
       "</table>\n",
       "</div>"
      ],
      "text/plain": [
       "         item_id                                              title  \\\n",
       "519578    663996  Jaqueta Corta Vento Masculin Refletivo Imperme...   \n",
       "782804   1865852  Jaqueta Corta Vento Bmw Impermeavel E Refletiv...   \n",
       "1312144   540084  Jaqueta Corta Vento Liso Impermeável E Refleti...   \n",
       "1801296  1254368  Promoção Limitada Jaqueta Corta Vento  Imperme...   \n",
       "\n",
       "                     domain_id  product_id  price category_id condition  \\\n",
       "519578   MLB-JACKETS_AND_COATS         NaN  139.0   MLB108803       new   \n",
       "782804   MLB-JACKETS_AND_COATS         NaN  149.0   MLB108803       new   \n",
       "1312144  MLB-JACKETS_AND_COATS         NaN  139.0   MLB108803       new   \n",
       "1801296  MLB-JACKETS_AND_COATS         NaN  139.0   MLB108803       new   \n",
       "\n",
       "                                               title_clean       domain_clean  \n",
       "519578   jaqueta corta vento masculin refletivo imperme...  JACKETS AND COATS  \n",
       "782804   jaqueta corta vento bmw impermeavel e refletiv...  JACKETS AND COATS  \n",
       "1312144  jaqueta corta vento liso impermeavel e refleti...  JACKETS AND COATS  \n",
       "1801296  promocao limitada jaqueta corta vento impermea...  JACKETS AND COATS  "
      ]
     },
     "execution_count": 82,
     "metadata": {},
     "output_type": "execute_result"
    }
   ],
   "source": [
    "meli_item[meli_item.item_id.isin([540084,1254368, 663996, 1865852])]"
   ]
  },
  {
   "cell_type": "code",
   "execution_count": 83,
   "metadata": {
    "ExecuteTime": {
     "end_time": "2020-11-12T18:51:00.434222Z",
     "start_time": "2020-11-12T18:51:00.412280Z"
    }
   },
   "outputs": [
    {
     "data": {
      "text/html": [
       "<div>\n",
       "<style scoped>\n",
       "    .dataframe tbody tr th:only-of-type {\n",
       "        vertical-align: middle;\n",
       "    }\n",
       "\n",
       "    .dataframe tbody tr th {\n",
       "        vertical-align: top;\n",
       "    }\n",
       "\n",
       "    .dataframe thead th {\n",
       "        text-align: right;\n",
       "    }\n",
       "</style>\n",
       "<table border=\"1\" class=\"dataframe\">\n",
       "  <thead>\n",
       "    <tr style=\"text-align: right;\">\n",
       "      <th></th>\n",
       "      <th>item_id</th>\n",
       "      <th>title</th>\n",
       "      <th>domain_id</th>\n",
       "      <th>product_id</th>\n",
       "      <th>price</th>\n",
       "      <th>category_id</th>\n",
       "      <th>condition</th>\n",
       "      <th>title_clean</th>\n",
       "      <th>domain_clean</th>\n",
       "    </tr>\n",
       "  </thead>\n",
       "  <tbody>\n",
       "    <tr>\n",
       "      <th>13989</th>\n",
       "      <td>1664973</td>\n",
       "      <td>Tenis Puma Originales Carson Envio Gratis</td>\n",
       "      <td>MLM-SNEAKERS</td>\n",
       "      <td>NaN</td>\n",
       "      <td>1299.0</td>\n",
       "      <td>MLM6585</td>\n",
       "      <td>new</td>\n",
       "      <td>tenis puma originales carson envio gratis</td>\n",
       "      <td>SNEAKERS</td>\n",
       "    </tr>\n",
       "    <tr>\n",
       "      <th>57993</th>\n",
       "      <td>740172</td>\n",
       "      <td>Tenis Puma Osu Running Envio Gratis</td>\n",
       "      <td>MLM-SNEAKERS</td>\n",
       "      <td>NaN</td>\n",
       "      <td>2399.0</td>\n",
       "      <td>MLM6585</td>\n",
       "      <td>new</td>\n",
       "      <td>tenis puma osu running envio gratis</td>\n",
       "      <td>SNEAKERS</td>\n",
       "    </tr>\n",
       "    <tr>\n",
       "      <th>154561</th>\n",
       "      <td>1010163</td>\n",
       "      <td>Tenis Puma Evospeed 5 Fg 102586 08 Original En...</td>\n",
       "      <td>MLM-SNEAKERS</td>\n",
       "      <td>NaN</td>\n",
       "      <td>999.0</td>\n",
       "      <td>MLM6585</td>\n",
       "      <td>new</td>\n",
       "      <td>tenis puma evospeed fg original envio gratis</td>\n",
       "      <td>SNEAKERS</td>\n",
       "    </tr>\n",
       "    <tr>\n",
       "      <th>459513</th>\n",
       "      <td>199970</td>\n",
       "      <td>Tenis Puma Clasico C Ii Fg 105012-01 Original ...</td>\n",
       "      <td>MLM-SNEAKERS</td>\n",
       "      <td>NaN</td>\n",
       "      <td>1099.0</td>\n",
       "      <td>MLM6585</td>\n",
       "      <td>new</td>\n",
       "      <td>tenis puma clasico c ii fg original envio gratis</td>\n",
       "      <td>SNEAKERS</td>\n",
       "    </tr>\n",
       "  </tbody>\n",
       "</table>\n",
       "</div>"
      ],
      "text/plain": [
       "        item_id                                              title  \\\n",
       "13989   1664973          Tenis Puma Originales Carson Envio Gratis   \n",
       "57993    740172                Tenis Puma Osu Running Envio Gratis   \n",
       "154561  1010163  Tenis Puma Evospeed 5 Fg 102586 08 Original En...   \n",
       "459513   199970  Tenis Puma Clasico C Ii Fg 105012-01 Original ...   \n",
       "\n",
       "           domain_id  product_id   price category_id condition  \\\n",
       "13989   MLM-SNEAKERS         NaN  1299.0     MLM6585       new   \n",
       "57993   MLM-SNEAKERS         NaN  2399.0     MLM6585       new   \n",
       "154561  MLM-SNEAKERS         NaN   999.0     MLM6585       new   \n",
       "459513  MLM-SNEAKERS         NaN  1099.0     MLM6585       new   \n",
       "\n",
       "                                             title_clean domain_clean  \n",
       "13989          tenis puma originales carson envio gratis     SNEAKERS  \n",
       "57993                tenis puma osu running envio gratis     SNEAKERS  \n",
       "154561      tenis puma evospeed fg original envio gratis     SNEAKERS  \n",
       "459513  tenis puma clasico c ii fg original envio gratis     SNEAKERS  "
      ]
     },
     "execution_count": 83,
     "metadata": {},
     "output_type": "execute_result"
    }
   ],
   "source": [
    "meli_item[meli_item.item_id.isin([1010163,199970, 1664973, 740172])]"
   ]
  },
  {
   "cell_type": "markdown",
   "metadata": {},
   "source": [
    "# FIND FIRST ?"
   ]
  },
  {
   "cell_type": "code",
   "execution_count": 84,
   "metadata": {
    "ExecuteTime": {
     "end_time": "2020-11-11T13:46:29.564399Z",
     "start_time": "2020-11-11T13:46:29.559413Z"
    }
   },
   "outputs": [
    {
     "data": {
      "text/plain": [
       "(413163, 19)"
      ]
     },
     "execution_count": 84,
     "metadata": {},
     "output_type": "execute_result"
    }
   ],
   "source": [
    "train.shape"
   ]
  },
  {
   "cell_type": "code",
   "execution_count": 85,
   "metadata": {
    "ExecuteTime": {
     "end_time": "2020-11-11T13:46:30.312398Z",
     "start_time": "2020-11-11T13:46:30.267518Z"
    }
   },
   "outputs": [
    {
     "name": "stdout",
     "output_type": "stream",
     "text": [
      "Number of people who bought the 1 viewed item : 2891/31631~0.09139767949163795\n"
     ]
    }
   ],
   "source": [
    "num_people_1_view_bought =train[(train[\"len_user_history\"]==1)&(train[\"item_bought\"]==train[\"max_view_item\"])].shape[0]\n",
    "num_people_1_view =train[(train[\"len_user_history\"]==1)].shape[0]\n",
    "print(f\"Number of people who bought the 1 viewed item : {num_people_1_view_bought}/{num_people_1_view}~{num_people_1_view_bought/num_people_1_view}\" )"
   ]
  },
  {
   "cell_type": "code",
   "execution_count": 86,
   "metadata": {
    "ExecuteTime": {
     "end_time": "2020-11-11T13:46:31.008536Z",
     "start_time": "2020-11-11T13:46:31.004546Z"
    }
   },
   "outputs": [],
   "source": [
    "def check_item_bought_count(row):\n",
    "    if row[\"count_view\"]==\"NONE\":return \"NONE\"\n",
    "    find = 0\n",
    "    for item in row[\"count_view\"].keys():\n",
    "        if item == row[\"item_bought\"]:find=1\n",
    "    return find"
   ]
  },
  {
   "cell_type": "code",
   "execution_count": 87,
   "metadata": {
    "ExecuteTime": {
     "end_time": "2020-11-11T13:46:47.328874Z",
     "start_time": "2020-11-11T13:46:31.720630Z"
    }
   },
   "outputs": [
    {
     "data": {
      "text/plain": [
       "0       0.641316\n",
       "1       0.293884\n",
       "NONE    0.064800\n",
       "Name: check_item_bought_count, dtype: float64"
      ]
     },
     "execution_count": 87,
     "metadata": {},
     "output_type": "execute_result"
    }
   ],
   "source": [
    "train[\"check_item_bought_count\"]=train.apply(check_item_bought_count,axis=1)\n",
    "train[\"check_item_bought_count\"].value_counts(1)"
   ]
  },
  {
   "cell_type": "markdown",
   "metadata": {},
   "source": [
    "Only 30 % of the people bought an Item that saw last week"
   ]
  },
  {
   "cell_type": "code",
   "execution_count": 88,
   "metadata": {
    "ExecuteTime": {
     "end_time": "2020-11-11T13:46:48.431925Z",
     "start_time": "2020-11-11T13:46:48.021021Z"
    }
   },
   "outputs": [
    {
     "name": "stdout",
     "output_type": "stream",
     "text": [
      "Item bought = Max View Item : 64795 ~ 15.683%\n"
     ]
    }
   ],
   "source": [
    "num_item_equals_max = train[train[\"item_bought\"]==train[\"max_view_item\"]].shape[0]\n",
    "print(\"Item bought = Max View Item : {} ~ {:.3f}%\".format(num_item_equals_max,(num_item_equals_max*100)/train.shape[0]))"
   ]
  },
  {
   "cell_type": "code",
   "execution_count": 89,
   "metadata": {
    "ExecuteTime": {
     "end_time": "2020-11-11T13:46:49.165985Z",
     "start_time": "2020-11-11T13:46:49.112103Z"
    }
   },
   "outputs": [
    {
     "name": "stdout",
     "output_type": "stream",
     "text": [
      "Item bought = Last View Item : 63364 ~ 15.336%\n"
     ]
    }
   ],
   "source": [
    "num_item_equals_last = train[train[\"item_bought\"]==train[\"last_view\"]].shape[0]\n",
    "print(\"Item bought = Last View Item : {} ~ {:.3f}%\".format(num_item_equals_last,(num_item_equals_last*100)/train.shape[0]))"
   ]
  },
  {
   "cell_type": "code",
   "execution_count": 90,
   "metadata": {
    "ExecuteTime": {
     "end_time": "2020-11-11T13:46:49.990778Z",
     "start_time": "2020-11-11T13:46:49.839163Z"
    }
   },
   "outputs": [
    {
     "name": "stdout",
     "output_type": "stream",
     "text": [
      "Last = Max = item_bought 41870/147615 ~ 0.2836432611861938\n"
     ]
    }
   ],
   "source": [
    "num_item_equals_last_max = train[(train[\"max_view_item\"]==train[\"last_view\"])].shape[0]\n",
    "num_item_bought_equals_last_max = train[(train[\"max_view_item\"]==train[\"last_view\"])&((train[\"item_bought\"]==train[\"last_view\"]))].shape[0]\n",
    "print(f\"Last = Max = item_bought {num_item_bought_equals_last_max}/{num_item_equals_last_max} ~ {num_item_bought_equals_last_max/num_item_equals_last_max}\")"
   ]
  },
  {
   "cell_type": "code",
   "execution_count": 91,
   "metadata": {
    "ExecuteTime": {
     "end_time": "2020-11-11T13:46:50.856438Z",
     "start_time": "2020-11-11T13:46:50.671930Z"
    }
   },
   "outputs": [
    {
     "name": "stdout",
     "output_type": "stream",
     "text": [
      "Item bought domain  = Max View Item domain : 144430 ~ 34.957%\n"
     ]
    }
   ],
   "source": [
    "num_domain_equals_max = train[train[\"domain_id\"]==train[\"max_view_domain_id\"]].shape[0]\n",
    "print(\"Item bought domain  = Max View Item domain : {} ~ {:.3f}%\".format(num_domain_equals_max,(num_domain_equals_max*100)/train.shape[0]))"
   ]
  },
  {
   "cell_type": "code",
   "execution_count": 92,
   "metadata": {
    "ExecuteTime": {
     "end_time": "2020-11-11T13:46:51.714143Z",
     "start_time": "2020-11-11T13:46:51.541604Z"
    }
   },
   "outputs": [
    {
     "name": "stdout",
     "output_type": "stream",
     "text": [
      "Item bought domain  = Last View Item domain : 141842 ~ 34.331%\n"
     ]
    }
   ],
   "source": [
    "num_domain_equals_last = train[train[\"domain_id\"]==train[\"last_view_domain_id\"]].shape[0]\n",
    "print(\"Item bought domain  = Last View Item domain : {} ~ {:.3f}%\".format(num_domain_equals_last,(num_domain_equals_last*100)/train.shape[0]))"
   ]
  },
  {
   "cell_type": "code",
   "execution_count": 93,
   "metadata": {
    "ExecuteTime": {
     "end_time": "2020-11-11T13:46:52.587805Z",
     "start_time": "2020-11-11T13:46:52.397316Z"
    }
   },
   "outputs": [
    {
     "name": "stdout",
     "output_type": "stream",
     "text": [
      "Item bought domain  = Most View domain : 135697 ~ 32.843%\n"
     ]
    }
   ],
   "source": [
    "num_most_domain_view = train[train[\"domain_id\"]==train[\"most_domain_view\"]].shape[0]\n",
    "print(\"Item bought domain  = Most View domain : {} ~ {:.3f}%\".format(num_most_domain_view,(num_most_domain_view*100)/train.shape[0]))"
   ]
  },
  {
   "cell_type": "code",
   "execution_count": 94,
   "metadata": {
    "ExecuteTime": {
     "end_time": "2020-11-11T13:46:53.779619Z",
     "start_time": "2020-11-11T13:46:53.271015Z"
    }
   },
   "outputs": [
    {
     "name": "stdout",
     "output_type": "stream",
     "text": [
      "Last = Max = domain : 112729/226541 ~ 0.4976097042036541\n"
     ]
    }
   ],
   "source": [
    "num_domain_equals_last_max = train[(train[\"max_view_domain_id\"]==train[\"last_view_domain_id\"])].shape[0]\n",
    "num_domain_bought_equals_last_max = train[(train[\"max_view_domain_id\"]==train[\"last_view_domain_id\"])&((train[\"domain_id\"]==train[\"last_view_domain_id\"]))].shape[0]\n",
    "print(f\"Last = Max = domain : {num_domain_bought_equals_last_max}/{num_domain_equals_last_max} ~ {num_domain_bought_equals_last_max/num_domain_equals_last_max}\")"
   ]
  },
  {
   "cell_type": "code",
   "execution_count": 95,
   "metadata": {
    "ExecuteTime": {
     "end_time": "2020-11-11T13:46:54.966476Z",
     "start_time": "2020-11-11T13:46:54.468774Z"
    }
   },
   "outputs": [
    {
     "name": "stdout",
     "output_type": "stream",
     "text": [
      "Last = Most = domain : 107864/225602 ~ 0.4781163287559507\n"
     ]
    }
   ],
   "source": [
    "num_domain_equals_last_most = train[(train[\"most_domain_view\"]==train[\"last_view_domain_id\"])].shape[0]\n",
    "num_domain_bought_equals_last_most = train[(train[\"most_domain_view\"]==train[\"last_view_domain_id\"])&((train[\"domain_id\"]==train[\"last_view_domain_id\"]))].shape[0]\n",
    "print(f\"Last = Most = domain : {num_domain_bought_equals_last_most}/{num_domain_equals_last_most} ~ {num_domain_bought_equals_last_most/num_domain_equals_last_most}\")"
   ]
  },
  {
   "cell_type": "code",
   "execution_count": 96,
   "metadata": {
    "ExecuteTime": {
     "end_time": "2020-11-11T13:46:56.156291Z",
     "start_time": "2020-11-11T13:46:55.649615Z"
    }
   },
   "outputs": [
    {
     "name": "stdout",
     "output_type": "stream",
     "text": [
      "Max = Most = domain : 119192/281308 ~ 0.42370640010237887\n"
     ]
    }
   ],
   "source": [
    "num_domain_equals_max_most = train[(train[\"most_domain_view\"]==train[\"max_view_domain_id\"])].shape[0]\n",
    "num_domain_bought_equals_max_most = train[(train[\"most_domain_view\"]==train[\"max_view_domain_id\"])&((train[\"domain_id\"]==train[\"max_view_domain_id\"]))].shape[0]\n",
    "print(f\"Max = Most = domain : {num_domain_bought_equals_max_most}/{num_domain_equals_max_most} ~ {num_domain_bought_equals_max_most/num_domain_equals_max_most}\")"
   ]
  },
  {
   "cell_type": "code",
   "execution_count": 97,
   "metadata": {
    "ExecuteTime": {
     "end_time": "2020-11-11T13:46:57.476729Z",
     "start_time": "2020-11-11T13:46:56.844418Z"
    }
   },
   "outputs": [
    {
     "name": "stdout",
     "output_type": "stream",
     "text": [
      "Last = Max = Most =  domain : 98667/194627 ~ 0.5069543280223197\n"
     ]
    }
   ],
   "source": [
    "num_domain_equals_last_max_most = train[(train[\"max_view_domain_id\"]==train[\"most_domain_view\"])&(train[\"max_view_domain_id\"]==train[\"last_view_domain_id\"])].shape[0]\n",
    "num_domain_bought_equals_last_max_most = train[(train[\"max_view_domain_id\"]==train[\"most_domain_view\"])&((train[\"domain_id\"]==train[\"most_domain_view\"])&(train[\"max_view_domain_id\"]==train[\"last_view_domain_id\"]))].shape[0]\n",
    "print(f\"Last = Max = Most =  domain : {num_domain_bought_equals_last_max_most}/{num_domain_equals_last_max_most} ~ {num_domain_bought_equals_last_max_most/num_domain_equals_last_max_most}\")"
   ]
  },
  {
   "cell_type": "code",
   "execution_count": 98,
   "metadata": {
    "ExecuteTime": {
     "end_time": "2020-11-11T13:46:58.158902Z",
     "start_time": "2020-11-11T13:46:58.152918Z"
    }
   },
   "outputs": [
    {
     "data": {
      "text/plain": [
       "Index(['user_history', 'item_bought', 'title', 'domain_id', 'price',\n",
       "       'category_id', 'len_user_history', 'number_search', 'number_view',\n",
       "       'count_purchase', 'count_view', 'count_search', 'max_view_item',\n",
       "       'max_view_domain_id', 'max_view_category_id', 'most_domain_view',\n",
       "       'last_search', 'last_view', 'last_view_domain_id',\n",
       "       'check_item_bought_count'],\n",
       "      dtype='object')"
      ]
     },
     "execution_count": 98,
     "metadata": {},
     "output_type": "execute_result"
    }
   ],
   "source": [
    "train.columns"
   ]
  },
  {
   "cell_type": "code",
   "execution_count": 113,
   "metadata": {
    "ExecuteTime": {
     "end_time": "2020-11-11T13:47:58.519313Z",
     "start_time": "2020-11-11T13:47:58.512331Z"
    }
   },
   "outputs": [],
   "source": [
    "train_ml = train[[]]"
   ]
  },
  {
   "cell_type": "code",
   "execution_count": 114,
   "metadata": {
    "ExecuteTime": {
     "end_time": "2020-11-11T13:47:59.292279Z",
     "start_time": "2020-11-11T13:47:59.286260Z"
    }
   },
   "outputs": [],
   "source": [
    "def calculate_last_view_item(row):\n",
    "    if row[\"item_bought\"]==row[\"last_view\"]: return 1\n",
    "    else: return 0\n",
    "    \n",
    "def calculate_max_view_item(row):\n",
    "    if row[\"item_bought\"]==row[\"max_view_item\"]: return 1\n",
    "    else: return 0\n",
    "\n",
    "def calculate_max_view_item_domain(row):\n",
    "    if row[\"domain_id\"]==row[\"max_view_domain_id\"]: return 1\n",
    "    else: return 0\n",
    "    \n",
    "def calculate_most_view_domain(row):\n",
    "    if row[\"domain_id\"]==row[\"most_domain_view\"]: return 1\n",
    "    else: return 0\n",
    "    \n",
    "def calculate_last_view_domain(row):\n",
    "    if row[\"domain_id\"]==row[\"last_view_domain_id\"]: return 1\n",
    "    else: return 0\n",
    "\n",
    "def max_view_domain_last_view_domain(row):\n",
    "    if row[\"max_view_domain_id\"]==row[\"last_view_domain_id\"]: return 1\n",
    "    else: return 0\n",
    "    \n",
    "def max_view_domain_most_view_domain(row):\n",
    "    if row[\"max_view_domain_id\"]==row[\"most_domain_view\"]: return 1\n",
    "    else: return 0\n",
    "\n",
    "def last_view_domain_most_view_domain(row):\n",
    "    if row[\"last_view_domain_id\"]==row[\"most_domain_view\"]: return 1\n",
    "    else: return 0\n",
    "    \n",
    "def all_3(row):\n",
    "    if row[\"last_view_domain_id\"]==row[\"most_domain_view\"] and row[\"max_view_domain_id\"]==row[\"most_domain_view\"] : return 1\n",
    "    else: return 0"
   ]
  },
  {
   "cell_type": "code",
   "execution_count": 115,
   "metadata": {
    "ExecuteTime": {
     "end_time": "2020-11-11T13:48:39.034966Z",
     "start_time": "2020-11-11T13:47:59.993368Z"
    }
   },
   "outputs": [],
   "source": [
    "train_ml[\"len\"] = train[\"number_view\"]\n",
    "train_ml[\"last_view_item\"]=train.apply(calculate_last_view_item,axis=1)\n",
    "train_ml[\"max_view_item\"]=train.apply(calculate_max_view_item,axis=1)\n",
    "train_ml[\"last_view_domain\"]=train.apply(calculate_last_view_domain,axis=1)\n",
    "train_ml[\"max_view_item_domain\"]=train.apply(calculate_max_view_item_domain,axis=1)\n",
    "train_ml[\"most_view_domain\"]=train.apply(calculate_most_view_domain,axis=1)\n",
    "train_ml[\"max_view_domain_last_view_domain\"]=train.apply(max_view_domain_last_view_domain,axis=1)\n",
    "train_ml[\"max_view_domain_most_view_domain\"]=train.apply(max_view_domain_most_view_domain,axis=1)\n",
    "train_ml[\"last_view_domain_most_view_domain\"]=train.apply(last_view_domain_most_view_domain,axis=1)\n",
    "train_ml[\"all_3\"]=train.apply(all_3,axis=1)"
   ]
  },
  {
   "cell_type": "code",
   "execution_count": 116,
   "metadata": {
    "ExecuteTime": {
     "end_time": "2020-11-11T13:48:39.715103Z",
     "start_time": "2020-11-11T13:48:39.705151Z"
    }
   },
   "outputs": [
    {
     "data": {
      "text/plain": [
       "0    0.846637\n",
       "1    0.153363\n",
       "Name: last_view_item, dtype: float64"
      ]
     },
     "execution_count": 116,
     "metadata": {},
     "output_type": "execute_result"
    }
   ],
   "source": [
    "train_ml[\"last_view_item\"].value_counts(1)"
   ]
  },
  {
   "cell_type": "code",
   "execution_count": 117,
   "metadata": {
    "ExecuteTime": {
     "end_time": "2020-11-11T13:48:40.390298Z",
     "start_time": "2020-11-11T13:48:40.382319Z"
    }
   },
   "outputs": [
    {
     "data": {
      "text/plain": [
       "0    0.843173\n",
       "1    0.156827\n",
       "Name: max_view_item, dtype: float64"
      ]
     },
     "execution_count": 117,
     "metadata": {},
     "output_type": "execute_result"
    }
   ],
   "source": [
    "train_ml[\"max_view_item\"].value_counts(1)"
   ]
  },
  {
   "cell_type": "code",
   "execution_count": 118,
   "metadata": {
    "ExecuteTime": {
     "end_time": "2020-11-11T13:48:41.073510Z",
     "start_time": "2020-11-11T13:48:41.063557Z"
    }
   },
   "outputs": [
    {
     "data": {
      "text/plain": [
       "0    0.656692\n",
       "1    0.343308\n",
       "Name: last_view_domain, dtype: float64"
      ]
     },
     "execution_count": 118,
     "metadata": {},
     "output_type": "execute_result"
    }
   ],
   "source": [
    "train_ml[\"last_view_domain\"].value_counts(1)"
   ]
  },
  {
   "cell_type": "code",
   "execution_count": 119,
   "metadata": {
    "ExecuteTime": {
     "end_time": "2020-11-11T13:48:41.751656Z",
     "start_time": "2020-11-11T13:48:41.742711Z"
    }
   },
   "outputs": [
    {
     "data": {
      "text/plain": [
       "0    0.650429\n",
       "1    0.349571\n",
       "Name: max_view_item_domain, dtype: float64"
      ]
     },
     "execution_count": 119,
     "metadata": {},
     "output_type": "execute_result"
    }
   ],
   "source": [
    "train_ml[\"max_view_item_domain\"].value_counts(1)"
   ]
  },
  {
   "cell_type": "code",
   "execution_count": 120,
   "metadata": {
    "ExecuteTime": {
     "end_time": "2020-11-11T13:48:42.423857Z",
     "start_time": "2020-11-11T13:48:42.412885Z"
    }
   },
   "outputs": [
    {
     "data": {
      "text/plain": [
       "0    0.671565\n",
       "1    0.328435\n",
       "Name: most_view_domain, dtype: float64"
      ]
     },
     "execution_count": 120,
     "metadata": {},
     "output_type": "execute_result"
    }
   ],
   "source": [
    "train_ml[\"most_view_domain\"].value_counts(1)"
   ]
  },
  {
   "cell_type": "code",
   "execution_count": 147,
   "metadata": {
    "ExecuteTime": {
     "end_time": "2020-11-11T14:31:27.805856Z",
     "start_time": "2020-11-11T14:31:27.780891Z"
    }
   },
   "outputs": [
    {
     "data": {
      "text/plain": [
       "0    138077\n",
       "1     28115\n",
       "Name: last_view_item, dtype: int64"
      ]
     },
     "execution_count": 147,
     "metadata": {},
     "output_type": "execute_result"
    }
   ],
   "source": [
    "train_ml[train_ml.len>10][\"last_view_item\"].value_counts()"
   ]
  },
  {
   "cell_type": "code",
   "execution_count": 145,
   "metadata": {
    "ExecuteTime": {
     "end_time": "2020-11-11T14:31:12.731767Z",
     "start_time": "2020-11-11T14:31:12.700850Z"
    }
   },
   "outputs": [
    {
     "data": {
      "text/plain": [
       "0    135572\n",
       "1     30620\n",
       "Name: max_view_item, dtype: int64"
      ]
     },
     "execution_count": 145,
     "metadata": {},
     "output_type": "execute_result"
    }
   ],
   "source": [
    "train_ml[train_ml.len>10][\"max_view_item\"].value_counts()"
   ]
  },
  {
   "cell_type": "code",
   "execution_count": 121,
   "metadata": {
    "ExecuteTime": {
     "end_time": "2020-11-11T13:48:43.168864Z",
     "start_time": "2020-11-11T13:48:43.109025Z"
    }
   },
   "outputs": [
    {
     "data": {
      "text/html": [
       "<div>\n",
       "<style scoped>\n",
       "    .dataframe tbody tr th:only-of-type {\n",
       "        vertical-align: middle;\n",
       "    }\n",
       "\n",
       "    .dataframe tbody tr th {\n",
       "        vertical-align: top;\n",
       "    }\n",
       "\n",
       "    .dataframe thead th {\n",
       "        text-align: right;\n",
       "    }\n",
       "</style>\n",
       "<table border=\"1\" class=\"dataframe\">\n",
       "  <thead>\n",
       "    <tr style=\"text-align: right;\">\n",
       "      <th></th>\n",
       "      <th>last_view_item</th>\n",
       "      <th>max_view_item</th>\n",
       "    </tr>\n",
       "    <tr>\n",
       "      <th>most_view_domain</th>\n",
       "      <th></th>\n",
       "      <th></th>\n",
       "    </tr>\n",
       "  </thead>\n",
       "  <tbody>\n",
       "    <tr>\n",
       "      <th>0</th>\n",
       "      <td>0.064776</td>\n",
       "      <td>0.055109</td>\n",
       "    </tr>\n",
       "    <tr>\n",
       "      <th>1</th>\n",
       "      <td>0.334503</td>\n",
       "      <td>0.364813</td>\n",
       "    </tr>\n",
       "  </tbody>\n",
       "</table>\n",
       "</div>"
      ],
      "text/plain": [
       "                  last_view_item  max_view_item\n",
       "most_view_domain                               \n",
       "0                       0.064776       0.055109\n",
       "1                       0.334503       0.364813"
      ]
     },
     "execution_count": 121,
     "metadata": {},
     "output_type": "execute_result"
    }
   ],
   "source": [
    "train_ml.groupby([\"most_view_domain\"])[[\"last_view_item\",\"max_view_item\"]].mean()"
   ]
  },
  {
   "cell_type": "code",
   "execution_count": 122,
   "metadata": {
    "ExecuteTime": {
     "end_time": "2020-11-11T13:48:43.863006Z",
     "start_time": "2020-11-11T13:48:43.838074Z"
    }
   },
   "outputs": [
    {
     "data": {
      "text/html": [
       "<div>\n",
       "<style scoped>\n",
       "    .dataframe tbody tr th:only-of-type {\n",
       "        vertical-align: middle;\n",
       "    }\n",
       "\n",
       "    .dataframe tbody tr th {\n",
       "        vertical-align: top;\n",
       "    }\n",
       "\n",
       "    .dataframe thead th {\n",
       "        text-align: right;\n",
       "    }\n",
       "</style>\n",
       "<table border=\"1\" class=\"dataframe\">\n",
       "  <thead>\n",
       "    <tr style=\"text-align: right;\">\n",
       "      <th></th>\n",
       "      <th>last_view_item</th>\n",
       "      <th>max_view_item</th>\n",
       "    </tr>\n",
       "    <tr>\n",
       "      <th>max_view_item_domain</th>\n",
       "      <th></th>\n",
       "      <th></th>\n",
       "    </tr>\n",
       "  </thead>\n",
       "  <tbody>\n",
       "    <tr>\n",
       "      <th>0</th>\n",
       "      <td>0.042589</td>\n",
       "      <td>0.000000</td>\n",
       "    </tr>\n",
       "    <tr>\n",
       "      <th>1</th>\n",
       "      <td>0.359475</td>\n",
       "      <td>0.448626</td>\n",
       "    </tr>\n",
       "  </tbody>\n",
       "</table>\n",
       "</div>"
      ],
      "text/plain": [
       "                      last_view_item  max_view_item\n",
       "max_view_item_domain                               \n",
       "0                           0.042589       0.000000\n",
       "1                           0.359475       0.448626"
      ]
     },
     "execution_count": 122,
     "metadata": {},
     "output_type": "execute_result"
    }
   ],
   "source": [
    "train_ml.groupby([\"max_view_item_domain\"])[[\"last_view_item\",\"max_view_item\"]].mean()"
   ]
  },
  {
   "cell_type": "code",
   "execution_count": 123,
   "metadata": {
    "ExecuteTime": {
     "end_time": "2020-11-11T13:48:44.561139Z",
     "start_time": "2020-11-11T13:48:44.533248Z"
    }
   },
   "outputs": [
    {
     "data": {
      "text/html": [
       "<div>\n",
       "<style scoped>\n",
       "    .dataframe tbody tr th:only-of-type {\n",
       "        vertical-align: middle;\n",
       "    }\n",
       "\n",
       "    .dataframe tbody tr th {\n",
       "        vertical-align: top;\n",
       "    }\n",
       "\n",
       "    .dataframe thead th {\n",
       "        text-align: right;\n",
       "    }\n",
       "</style>\n",
       "<table border=\"1\" class=\"dataframe\">\n",
       "  <thead>\n",
       "    <tr style=\"text-align: right;\">\n",
       "      <th></th>\n",
       "      <th>last_view_item</th>\n",
       "      <th>max_view_item</th>\n",
       "    </tr>\n",
       "    <tr>\n",
       "      <th>last_view_domain</th>\n",
       "      <th></th>\n",
       "      <th></th>\n",
       "    </tr>\n",
       "  </thead>\n",
       "  <tbody>\n",
       "    <tr>\n",
       "      <th>0</th>\n",
       "      <td>0.000000</td>\n",
       "      <td>0.051994</td>\n",
       "    </tr>\n",
       "    <tr>\n",
       "      <th>1</th>\n",
       "      <td>0.446722</td>\n",
       "      <td>0.357355</td>\n",
       "    </tr>\n",
       "  </tbody>\n",
       "</table>\n",
       "</div>"
      ],
      "text/plain": [
       "                  last_view_item  max_view_item\n",
       "last_view_domain                               \n",
       "0                       0.000000       0.051994\n",
       "1                       0.446722       0.357355"
      ]
     },
     "execution_count": 123,
     "metadata": {},
     "output_type": "execute_result"
    }
   ],
   "source": [
    "train_ml.groupby([\"last_view_domain\"])[[\"last_view_item\",\"max_view_item\"]].mean()"
   ]
  },
  {
   "cell_type": "code",
   "execution_count": 124,
   "metadata": {
    "ExecuteTime": {
     "end_time": "2020-11-11T13:48:45.272236Z",
     "start_time": "2020-11-11T13:48:45.230349Z"
    }
   },
   "outputs": [
    {
     "data": {
      "text/html": [
       "<div>\n",
       "<style scoped>\n",
       "    .dataframe tbody tr th:only-of-type {\n",
       "        vertical-align: middle;\n",
       "    }\n",
       "\n",
       "    .dataframe tbody tr th {\n",
       "        vertical-align: top;\n",
       "    }\n",
       "\n",
       "    .dataframe thead th {\n",
       "        text-align: right;\n",
       "    }\n",
       "</style>\n",
       "<table border=\"1\" class=\"dataframe\">\n",
       "  <thead>\n",
       "    <tr style=\"text-align: right;\">\n",
       "      <th></th>\n",
       "      <th></th>\n",
       "      <th>last_view_item</th>\n",
       "      <th>max_view_item</th>\n",
       "    </tr>\n",
       "    <tr>\n",
       "      <th>max_view_item_domain</th>\n",
       "      <th>last_view_domain</th>\n",
       "      <th></th>\n",
       "      <th></th>\n",
       "    </tr>\n",
       "  </thead>\n",
       "  <tbody>\n",
       "    <tr>\n",
       "      <th rowspan=\"2\" valign=\"top\">0</th>\n",
       "      <th>0</th>\n",
       "      <td>0.000000</td>\n",
       "      <td>0.000000</td>\n",
       "    </tr>\n",
       "    <tr>\n",
       "      <th>1</th>\n",
       "      <td>0.393123</td>\n",
       "      <td>0.000000</td>\n",
       "    </tr>\n",
       "    <tr>\n",
       "      <th rowspan=\"2\" valign=\"top\">1</th>\n",
       "      <th>0</th>\n",
       "      <td>0.000000</td>\n",
       "      <td>0.445002</td>\n",
       "    </tr>\n",
       "    <tr>\n",
       "      <th>1</th>\n",
       "      <td>0.460565</td>\n",
       "      <td>0.449645</td>\n",
       "    </tr>\n",
       "  </tbody>\n",
       "</table>\n",
       "</div>"
      ],
      "text/plain": [
       "                                       last_view_item  max_view_item\n",
       "max_view_item_domain last_view_domain                               \n",
       "0                    0                       0.000000       0.000000\n",
       "                     1                       0.393123       0.000000\n",
       "1                    0                       0.000000       0.445002\n",
       "                     1                       0.460565       0.449645"
      ]
     },
     "execution_count": 124,
     "metadata": {},
     "output_type": "execute_result"
    }
   ],
   "source": [
    "train_ml.groupby([\"max_view_item_domain\",\"last_view_domain\"])[[\"last_view_item\",\"max_view_item\"]].mean()"
   ]
  },
  {
   "cell_type": "code",
   "execution_count": 125,
   "metadata": {
    "ExecuteTime": {
     "end_time": "2020-11-11T13:48:46.000289Z",
     "start_time": "2020-11-11T13:48:45.947431Z"
    }
   },
   "outputs": [
    {
     "data": {
      "text/html": [
       "<div>\n",
       "<style scoped>\n",
       "    .dataframe tbody tr th:only-of-type {\n",
       "        vertical-align: middle;\n",
       "    }\n",
       "\n",
       "    .dataframe tbody tr th {\n",
       "        vertical-align: top;\n",
       "    }\n",
       "\n",
       "    .dataframe thead th {\n",
       "        text-align: right;\n",
       "    }\n",
       "</style>\n",
       "<table border=\"1\" class=\"dataframe\">\n",
       "  <thead>\n",
       "    <tr style=\"text-align: right;\">\n",
       "      <th></th>\n",
       "      <th></th>\n",
       "      <th></th>\n",
       "      <th>last_view_item</th>\n",
       "      <th>max_view_item</th>\n",
       "    </tr>\n",
       "    <tr>\n",
       "      <th>most_view_domain</th>\n",
       "      <th>max_view_item_domain</th>\n",
       "      <th>last_view_domain</th>\n",
       "      <th></th>\n",
       "      <th></th>\n",
       "    </tr>\n",
       "  </thead>\n",
       "  <tbody>\n",
       "    <tr>\n",
       "      <th rowspan=\"4\" valign=\"top\">0</th>\n",
       "      <th rowspan=\"2\" valign=\"top\">0</th>\n",
       "      <th>0</th>\n",
       "      <td>0.000000</td>\n",
       "      <td>0.000000</td>\n",
       "    </tr>\n",
       "    <tr>\n",
       "      <th>1</th>\n",
       "      <td>0.451245</td>\n",
       "      <td>0.000000</td>\n",
       "    </tr>\n",
       "    <tr>\n",
       "      <th rowspan=\"2\" valign=\"top\">1</th>\n",
       "      <th>0</th>\n",
       "      <td>0.000000</td>\n",
       "      <td>0.557802</td>\n",
       "    </tr>\n",
       "    <tr>\n",
       "      <th>1</th>\n",
       "      <td>0.639027</td>\n",
       "      <td>0.644076</td>\n",
       "    </tr>\n",
       "    <tr>\n",
       "      <th rowspan=\"4\" valign=\"top\">1</th>\n",
       "      <th rowspan=\"2\" valign=\"top\">0</th>\n",
       "      <th>0</th>\n",
       "      <td>0.000000</td>\n",
       "      <td>0.000000</td>\n",
       "    </tr>\n",
       "    <tr>\n",
       "      <th>1</th>\n",
       "      <td>0.267261</td>\n",
       "      <td>0.000000</td>\n",
       "    </tr>\n",
       "    <tr>\n",
       "      <th rowspan=\"2\" valign=\"top\">1</th>\n",
       "      <th>0</th>\n",
       "      <td>0.000000</td>\n",
       "      <td>0.383581</td>\n",
       "    </tr>\n",
       "    <tr>\n",
       "      <th>1</th>\n",
       "      <td>0.435130</td>\n",
       "      <td>0.421934</td>\n",
       "    </tr>\n",
       "  </tbody>\n",
       "</table>\n",
       "</div>"
      ],
      "text/plain": [
       "                                                        last_view_item  \\\n",
       "most_view_domain max_view_item_domain last_view_domain                   \n",
       "0                0                    0                       0.000000   \n",
       "                                      1                       0.451245   \n",
       "                 1                    0                       0.000000   \n",
       "                                      1                       0.639027   \n",
       "1                0                    0                       0.000000   \n",
       "                                      1                       0.267261   \n",
       "                 1                    0                       0.000000   \n",
       "                                      1                       0.435130   \n",
       "\n",
       "                                                        max_view_item  \n",
       "most_view_domain max_view_item_domain last_view_domain                 \n",
       "0                0                    0                      0.000000  \n",
       "                                      1                      0.000000  \n",
       "                 1                    0                      0.557802  \n",
       "                                      1                      0.644076  \n",
       "1                0                    0                      0.000000  \n",
       "                                      1                      0.000000  \n",
       "                 1                    0                      0.383581  \n",
       "                                      1                      0.421934  "
      ]
     },
     "execution_count": 125,
     "metadata": {},
     "output_type": "execute_result"
    }
   ],
   "source": [
    "train_ml.groupby([\"most_view_domain\",\"max_view_item_domain\",\"last_view_domain\"])[[\"last_view_item\",\"max_view_item\"]].mean()"
   ]
  },
  {
   "cell_type": "markdown",
   "metadata": {},
   "source": [
    "###### ML ?"
   ]
  },
  {
   "cell_type": "code",
   "execution_count": 194,
   "metadata": {
    "ExecuteTime": {
     "end_time": "2020-11-10T03:16:03.273138Z",
     "start_time": "2020-11-10T03:16:03.169422Z"
    }
   },
   "outputs": [
    {
     "data": {
      "text/html": [
       "<div>\n",
       "<style scoped>\n",
       "    .dataframe tbody tr th:only-of-type {\n",
       "        vertical-align: middle;\n",
       "    }\n",
       "\n",
       "    .dataframe tbody tr th {\n",
       "        vertical-align: top;\n",
       "    }\n",
       "\n",
       "    .dataframe thead th {\n",
       "        text-align: right;\n",
       "    }\n",
       "</style>\n",
       "<table border=\"1\" class=\"dataframe\">\n",
       "  <thead>\n",
       "    <tr style=\"text-align: right;\">\n",
       "      <th></th>\n",
       "      <th>len_user_history</th>\n",
       "      <th>number_search</th>\n",
       "      <th>number_view</th>\n",
       "      <th>last_view</th>\n",
       "      <th>last_view_domain_id</th>\n",
       "      <th>max_view_item</th>\n",
       "      <th>max_view_domain_id</th>\n",
       "      <th>most_domain_view</th>\n",
       "      <th>item_bought</th>\n",
       "      <th>domain_id</th>\n",
       "    </tr>\n",
       "  </thead>\n",
       "  <tbody>\n",
       "    <tr>\n",
       "      <th>0</th>\n",
       "      <td>19</td>\n",
       "      <td>1</td>\n",
       "      <td>18</td>\n",
       "      <td>1615991.0</td>\n",
       "      <td>MLB-SMARTWATCHES</td>\n",
       "      <td>1615991.0</td>\n",
       "      <td>MLB-SMARTWATCHES</td>\n",
       "      <td>MLB-SMARTWATCHES</td>\n",
       "      <td>1748830</td>\n",
       "      <td>MLB-SMARTWATCHES</td>\n",
       "    </tr>\n",
       "    <tr>\n",
       "      <th>1</th>\n",
       "      <td>13</td>\n",
       "      <td>5</td>\n",
       "      <td>8</td>\n",
       "      <td>228737.0</td>\n",
       "      <td>MLB-MILK_EXTRACTORS</td>\n",
       "      <td>228737.0</td>\n",
       "      <td>MLB-MILK_EXTRACTORS</td>\n",
       "      <td>MLB-MILK_EXTRACTORS</td>\n",
       "      <td>228737</td>\n",
       "      <td>MLB-MILK_EXTRACTORS</td>\n",
       "    </tr>\n",
       "    <tr>\n",
       "      <th>2</th>\n",
       "      <td>2</td>\n",
       "      <td>0</td>\n",
       "      <td>2</td>\n",
       "      <td>248595.0</td>\n",
       "      <td>MLB-TOWEL_SETS</td>\n",
       "      <td>248595.0</td>\n",
       "      <td>MLB-TOWEL_SETS</td>\n",
       "      <td>MLB-TOWEL_SETS</td>\n",
       "      <td>1909110</td>\n",
       "      <td>MLB-CELLPHONE_ACCESSORIES</td>\n",
       "    </tr>\n",
       "    <tr>\n",
       "      <th>3</th>\n",
       "      <td>13</td>\n",
       "      <td>6</td>\n",
       "      <td>7</td>\n",
       "      <td>937557.0</td>\n",
       "      <td>MLB-OFFICE_SOFTWARE</td>\n",
       "      <td>505541.0</td>\n",
       "      <td>MLB-COMPUTER_EQUIPMENT_AND_SPARE_PARTS</td>\n",
       "      <td>MLB-OFFICE_SOFTWARE</td>\n",
       "      <td>1197370</td>\n",
       "      <td>MLB-CARD_PAYMENT_TERMINALS</td>\n",
       "    </tr>\n",
       "    <tr>\n",
       "      <th>4</th>\n",
       "      <td>69</td>\n",
       "      <td>23</td>\n",
       "      <td>46</td>\n",
       "      <td>86082.0</td>\n",
       "      <td>MLB-HEADPHONES</td>\n",
       "      <td>1313192.0</td>\n",
       "      <td>MLB-KIDS_TENTS</td>\n",
       "      <td>MLB-KIDS_TENTS</td>\n",
       "      <td>2049207</td>\n",
       "      <td>MLB-SMARTWATCHES</td>\n",
       "    </tr>\n",
       "    <tr>\n",
       "      <th>...</th>\n",
       "      <td>...</td>\n",
       "      <td>...</td>\n",
       "      <td>...</td>\n",
       "      <td>...</td>\n",
       "      <td>...</td>\n",
       "      <td>...</td>\n",
       "      <td>...</td>\n",
       "      <td>...</td>\n",
       "      <td>...</td>\n",
       "      <td>...</td>\n",
       "    </tr>\n",
       "    <tr>\n",
       "      <th>413158</th>\n",
       "      <td>216</td>\n",
       "      <td>126</td>\n",
       "      <td>90</td>\n",
       "      <td>492150.0</td>\n",
       "      <td>MLM-HEADPHONES</td>\n",
       "      <td>459697.0</td>\n",
       "      <td>MLM-HEADPHONES</td>\n",
       "      <td>MLM-HEADPHONES</td>\n",
       "      <td>459697</td>\n",
       "      <td>MLM-HEADPHONES</td>\n",
       "    </tr>\n",
       "    <tr>\n",
       "      <th>413159</th>\n",
       "      <td>13</td>\n",
       "      <td>1</td>\n",
       "      <td>12</td>\n",
       "      <td>1237167.0</td>\n",
       "      <td>MLB-MAKEUP_BRUSHES</td>\n",
       "      <td>289961.0</td>\n",
       "      <td>MLB-MAKEUP_SETS</td>\n",
       "      <td>MLB-MAKEUP_BRUSHES</td>\n",
       "      <td>1845503</td>\n",
       "      <td>MLB-GEL_NAIL_KITS</td>\n",
       "    </tr>\n",
       "    <tr>\n",
       "      <th>413160</th>\n",
       "      <td>2</td>\n",
       "      <td>2</td>\n",
       "      <td>0</td>\n",
       "      <td>NaN</td>\n",
       "      <td>NaN</td>\n",
       "      <td>NaN</td>\n",
       "      <td>NaN</td>\n",
       "      <td>NaN</td>\n",
       "      <td>2022477</td>\n",
       "      <td>MLB-CELLPHONE_BATTERIES</td>\n",
       "    </tr>\n",
       "    <tr>\n",
       "      <th>413161</th>\n",
       "      <td>3</td>\n",
       "      <td>3</td>\n",
       "      <td>0</td>\n",
       "      <td>NaN</td>\n",
       "      <td>NaN</td>\n",
       "      <td>NaN</td>\n",
       "      <td>NaN</td>\n",
       "      <td>NaN</td>\n",
       "      <td>1111021</td>\n",
       "      <td>MLB-CELLPHONE_COVERS</td>\n",
       "    </tr>\n",
       "    <tr>\n",
       "      <th>413162</th>\n",
       "      <td>7</td>\n",
       "      <td>1</td>\n",
       "      <td>6</td>\n",
       "      <td>258196.0</td>\n",
       "      <td>MLB-FOG_MACHINES</td>\n",
       "      <td>258196.0</td>\n",
       "      <td>MLB-FOG_MACHINES</td>\n",
       "      <td>MLB-FOG_MACHINES</td>\n",
       "      <td>1212472</td>\n",
       "      <td>MLB-SKIN_CARE_SUPPLIES</td>\n",
       "    </tr>\n",
       "  </tbody>\n",
       "</table>\n",
       "<p>413163 rows × 10 columns</p>\n",
       "</div>"
      ],
      "text/plain": [
       "        len_user_history  number_search  number_view  last_view  \\\n",
       "0                     19              1           18  1615991.0   \n",
       "1                     13              5            8   228737.0   \n",
       "2                      2              0            2   248595.0   \n",
       "3                     13              6            7   937557.0   \n",
       "4                     69             23           46    86082.0   \n",
       "...                  ...            ...          ...        ...   \n",
       "413158               216            126           90   492150.0   \n",
       "413159                13              1           12  1237167.0   \n",
       "413160                 2              2            0        NaN   \n",
       "413161                 3              3            0        NaN   \n",
       "413162                 7              1            6   258196.0   \n",
       "\n",
       "        last_view_domain_id  max_view_item  \\\n",
       "0          MLB-SMARTWATCHES      1615991.0   \n",
       "1       MLB-MILK_EXTRACTORS       228737.0   \n",
       "2            MLB-TOWEL_SETS       248595.0   \n",
       "3       MLB-OFFICE_SOFTWARE       505541.0   \n",
       "4            MLB-HEADPHONES      1313192.0   \n",
       "...                     ...            ...   \n",
       "413158       MLM-HEADPHONES       459697.0   \n",
       "413159   MLB-MAKEUP_BRUSHES       289961.0   \n",
       "413160                  NaN            NaN   \n",
       "413161                  NaN            NaN   \n",
       "413162     MLB-FOG_MACHINES       258196.0   \n",
       "\n",
       "                            max_view_domain_id     most_domain_view  \\\n",
       "0                             MLB-SMARTWATCHES     MLB-SMARTWATCHES   \n",
       "1                          MLB-MILK_EXTRACTORS  MLB-MILK_EXTRACTORS   \n",
       "2                               MLB-TOWEL_SETS       MLB-TOWEL_SETS   \n",
       "3       MLB-COMPUTER_EQUIPMENT_AND_SPARE_PARTS  MLB-OFFICE_SOFTWARE   \n",
       "4                               MLB-KIDS_TENTS       MLB-KIDS_TENTS   \n",
       "...                                        ...                  ...   \n",
       "413158                          MLM-HEADPHONES       MLM-HEADPHONES   \n",
       "413159                         MLB-MAKEUP_SETS   MLB-MAKEUP_BRUSHES   \n",
       "413160                                     NaN                  NaN   \n",
       "413161                                     NaN                  NaN   \n",
       "413162                        MLB-FOG_MACHINES     MLB-FOG_MACHINES   \n",
       "\n",
       "        item_bought                   domain_id  \n",
       "0           1748830            MLB-SMARTWATCHES  \n",
       "1            228737         MLB-MILK_EXTRACTORS  \n",
       "2           1909110   MLB-CELLPHONE_ACCESSORIES  \n",
       "3           1197370  MLB-CARD_PAYMENT_TERMINALS  \n",
       "4           2049207            MLB-SMARTWATCHES  \n",
       "...             ...                         ...  \n",
       "413158       459697              MLM-HEADPHONES  \n",
       "413159      1845503           MLB-GEL_NAIL_KITS  \n",
       "413160      2022477     MLB-CELLPHONE_BATTERIES  \n",
       "413161      1111021        MLB-CELLPHONE_COVERS  \n",
       "413162      1212472      MLB-SKIN_CARE_SUPPLIES  \n",
       "\n",
       "[413163 rows x 10 columns]"
      ]
     },
     "execution_count": 194,
     "metadata": {},
     "output_type": "execute_result"
    }
   ],
   "source": [
    "train[[\"len_user_history\",\"number_search\",\"number_view\",\"last_view\",\"last_view_domain_id\",\"max_view_item\",\"max_view_domain_id\",\"most_domain_view\",\"item_bought\",\"domain_id\"]]"
   ]
  },
  {
   "cell_type": "code",
   "execution_count": null,
   "metadata": {},
   "outputs": [],
   "source": []
  },
  {
   "cell_type": "markdown",
   "metadata": {},
   "source": [
    "# Machine Learning ?"
   ]
  },
  {
   "cell_type": "code",
   "execution_count": 84,
   "metadata": {
    "ExecuteTime": {
     "end_time": "2020-11-12T19:16:40.236771Z",
     "start_time": "2020-11-12T19:16:40.190894Z"
    }
   },
   "outputs": [
    {
     "data": {
      "text/html": [
       "<div>\n",
       "<style scoped>\n",
       "    .dataframe tbody tr th:only-of-type {\n",
       "        vertical-align: middle;\n",
       "    }\n",
       "\n",
       "    .dataframe tbody tr th {\n",
       "        vertical-align: top;\n",
       "    }\n",
       "\n",
       "    .dataframe thead th {\n",
       "        text-align: right;\n",
       "    }\n",
       "</style>\n",
       "<table border=\"1\" class=\"dataframe\">\n",
       "  <thead>\n",
       "    <tr style=\"text-align: right;\">\n",
       "      <th></th>\n",
       "      <th>user_history</th>\n",
       "      <th>item_bought</th>\n",
       "      <th>title</th>\n",
       "      <th>domain_id</th>\n",
       "      <th>price</th>\n",
       "      <th>category_id</th>\n",
       "      <th>len_user_history</th>\n",
       "      <th>number_search</th>\n",
       "      <th>number_view</th>\n",
       "      <th>count_purchase</th>\n",
       "      <th>count_view</th>\n",
       "      <th>count_search</th>\n",
       "      <th>max_view_item</th>\n",
       "      <th>max_view_domain_id</th>\n",
       "      <th>max_view_category_id</th>\n",
       "      <th>most_domain_view</th>\n",
       "      <th>last_search</th>\n",
       "      <th>last_view</th>\n",
       "      <th>last_view_domain_id</th>\n",
       "    </tr>\n",
       "  </thead>\n",
       "  <tbody>\n",
       "    <tr>\n",
       "      <th>0</th>\n",
       "      <td>[{'event_info': 1786148, 'event_timestamp': '2...</td>\n",
       "      <td>1748830</td>\n",
       "      <td>Relógio Medidor Inteligente Pulso Freqüência C...</td>\n",
       "      <td>MLB-SMARTWATCHES</td>\n",
       "      <td>90.00</td>\n",
       "      <td>MLB135384</td>\n",
       "      <td>19</td>\n",
       "      <td>1</td>\n",
       "      <td>18</td>\n",
       "      <td>NONE</td>\n",
       "      <td>{1786148: 2, 1615991: 16}</td>\n",
       "      <td>{'RELOGIO SMARTWATCH': 1}</td>\n",
       "      <td>1615991.0</td>\n",
       "      <td>MLB-SMARTWATCHES</td>\n",
       "      <td>MLB135384</td>\n",
       "      <td>MLB-SMARTWATCHES</td>\n",
       "      <td>RELOGIO SMARTWATCH</td>\n",
       "      <td>1615991.0</td>\n",
       "      <td>MLB-SMARTWATCHES</td>\n",
       "    </tr>\n",
       "    <tr>\n",
       "      <th>1</th>\n",
       "      <td>[{'event_info': 643652, 'event_timestamp': '20...</td>\n",
       "      <td>228737</td>\n",
       "      <td>Bomba Eletrica Tira Leite Materno Bivolt G-tech</td>\n",
       "      <td>MLB-MILK_EXTRACTORS</td>\n",
       "      <td>169.00</td>\n",
       "      <td>MLB264021</td>\n",
       "      <td>13</td>\n",
       "      <td>5</td>\n",
       "      <td>8</td>\n",
       "      <td>NONE</td>\n",
       "      <td>{643652: 1, 1156086: 1, 1943604: 1, 206667: 1,...</td>\n",
       "      <td>{'DESMAMADEIRA ELETRICA': 5}</td>\n",
       "      <td>228737.0</td>\n",
       "      <td>MLB-MILK_EXTRACTORS</td>\n",
       "      <td>MLB264021</td>\n",
       "      <td>MLB-MILK_EXTRACTORS</td>\n",
       "      <td>DESMAMADEIRA ELETRICA</td>\n",
       "      <td>228737.0</td>\n",
       "      <td>MLB-MILK_EXTRACTORS</td>\n",
       "    </tr>\n",
       "    <tr>\n",
       "      <th>2</th>\n",
       "      <td>[{'event_info': 248595, 'event_timestamp': '20...</td>\n",
       "      <td>1909110</td>\n",
       "      <td>Kit Youtuber Tripé 1,20 Microfone Lapela Anel ...</td>\n",
       "      <td>MLB-CELLPHONE_ACCESSORIES</td>\n",
       "      <td>300.00</td>\n",
       "      <td>MLB5092</td>\n",
       "      <td>2</td>\n",
       "      <td>0</td>\n",
       "      <td>2</td>\n",
       "      <td>NONE</td>\n",
       "      <td>{248595: 2}</td>\n",
       "      <td>NONE</td>\n",
       "      <td>248595.0</td>\n",
       "      <td>MLB-TOWEL_SETS</td>\n",
       "      <td>MLB186353</td>\n",
       "      <td>MLB-TOWEL_SETS</td>\n",
       "      <td>None</td>\n",
       "      <td>248595.0</td>\n",
       "      <td>MLB-TOWEL_SETS</td>\n",
       "    </tr>\n",
       "    <tr>\n",
       "      <th>3</th>\n",
       "      <td>[{'event_info': 'RADIOBOSS', 'event_timestamp'...</td>\n",
       "      <td>1197370</td>\n",
       "      <td>Leia A Descrição Por Favor - Maquininha Point ...</td>\n",
       "      <td>MLB-CARD_PAYMENT_TERMINALS</td>\n",
       "      <td>16.90</td>\n",
       "      <td>MLB277951</td>\n",
       "      <td>13</td>\n",
       "      <td>6</td>\n",
       "      <td>7</td>\n",
       "      <td>NONE</td>\n",
       "      <td>{505541: 5, 1230082: 1, 937557: 1}</td>\n",
       "      <td>{'RADIOBOSS': 2, 'SOUND FORGE': 1, 'SOUND FORG...</td>\n",
       "      <td>505541.0</td>\n",
       "      <td>MLB-COMPUTER_EQUIPMENT_AND_SPARE_PARTS</td>\n",
       "      <td>MLB1730</td>\n",
       "      <td>MLB-OFFICE_SOFTWARE</td>\n",
       "      <td>SOUND FORGE PLUGINS</td>\n",
       "      <td>937557.0</td>\n",
       "      <td>MLB-OFFICE_SOFTWARE</td>\n",
       "    </tr>\n",
       "    <tr>\n",
       "      <th>4</th>\n",
       "      <td>[{'event_info': 'AMAZFIT BIP', 'event_timestam...</td>\n",
       "      <td>2049207</td>\n",
       "      <td>Smartwatch Xiaomi Amazfit Bip Huami A1608 Orig...</td>\n",
       "      <td>MLB-SMARTWATCHES</td>\n",
       "      <td>355.99</td>\n",
       "      <td>MLB135384</td>\n",
       "      <td>69</td>\n",
       "      <td>23</td>\n",
       "      <td>46</td>\n",
       "      <td>NONE</td>\n",
       "      <td>{130440: 2, 2049207: 3, 277311: 1, 1476099: 2,...</td>\n",
       "      <td>{'AMAZFIT BIP': 5, 'AMAZFIT BIPAMAZFIT BIP LIT...</td>\n",
       "      <td>1313192.0</td>\n",
       "      <td>MLB-KIDS_TENTS</td>\n",
       "      <td>MLB278224</td>\n",
       "      <td>MLB-KIDS_TENTS</td>\n",
       "      <td>GALAXY BUDS</td>\n",
       "      <td>86082.0</td>\n",
       "      <td>MLB-HEADPHONES</td>\n",
       "    </tr>\n",
       "  </tbody>\n",
       "</table>\n",
       "</div>"
      ],
      "text/plain": [
       "                                        user_history  item_bought  \\\n",
       "0  [{'event_info': 1786148, 'event_timestamp': '2...      1748830   \n",
       "1  [{'event_info': 643652, 'event_timestamp': '20...       228737   \n",
       "2  [{'event_info': 248595, 'event_timestamp': '20...      1909110   \n",
       "3  [{'event_info': 'RADIOBOSS', 'event_timestamp'...      1197370   \n",
       "4  [{'event_info': 'AMAZFIT BIP', 'event_timestam...      2049207   \n",
       "\n",
       "                                               title  \\\n",
       "0  Relógio Medidor Inteligente Pulso Freqüência C...   \n",
       "1    Bomba Eletrica Tira Leite Materno Bivolt G-tech   \n",
       "2  Kit Youtuber Tripé 1,20 Microfone Lapela Anel ...   \n",
       "3  Leia A Descrição Por Favor - Maquininha Point ...   \n",
       "4  Smartwatch Xiaomi Amazfit Bip Huami A1608 Orig...   \n",
       "\n",
       "                    domain_id   price category_id  len_user_history  \\\n",
       "0            MLB-SMARTWATCHES   90.00   MLB135384                19   \n",
       "1         MLB-MILK_EXTRACTORS  169.00   MLB264021                13   \n",
       "2   MLB-CELLPHONE_ACCESSORIES  300.00     MLB5092                 2   \n",
       "3  MLB-CARD_PAYMENT_TERMINALS   16.90   MLB277951                13   \n",
       "4            MLB-SMARTWATCHES  355.99   MLB135384                69   \n",
       "\n",
       "   number_search  number_view count_purchase  \\\n",
       "0              1           18           NONE   \n",
       "1              5            8           NONE   \n",
       "2              0            2           NONE   \n",
       "3              6            7           NONE   \n",
       "4             23           46           NONE   \n",
       "\n",
       "                                          count_view  \\\n",
       "0                          {1786148: 2, 1615991: 16}   \n",
       "1  {643652: 1, 1156086: 1, 1943604: 1, 206667: 1,...   \n",
       "2                                        {248595: 2}   \n",
       "3                 {505541: 5, 1230082: 1, 937557: 1}   \n",
       "4  {130440: 2, 2049207: 3, 277311: 1, 1476099: 2,...   \n",
       "\n",
       "                                        count_search  max_view_item  \\\n",
       "0                          {'RELOGIO SMARTWATCH': 1}      1615991.0   \n",
       "1                       {'DESMAMADEIRA ELETRICA': 5}       228737.0   \n",
       "2                                               NONE       248595.0   \n",
       "3  {'RADIOBOSS': 2, 'SOUND FORGE': 1, 'SOUND FORG...       505541.0   \n",
       "4  {'AMAZFIT BIP': 5, 'AMAZFIT BIPAMAZFIT BIP LIT...      1313192.0   \n",
       "\n",
       "                       max_view_domain_id max_view_category_id  \\\n",
       "0                        MLB-SMARTWATCHES            MLB135384   \n",
       "1                     MLB-MILK_EXTRACTORS            MLB264021   \n",
       "2                          MLB-TOWEL_SETS            MLB186353   \n",
       "3  MLB-COMPUTER_EQUIPMENT_AND_SPARE_PARTS              MLB1730   \n",
       "4                          MLB-KIDS_TENTS            MLB278224   \n",
       "\n",
       "      most_domain_view            last_search  last_view  last_view_domain_id  \n",
       "0     MLB-SMARTWATCHES     RELOGIO SMARTWATCH  1615991.0     MLB-SMARTWATCHES  \n",
       "1  MLB-MILK_EXTRACTORS  DESMAMADEIRA ELETRICA   228737.0  MLB-MILK_EXTRACTORS  \n",
       "2       MLB-TOWEL_SETS                   None   248595.0       MLB-TOWEL_SETS  \n",
       "3  MLB-OFFICE_SOFTWARE    SOUND FORGE PLUGINS   937557.0  MLB-OFFICE_SOFTWARE  \n",
       "4       MLB-KIDS_TENTS            GALAXY BUDS    86082.0       MLB-HEADPHONES  "
      ]
     },
     "execution_count": 84,
     "metadata": {},
     "output_type": "execute_result"
    }
   ],
   "source": [
    "train.head()"
   ]
  },
  {
   "cell_type": "code",
   "execution_count": null,
   "metadata": {},
   "outputs": [],
   "source": []
  },
  {
   "cell_type": "markdown",
   "metadata": {},
   "source": [
    "# Recommendation"
   ]
  },
  {
   "cell_type": "markdown",
   "metadata": {},
   "source": [
    "* FIRST ITEM ( Based on Frequencies)\n",
    "* ADD items also view \n",
    "* TOP 3 SIMILAR ITEMS\n",
    "* TOP SELLS BY DOMAIN\n",
    "* TOP SELLS BY  SIMILAR DOMAIN\n",
    "* TOP GLOBAL SELLS"
   ]
  },
  {
   "cell_type": "code",
   "execution_count": 152,
   "metadata": {
    "ExecuteTime": {
     "end_time": "2020-11-11T16:19:21.771906Z",
     "start_time": "2020-11-11T16:19:04.169031Z"
    }
   },
   "outputs": [],
   "source": [
    "meli_test = pd.read_json('data/test_dataset.jl', lines=True)\n",
    "meli_test[\"len_user_history\"]=meli_test[\"user_history\"].apply(lambda x:len(x))\n",
    "meli_test[\"number_search\"]=meli_test[\"user_history\"].apply(len_search)\n",
    "meli_test[\"number_view\"]=meli_test[\"user_history\"].apply(len_view)\n",
    "\n",
    "meli_test[\"count_purchase\"]=meli_test[\"user_history\"].apply(get_count_purchase)\n",
    "meli_test[\"count_view\"]=meli_test[\"user_history\"].apply(get_count_view)\n",
    "meli_test[\"count_search\"]=meli_test[\"user_history\"].apply(get_count_search)\n",
    "\n",
    "meli_test[\"max_view_item\"]=meli_test[\"user_history\"].apply(get_max_view)\n",
    "\n",
    "meli_test[\"last_search\"]=meli_test[\"user_history\"].apply(get_last_search)\n",
    "meli_test[\"last_view\"]=meli_test[\"user_history\"].apply(get_last_view)"
   ]
  },
  {
   "cell_type": "code",
   "execution_count": 153,
   "metadata": {
    "ExecuteTime": {
     "end_time": "2020-11-11T16:19:22.962376Z",
     "start_time": "2020-11-11T16:19:22.957392Z"
    }
   },
   "outputs": [
    {
     "data": {
      "text/plain": [
       "(177070, 10)"
      ]
     },
     "execution_count": 153,
     "metadata": {},
     "output_type": "execute_result"
    }
   ],
   "source": [
    "meli_test.shape"
   ]
  },
  {
   "cell_type": "code",
   "execution_count": 154,
   "metadata": {
    "ExecuteTime": {
     "end_time": "2020-11-11T16:19:26.879830Z",
     "start_time": "2020-11-11T16:19:23.668489Z"
    }
   },
   "outputs": [],
   "source": [
    "meli_test=pd.merge(meli_test,\n",
    "               meli_item[[\"item_id\",\"domain_id\"]].add_prefix(\"last_view_\"),\n",
    "               how=\"left\",\n",
    "               left_on=[\"last_view\"],\n",
    "               right_on=[\"last_view_item_id\"]).drop(\"last_view_item_id\",axis=1)\n",
    "\n",
    "\n",
    "meli_test=pd.merge(meli_test,\n",
    "               meli_item[[\"item_id\",\"domain_id\"]].add_prefix(\"max_view_\"),\n",
    "               how=\"left\",\n",
    "               left_on=[\"max_view_item\"],\n",
    "               right_on=[\"max_view_item_id\"]).drop(\"max_view_item_id\",axis=1)\n",
    "\n",
    "meli_test=pd.merge(meli_test,\n",
    "               meli_domain_similar.add_prefix(\"max_view_similar_\"),\n",
    "               how=\"left\",\n",
    "               left_on=[\"max_view_domain_id\"],\n",
    "               right_on=[\"max_view_similar_domain_id\"]).drop(\"max_view_similar_domain_id\",axis=1)\n",
    "\n",
    "meli_test=pd.merge(meli_test,\n",
    "               meli_domain_similar.add_prefix(\"last_view_similar_\"),\n",
    "               how=\"left\",\n",
    "               left_on=[\"last_view_domain_id\"],\n",
    "               right_on=[\"last_view_similar_domain_id\"]).drop(\"last_view_similar_domain_id\",axis=1)"
   ]
  },
  {
   "cell_type": "code",
   "execution_count": 155,
   "metadata": {
    "ExecuteTime": {
     "end_time": "2020-11-11T16:19:27.602466Z",
     "start_time": "2020-11-11T16:19:27.598476Z"
    }
   },
   "outputs": [
    {
     "data": {
      "text/plain": [
       "(177070, 14)"
      ]
     },
     "execution_count": 155,
     "metadata": {},
     "output_type": "execute_result"
    }
   ],
   "source": [
    "meli_test.shape"
   ]
  },
  {
   "cell_type": "code",
   "execution_count": 156,
   "metadata": {
    "ExecuteTime": {
     "end_time": "2020-11-11T16:19:28.349977Z",
     "start_time": "2020-11-11T16:19:28.314073Z"
    }
   },
   "outputs": [
    {
     "data": {
      "text/html": [
       "<div>\n",
       "<style scoped>\n",
       "    .dataframe tbody tr th:only-of-type {\n",
       "        vertical-align: middle;\n",
       "    }\n",
       "\n",
       "    .dataframe tbody tr th {\n",
       "        vertical-align: top;\n",
       "    }\n",
       "\n",
       "    .dataframe thead th {\n",
       "        text-align: right;\n",
       "    }\n",
       "</style>\n",
       "<table border=\"1\" class=\"dataframe\">\n",
       "  <thead>\n",
       "    <tr style=\"text-align: right;\">\n",
       "      <th></th>\n",
       "      <th>user_history</th>\n",
       "      <th>len_user_history</th>\n",
       "      <th>number_search</th>\n",
       "      <th>number_view</th>\n",
       "      <th>count_purchase</th>\n",
       "      <th>count_view</th>\n",
       "      <th>count_search</th>\n",
       "      <th>max_view_item</th>\n",
       "      <th>last_search</th>\n",
       "      <th>last_view</th>\n",
       "      <th>last_view_domain_id</th>\n",
       "      <th>max_view_domain_id</th>\n",
       "      <th>max_view_similar_similar_domain_id</th>\n",
       "      <th>last_view_similar_similar_domain_id</th>\n",
       "    </tr>\n",
       "  </thead>\n",
       "  <tbody>\n",
       "    <tr>\n",
       "      <th>0</th>\n",
       "      <td>[{'event_info': 1572239, 'event_timestamp': '2...</td>\n",
       "      <td>33</td>\n",
       "      <td>22</td>\n",
       "      <td>11</td>\n",
       "      <td>NONE</td>\n",
       "      <td>{1572239: 9, 1194894: 1, 685656: 1}</td>\n",
       "      <td>{'CINE BOX 4K': 4, 'RECEPTOR CINE BOX 4K': 9, ...</td>\n",
       "      <td>1572239.0</td>\n",
       "      <td>RECEPTOR CINE BOX 4K FANTASIA</td>\n",
       "      <td>685656.0</td>\n",
       "      <td>MLB-STREAMING_MEDIA_DEVICES</td>\n",
       "      <td>MLB-HARD_DRIVES_AND_SSDS</td>\n",
       "      <td>MLB-HARD_DRIVE_AND_SSD_ENCLOSURES</td>\n",
       "      <td>MLB-STREAMING_MEDIA_PLAYER_REMOTE_CONTROLS</td>\n",
       "    </tr>\n",
       "    <tr>\n",
       "      <th>1</th>\n",
       "      <td>[{'event_info': 'PENTE PRA MAQUINA BRITANIA', ...</td>\n",
       "      <td>24</td>\n",
       "      <td>8</td>\n",
       "      <td>16</td>\n",
       "      <td>NONE</td>\n",
       "      <td>{831243: 3, 1125393: 1, 943786: 5, 48097: 2, 7...</td>\n",
       "      <td>{'PENTE PRA MAQUINA BRITANIA': 2, 'PENTE SOLTO...</td>\n",
       "      <td>943786.0</td>\n",
       "      <td>CONJUNTO ESCAMA PEIXE 45 MM</td>\n",
       "      <td>849692.0</td>\n",
       "      <td>MLB-NECKLACES</td>\n",
       "      <td>MLB-HAIR_CLIPPERS</td>\n",
       "      <td>MLB-HAIR_TREATMENTS</td>\n",
       "      <td>MLB-PARTY_FAVOR_BRACELETS_AND_NECKLACES</td>\n",
       "    </tr>\n",
       "    <tr>\n",
       "      <th>2</th>\n",
       "      <td>[{'event_info': 1986443, 'event_timestamp': '2...</td>\n",
       "      <td>14</td>\n",
       "      <td>4</td>\n",
       "      <td>10</td>\n",
       "      <td>NONE</td>\n",
       "      <td>{1986443: 1, 991246: 1, 1660615: 1, 283306: 1,...</td>\n",
       "      <td>{'ACCESORIOS MAZDA3 2019': 3, 'TAPETES MAZDA3 ...</td>\n",
       "      <td>1986443.0</td>\n",
       "      <td>TAPETES MAZDA3 2019</td>\n",
       "      <td>1614538.0</td>\n",
       "      <td>MLM-AUTOMOTIVE_ENGINES</td>\n",
       "      <td>MLM-AUTOMOTIVE_CONTROL_ALARM_CASES</td>\n",
       "      <td>MLB-AUTOMOTIVE_SUSPENSION_CONTROL_ARMS</td>\n",
       "      <td>MLB-AUTOMOTIVE_SPEAKERS</td>\n",
       "    </tr>\n",
       "  </tbody>\n",
       "</table>\n",
       "</div>"
      ],
      "text/plain": [
       "                                        user_history  len_user_history  \\\n",
       "0  [{'event_info': 1572239, 'event_timestamp': '2...                33   \n",
       "1  [{'event_info': 'PENTE PRA MAQUINA BRITANIA', ...                24   \n",
       "2  [{'event_info': 1986443, 'event_timestamp': '2...                14   \n",
       "\n",
       "   number_search  number_view count_purchase  \\\n",
       "0             22           11           NONE   \n",
       "1              8           16           NONE   \n",
       "2              4           10           NONE   \n",
       "\n",
       "                                          count_view  \\\n",
       "0                {1572239: 9, 1194894: 1, 685656: 1}   \n",
       "1  {831243: 3, 1125393: 1, 943786: 5, 48097: 2, 7...   \n",
       "2  {1986443: 1, 991246: 1, 1660615: 1, 283306: 1,...   \n",
       "\n",
       "                                        count_search  max_view_item  \\\n",
       "0  {'CINE BOX 4K': 4, 'RECEPTOR CINE BOX 4K': 9, ...      1572239.0   \n",
       "1  {'PENTE PRA MAQUINA BRITANIA': 2, 'PENTE SOLTO...       943786.0   \n",
       "2  {'ACCESORIOS MAZDA3 2019': 3, 'TAPETES MAZDA3 ...      1986443.0   \n",
       "\n",
       "                     last_search  last_view          last_view_domain_id  \\\n",
       "0  RECEPTOR CINE BOX 4K FANTASIA   685656.0  MLB-STREAMING_MEDIA_DEVICES   \n",
       "1    CONJUNTO ESCAMA PEIXE 45 MM   849692.0                MLB-NECKLACES   \n",
       "2            TAPETES MAZDA3 2019  1614538.0       MLM-AUTOMOTIVE_ENGINES   \n",
       "\n",
       "                   max_view_domain_id      max_view_similar_similar_domain_id  \\\n",
       "0            MLB-HARD_DRIVES_AND_SSDS       MLB-HARD_DRIVE_AND_SSD_ENCLOSURES   \n",
       "1                   MLB-HAIR_CLIPPERS                     MLB-HAIR_TREATMENTS   \n",
       "2  MLM-AUTOMOTIVE_CONTROL_ALARM_CASES  MLB-AUTOMOTIVE_SUSPENSION_CONTROL_ARMS   \n",
       "\n",
       "          last_view_similar_similar_domain_id  \n",
       "0  MLB-STREAMING_MEDIA_PLAYER_REMOTE_CONTROLS  \n",
       "1     MLB-PARTY_FAVOR_BRACELETS_AND_NECKLACES  \n",
       "2                     MLB-AUTOMOTIVE_SPEAKERS  "
      ]
     },
     "execution_count": 156,
     "metadata": {},
     "output_type": "execute_result"
    }
   ],
   "source": [
    "meli_test.head(3)"
   ]
  },
  {
   "cell_type": "code",
   "execution_count": 157,
   "metadata": {
    "ExecuteTime": {
     "end_time": "2020-11-11T16:19:29.080026Z",
     "start_time": "2020-11-11T16:19:29.056089Z"
    }
   },
   "outputs": [
    {
     "name": "stdout",
     "output_type": "stream",
     "text": [
      "LEN  1        13662\n",
      "Just 1 view   9423\n",
      "Just 1 Search 4239\n"
     ]
    }
   ],
   "source": [
    "print(\"LEN  1       \",meli_test[meli_test[\"len_user_history\"]==1].shape[0])\n",
    "print(\"Just 1 view  \",meli_test[(meli_test[\"len_user_history\"]==1)&(meli_test[\"number_view\"]==1)].shape[0])\n",
    "print(\"Just 1 Search\",meli_test[(meli_test[\"len_user_history\"]==1)&(meli_test[\"number_search\"]==1)].shape[0])"
   ]
  },
  {
   "cell_type": "code",
   "execution_count": 158,
   "metadata": {
    "ExecuteTime": {
     "end_time": "2020-11-11T16:19:29.796110Z",
     "start_time": "2020-11-11T16:19:29.791170Z"
    }
   },
   "outputs": [
    {
     "data": {
      "text/plain": [
       "(177070, 14)"
      ]
     },
     "execution_count": 158,
     "metadata": {},
     "output_type": "execute_result"
    }
   ],
   "source": [
    "meli_test.shape"
   ]
  },
  {
   "cell_type": "code",
   "execution_count": 159,
   "metadata": {
    "ExecuteTime": {
     "end_time": "2020-11-11T16:19:30.509581Z",
     "start_time": "2020-11-11T16:19:30.504639Z"
    }
   },
   "outputs": [
    {
     "data": {
      "text/plain": [
       "11370"
      ]
     },
     "execution_count": 159,
     "metadata": {},
     "output_type": "execute_result"
    }
   ],
   "source": [
    "meli_test[\"last_view\"].isnull().sum()"
   ]
  },
  {
   "cell_type": "code",
   "execution_count": 160,
   "metadata": {
    "ExecuteTime": {
     "end_time": "2020-11-11T16:19:31.278458Z",
     "start_time": "2020-11-11T16:19:31.246528Z"
    }
   },
   "outputs": [
    {
     "data": {
      "text/html": [
       "<div>\n",
       "<style scoped>\n",
       "    .dataframe tbody tr th:only-of-type {\n",
       "        vertical-align: middle;\n",
       "    }\n",
       "\n",
       "    .dataframe tbody tr th {\n",
       "        vertical-align: top;\n",
       "    }\n",
       "\n",
       "    .dataframe thead th {\n",
       "        text-align: right;\n",
       "    }\n",
       "</style>\n",
       "<table border=\"1\" class=\"dataframe\">\n",
       "  <thead>\n",
       "    <tr style=\"text-align: right;\">\n",
       "      <th></th>\n",
       "      <th>user_history</th>\n",
       "      <th>len_user_history</th>\n",
       "      <th>number_search</th>\n",
       "      <th>number_view</th>\n",
       "      <th>count_purchase</th>\n",
       "      <th>count_view</th>\n",
       "      <th>count_search</th>\n",
       "      <th>max_view_item</th>\n",
       "      <th>last_search</th>\n",
       "      <th>last_view</th>\n",
       "      <th>last_view_domain_id</th>\n",
       "      <th>max_view_domain_id</th>\n",
       "      <th>max_view_similar_similar_domain_id</th>\n",
       "      <th>last_view_similar_similar_domain_id</th>\n",
       "    </tr>\n",
       "  </thead>\n",
       "  <tbody>\n",
       "    <tr>\n",
       "      <th>0</th>\n",
       "      <td>[{'event_info': 1572239, 'event_timestamp': '2...</td>\n",
       "      <td>33</td>\n",
       "      <td>22</td>\n",
       "      <td>11</td>\n",
       "      <td>NONE</td>\n",
       "      <td>{1572239: 9, 1194894: 1, 685656: 1}</td>\n",
       "      <td>{'CINE BOX 4K': 4, 'RECEPTOR CINE BOX 4K': 9, ...</td>\n",
       "      <td>1572239.0</td>\n",
       "      <td>RECEPTOR CINE BOX 4K FANTASIA</td>\n",
       "      <td>685656.0</td>\n",
       "      <td>MLB-STREAMING_MEDIA_DEVICES</td>\n",
       "      <td>MLB-HARD_DRIVES_AND_SSDS</td>\n",
       "      <td>MLB-HARD_DRIVE_AND_SSD_ENCLOSURES</td>\n",
       "      <td>MLB-STREAMING_MEDIA_PLAYER_REMOTE_CONTROLS</td>\n",
       "    </tr>\n",
       "    <tr>\n",
       "      <th>1</th>\n",
       "      <td>[{'event_info': 'PENTE PRA MAQUINA BRITANIA', ...</td>\n",
       "      <td>24</td>\n",
       "      <td>8</td>\n",
       "      <td>16</td>\n",
       "      <td>NONE</td>\n",
       "      <td>{831243: 3, 1125393: 1, 943786: 5, 48097: 2, 7...</td>\n",
       "      <td>{'PENTE PRA MAQUINA BRITANIA': 2, 'PENTE SOLTO...</td>\n",
       "      <td>943786.0</td>\n",
       "      <td>CONJUNTO ESCAMA PEIXE 45 MM</td>\n",
       "      <td>849692.0</td>\n",
       "      <td>MLB-NECKLACES</td>\n",
       "      <td>MLB-HAIR_CLIPPERS</td>\n",
       "      <td>MLB-HAIR_TREATMENTS</td>\n",
       "      <td>MLB-PARTY_FAVOR_BRACELETS_AND_NECKLACES</td>\n",
       "    </tr>\n",
       "    <tr>\n",
       "      <th>2</th>\n",
       "      <td>[{'event_info': 1986443, 'event_timestamp': '2...</td>\n",
       "      <td>14</td>\n",
       "      <td>4</td>\n",
       "      <td>10</td>\n",
       "      <td>NONE</td>\n",
       "      <td>{1986443: 1, 991246: 1, 1660615: 1, 283306: 1,...</td>\n",
       "      <td>{'ACCESORIOS MAZDA3 2019': 3, 'TAPETES MAZDA3 ...</td>\n",
       "      <td>1986443.0</td>\n",
       "      <td>TAPETES MAZDA3 2019</td>\n",
       "      <td>1614538.0</td>\n",
       "      <td>MLM-AUTOMOTIVE_ENGINES</td>\n",
       "      <td>MLM-AUTOMOTIVE_CONTROL_ALARM_CASES</td>\n",
       "      <td>MLB-AUTOMOTIVE_SUSPENSION_CONTROL_ARMS</td>\n",
       "      <td>MLB-AUTOMOTIVE_SPEAKERS</td>\n",
       "    </tr>\n",
       "  </tbody>\n",
       "</table>\n",
       "</div>"
      ],
      "text/plain": [
       "                                        user_history  len_user_history  \\\n",
       "0  [{'event_info': 1572239, 'event_timestamp': '2...                33   \n",
       "1  [{'event_info': 'PENTE PRA MAQUINA BRITANIA', ...                24   \n",
       "2  [{'event_info': 1986443, 'event_timestamp': '2...                14   \n",
       "\n",
       "   number_search  number_view count_purchase  \\\n",
       "0             22           11           NONE   \n",
       "1              8           16           NONE   \n",
       "2              4           10           NONE   \n",
       "\n",
       "                                          count_view  \\\n",
       "0                {1572239: 9, 1194894: 1, 685656: 1}   \n",
       "1  {831243: 3, 1125393: 1, 943786: 5, 48097: 2, 7...   \n",
       "2  {1986443: 1, 991246: 1, 1660615: 1, 283306: 1,...   \n",
       "\n",
       "                                        count_search  max_view_item  \\\n",
       "0  {'CINE BOX 4K': 4, 'RECEPTOR CINE BOX 4K': 9, ...      1572239.0   \n",
       "1  {'PENTE PRA MAQUINA BRITANIA': 2, 'PENTE SOLTO...       943786.0   \n",
       "2  {'ACCESORIOS MAZDA3 2019': 3, 'TAPETES MAZDA3 ...      1986443.0   \n",
       "\n",
       "                     last_search  last_view          last_view_domain_id  \\\n",
       "0  RECEPTOR CINE BOX 4K FANTASIA   685656.0  MLB-STREAMING_MEDIA_DEVICES   \n",
       "1    CONJUNTO ESCAMA PEIXE 45 MM   849692.0                MLB-NECKLACES   \n",
       "2            TAPETES MAZDA3 2019  1614538.0       MLM-AUTOMOTIVE_ENGINES   \n",
       "\n",
       "                   max_view_domain_id      max_view_similar_similar_domain_id  \\\n",
       "0            MLB-HARD_DRIVES_AND_SSDS       MLB-HARD_DRIVE_AND_SSD_ENCLOSURES   \n",
       "1                   MLB-HAIR_CLIPPERS                     MLB-HAIR_TREATMENTS   \n",
       "2  MLM-AUTOMOTIVE_CONTROL_ALARM_CASES  MLB-AUTOMOTIVE_SUSPENSION_CONTROL_ARMS   \n",
       "\n",
       "          last_view_similar_similar_domain_id  \n",
       "0  MLB-STREAMING_MEDIA_PLAYER_REMOTE_CONTROLS  \n",
       "1     MLB-PARTY_FAVOR_BRACELETS_AND_NECKLACES  \n",
       "2                     MLB-AUTOMOTIVE_SPEAKERS  "
      ]
     },
     "execution_count": 160,
     "metadata": {},
     "output_type": "execute_result"
    }
   ],
   "source": [
    "meli_test.head(3)"
   ]
  },
  {
   "cell_type": "code",
   "execution_count": 161,
   "metadata": {
    "ExecuteTime": {
     "end_time": "2020-11-11T16:19:32.021358Z",
     "start_time": "2020-11-11T16:19:32.015342Z"
    }
   },
   "outputs": [],
   "source": [
    "def first_recommendation(row):\n",
    "    if row[\"number_view\"]==0: return [0]\n",
    "    if row[\"count_view\"][row[\"max_view_item\"]]==1:return [row[\"last_view\"]]\n",
    "    if row[\"max_view_item\"]==row[\"last_view\"]:return [row[\"last_view\"]]\n",
    "    if row[\"max_view_domain_id\"]==row[\"last_view_domain_id\"] and row[\"max_view_item\"]!=row[\"last_view\"]: return [row[\"max_view_item\"],row[\"last_view\"]]\n",
    "    if np.isnan(row[\"max_view_item\"]): return [0]\n",
    "    if row[\"max_view_domain_id\"]!=row[\"last_view_domain_id\"]:return [row[\"max_view_item\"]]\n",
    "\n",
    "\n",
    "def print_len_recommend(recommend):\n",
    "    try:\n",
    "        return len(list(filter(lambda x: x != 0, recommend)))\n",
    "    except:return 0"
   ]
  },
  {
   "cell_type": "code",
   "execution_count": 162,
   "metadata": {
    "ExecuteTime": {
     "end_time": "2020-11-11T16:19:50.190591Z",
     "start_time": "2020-11-11T16:19:32.730606Z"
    }
   },
   "outputs": [],
   "source": [
    "meli_test[\"full_recommend\"]=meli_test.apply(first_recommendation,axis=1)\n",
    "meli_test[\"len_recommend\"]=meli_test[\"full_recommend\"].apply(print_len_recommend)\n",
    "meli_test[\"first_recommendation\"]=meli_test.apply(first_recommendation,axis=1)"
   ]
  },
  {
   "cell_type": "code",
   "execution_count": 163,
   "metadata": {
    "ExecuteTime": {
     "end_time": "2020-11-11T16:19:51.099694Z",
     "start_time": "2020-11-11T16:19:50.939314Z"
    }
   },
   "outputs": [
    {
     "data": {
      "text/plain": [
       "(177070, 17)"
      ]
     },
     "execution_count": 163,
     "metadata": {},
     "output_type": "execute_result"
    }
   ],
   "source": [
    "meli_test[meli_test[\"len_recommend\"]<10].shape"
   ]
  },
  {
   "cell_type": "code",
   "execution_count": 164,
   "metadata": {
    "ExecuteTime": {
     "end_time": "2020-11-11T16:19:51.838995Z",
     "start_time": "2020-11-11T16:19:51.829023Z"
    }
   },
   "outputs": [
    {
     "data": {
      "text/html": [
       "<div>\n",
       "<style scoped>\n",
       "    .dataframe tbody tr th:only-of-type {\n",
       "        vertical-align: middle;\n",
       "    }\n",
       "\n",
       "    .dataframe tbody tr th {\n",
       "        vertical-align: top;\n",
       "    }\n",
       "\n",
       "    .dataframe thead th {\n",
       "        text-align: right;\n",
       "    }\n",
       "</style>\n",
       "<table border=\"1\" class=\"dataframe\">\n",
       "  <thead>\n",
       "    <tr style=\"text-align: right;\">\n",
       "      <th></th>\n",
       "      <th>full_recommend</th>\n",
       "      <th>len_recommend</th>\n",
       "      <th>first_recommendation</th>\n",
       "    </tr>\n",
       "  </thead>\n",
       "  <tbody>\n",
       "    <tr>\n",
       "      <th>0</th>\n",
       "      <td>[1572239.0]</td>\n",
       "      <td>1</td>\n",
       "      <td>[1572239.0]</td>\n",
       "    </tr>\n",
       "    <tr>\n",
       "      <th>1</th>\n",
       "      <td>[943786.0]</td>\n",
       "      <td>1</td>\n",
       "      <td>[943786.0]</td>\n",
       "    </tr>\n",
       "    <tr>\n",
       "      <th>2</th>\n",
       "      <td>[1614538.0]</td>\n",
       "      <td>1</td>\n",
       "      <td>[1614538.0]</td>\n",
       "    </tr>\n",
       "    <tr>\n",
       "      <th>3</th>\n",
       "      <td>[0]</td>\n",
       "      <td>0</td>\n",
       "      <td>[0]</td>\n",
       "    </tr>\n",
       "    <tr>\n",
       "      <th>4</th>\n",
       "      <td>[1398419.0]</td>\n",
       "      <td>1</td>\n",
       "      <td>[1398419.0]</td>\n",
       "    </tr>\n",
       "  </tbody>\n",
       "</table>\n",
       "</div>"
      ],
      "text/plain": [
       "  full_recommend  len_recommend first_recommendation\n",
       "0    [1572239.0]              1          [1572239.0]\n",
       "1     [943786.0]              1           [943786.0]\n",
       "2    [1614538.0]              1          [1614538.0]\n",
       "3            [0]              0                  [0]\n",
       "4    [1398419.0]              1          [1398419.0]"
      ]
     },
     "execution_count": 164,
     "metadata": {},
     "output_type": "execute_result"
    }
   ],
   "source": [
    "meli_test.iloc[:5,14:]"
   ]
  },
  {
   "cell_type": "code",
   "execution_count": 165,
   "metadata": {
    "ExecuteTime": {
     "end_time": "2020-11-11T16:19:52.620904Z",
     "start_time": "2020-11-11T16:19:52.609934Z"
    }
   },
   "outputs": [],
   "source": [
    "def most_view_items_by_count(row):\n",
    "    \"\"\"\n",
    "    RETURN top items view by count and same domain\n",
    "    \"\"\"\n",
    "    if row[\"number_view\"]==0 : return [0]\n",
    "    else:\n",
    "        top_search = sorted(row[\"count_view\"].items() , reverse=True, key=lambda x: x[1])\n",
    "        top = [elem[0] for elem in top_search if elem[0] not in row[\"full_recommend\"]]\n",
    "        return top\n",
    "    \n",
    "def top_similar_items(row):\n",
    "    \"\"\"\n",
    "    return top 5 items similar max_view_item\n",
    "    \"\"\"\n",
    "    if row[\"number_view\"] == 0: return [0]\n",
    "    if row[\"full_recommend\"][0] not in items_similarity.index:\n",
    "        return [0]\n",
    "    else:\n",
    "        top_sell = items_similarity.loc[row[\"full_recommend\"][0]][\"top\"]\n",
    "        if len(top_sell)>0:return [elem for elem in top_sell if elem not in row[\"full_recommend\"]]\n",
    "        else:return [0]\n",
    "    \n",
    "def top_10_by_domain_id(row):\n",
    "    \"\"\"\n",
    "    return top 10 items by domian_id\n",
    "    \"\"\"\n",
    "    if row[\"number_view\"] == 0: return [0]\n",
    "    else:\n",
    "        domain = meli_item_domain_dict[row[\"full_recommend\"][0]]\n",
    "    if domain not in top_sell_domain.keys():return [0]\n",
    "    else: \n",
    "        top_sell_sort = sorted(top_sell_domain[domain].items() , reverse=True, key=lambda x: x[1])\n",
    "        return [elem[0] for elem in top_sell_sort if elem[0] not in row[\"full_recommend\"]]\n",
    "    \n",
    "def more_similar_items(row):\n",
    "    \"\"\"\n",
    "    return rest similar items\n",
    "    \"\"\"\n",
    "    if row[\"number_view\"] == 0: return [0]\n",
    "    if row[\"full_recommend\"][0] not in items_similarity.index:\n",
    "        return [0]\n",
    "    else:\n",
    "        top_sell = items_similarity.loc[row[\"full_recommend\"][0]][\"more\"]\n",
    "        if len(top_sell)>0:return [elem for elem in top_sell if elem not in row[\"full_recommend\"]]\n",
    "        else:return [0]\n",
    "    \n",
    "def top_10_similar_domain_id(row):\n",
    "    \"\"\"\n",
    "    return top 10 items by last_view_item_domian_id\n",
    "    \"\"\"\n",
    "    if row[\"number_view\"] == 0: return [0]\n",
    "    if row[\"last_view_similar_similar_domain_id\"] not in top_sell_domain.keys():\n",
    "        return [0]\n",
    "    else:\n",
    "        top_sell_sort = sorted(top_sell_domain[row[\"last_view_similar_similar_domain_id\"]].items() , reverse=True, key=lambda x: x[1])\n",
    "        return [elem[0] for elem in top_sell_sort if elem[0] not in row[\"full_recommend\"]]"
   ]
  },
  {
   "cell_type": "code",
   "execution_count": 166,
   "metadata": {
    "ExecuteTime": {
     "end_time": "2020-11-11T16:20:03.996661Z",
     "start_time": "2020-11-11T16:19:53.392840Z"
    }
   },
   "outputs": [],
   "source": [
    "meli_test[\"most_view_items_by_count\"]=meli_test.apply(most_view_items_by_count,axis=1)\n",
    "meli_test[\"full_recommend\"]=meli_test[\"first_recommendation\"]+meli_test[\"most_view_items_by_count\"]\n",
    "meli_test[\"len_recommend\"]=meli_test[\"full_recommend\"].apply(print_len_recommend)"
   ]
  },
  {
   "cell_type": "code",
   "execution_count": 167,
   "metadata": {
    "ExecuteTime": {
     "end_time": "2020-11-11T16:20:04.919195Z",
     "start_time": "2020-11-11T16:20:04.751644Z"
    }
   },
   "outputs": [
    {
     "data": {
      "text/plain": [
       "(163450, 18)"
      ]
     },
     "execution_count": 167,
     "metadata": {},
     "output_type": "execute_result"
    }
   ],
   "source": [
    "meli_test[meli_test[\"len_recommend\"]<10].shape"
   ]
  },
  {
   "cell_type": "code",
   "execution_count": 168,
   "metadata": {
    "ExecuteTime": {
     "end_time": "2020-11-11T16:20:05.691131Z",
     "start_time": "2020-11-11T16:20:05.680161Z"
    }
   },
   "outputs": [
    {
     "data": {
      "text/html": [
       "<div>\n",
       "<style scoped>\n",
       "    .dataframe tbody tr th:only-of-type {\n",
       "        vertical-align: middle;\n",
       "    }\n",
       "\n",
       "    .dataframe tbody tr th {\n",
       "        vertical-align: top;\n",
       "    }\n",
       "\n",
       "    .dataframe thead th {\n",
       "        text-align: right;\n",
       "    }\n",
       "</style>\n",
       "<table border=\"1\" class=\"dataframe\">\n",
       "  <thead>\n",
       "    <tr style=\"text-align: right;\">\n",
       "      <th></th>\n",
       "      <th>full_recommend</th>\n",
       "      <th>len_recommend</th>\n",
       "      <th>first_recommendation</th>\n",
       "      <th>most_view_items_by_count</th>\n",
       "    </tr>\n",
       "  </thead>\n",
       "  <tbody>\n",
       "    <tr>\n",
       "      <th>0</th>\n",
       "      <td>[1572239.0]</td>\n",
       "      <td>1</td>\n",
       "      <td>[1572239.0]</td>\n",
       "      <td>[]</td>\n",
       "    </tr>\n",
       "    <tr>\n",
       "      <th>1</th>\n",
       "      <td>[943786.0, 831243, 48097, 788705, 26324]</td>\n",
       "      <td>5</td>\n",
       "      <td>[943786.0]</td>\n",
       "      <td>[831243, 48097, 788705, 26324]</td>\n",
       "    </tr>\n",
       "    <tr>\n",
       "      <th>2</th>\n",
       "      <td>[1614538.0]</td>\n",
       "      <td>1</td>\n",
       "      <td>[1614538.0]</td>\n",
       "      <td>[]</td>\n",
       "    </tr>\n",
       "    <tr>\n",
       "      <th>3</th>\n",
       "      <td>[0, 0]</td>\n",
       "      <td>0</td>\n",
       "      <td>[0]</td>\n",
       "      <td>[0]</td>\n",
       "    </tr>\n",
       "    <tr>\n",
       "      <th>4</th>\n",
       "      <td>[1398419.0]</td>\n",
       "      <td>1</td>\n",
       "      <td>[1398419.0]</td>\n",
       "      <td>[]</td>\n",
       "    </tr>\n",
       "  </tbody>\n",
       "</table>\n",
       "</div>"
      ],
      "text/plain": [
       "                             full_recommend  len_recommend  \\\n",
       "0                               [1572239.0]              1   \n",
       "1  [943786.0, 831243, 48097, 788705, 26324]              5   \n",
       "2                               [1614538.0]              1   \n",
       "3                                    [0, 0]              0   \n",
       "4                               [1398419.0]              1   \n",
       "\n",
       "  first_recommendation        most_view_items_by_count  \n",
       "0          [1572239.0]                              []  \n",
       "1           [943786.0]  [831243, 48097, 788705, 26324]  \n",
       "2          [1614538.0]                              []  \n",
       "3                  [0]                             [0]  \n",
       "4          [1398419.0]                              []  "
      ]
     },
     "execution_count": 168,
     "metadata": {},
     "output_type": "execute_result"
    }
   ],
   "source": [
    "meli_test.iloc[:5,14:]"
   ]
  },
  {
   "cell_type": "code",
   "execution_count": 169,
   "metadata": {
    "ExecuteTime": {
     "end_time": "2020-11-11T16:20:35.522629Z",
     "start_time": "2020-11-11T16:20:06.500965Z"
    }
   },
   "outputs": [],
   "source": [
    "meli_test[\"top_similar_items\"]=meli_test.apply(top_similar_items,axis=1)\n",
    "meli_test[\"full_recommend\"]=meli_test[\"first_recommendation\"]+meli_test[\"most_view_items_by_count\"]+meli_test[\"top_similar_items\"]\n",
    "meli_test[\"len_recommend\"]=meli_test[\"full_recommend\"].apply(print_len_recommend)"
   ]
  },
  {
   "cell_type": "code",
   "execution_count": 170,
   "metadata": {
    "ExecuteTime": {
     "end_time": "2020-11-11T16:20:36.420849Z",
     "start_time": "2020-11-11T16:20:36.252302Z"
    }
   },
   "outputs": [
    {
     "data": {
      "text/plain": [
       "(148143, 19)"
      ]
     },
     "execution_count": 170,
     "metadata": {},
     "output_type": "execute_result"
    }
   ],
   "source": [
    "meli_test[meli_test[\"len_recommend\"]<10].shape"
   ]
  },
  {
   "cell_type": "code",
   "execution_count": 171,
   "metadata": {
    "ExecuteTime": {
     "end_time": "2020-11-11T16:20:37.158876Z",
     "start_time": "2020-11-11T16:20:37.145911Z"
    }
   },
   "outputs": [
    {
     "data": {
      "text/html": [
       "<div>\n",
       "<style scoped>\n",
       "    .dataframe tbody tr th:only-of-type {\n",
       "        vertical-align: middle;\n",
       "    }\n",
       "\n",
       "    .dataframe tbody tr th {\n",
       "        vertical-align: top;\n",
       "    }\n",
       "\n",
       "    .dataframe thead th {\n",
       "        text-align: right;\n",
       "    }\n",
       "</style>\n",
       "<table border=\"1\" class=\"dataframe\">\n",
       "  <thead>\n",
       "    <tr style=\"text-align: right;\">\n",
       "      <th></th>\n",
       "      <th>full_recommend</th>\n",
       "      <th>len_recommend</th>\n",
       "      <th>first_recommendation</th>\n",
       "      <th>most_view_items_by_count</th>\n",
       "      <th>top_similar_items</th>\n",
       "    </tr>\n",
       "  </thead>\n",
       "  <tbody>\n",
       "    <tr>\n",
       "      <th>0</th>\n",
       "      <td>[1572239.0, 163975, 878868, 838510, 1010686]</td>\n",
       "      <td>5</td>\n",
       "      <td>[1572239.0]</td>\n",
       "      <td>[]</td>\n",
       "      <td>[163975, 878868, 838510, 1010686]</td>\n",
       "    </tr>\n",
       "    <tr>\n",
       "      <th>1</th>\n",
       "      <td>[943786.0, 831243, 48097, 788705, 26324, 18954...</td>\n",
       "      <td>9</td>\n",
       "      <td>[943786.0]</td>\n",
       "      <td>[831243, 48097, 788705, 26324]</td>\n",
       "      <td>[1895449, 638401, 722009, 2021045]</td>\n",
       "    </tr>\n",
       "    <tr>\n",
       "      <th>2</th>\n",
       "      <td>[1614538.0, 497242, 1235574, 1693360, 1934150]</td>\n",
       "      <td>5</td>\n",
       "      <td>[1614538.0]</td>\n",
       "      <td>[]</td>\n",
       "      <td>[497242, 1235574, 1693360, 1934150]</td>\n",
       "    </tr>\n",
       "    <tr>\n",
       "      <th>3</th>\n",
       "      <td>[0, 0, 0]</td>\n",
       "      <td>0</td>\n",
       "      <td>[0]</td>\n",
       "      <td>[0]</td>\n",
       "      <td>[0]</td>\n",
       "    </tr>\n",
       "    <tr>\n",
       "      <th>4</th>\n",
       "      <td>[1398419.0, 461364, 196535, 1651654, 1677099]</td>\n",
       "      <td>5</td>\n",
       "      <td>[1398419.0]</td>\n",
       "      <td>[]</td>\n",
       "      <td>[461364, 196535, 1651654, 1677099]</td>\n",
       "    </tr>\n",
       "  </tbody>\n",
       "</table>\n",
       "</div>"
      ],
      "text/plain": [
       "                                      full_recommend  len_recommend  \\\n",
       "0       [1572239.0, 163975, 878868, 838510, 1010686]              5   \n",
       "1  [943786.0, 831243, 48097, 788705, 26324, 18954...              9   \n",
       "2     [1614538.0, 497242, 1235574, 1693360, 1934150]              5   \n",
       "3                                          [0, 0, 0]              0   \n",
       "4      [1398419.0, 461364, 196535, 1651654, 1677099]              5   \n",
       "\n",
       "  first_recommendation        most_view_items_by_count  \\\n",
       "0          [1572239.0]                              []   \n",
       "1           [943786.0]  [831243, 48097, 788705, 26324]   \n",
       "2          [1614538.0]                              []   \n",
       "3                  [0]                             [0]   \n",
       "4          [1398419.0]                              []   \n",
       "\n",
       "                     top_similar_items  \n",
       "0    [163975, 878868, 838510, 1010686]  \n",
       "1   [1895449, 638401, 722009, 2021045]  \n",
       "2  [497242, 1235574, 1693360, 1934150]  \n",
       "3                                  [0]  \n",
       "4   [461364, 196535, 1651654, 1677099]  "
      ]
     },
     "execution_count": 171,
     "metadata": {},
     "output_type": "execute_result"
    }
   ],
   "source": [
    "meli_test.iloc[:5,14:]"
   ]
  },
  {
   "cell_type": "code",
   "execution_count": 172,
   "metadata": {
    "ExecuteTime": {
     "end_time": "2020-11-11T16:20:47.125255Z",
     "start_time": "2020-11-11T16:20:37.882940Z"
    }
   },
   "outputs": [],
   "source": [
    "meli_test[\"top_10_by_domain_id\"]=meli_test.apply(top_10_by_domain_id,axis=1)\n",
    "meli_test[\"full_recommend\"]=meli_test[\"first_recommendation\"]+meli_test[\"most_view_items_by_count\"]+meli_test[\"top_similar_items\"]+meli_test[\"top_10_by_domain_id\"]\n",
    "meli_test[\"len_recommend\"]=meli_test[\"full_recommend\"].apply(print_len_recommend)"
   ]
  },
  {
   "cell_type": "code",
   "execution_count": 173,
   "metadata": {
    "ExecuteTime": {
     "end_time": "2020-11-11T16:20:48.003373Z",
     "start_time": "2020-11-11T16:20:47.874258Z"
    }
   },
   "outputs": [
    {
     "data": {
      "text/plain": [
       "(28803, 20)"
      ]
     },
     "execution_count": 173,
     "metadata": {},
     "output_type": "execute_result"
    }
   ],
   "source": [
    "meli_test[meli_test[\"len_recommend\"]<10].shape"
   ]
  },
  {
   "cell_type": "code",
   "execution_count": 174,
   "metadata": {
    "ExecuteTime": {
     "end_time": "2020-11-11T16:20:48.757305Z",
     "start_time": "2020-11-11T16:20:48.738470Z"
    }
   },
   "outputs": [
    {
     "data": {
      "text/html": [
       "<div>\n",
       "<style scoped>\n",
       "    .dataframe tbody tr th:only-of-type {\n",
       "        vertical-align: middle;\n",
       "    }\n",
       "\n",
       "    .dataframe tbody tr th {\n",
       "        vertical-align: top;\n",
       "    }\n",
       "\n",
       "    .dataframe thead th {\n",
       "        text-align: right;\n",
       "    }\n",
       "</style>\n",
       "<table border=\"1\" class=\"dataframe\">\n",
       "  <thead>\n",
       "    <tr style=\"text-align: right;\">\n",
       "      <th></th>\n",
       "      <th>full_recommend</th>\n",
       "      <th>len_recommend</th>\n",
       "      <th>first_recommendation</th>\n",
       "      <th>most_view_items_by_count</th>\n",
       "      <th>top_similar_items</th>\n",
       "      <th>top_10_by_domain_id</th>\n",
       "    </tr>\n",
       "  </thead>\n",
       "  <tbody>\n",
       "    <tr>\n",
       "      <th>0</th>\n",
       "      <td>[1572239.0, 163975, 878868, 838510, 1010686, 1...</td>\n",
       "      <td>20</td>\n",
       "      <td>[1572239.0]</td>\n",
       "      <td>[]</td>\n",
       "      <td>[163975, 878868, 838510, 1010686]</td>\n",
       "      <td>[1439187, 1864599, 350187, 1006988, 1717880, 4...</td>\n",
       "    </tr>\n",
       "    <tr>\n",
       "      <th>1</th>\n",
       "      <td>[943786.0, 831243, 48097, 788705, 26324, 18954...</td>\n",
       "      <td>24</td>\n",
       "      <td>[943786.0]</td>\n",
       "      <td>[831243, 48097, 788705, 26324]</td>\n",
       "      <td>[1895449, 638401, 722009, 2021045]</td>\n",
       "      <td>[361733, 1140688, 1056120, 353783, 1676401, 10...</td>\n",
       "    </tr>\n",
       "    <tr>\n",
       "      <th>2</th>\n",
       "      <td>[1614538.0, 497242, 1235574, 1693360, 1934150, 0]</td>\n",
       "      <td>5</td>\n",
       "      <td>[1614538.0]</td>\n",
       "      <td>[]</td>\n",
       "      <td>[497242, 1235574, 1693360, 1934150]</td>\n",
       "      <td>[0]</td>\n",
       "    </tr>\n",
       "    <tr>\n",
       "      <th>3</th>\n",
       "      <td>[0, 0, 0, 0]</td>\n",
       "      <td>0</td>\n",
       "      <td>[0]</td>\n",
       "      <td>[0]</td>\n",
       "      <td>[0]</td>\n",
       "      <td>[0]</td>\n",
       "    </tr>\n",
       "    <tr>\n",
       "      <th>4</th>\n",
       "      <td>[1398419.0, 461364, 196535, 1651654, 1677099, ...</td>\n",
       "      <td>20</td>\n",
       "      <td>[1398419.0]</td>\n",
       "      <td>[]</td>\n",
       "      <td>[461364, 196535, 1651654, 1677099]</td>\n",
       "      <td>[1695773, 868571, 753509, 914038, 1197614, 509...</td>\n",
       "    </tr>\n",
       "  </tbody>\n",
       "</table>\n",
       "</div>"
      ],
      "text/plain": [
       "                                      full_recommend  len_recommend  \\\n",
       "0  [1572239.0, 163975, 878868, 838510, 1010686, 1...             20   \n",
       "1  [943786.0, 831243, 48097, 788705, 26324, 18954...             24   \n",
       "2  [1614538.0, 497242, 1235574, 1693360, 1934150, 0]              5   \n",
       "3                                       [0, 0, 0, 0]              0   \n",
       "4  [1398419.0, 461364, 196535, 1651654, 1677099, ...             20   \n",
       "\n",
       "  first_recommendation        most_view_items_by_count  \\\n",
       "0          [1572239.0]                              []   \n",
       "1           [943786.0]  [831243, 48097, 788705, 26324]   \n",
       "2          [1614538.0]                              []   \n",
       "3                  [0]                             [0]   \n",
       "4          [1398419.0]                              []   \n",
       "\n",
       "                     top_similar_items  \\\n",
       "0    [163975, 878868, 838510, 1010686]   \n",
       "1   [1895449, 638401, 722009, 2021045]   \n",
       "2  [497242, 1235574, 1693360, 1934150]   \n",
       "3                                  [0]   \n",
       "4   [461364, 196535, 1651654, 1677099]   \n",
       "\n",
       "                                 top_10_by_domain_id  \n",
       "0  [1439187, 1864599, 350187, 1006988, 1717880, 4...  \n",
       "1  [361733, 1140688, 1056120, 353783, 1676401, 10...  \n",
       "2                                                [0]  \n",
       "3                                                [0]  \n",
       "4  [1695773, 868571, 753509, 914038, 1197614, 509...  "
      ]
     },
     "execution_count": 174,
     "metadata": {},
     "output_type": "execute_result"
    }
   ],
   "source": [
    "meli_test.iloc[:5,14:]"
   ]
  },
  {
   "cell_type": "code",
   "execution_count": 175,
   "metadata": {
    "ExecuteTime": {
     "end_time": "2020-11-11T16:21:20.819314Z",
     "start_time": "2020-11-11T16:20:49.574182Z"
    }
   },
   "outputs": [],
   "source": [
    "meli_test[\"more_similar_items\"]=meli_test.apply(more_similar_items,axis=1)\n",
    "meli_test[\"full_recommend\"]=meli_test[\"first_recommendation\"]+meli_test[\"most_view_items_by_count\"]+meli_test[\"top_similar_items\"]+meli_test[\"top_10_by_domain_id\"]+meli_test[\"more_similar_items\"]\n",
    "meli_test[\"len_recommend\"]=meli_test[\"full_recommend\"].apply(print_len_recommend)"
   ]
  },
  {
   "cell_type": "code",
   "execution_count": 176,
   "metadata": {
    "ExecuteTime": {
     "end_time": "2020-11-11T16:21:21.781962Z",
     "start_time": "2020-11-11T16:21:21.639343Z"
    }
   },
   "outputs": [
    {
     "data": {
      "text/plain": [
       "(11804, 21)"
      ]
     },
     "execution_count": 176,
     "metadata": {},
     "output_type": "execute_result"
    }
   ],
   "source": [
    "meli_test[meli_test[\"len_recommend\"]<10].shape"
   ]
  },
  {
   "cell_type": "code",
   "execution_count": 177,
   "metadata": {
    "ExecuteTime": {
     "end_time": "2020-11-11T16:21:22.626084Z",
     "start_time": "2020-11-11T16:21:22.601145Z"
    }
   },
   "outputs": [
    {
     "data": {
      "text/html": [
       "<div>\n",
       "<style scoped>\n",
       "    .dataframe tbody tr th:only-of-type {\n",
       "        vertical-align: middle;\n",
       "    }\n",
       "\n",
       "    .dataframe tbody tr th {\n",
       "        vertical-align: top;\n",
       "    }\n",
       "\n",
       "    .dataframe thead th {\n",
       "        text-align: right;\n",
       "    }\n",
       "</style>\n",
       "<table border=\"1\" class=\"dataframe\">\n",
       "  <thead>\n",
       "    <tr style=\"text-align: right;\">\n",
       "      <th></th>\n",
       "      <th>full_recommend</th>\n",
       "      <th>len_recommend</th>\n",
       "      <th>first_recommendation</th>\n",
       "      <th>most_view_items_by_count</th>\n",
       "      <th>top_similar_items</th>\n",
       "      <th>top_10_by_domain_id</th>\n",
       "      <th>more_similar_items</th>\n",
       "    </tr>\n",
       "  </thead>\n",
       "  <tbody>\n",
       "    <tr>\n",
       "      <th>0</th>\n",
       "      <td>[1572239.0, 163975, 878868, 838510, 1010686, 1...</td>\n",
       "      <td>25</td>\n",
       "      <td>[1572239.0]</td>\n",
       "      <td>[]</td>\n",
       "      <td>[163975, 878868, 838510, 1010686]</td>\n",
       "      <td>[1439187, 1864599, 350187, 1006988, 1717880, 4...</td>\n",
       "      <td>[837129, 1066352, 148718, 2092871, 1714715]</td>\n",
       "    </tr>\n",
       "    <tr>\n",
       "      <th>1</th>\n",
       "      <td>[943786.0, 831243, 48097, 788705, 26324, 18954...</td>\n",
       "      <td>29</td>\n",
       "      <td>[943786.0]</td>\n",
       "      <td>[831243, 48097, 788705, 26324]</td>\n",
       "      <td>[1895449, 638401, 722009, 2021045]</td>\n",
       "      <td>[361733, 1140688, 1056120, 353783, 1676401, 10...</td>\n",
       "      <td>[1603720, 1192602, 34933, 124834, 1662172]</td>\n",
       "    </tr>\n",
       "    <tr>\n",
       "      <th>2</th>\n",
       "      <td>[1614538.0, 497242, 1235574, 1693360, 1934150,...</td>\n",
       "      <td>10</td>\n",
       "      <td>[1614538.0]</td>\n",
       "      <td>[]</td>\n",
       "      <td>[497242, 1235574, 1693360, 1934150]</td>\n",
       "      <td>[0]</td>\n",
       "      <td>[1958606, 290617, 1760838, 815622, 2030918]</td>\n",
       "    </tr>\n",
       "    <tr>\n",
       "      <th>3</th>\n",
       "      <td>[0, 0, 0, 0, 0]</td>\n",
       "      <td>0</td>\n",
       "      <td>[0]</td>\n",
       "      <td>[0]</td>\n",
       "      <td>[0]</td>\n",
       "      <td>[0]</td>\n",
       "      <td>[0]</td>\n",
       "    </tr>\n",
       "    <tr>\n",
       "      <th>4</th>\n",
       "      <td>[1398419.0, 461364, 196535, 1651654, 1677099, ...</td>\n",
       "      <td>25</td>\n",
       "      <td>[1398419.0]</td>\n",
       "      <td>[]</td>\n",
       "      <td>[461364, 196535, 1651654, 1677099]</td>\n",
       "      <td>[1695773, 868571, 753509, 914038, 1197614, 509...</td>\n",
       "      <td>[1384827, 1625880, 1994741, 1422873, 782518]</td>\n",
       "    </tr>\n",
       "  </tbody>\n",
       "</table>\n",
       "</div>"
      ],
      "text/plain": [
       "                                      full_recommend  len_recommend  \\\n",
       "0  [1572239.0, 163975, 878868, 838510, 1010686, 1...             25   \n",
       "1  [943786.0, 831243, 48097, 788705, 26324, 18954...             29   \n",
       "2  [1614538.0, 497242, 1235574, 1693360, 1934150,...             10   \n",
       "3                                    [0, 0, 0, 0, 0]              0   \n",
       "4  [1398419.0, 461364, 196535, 1651654, 1677099, ...             25   \n",
       "\n",
       "  first_recommendation        most_view_items_by_count  \\\n",
       "0          [1572239.0]                              []   \n",
       "1           [943786.0]  [831243, 48097, 788705, 26324]   \n",
       "2          [1614538.0]                              []   \n",
       "3                  [0]                             [0]   \n",
       "4          [1398419.0]                              []   \n",
       "\n",
       "                     top_similar_items  \\\n",
       "0    [163975, 878868, 838510, 1010686]   \n",
       "1   [1895449, 638401, 722009, 2021045]   \n",
       "2  [497242, 1235574, 1693360, 1934150]   \n",
       "3                                  [0]   \n",
       "4   [461364, 196535, 1651654, 1677099]   \n",
       "\n",
       "                                 top_10_by_domain_id  \\\n",
       "0  [1439187, 1864599, 350187, 1006988, 1717880, 4...   \n",
       "1  [361733, 1140688, 1056120, 353783, 1676401, 10...   \n",
       "2                                                [0]   \n",
       "3                                                [0]   \n",
       "4  [1695773, 868571, 753509, 914038, 1197614, 509...   \n",
       "\n",
       "                             more_similar_items  \n",
       "0   [837129, 1066352, 148718, 2092871, 1714715]  \n",
       "1    [1603720, 1192602, 34933, 124834, 1662172]  \n",
       "2   [1958606, 290617, 1760838, 815622, 2030918]  \n",
       "3                                           [0]  \n",
       "4  [1384827, 1625880, 1994741, 1422873, 782518]  "
      ]
     },
     "execution_count": 177,
     "metadata": {},
     "output_type": "execute_result"
    }
   ],
   "source": [
    "meli_test.iloc[:5,14:]"
   ]
  },
  {
   "cell_type": "code",
   "execution_count": 178,
   "metadata": {
    "ExecuteTime": {
     "end_time": "2020-11-11T16:21:34.729273Z",
     "start_time": "2020-11-11T16:21:23.474855Z"
    }
   },
   "outputs": [],
   "source": [
    "meli_test[\"top_10_similar_domain_id\"]=meli_test.apply(top_10_similar_domain_id,axis=1)\n",
    "meli_test[\"full_recommend\"]=meli_test[\"first_recommendation\"]+meli_test[\"most_view_items_by_count\"]+meli_test[\"top_similar_items\"]+meli_test[\"top_10_by_domain_id\"]+meli_test[\"more_similar_items\"]+meli_test[\"top_10_similar_domain_id\"]\n",
    "meli_test[\"len_recommend\"]=meli_test[\"full_recommend\"].apply(print_len_recommend)"
   ]
  },
  {
   "cell_type": "code",
   "execution_count": 179,
   "metadata": {
    "ExecuteTime": {
     "end_time": "2020-11-11T16:21:35.635294Z",
     "start_time": "2020-11-11T16:21:35.484665Z"
    }
   },
   "outputs": [
    {
     "data": {
      "text/plain": [
       "(11585, 22)"
      ]
     },
     "execution_count": 179,
     "metadata": {},
     "output_type": "execute_result"
    }
   ],
   "source": [
    "meli_test[meli_test[\"len_recommend\"]<10].shape"
   ]
  },
  {
   "cell_type": "code",
   "execution_count": 180,
   "metadata": {
    "ExecuteTime": {
     "end_time": "2020-11-11T16:21:36.431447Z",
     "start_time": "2020-11-11T16:21:36.407511Z"
    }
   },
   "outputs": [
    {
     "data": {
      "text/html": [
       "<div>\n",
       "<style scoped>\n",
       "    .dataframe tbody tr th:only-of-type {\n",
       "        vertical-align: middle;\n",
       "    }\n",
       "\n",
       "    .dataframe tbody tr th {\n",
       "        vertical-align: top;\n",
       "    }\n",
       "\n",
       "    .dataframe thead th {\n",
       "        text-align: right;\n",
       "    }\n",
       "</style>\n",
       "<table border=\"1\" class=\"dataframe\">\n",
       "  <thead>\n",
       "    <tr style=\"text-align: right;\">\n",
       "      <th></th>\n",
       "      <th>full_recommend</th>\n",
       "      <th>len_recommend</th>\n",
       "      <th>first_recommendation</th>\n",
       "      <th>most_view_items_by_count</th>\n",
       "      <th>top_similar_items</th>\n",
       "      <th>top_10_by_domain_id</th>\n",
       "      <th>more_similar_items</th>\n",
       "      <th>top_10_similar_domain_id</th>\n",
       "    </tr>\n",
       "  </thead>\n",
       "  <tbody>\n",
       "    <tr>\n",
       "      <th>0</th>\n",
       "      <td>[1572239.0, 163975, 878868, 838510, 1010686, 1...</td>\n",
       "      <td>28</td>\n",
       "      <td>[1572239.0]</td>\n",
       "      <td>[]</td>\n",
       "      <td>[163975, 878868, 838510, 1010686]</td>\n",
       "      <td>[1439187, 1864599, 350187, 1006988, 1717880, 4...</td>\n",
       "      <td>[837129, 1066352, 148718, 2092871, 1714715]</td>\n",
       "      <td>[629033, 663458, 1309106]</td>\n",
       "    </tr>\n",
       "    <tr>\n",
       "      <th>1</th>\n",
       "      <td>[943786.0, 831243, 48097, 788705, 26324, 18954...</td>\n",
       "      <td>34</td>\n",
       "      <td>[943786.0]</td>\n",
       "      <td>[831243, 48097, 788705, 26324]</td>\n",
       "      <td>[1895449, 638401, 722009, 2021045]</td>\n",
       "      <td>[361733, 1140688, 1056120, 353783, 1676401, 10...</td>\n",
       "      <td>[1603720, 1192602, 34933, 124834, 1662172]</td>\n",
       "      <td>[2902, 1819050, 1787462, 2586, 100683]</td>\n",
       "    </tr>\n",
       "    <tr>\n",
       "      <th>2</th>\n",
       "      <td>[1614538.0, 497242, 1235574, 1693360, 1934150,...</td>\n",
       "      <td>25</td>\n",
       "      <td>[1614538.0]</td>\n",
       "      <td>[]</td>\n",
       "      <td>[497242, 1235574, 1693360, 1934150]</td>\n",
       "      <td>[0]</td>\n",
       "      <td>[1958606, 290617, 1760838, 815622, 2030918]</td>\n",
       "      <td>[68487, 1716500, 1788917, 325856, 557388, 9154...</td>\n",
       "    </tr>\n",
       "    <tr>\n",
       "      <th>3</th>\n",
       "      <td>[0, 0, 0, 0, 0, 0]</td>\n",
       "      <td>0</td>\n",
       "      <td>[0]</td>\n",
       "      <td>[0]</td>\n",
       "      <td>[0]</td>\n",
       "      <td>[0]</td>\n",
       "      <td>[0]</td>\n",
       "      <td>[0]</td>\n",
       "    </tr>\n",
       "    <tr>\n",
       "      <th>4</th>\n",
       "      <td>[1398419.0, 461364, 196535, 1651654, 1677099, ...</td>\n",
       "      <td>26</td>\n",
       "      <td>[1398419.0]</td>\n",
       "      <td>[]</td>\n",
       "      <td>[461364, 196535, 1651654, 1677099]</td>\n",
       "      <td>[1695773, 868571, 753509, 914038, 1197614, 509...</td>\n",
       "      <td>[1384827, 1625880, 1994741, 1422873, 782518]</td>\n",
       "      <td>[65357]</td>\n",
       "    </tr>\n",
       "    <tr>\n",
       "      <th>5</th>\n",
       "      <td>[417142.0, 139969.0, 2012901, 1360482, 785074,...</td>\n",
       "      <td>29</td>\n",
       "      <td>[417142.0, 139969.0]</td>\n",
       "      <td>[2012901, 1360482, 785074]</td>\n",
       "      <td>[1172638, 1488392, 1950320, 763261]</td>\n",
       "      <td>[1081082, 1368729, 1815253, 832016, 1382218, 1...</td>\n",
       "      <td>[457229, 596249, 1218333, 1510217, 318374]</td>\n",
       "      <td>[]</td>\n",
       "    </tr>\n",
       "  </tbody>\n",
       "</table>\n",
       "</div>"
      ],
      "text/plain": [
       "                                      full_recommend  len_recommend  \\\n",
       "0  [1572239.0, 163975, 878868, 838510, 1010686, 1...             28   \n",
       "1  [943786.0, 831243, 48097, 788705, 26324, 18954...             34   \n",
       "2  [1614538.0, 497242, 1235574, 1693360, 1934150,...             25   \n",
       "3                                 [0, 0, 0, 0, 0, 0]              0   \n",
       "4  [1398419.0, 461364, 196535, 1651654, 1677099, ...             26   \n",
       "5  [417142.0, 139969.0, 2012901, 1360482, 785074,...             29   \n",
       "\n",
       "   first_recommendation        most_view_items_by_count  \\\n",
       "0           [1572239.0]                              []   \n",
       "1            [943786.0]  [831243, 48097, 788705, 26324]   \n",
       "2           [1614538.0]                              []   \n",
       "3                   [0]                             [0]   \n",
       "4           [1398419.0]                              []   \n",
       "5  [417142.0, 139969.0]      [2012901, 1360482, 785074]   \n",
       "\n",
       "                     top_similar_items  \\\n",
       "0    [163975, 878868, 838510, 1010686]   \n",
       "1   [1895449, 638401, 722009, 2021045]   \n",
       "2  [497242, 1235574, 1693360, 1934150]   \n",
       "3                                  [0]   \n",
       "4   [461364, 196535, 1651654, 1677099]   \n",
       "5  [1172638, 1488392, 1950320, 763261]   \n",
       "\n",
       "                                 top_10_by_domain_id  \\\n",
       "0  [1439187, 1864599, 350187, 1006988, 1717880, 4...   \n",
       "1  [361733, 1140688, 1056120, 353783, 1676401, 10...   \n",
       "2                                                [0]   \n",
       "3                                                [0]   \n",
       "4  [1695773, 868571, 753509, 914038, 1197614, 509...   \n",
       "5  [1081082, 1368729, 1815253, 832016, 1382218, 1...   \n",
       "\n",
       "                             more_similar_items  \\\n",
       "0   [837129, 1066352, 148718, 2092871, 1714715]   \n",
       "1    [1603720, 1192602, 34933, 124834, 1662172]   \n",
       "2   [1958606, 290617, 1760838, 815622, 2030918]   \n",
       "3                                           [0]   \n",
       "4  [1384827, 1625880, 1994741, 1422873, 782518]   \n",
       "5    [457229, 596249, 1218333, 1510217, 318374]   \n",
       "\n",
       "                            top_10_similar_domain_id  \n",
       "0                          [629033, 663458, 1309106]  \n",
       "1             [2902, 1819050, 1787462, 2586, 100683]  \n",
       "2  [68487, 1716500, 1788917, 325856, 557388, 9154...  \n",
       "3                                                [0]  \n",
       "4                                            [65357]  \n",
       "5                                                 []  "
      ]
     },
     "execution_count": 180,
     "metadata": {},
     "output_type": "execute_result"
    }
   ],
   "source": [
    "meli_test.iloc[:6,14:]"
   ]
  },
  {
   "cell_type": "code",
   "execution_count": 161,
   "metadata": {
    "ExecuteTime": {
     "end_time": "2020-11-11T05:02:18.711988Z",
     "start_time": "2020-11-11T05:02:18.691047Z"
    }
   },
   "outputs": [],
   "source": [
    "top_10_sell_global = train[\"item_bought\"].value_counts().head(10).index.tolist()"
   ]
  },
  {
   "cell_type": "code",
   "execution_count": 162,
   "metadata": {
    "ExecuteTime": {
     "end_time": "2020-11-11T05:02:19.828761Z",
     "start_time": "2020-11-11T05:02:19.823782Z"
    }
   },
   "outputs": [],
   "source": [
    "def top_10_global(row):\n",
    "    \"\"\"\n",
    "    RETURN top 10 items sell\n",
    "    \"\"\"\n",
    "    if row[\"len_recommend\"]>10: return [0]\n",
    "    else:\n",
    "        return [elem for elem in top_10_sell_global if elem not in row[\"full_recommend\"]]"
   ]
  },
  {
   "cell_type": "code",
   "execution_count": 164,
   "metadata": {
    "ExecuteTime": {
     "end_time": "2020-11-11T05:03:03.477433Z",
     "start_time": "2020-11-11T05:03:01.633311Z"
    }
   },
   "outputs": [],
   "source": [
    "meli_test[\"top_10_global\"]=meli_test.apply(top_10_global,axis=1)\n",
    "meli_test[\"full_recommend\"]=meli_test[\"first_recommendation\"]+meli_test[\"most_view_items_by_count\"]+meli_test[\"top_similar_items\"]+meli_test[\"top_10_by_domain_id\"]+meli_test[\"more_similar_items\"]+meli_test[\"top_10_similar_domain_id\"]+meli_test[\"top_10_global\"]\n",
    "meli_test[\"len_recommend\"]=meli_test[\"full_recommend\"].apply(print_len_recommend)"
   ]
  },
  {
   "cell_type": "code",
   "execution_count": 165,
   "metadata": {
    "ExecuteTime": {
     "end_time": "2020-11-11T05:03:06.685574Z",
     "start_time": "2020-11-11T05:03:06.667588Z"
    }
   },
   "outputs": [
    {
     "data": {
      "text/html": [
       "<div>\n",
       "<style scoped>\n",
       "    .dataframe tbody tr th:only-of-type {\n",
       "        vertical-align: middle;\n",
       "    }\n",
       "\n",
       "    .dataframe tbody tr th {\n",
       "        vertical-align: top;\n",
       "    }\n",
       "\n",
       "    .dataframe thead th {\n",
       "        text-align: right;\n",
       "    }\n",
       "</style>\n",
       "<table border=\"1\" class=\"dataframe\">\n",
       "  <thead>\n",
       "    <tr style=\"text-align: right;\">\n",
       "      <th></th>\n",
       "      <th>full_recommend</th>\n",
       "      <th>len_recommend</th>\n",
       "      <th>first_recommendation</th>\n",
       "      <th>most_view_items_by_count</th>\n",
       "      <th>top_similar_items</th>\n",
       "      <th>top_10_by_domain_id</th>\n",
       "      <th>more_similar_items</th>\n",
       "      <th>top_10_similar_domain_id</th>\n",
       "      <th>top_10_global</th>\n",
       "    </tr>\n",
       "  </thead>\n",
       "  <tbody>\n",
       "    <tr>\n",
       "      <th>0</th>\n",
       "      <td>[1572239.0, 163975, 878868, 838510, 1010686, 1...</td>\n",
       "      <td>28</td>\n",
       "      <td>[1572239.0]</td>\n",
       "      <td>[]</td>\n",
       "      <td>[163975, 878868, 838510, 1010686]</td>\n",
       "      <td>[1439187, 1864599, 350187, 1006988, 1717880, 4...</td>\n",
       "      <td>[837129, 1066352, 148718, 2092871, 1714715]</td>\n",
       "      <td>[629033, 663458, 1309106]</td>\n",
       "      <td>[0]</td>\n",
       "    </tr>\n",
       "    <tr>\n",
       "      <th>1</th>\n",
       "      <td>[943786.0, 831243, 48097, 788705, 26324, 18954...</td>\n",
       "      <td>34</td>\n",
       "      <td>[943786.0]</td>\n",
       "      <td>[831243, 48097, 788705, 26324]</td>\n",
       "      <td>[1895449, 638401, 722009, 2021045]</td>\n",
       "      <td>[361733, 1140688, 1056120, 353783, 1676401, 10...</td>\n",
       "      <td>[1603720, 1192602, 34933, 124834, 1662172]</td>\n",
       "      <td>[2902, 1819050, 1787462, 2586, 100683]</td>\n",
       "      <td>[0]</td>\n",
       "    </tr>\n",
       "    <tr>\n",
       "      <th>2</th>\n",
       "      <td>[1614538.0, 497242, 1235574, 1693360, 1934150,...</td>\n",
       "      <td>25</td>\n",
       "      <td>[1614538.0]</td>\n",
       "      <td>[]</td>\n",
       "      <td>[497242, 1235574, 1693360, 1934150]</td>\n",
       "      <td>[0]</td>\n",
       "      <td>[1958606, 290617, 1760838, 815622, 2030918]</td>\n",
       "      <td>[68487, 1716500, 1788917, 325856, 557388, 9154...</td>\n",
       "      <td>[0]</td>\n",
       "    </tr>\n",
       "    <tr>\n",
       "      <th>3</th>\n",
       "      <td>[0, 0, 0, 0, 0, 0, 1587422, 1803710, 10243, 54...</td>\n",
       "      <td>10</td>\n",
       "      <td>[0]</td>\n",
       "      <td>[0]</td>\n",
       "      <td>[0]</td>\n",
       "      <td>[0]</td>\n",
       "      <td>[0]</td>\n",
       "      <td>[0]</td>\n",
       "      <td>[1587422, 1803710, 10243, 548905, 1906937, 716...</td>\n",
       "    </tr>\n",
       "    <tr>\n",
       "      <th>4</th>\n",
       "      <td>[1398419.0, 461364, 196535, 1651654, 1677099, ...</td>\n",
       "      <td>26</td>\n",
       "      <td>[1398419.0]</td>\n",
       "      <td>[]</td>\n",
       "      <td>[461364, 196535, 1651654, 1677099]</td>\n",
       "      <td>[1695773, 868571, 753509, 914038, 1197614, 509...</td>\n",
       "      <td>[1384827, 1625880, 1994741, 1422873, 782518]</td>\n",
       "      <td>[65357]</td>\n",
       "      <td>[0]</td>\n",
       "    </tr>\n",
       "  </tbody>\n",
       "</table>\n",
       "</div>"
      ],
      "text/plain": [
       "                                      full_recommend  len_recommend  \\\n",
       "0  [1572239.0, 163975, 878868, 838510, 1010686, 1...             28   \n",
       "1  [943786.0, 831243, 48097, 788705, 26324, 18954...             34   \n",
       "2  [1614538.0, 497242, 1235574, 1693360, 1934150,...             25   \n",
       "3  [0, 0, 0, 0, 0, 0, 1587422, 1803710, 10243, 54...             10   \n",
       "4  [1398419.0, 461364, 196535, 1651654, 1677099, ...             26   \n",
       "\n",
       "  first_recommendation        most_view_items_by_count  \\\n",
       "0          [1572239.0]                              []   \n",
       "1           [943786.0]  [831243, 48097, 788705, 26324]   \n",
       "2          [1614538.0]                              []   \n",
       "3                  [0]                             [0]   \n",
       "4          [1398419.0]                              []   \n",
       "\n",
       "                     top_similar_items  \\\n",
       "0    [163975, 878868, 838510, 1010686]   \n",
       "1   [1895449, 638401, 722009, 2021045]   \n",
       "2  [497242, 1235574, 1693360, 1934150]   \n",
       "3                                  [0]   \n",
       "4   [461364, 196535, 1651654, 1677099]   \n",
       "\n",
       "                                 top_10_by_domain_id  \\\n",
       "0  [1439187, 1864599, 350187, 1006988, 1717880, 4...   \n",
       "1  [361733, 1140688, 1056120, 353783, 1676401, 10...   \n",
       "2                                                [0]   \n",
       "3                                                [0]   \n",
       "4  [1695773, 868571, 753509, 914038, 1197614, 509...   \n",
       "\n",
       "                             more_similar_items  \\\n",
       "0   [837129, 1066352, 148718, 2092871, 1714715]   \n",
       "1    [1603720, 1192602, 34933, 124834, 1662172]   \n",
       "2   [1958606, 290617, 1760838, 815622, 2030918]   \n",
       "3                                           [0]   \n",
       "4  [1384827, 1625880, 1994741, 1422873, 782518]   \n",
       "\n",
       "                            top_10_similar_domain_id  \\\n",
       "0                          [629033, 663458, 1309106]   \n",
       "1             [2902, 1819050, 1787462, 2586, 100683]   \n",
       "2  [68487, 1716500, 1788917, 325856, 557388, 9154...   \n",
       "3                                                [0]   \n",
       "4                                            [65357]   \n",
       "\n",
       "                                       top_10_global  \n",
       "0                                                [0]  \n",
       "1                                                [0]  \n",
       "2                                                [0]  \n",
       "3  [1587422, 1803710, 10243, 548905, 1906937, 716...  \n",
       "4                                                [0]  "
      ]
     },
     "execution_count": 165,
     "metadata": {},
     "output_type": "execute_result"
    }
   ],
   "source": [
    "meli_test.iloc[:5,14:]"
   ]
  },
  {
   "cell_type": "code",
   "execution_count": 166,
   "metadata": {
    "ExecuteTime": {
     "end_time": "2020-11-11T05:03:11.942730Z",
     "start_time": "2020-11-11T05:03:11.782122Z"
    }
   },
   "outputs": [
    {
     "data": {
      "text/plain": [
       "(0, 23)"
      ]
     },
     "execution_count": 166,
     "metadata": {},
     "output_type": "execute_result"
    }
   ],
   "source": [
    "meli_test[meli_test[\"len_recommend\"]<10].shape"
   ]
  },
  {
   "cell_type": "markdown",
   "metadata": {},
   "source": [
    "# SUBMIT"
   ]
  },
  {
   "cell_type": "code",
   "execution_count": 167,
   "metadata": {
    "ExecuteTime": {
     "end_time": "2020-11-11T05:03:20.907646Z",
     "start_time": "2020-11-11T05:03:17.488740Z"
    }
   },
   "outputs": [],
   "source": [
    "meli_test[\"recommendation\"]=meli_test[\"full_recommend\"].apply(lambda recommend:list(filter(lambda x: x != 0, recommend))[:10])"
   ]
  },
  {
   "cell_type": "code",
   "execution_count": 168,
   "metadata": {
    "ExecuteTime": {
     "end_time": "2020-11-11T05:03:22.110428Z",
     "start_time": "2020-11-11T05:03:21.607722Z"
    }
   },
   "outputs": [],
   "source": [
    "submit_df=pd.DataFrame()\n",
    "submit_df[[\"ID_\"+str(i) for i in range(1,11)]] = pd.DataFrame(meli_test.recommendation.tolist(), index= meli_test.index)"
   ]
  },
  {
   "cell_type": "code",
   "execution_count": 169,
   "metadata": {
    "ExecuteTime": {
     "end_time": "2020-11-11T05:03:22.866355Z",
     "start_time": "2020-11-11T05:03:22.841422Z"
    }
   },
   "outputs": [],
   "source": [
    "for col in submit_df.select_dtypes(\"float\").columns:\n",
    "    submit_df[col]=submit_df[col].astype(\"int\")"
   ]
  },
  {
   "cell_type": "code",
   "execution_count": 170,
   "metadata": {
    "ExecuteTime": {
     "end_time": "2020-11-11T05:03:24.274587Z",
     "start_time": "2020-11-11T05:03:23.648263Z"
    }
   },
   "outputs": [],
   "source": [
    "submit_name = 'submit_'+datetime.now().strftime(\"%Y_%m_%d_%H_%M\")+\".csv\"\n",
    "submit_df.to_csv(\"submit/\"+submit_name,index=False,header=False)"
   ]
  },
  {
   "cell_type": "code",
   "execution_count": 133,
   "metadata": {
    "ExecuteTime": {
     "end_time": "2020-11-09T00:24:58.215921Z",
     "start_time": "2020-11-09T00:24:58.210970Z"
    }
   },
   "outputs": [],
   "source": [
    "log = \"\"\"\n",
    "\n",
    "SCORE : 0.23853\n",
    "\n",
    "meli_test[\"full_recommend\"]=meli_test[\"first_recommendation\"]+meli_test[\"most_view_items_by_count\"]+meli_test[\"top_3_similar_items_max_view_item\"]+meli_test[\"top_3_similar_items_last_view_item\"]\n",
    "+meli_test[\"top_10_last_view_domain_id\"]meli_test[\"top_10_max_view_domain_id\"]+meli_test[\"top_10_similar_last_view_domain_id\"]meli_test[\"top_10_similar_max_view_domain_id\"]+meli_test[\"top_10_global\"]\n",
    "\n",
    "def first_recommendation(row):\n",
    "    if row[\"max_view_item\"]==row[\"last_view\"]:return [row[\"last_view\"]]\n",
    "    if row[\"max_view_item\"]==-999: return [0]\n",
    "    if row[\"max_view_item\"]!=row[\"last_view\"]:return [row[\"max_view_item\"],row[\"last_view\"]]\n",
    "    else :return [0]\n",
    "\n",
    "def most_view_items_by_count(row):\n",
    "    \n",
    "    RETURN top items view by count\n",
    "    \n",
    "    if row[\"len_recommend\"]>=10: return [0]\n",
    "    if row[\"len_recommend\"]==0 : return [0]\n",
    "    else:\n",
    "        top_search = sorted(row[\"count_view\"].items() , reverse=True, key=lambda x: x[1])\n",
    "        top3 = [elem[0] for elem in top_search if elem[0] not in row[\"full_recommend\"]][:3]\n",
    "        return top3\n",
    "    \n",
    "def top_10_last_view_domain_id(row):\n",
    "    return top 10 items by max_view_item_domian_id\n",
    "    if row[\"last_view_domain_id\"] not in top_sell_domain.keys():\n",
    "        return [0]\n",
    "    else:\n",
    "        top_sell_sort = sorted(top_sell_domain[row[\"last_view_domain_id\"]].items() , reverse=True, key=lambda x: x[1])\n",
    "        return [elem[0] for elem in top_sell_sort if elem[0] not in row[\"full_recommend\"]][:4]\n",
    "    \n",
    "def top_10_max_view_domain_id(row):\n",
    "    return top 10 items by max_view_item_domian_id\n",
    "    if row[\"max_view_domain_id\"] not in top_sell_domain.keys():\n",
    "        return [0]\n",
    "    else:\n",
    "        top_sell_sort = sorted(top_sell_domain[row[\"max_view_domain_id\"]].items() , reverse=True, key=lambda x: x[1])\n",
    "        return [elem[0] for elem in top_sell_sort if elem[0] not in row[\"full_recommend\"]][:4]\n",
    "\n",
    "def top_10_similar_last_view_domain_id(row):\n",
    "    return top 10 items by last_view_item_domian_id\n",
    "    if row[\"last_view_similar_similar_domain_id\"] not in top_sell_domain.keys():\n",
    "        return [0]\n",
    "    else:\n",
    "        top_sell_sort = sorted(top_sell_domain[row[\"last_view_similar_similar_domain_id\"]].items() , reverse=True, key=lambda x: x[1])\n",
    "        return [elem[0] for elem in top_sell_sort if elem[0] not in row[\"full_recommend\"]][:4]\n",
    "    \n",
    "def top_10_similar_max_view_domain_id(row):\n",
    "    return top 10 items by max_view_item_domian_id\n",
    "    if row[\"max_view_similar_similar_domain_id\"] not in top_sell_domain.keys():\n",
    "        return [0]\n",
    "    else:\n",
    "        top_sell_sort = sorted(top_sell_domain[row[\"max_view_similar_similar_domain_id\"]].items() , reverse=True, key=lambda x: x[1])\n",
    "        return [elem[0] for elem in top_sell_sort if elem[0] not in row[\"full_recommend\"]][:4]\n",
    "    \n",
    "    \n",
    "def top_3_similar_items_max_view_item(row):\n",
    "    return top 3 items similar max_view_item\n",
    "    if row[\"max_view_item\"] not in items_similarity.index:\n",
    "        return [0]\n",
    "    else:\n",
    "        top_sell = items_similarity.loc[row[\"max_view_item\"]][\"top_3\"]\n",
    "        if len(top_sell)>0:return [elem for elem in top_sell if elem not in row[\"full_recommend\"]]\n",
    "        else:return [0]\n",
    "    \n",
    "def top_3_similar_items_last_view_item(row):\n",
    "    return top 3 items similar last_view_item\n",
    "    if row[\"last_view\"] not in items_similarity.index:\n",
    "        return [0]\n",
    "    else:\n",
    "        top_sell = items_similarity.loc[row[\"last_view\"]][\"top_3\"]\n",
    "        if len(top_sell)>0:return [elem for elem in top_sell if elem not in row[\"full_recommend\"]]\n",
    "        else:return [0]\n",
    "\n",
    "\"\"\""
   ]
  },
  {
   "cell_type": "code",
   "execution_count": 134,
   "metadata": {
    "ExecuteTime": {
     "end_time": "2020-11-09T00:24:59.066645Z",
     "start_time": "2020-11-09T00:24:59.060696Z"
    }
   },
   "outputs": [],
   "source": [
    "with open('submit/LOG_submit'+submit_name[:-4]+'.txt', 'w') as fh:\n",
    "    fh.write(log)"
   ]
  },
  {
   "cell_type": "code",
   "execution_count": null,
   "metadata": {},
   "outputs": [],
   "source": []
  }
 ],
 "metadata": {
  "kernelspec": {
   "display_name": "Python 3",
   "language": "python",
   "name": "python3"
  },
  "language_info": {
   "codemirror_mode": {
    "name": "ipython",
    "version": 3
   },
   "file_extension": ".py",
   "mimetype": "text/x-python",
   "name": "python",
   "nbconvert_exporter": "python",
   "pygments_lexer": "ipython3",
   "version": "3.7.3"
  },
  "toc": {
   "base_numbering": 1,
   "nav_menu": {},
   "number_sections": true,
   "sideBar": true,
   "skip_h1_title": false,
   "title_cell": "Table of Contents",
   "title_sidebar": "Contents",
   "toc_cell": false,
   "toc_position": {
    "height": "calc(100% - 180px)",
    "left": "10px",
    "top": "150px",
    "width": "195.188px"
   },
   "toc_section_display": true,
   "toc_window_display": true
  },
  "varInspector": {
   "cols": {
    "lenName": 16,
    "lenType": 16,
    "lenVar": 40
   },
   "kernels_config": {
    "python": {
     "delete_cmd_postfix": "",
     "delete_cmd_prefix": "del ",
     "library": "var_list.py",
     "varRefreshCmd": "print(var_dic_list())"
    },
    "r": {
     "delete_cmd_postfix": ") ",
     "delete_cmd_prefix": "rm(",
     "library": "var_list.r",
     "varRefreshCmd": "cat(var_dic_list()) "
    }
   },
   "position": {
    "height": "267.4px",
    "left": "1188px",
    "right": "20px",
    "top": "119px",
    "width": "329px"
   },
   "types_to_exclude": [
    "module",
    "function",
    "builtin_function_or_method",
    "instance",
    "_Feature"
   ],
   "window_display": false
  }
 },
 "nbformat": 4,
 "nbformat_minor": 4
}
